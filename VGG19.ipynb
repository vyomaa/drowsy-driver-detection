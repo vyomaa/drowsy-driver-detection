{
  "nbformat": 4,
  "nbformat_minor": 0,
  "metadata": {
    "colab": {
      "provenance": [],
      "authorship_tag": "ABX9TyMMTYMpNOMucVNSQOFTXMy/",
      "include_colab_link": true
    },
    "kernelspec": {
      "name": "python3",
      "display_name": "Python 3"
    },
    "language_info": {
      "name": "python"
    }
  },
  "cells": [
    {
      "cell_type": "markdown",
      "metadata": {
        "id": "view-in-github",
        "colab_type": "text"
      },
      "source": [
        "<a href=\"https://colab.research.google.com/github/vyomaa/drowsy-driver-detection/blob/main/VGG19.ipynb\" target=\"_parent\"><img src=\"https://colab.research.google.com/assets/colab-badge.svg\" alt=\"Open In Colab\"/></a>"
      ]
    },
    {
      "cell_type": "code",
      "source": [
        "! mkdir ~/.kaggle"
      ],
      "metadata": {
        "id": "ta_rw7S9yFKE"
      },
      "execution_count": 1,
      "outputs": []
    },
    {
      "cell_type": "code",
      "source": [
        "! cp kaggle.json ~/.kaggle/"
      ],
      "metadata": {
        "id": "O04PPc2kNCv5"
      },
      "execution_count": 2,
      "outputs": []
    },
    {
      "cell_type": "code",
      "source": [
        "! chmod 600 ~/.kaggle/kaggle.json"
      ],
      "metadata": {
        "id": "azf36JlZNFkX"
      },
      "execution_count": 3,
      "outputs": []
    },
    {
      "cell_type": "code",
      "source": [
        "! kaggle datasets download dheerajperumandla/drowsiness-dataset"
      ],
      "metadata": {
        "colab": {
          "base_uri": "https://localhost:8080/",
          "height": 0
        },
        "id": "vcul3Fj8NISx",
        "outputId": "42cde809-d7b4-4d40-9e34-2ef8ff4fa6f5"
      },
      "execution_count": 4,
      "outputs": [
        {
          "output_type": "stream",
          "name": "stdout",
          "text": [
            "Downloading drowsiness-dataset.zip to /content\n",
            " 98% 158M/161M [00:07<00:00, 19.7MB/s]\n",
            "100% 161M/161M [00:08<00:00, 21.1MB/s]\n"
          ]
        }
      ]
    },
    {
      "cell_type": "code",
      "source": [
        "!unzip drowsiness-dataset.zip"
      ],
      "metadata": {
        "colab": {
          "base_uri": "https://localhost:8080/",
          "height": 0
        },
        "id": "iyeZgvGcNLfR",
        "outputId": "6600315e-cbe3-42ee-ee10-56d9951fe8ca"
      },
      "execution_count": 5,
      "outputs": [
        {
          "output_type": "stream",
          "name": "stdout",
          "text": [
            "Archive:  drowsiness-dataset.zip\n",
            "  inflating: train/Closed/_0.jpg     \n",
            "  inflating: train/Closed/_1.jpg     \n",
            "  inflating: train/Closed/_10.jpg    \n",
            "  inflating: train/Closed/_100.jpg   \n",
            "  inflating: train/Closed/_101.jpg   \n",
            "  inflating: train/Closed/_102.jpg   \n",
            "  inflating: train/Closed/_103.jpg   \n",
            "  inflating: train/Closed/_104.jpg   \n",
            "  inflating: train/Closed/_105.jpg   \n",
            "  inflating: train/Closed/_106.jpg   \n",
            "  inflating: train/Closed/_107.jpg   \n",
            "  inflating: train/Closed/_108.jpg   \n",
            "  inflating: train/Closed/_109.jpg   \n",
            "  inflating: train/Closed/_11.jpg    \n",
            "  inflating: train/Closed/_110.jpg   \n",
            "  inflating: train/Closed/_111.jpg   \n",
            "  inflating: train/Closed/_112.jpg   \n",
            "  inflating: train/Closed/_113.jpg   \n",
            "  inflating: train/Closed/_114.jpg   \n",
            "  inflating: train/Closed/_115.jpg   \n",
            "  inflating: train/Closed/_116.jpg   \n",
            "  inflating: train/Closed/_117.jpg   \n",
            "  inflating: train/Closed/_118.jpg   \n",
            "  inflating: train/Closed/_119.jpg   \n",
            "  inflating: train/Closed/_12.jpg    \n",
            "  inflating: train/Closed/_120.jpg   \n",
            "  inflating: train/Closed/_121.jpg   \n",
            "  inflating: train/Closed/_122.jpg   \n",
            "  inflating: train/Closed/_123.jpg   \n",
            "  inflating: train/Closed/_124.jpg   \n",
            "  inflating: train/Closed/_125.jpg   \n",
            "  inflating: train/Closed/_126.jpg   \n",
            "  inflating: train/Closed/_127.jpg   \n",
            "  inflating: train/Closed/_128.jpg   \n",
            "  inflating: train/Closed/_129.jpg   \n",
            "  inflating: train/Closed/_13.jpg    \n",
            "  inflating: train/Closed/_130.jpg   \n",
            "  inflating: train/Closed/_131.jpg   \n",
            "  inflating: train/Closed/_132.jpg   \n",
            "  inflating: train/Closed/_133.jpg   \n",
            "  inflating: train/Closed/_134.jpg   \n",
            "  inflating: train/Closed/_135.jpg   \n",
            "  inflating: train/Closed/_136.jpg   \n",
            "  inflating: train/Closed/_137.jpg   \n",
            "  inflating: train/Closed/_138.jpg   \n",
            "  inflating: train/Closed/_139.jpg   \n",
            "  inflating: train/Closed/_14.jpg    \n",
            "  inflating: train/Closed/_140.jpg   \n",
            "  inflating: train/Closed/_141.jpg   \n",
            "  inflating: train/Closed/_142.jpg   \n",
            "  inflating: train/Closed/_143.jpg   \n",
            "  inflating: train/Closed/_144.jpg   \n",
            "  inflating: train/Closed/_145.jpg   \n",
            "  inflating: train/Closed/_146.jpg   \n",
            "  inflating: train/Closed/_147.jpg   \n",
            "  inflating: train/Closed/_148.jpg   \n",
            "  inflating: train/Closed/_149.jpg   \n",
            "  inflating: train/Closed/_15.jpg    \n",
            "  inflating: train/Closed/_150.jpg   \n",
            "  inflating: train/Closed/_151.jpg   \n",
            "  inflating: train/Closed/_152.jpg   \n",
            "  inflating: train/Closed/_153.jpg   \n",
            "  inflating: train/Closed/_154.jpg   \n",
            "  inflating: train/Closed/_155.jpg   \n",
            "  inflating: train/Closed/_156.jpg   \n",
            "  inflating: train/Closed/_157.jpg   \n",
            "  inflating: train/Closed/_158.jpg   \n",
            "  inflating: train/Closed/_159.jpg   \n",
            "  inflating: train/Closed/_16.jpg    \n",
            "  inflating: train/Closed/_160.jpg   \n",
            "  inflating: train/Closed/_161.jpg   \n",
            "  inflating: train/Closed/_162.jpg   \n",
            "  inflating: train/Closed/_163.jpg   \n",
            "  inflating: train/Closed/_164.jpg   \n",
            "  inflating: train/Closed/_165.jpg   \n",
            "  inflating: train/Closed/_166.jpg   \n",
            "  inflating: train/Closed/_167.jpg   \n",
            "  inflating: train/Closed/_168.jpg   \n",
            "  inflating: train/Closed/_169.jpg   \n",
            "  inflating: train/Closed/_17.jpg    \n",
            "  inflating: train/Closed/_170.jpg   \n",
            "  inflating: train/Closed/_171.jpg   \n",
            "  inflating: train/Closed/_172.jpg   \n",
            "  inflating: train/Closed/_173.jpg   \n",
            "  inflating: train/Closed/_174.jpg   \n",
            "  inflating: train/Closed/_175.jpg   \n",
            "  inflating: train/Closed/_176.jpg   \n",
            "  inflating: train/Closed/_177.jpg   \n",
            "  inflating: train/Closed/_178.jpg   \n",
            "  inflating: train/Closed/_179.jpg   \n",
            "  inflating: train/Closed/_18.jpg    \n",
            "  inflating: train/Closed/_180.jpg   \n",
            "  inflating: train/Closed/_181.jpg   \n",
            "  inflating: train/Closed/_182.jpg   \n",
            "  inflating: train/Closed/_183.jpg   \n",
            "  inflating: train/Closed/_184.jpg   \n",
            "  inflating: train/Closed/_185.jpg   \n",
            "  inflating: train/Closed/_186.jpg   \n",
            "  inflating: train/Closed/_187.jpg   \n",
            "  inflating: train/Closed/_188.jpg   \n",
            "  inflating: train/Closed/_189.jpg   \n",
            "  inflating: train/Closed/_19.jpg    \n",
            "  inflating: train/Closed/_190.jpg   \n",
            "  inflating: train/Closed/_191.jpg   \n",
            "  inflating: train/Closed/_192.jpg   \n",
            "  inflating: train/Closed/_193.jpg   \n",
            "  inflating: train/Closed/_194.jpg   \n",
            "  inflating: train/Closed/_195.jpg   \n",
            "  inflating: train/Closed/_196.jpg   \n",
            "  inflating: train/Closed/_197.jpg   \n",
            "  inflating: train/Closed/_198.jpg   \n",
            "  inflating: train/Closed/_199.jpg   \n",
            "  inflating: train/Closed/_2.jpg     \n",
            "  inflating: train/Closed/_20.jpg    \n",
            "  inflating: train/Closed/_200.jpg   \n",
            "  inflating: train/Closed/_201.jpg   \n",
            "  inflating: train/Closed/_202.jpg   \n",
            "  inflating: train/Closed/_203.jpg   \n",
            "  inflating: train/Closed/_204.jpg   \n",
            "  inflating: train/Closed/_205.jpg   \n",
            "  inflating: train/Closed/_206.jpg   \n",
            "  inflating: train/Closed/_207.jpg   \n",
            "  inflating: train/Closed/_208.jpg   \n",
            "  inflating: train/Closed/_209.jpg   \n",
            "  inflating: train/Closed/_21.jpg    \n",
            "  inflating: train/Closed/_210.jpg   \n",
            "  inflating: train/Closed/_211.jpg   \n",
            "  inflating: train/Closed/_212.jpg   \n",
            "  inflating: train/Closed/_213.jpg   \n",
            "  inflating: train/Closed/_214.jpg   \n",
            "  inflating: train/Closed/_215.jpg   \n",
            "  inflating: train/Closed/_216.jpg   \n",
            "  inflating: train/Closed/_217.jpg   \n",
            "  inflating: train/Closed/_218.jpg   \n",
            "  inflating: train/Closed/_219.jpg   \n",
            "  inflating: train/Closed/_22.jpg    \n",
            "  inflating: train/Closed/_220.jpg   \n",
            "  inflating: train/Closed/_221.jpg   \n",
            "  inflating: train/Closed/_222.jpg   \n",
            "  inflating: train/Closed/_223.jpg   \n",
            "  inflating: train/Closed/_224.jpg   \n",
            "  inflating: train/Closed/_225.jpg   \n",
            "  inflating: train/Closed/_226.jpg   \n",
            "  inflating: train/Closed/_227.jpg   \n",
            "  inflating: train/Closed/_228.jpg   \n",
            "  inflating: train/Closed/_229.jpg   \n",
            "  inflating: train/Closed/_23.jpg    \n",
            "  inflating: train/Closed/_230.jpg   \n",
            "  inflating: train/Closed/_231.jpg   \n",
            "  inflating: train/Closed/_232.jpg   \n",
            "  inflating: train/Closed/_233.jpg   \n",
            "  inflating: train/Closed/_234.jpg   \n",
            "  inflating: train/Closed/_235.jpg   \n",
            "  inflating: train/Closed/_236.jpg   \n",
            "  inflating: train/Closed/_237.jpg   \n",
            "  inflating: train/Closed/_238.jpg   \n",
            "  inflating: train/Closed/_239.jpg   \n",
            "  inflating: train/Closed/_24.jpg    \n",
            "  inflating: train/Closed/_240.jpg   \n",
            "  inflating: train/Closed/_241.jpg   \n",
            "  inflating: train/Closed/_242.jpg   \n",
            "  inflating: train/Closed/_243.jpg   \n",
            "  inflating: train/Closed/_244.jpg   \n",
            "  inflating: train/Closed/_245.jpg   \n",
            "  inflating: train/Closed/_246.jpg   \n",
            "  inflating: train/Closed/_247.jpg   \n",
            "  inflating: train/Closed/_248.jpg   \n",
            "  inflating: train/Closed/_249.jpg   \n",
            "  inflating: train/Closed/_25.jpg    \n",
            "  inflating: train/Closed/_250.jpg   \n",
            "  inflating: train/Closed/_251.jpg   \n",
            "  inflating: train/Closed/_252.jpg   \n",
            "  inflating: train/Closed/_253.jpg   \n",
            "  inflating: train/Closed/_254.jpg   \n",
            "  inflating: train/Closed/_255.jpg   \n",
            "  inflating: train/Closed/_256.jpg   \n",
            "  inflating: train/Closed/_257.jpg   \n",
            "  inflating: train/Closed/_258.jpg   \n",
            "  inflating: train/Closed/_259.jpg   \n",
            "  inflating: train/Closed/_26.jpg    \n",
            "  inflating: train/Closed/_260.jpg   \n",
            "  inflating: train/Closed/_261.jpg   \n",
            "  inflating: train/Closed/_262.jpg   \n",
            "  inflating: train/Closed/_263.jpg   \n",
            "  inflating: train/Closed/_264.jpg   \n",
            "  inflating: train/Closed/_265.jpg   \n",
            "  inflating: train/Closed/_266.jpg   \n",
            "  inflating: train/Closed/_267.jpg   \n",
            "  inflating: train/Closed/_268.jpg   \n",
            "  inflating: train/Closed/_269.jpg   \n",
            "  inflating: train/Closed/_27.jpg    \n",
            "  inflating: train/Closed/_270.jpg   \n",
            "  inflating: train/Closed/_271.jpg   \n",
            "  inflating: train/Closed/_272.jpg   \n",
            "  inflating: train/Closed/_273.jpg   \n",
            "  inflating: train/Closed/_274.jpg   \n",
            "  inflating: train/Closed/_275.jpg   \n",
            "  inflating: train/Closed/_276.jpg   \n",
            "  inflating: train/Closed/_277.jpg   \n",
            "  inflating: train/Closed/_278.jpg   \n",
            "  inflating: train/Closed/_279.jpg   \n",
            "  inflating: train/Closed/_28.jpg    \n",
            "  inflating: train/Closed/_280.jpg   \n",
            "  inflating: train/Closed/_281.jpg   \n",
            "  inflating: train/Closed/_282.jpg   \n",
            "  inflating: train/Closed/_283.jpg   \n",
            "  inflating: train/Closed/_284.jpg   \n",
            "  inflating: train/Closed/_285.jpg   \n",
            "  inflating: train/Closed/_286.jpg   \n",
            "  inflating: train/Closed/_287.jpg   \n",
            "  inflating: train/Closed/_288.jpg   \n",
            "  inflating: train/Closed/_289.jpg   \n",
            "  inflating: train/Closed/_29.jpg    \n",
            "  inflating: train/Closed/_290.jpg   \n",
            "  inflating: train/Closed/_291.jpg   \n",
            "  inflating: train/Closed/_292.jpg   \n",
            "  inflating: train/Closed/_293.jpg   \n",
            "  inflating: train/Closed/_294.jpg   \n",
            "  inflating: train/Closed/_295.jpg   \n",
            "  inflating: train/Closed/_296.jpg   \n",
            "  inflating: train/Closed/_297.jpg   \n",
            "  inflating: train/Closed/_298.jpg   \n",
            "  inflating: train/Closed/_299.jpg   \n",
            "  inflating: train/Closed/_3.jpg     \n",
            "  inflating: train/Closed/_30.jpg    \n",
            "  inflating: train/Closed/_300.jpg   \n",
            "  inflating: train/Closed/_301.jpg   \n",
            "  inflating: train/Closed/_302.jpg   \n",
            "  inflating: train/Closed/_303.jpg   \n",
            "  inflating: train/Closed/_304.jpg   \n",
            "  inflating: train/Closed/_305.jpg   \n",
            "  inflating: train/Closed/_306.jpg   \n",
            "  inflating: train/Closed/_307.jpg   \n",
            "  inflating: train/Closed/_308.jpg   \n",
            "  inflating: train/Closed/_309.jpg   \n",
            "  inflating: train/Closed/_31.jpg    \n",
            "  inflating: train/Closed/_310.jpg   \n",
            "  inflating: train/Closed/_311.jpg   \n",
            "  inflating: train/Closed/_312.jpg   \n",
            "  inflating: train/Closed/_313.jpg   \n",
            "  inflating: train/Closed/_314.jpg   \n",
            "  inflating: train/Closed/_315.jpg   \n",
            "  inflating: train/Closed/_316.jpg   \n",
            "  inflating: train/Closed/_317.jpg   \n",
            "  inflating: train/Closed/_318.jpg   \n",
            "  inflating: train/Closed/_319.jpg   \n",
            "  inflating: train/Closed/_32.jpg    \n",
            "  inflating: train/Closed/_320.jpg   \n",
            "  inflating: train/Closed/_321.jpg   \n",
            "  inflating: train/Closed/_322.jpg   \n",
            "  inflating: train/Closed/_323.jpg   \n",
            "  inflating: train/Closed/_324.jpg   \n",
            "  inflating: train/Closed/_325.jpg   \n",
            "  inflating: train/Closed/_326.jpg   \n",
            "  inflating: train/Closed/_327.jpg   \n",
            "  inflating: train/Closed/_328.jpg   \n",
            "  inflating: train/Closed/_329.jpg   \n",
            "  inflating: train/Closed/_33.jpg    \n",
            "  inflating: train/Closed/_330.jpg   \n",
            "  inflating: train/Closed/_331.jpg   \n",
            "  inflating: train/Closed/_332.jpg   \n",
            "  inflating: train/Closed/_333.jpg   \n",
            "  inflating: train/Closed/_334.jpg   \n",
            "  inflating: train/Closed/_335.jpg   \n",
            "  inflating: train/Closed/_336.jpg   \n",
            "  inflating: train/Closed/_337.jpg   \n",
            "  inflating: train/Closed/_338.jpg   \n",
            "  inflating: train/Closed/_339.jpg   \n",
            "  inflating: train/Closed/_34.jpg    \n",
            "  inflating: train/Closed/_340.jpg   \n",
            "  inflating: train/Closed/_341.jpg   \n",
            "  inflating: train/Closed/_342.jpg   \n",
            "  inflating: train/Closed/_343.jpg   \n",
            "  inflating: train/Closed/_344.jpg   \n",
            "  inflating: train/Closed/_345.jpg   \n",
            "  inflating: train/Closed/_346.jpg   \n",
            "  inflating: train/Closed/_347.jpg   \n",
            "  inflating: train/Closed/_348.jpg   \n",
            "  inflating: train/Closed/_349.jpg   \n",
            "  inflating: train/Closed/_35.jpg    \n",
            "  inflating: train/Closed/_350.jpg   \n",
            "  inflating: train/Closed/_351.jpg   \n",
            "  inflating: train/Closed/_352.jpg   \n",
            "  inflating: train/Closed/_353.jpg   \n",
            "  inflating: train/Closed/_354.jpg   \n",
            "  inflating: train/Closed/_355.jpg   \n",
            "  inflating: train/Closed/_356.jpg   \n",
            "  inflating: train/Closed/_357.jpg   \n",
            "  inflating: train/Closed/_358.jpg   \n",
            "  inflating: train/Closed/_359.jpg   \n",
            "  inflating: train/Closed/_36.jpg    \n",
            "  inflating: train/Closed/_360.jpg   \n",
            "  inflating: train/Closed/_361.jpg   \n",
            "  inflating: train/Closed/_362.jpg   \n",
            "  inflating: train/Closed/_363.jpg   \n",
            "  inflating: train/Closed/_364.jpg   \n",
            "  inflating: train/Closed/_365.jpg   \n",
            "  inflating: train/Closed/_366.jpg   \n",
            "  inflating: train/Closed/_367.jpg   \n",
            "  inflating: train/Closed/_368.jpg   \n",
            "  inflating: train/Closed/_369.jpg   \n",
            "  inflating: train/Closed/_37.jpg    \n",
            "  inflating: train/Closed/_370.jpg   \n",
            "  inflating: train/Closed/_371.jpg   \n",
            "  inflating: train/Closed/_372.jpg   \n",
            "  inflating: train/Closed/_373.jpg   \n",
            "  inflating: train/Closed/_374.jpg   \n",
            "  inflating: train/Closed/_375.jpg   \n",
            "  inflating: train/Closed/_376.jpg   \n",
            "  inflating: train/Closed/_377.jpg   \n",
            "  inflating: train/Closed/_378.jpg   \n",
            "  inflating: train/Closed/_379.jpg   \n",
            "  inflating: train/Closed/_38.jpg    \n",
            "  inflating: train/Closed/_380.jpg   \n",
            "  inflating: train/Closed/_381.jpg   \n",
            "  inflating: train/Closed/_382.jpg   \n",
            "  inflating: train/Closed/_383.jpg   \n",
            "  inflating: train/Closed/_384.jpg   \n",
            "  inflating: train/Closed/_385.jpg   \n",
            "  inflating: train/Closed/_386.jpg   \n",
            "  inflating: train/Closed/_387.jpg   \n",
            "  inflating: train/Closed/_388.jpg   \n",
            "  inflating: train/Closed/_389.jpg   \n",
            "  inflating: train/Closed/_39.jpg    \n",
            "  inflating: train/Closed/_390.jpg   \n",
            "  inflating: train/Closed/_391.jpg   \n",
            "  inflating: train/Closed/_392.jpg   \n",
            "  inflating: train/Closed/_393.jpg   \n",
            "  inflating: train/Closed/_394.jpg   \n",
            "  inflating: train/Closed/_395.jpg   \n",
            "  inflating: train/Closed/_396.jpg   \n",
            "  inflating: train/Closed/_397.jpg   \n",
            "  inflating: train/Closed/_398.jpg   \n",
            "  inflating: train/Closed/_399.jpg   \n",
            "  inflating: train/Closed/_4.jpg     \n",
            "  inflating: train/Closed/_40.jpg    \n",
            "  inflating: train/Closed/_400.jpg   \n",
            "  inflating: train/Closed/_401.jpg   \n",
            "  inflating: train/Closed/_402.jpg   \n",
            "  inflating: train/Closed/_403.jpg   \n",
            "  inflating: train/Closed/_404.jpg   \n",
            "  inflating: train/Closed/_405.jpg   \n",
            "  inflating: train/Closed/_406.jpg   \n",
            "  inflating: train/Closed/_407.jpg   \n",
            "  inflating: train/Closed/_408.jpg   \n",
            "  inflating: train/Closed/_409.jpg   \n",
            "  inflating: train/Closed/_41.jpg    \n",
            "  inflating: train/Closed/_410.jpg   \n",
            "  inflating: train/Closed/_411.jpg   \n",
            "  inflating: train/Closed/_412.jpg   \n",
            "  inflating: train/Closed/_413.jpg   \n",
            "  inflating: train/Closed/_414.jpg   \n",
            "  inflating: train/Closed/_415.jpg   \n",
            "  inflating: train/Closed/_416.jpg   \n",
            "  inflating: train/Closed/_417.jpg   \n",
            "  inflating: train/Closed/_418.jpg   \n",
            "  inflating: train/Closed/_419.jpg   \n",
            "  inflating: train/Closed/_42.jpg    \n",
            "  inflating: train/Closed/_420.jpg   \n",
            "  inflating: train/Closed/_421.jpg   \n",
            "  inflating: train/Closed/_422.jpg   \n",
            "  inflating: train/Closed/_423.jpg   \n",
            "  inflating: train/Closed/_424.jpg   \n",
            "  inflating: train/Closed/_425.jpg   \n",
            "  inflating: train/Closed/_426.jpg   \n",
            "  inflating: train/Closed/_427.jpg   \n",
            "  inflating: train/Closed/_428.jpg   \n",
            "  inflating: train/Closed/_429.jpg   \n",
            "  inflating: train/Closed/_43.jpg    \n",
            "  inflating: train/Closed/_430.jpg   \n",
            "  inflating: train/Closed/_431.jpg   \n",
            "  inflating: train/Closed/_432.jpg   \n",
            "  inflating: train/Closed/_433.jpg   \n",
            "  inflating: train/Closed/_434.jpg   \n",
            "  inflating: train/Closed/_435.jpg   \n",
            "  inflating: train/Closed/_436.jpg   \n",
            "  inflating: train/Closed/_437.jpg   \n",
            "  inflating: train/Closed/_438.jpg   \n",
            "  inflating: train/Closed/_439.jpg   \n",
            "  inflating: train/Closed/_44.jpg    \n",
            "  inflating: train/Closed/_440.jpg   \n",
            "  inflating: train/Closed/_441.jpg   \n",
            "  inflating: train/Closed/_442.jpg   \n",
            "  inflating: train/Closed/_443.jpg   \n",
            "  inflating: train/Closed/_444.jpg   \n",
            "  inflating: train/Closed/_445.jpg   \n",
            "  inflating: train/Closed/_446.jpg   \n",
            "  inflating: train/Closed/_447.jpg   \n",
            "  inflating: train/Closed/_448.jpg   \n",
            "  inflating: train/Closed/_449.jpg   \n",
            "  inflating: train/Closed/_45.jpg    \n",
            "  inflating: train/Closed/_450.jpg   \n",
            "  inflating: train/Closed/_451.jpg   \n",
            "  inflating: train/Closed/_452.jpg   \n",
            "  inflating: train/Closed/_453.jpg   \n",
            "  inflating: train/Closed/_454.jpg   \n",
            "  inflating: train/Closed/_455.jpg   \n",
            "  inflating: train/Closed/_456.jpg   \n",
            "  inflating: train/Closed/_457.jpg   \n",
            "  inflating: train/Closed/_458.jpg   \n",
            "  inflating: train/Closed/_459.jpg   \n",
            "  inflating: train/Closed/_46.jpg    \n",
            "  inflating: train/Closed/_460.jpg   \n",
            "  inflating: train/Closed/_461.jpg   \n",
            "  inflating: train/Closed/_462.jpg   \n",
            "  inflating: train/Closed/_463.jpg   \n",
            "  inflating: train/Closed/_464.jpg   \n",
            "  inflating: train/Closed/_465.jpg   \n",
            "  inflating: train/Closed/_466.jpg   \n",
            "  inflating: train/Closed/_467.jpg   \n",
            "  inflating: train/Closed/_468.jpg   \n",
            "  inflating: train/Closed/_469.jpg   \n",
            "  inflating: train/Closed/_47.jpg    \n",
            "  inflating: train/Closed/_470.jpg   \n",
            "  inflating: train/Closed/_471.jpg   \n",
            "  inflating: train/Closed/_472.jpg   \n",
            "  inflating: train/Closed/_473.jpg   \n",
            "  inflating: train/Closed/_474.jpg   \n",
            "  inflating: train/Closed/_475.jpg   \n",
            "  inflating: train/Closed/_476.jpg   \n",
            "  inflating: train/Closed/_477.jpg   \n",
            "  inflating: train/Closed/_478.jpg   \n",
            "  inflating: train/Closed/_479.jpg   \n",
            "  inflating: train/Closed/_48.jpg    \n",
            "  inflating: train/Closed/_480.jpg   \n",
            "  inflating: train/Closed/_481.jpg   \n",
            "  inflating: train/Closed/_482.jpg   \n",
            "  inflating: train/Closed/_483.jpg   \n",
            "  inflating: train/Closed/_484.jpg   \n",
            "  inflating: train/Closed/_485.jpg   \n",
            "  inflating: train/Closed/_486.jpg   \n",
            "  inflating: train/Closed/_487.jpg   \n",
            "  inflating: train/Closed/_488.jpg   \n",
            "  inflating: train/Closed/_489.jpg   \n",
            "  inflating: train/Closed/_49.jpg    \n",
            "  inflating: train/Closed/_490.jpg   \n",
            "  inflating: train/Closed/_491.jpg   \n",
            "  inflating: train/Closed/_492.jpg   \n",
            "  inflating: train/Closed/_493.jpg   \n",
            "  inflating: train/Closed/_494.jpg   \n",
            "  inflating: train/Closed/_495.jpg   \n",
            "  inflating: train/Closed/_496.jpg   \n",
            "  inflating: train/Closed/_497.jpg   \n",
            "  inflating: train/Closed/_498.jpg   \n",
            "  inflating: train/Closed/_499.jpg   \n",
            "  inflating: train/Closed/_5.jpg     \n",
            "  inflating: train/Closed/_50.jpg    \n",
            "  inflating: train/Closed/_500.jpg   \n",
            "  inflating: train/Closed/_501.jpg   \n",
            "  inflating: train/Closed/_502.jpg   \n",
            "  inflating: train/Closed/_503.jpg   \n",
            "  inflating: train/Closed/_504.jpg   \n",
            "  inflating: train/Closed/_505.jpg   \n",
            "  inflating: train/Closed/_506.jpg   \n",
            "  inflating: train/Closed/_507.jpg   \n",
            "  inflating: train/Closed/_508.jpg   \n",
            "  inflating: train/Closed/_509.jpg   \n",
            "  inflating: train/Closed/_51.jpg    \n",
            "  inflating: train/Closed/_510.jpg   \n",
            "  inflating: train/Closed/_511.jpg   \n",
            "  inflating: train/Closed/_512.jpg   \n",
            "  inflating: train/Closed/_513.jpg   \n",
            "  inflating: train/Closed/_514.jpg   \n",
            "  inflating: train/Closed/_515.jpg   \n",
            "  inflating: train/Closed/_516.jpg   \n",
            "  inflating: train/Closed/_517.jpg   \n",
            "  inflating: train/Closed/_518.jpg   \n",
            "  inflating: train/Closed/_519.jpg   \n",
            "  inflating: train/Closed/_52.jpg    \n",
            "  inflating: train/Closed/_520.jpg   \n",
            "  inflating: train/Closed/_521.jpg   \n",
            "  inflating: train/Closed/_522.jpg   \n",
            "  inflating: train/Closed/_523.jpg   \n",
            "  inflating: train/Closed/_524.jpg   \n",
            "  inflating: train/Closed/_525.jpg   \n",
            "  inflating: train/Closed/_526.jpg   \n",
            "  inflating: train/Closed/_527.jpg   \n",
            "  inflating: train/Closed/_528.jpg   \n",
            "  inflating: train/Closed/_529.jpg   \n",
            "  inflating: train/Closed/_53.jpg    \n",
            "  inflating: train/Closed/_530.jpg   \n",
            "  inflating: train/Closed/_531.jpg   \n",
            "  inflating: train/Closed/_532.jpg   \n",
            "  inflating: train/Closed/_533.jpg   \n",
            "  inflating: train/Closed/_534.jpg   \n",
            "  inflating: train/Closed/_535.jpg   \n",
            "  inflating: train/Closed/_536.jpg   \n",
            "  inflating: train/Closed/_537.jpg   \n",
            "  inflating: train/Closed/_538.jpg   \n",
            "  inflating: train/Closed/_539.jpg   \n",
            "  inflating: train/Closed/_54.jpg    \n",
            "  inflating: train/Closed/_540.jpg   \n",
            "  inflating: train/Closed/_541.jpg   \n",
            "  inflating: train/Closed/_542.jpg   \n",
            "  inflating: train/Closed/_543.jpg   \n",
            "  inflating: train/Closed/_544.jpg   \n",
            "  inflating: train/Closed/_545.jpg   \n",
            "  inflating: train/Closed/_546.jpg   \n",
            "  inflating: train/Closed/_547.jpg   \n",
            "  inflating: train/Closed/_548.jpg   \n",
            "  inflating: train/Closed/_549.jpg   \n",
            "  inflating: train/Closed/_55.jpg    \n",
            "  inflating: train/Closed/_550.jpg   \n",
            "  inflating: train/Closed/_551.jpg   \n",
            "  inflating: train/Closed/_552.jpg   \n",
            "  inflating: train/Closed/_553.jpg   \n",
            "  inflating: train/Closed/_554.jpg   \n",
            "  inflating: train/Closed/_555.jpg   \n",
            "  inflating: train/Closed/_556.jpg   \n",
            "  inflating: train/Closed/_557.jpg   \n",
            "  inflating: train/Closed/_558.jpg   \n",
            "  inflating: train/Closed/_559.jpg   \n",
            "  inflating: train/Closed/_56.jpg    \n",
            "  inflating: train/Closed/_560.jpg   \n",
            "  inflating: train/Closed/_561.jpg   \n",
            "  inflating: train/Closed/_562.jpg   \n",
            "  inflating: train/Closed/_563.jpg   \n",
            "  inflating: train/Closed/_564.jpg   \n",
            "  inflating: train/Closed/_565.jpg   \n",
            "  inflating: train/Closed/_566.jpg   \n",
            "  inflating: train/Closed/_567.jpg   \n",
            "  inflating: train/Closed/_568.jpg   \n",
            "  inflating: train/Closed/_569.jpg   \n",
            "  inflating: train/Closed/_57.jpg    \n",
            "  inflating: train/Closed/_570.jpg   \n",
            "  inflating: train/Closed/_571.jpg   \n",
            "  inflating: train/Closed/_572.jpg   \n",
            "  inflating: train/Closed/_573.jpg   \n",
            "  inflating: train/Closed/_574.jpg   \n",
            "  inflating: train/Closed/_575.jpg   \n",
            "  inflating: train/Closed/_576.jpg   \n",
            "  inflating: train/Closed/_577.jpg   \n",
            "  inflating: train/Closed/_578.jpg   \n",
            "  inflating: train/Closed/_579.jpg   \n",
            "  inflating: train/Closed/_58.jpg    \n",
            "  inflating: train/Closed/_580.jpg   \n",
            "  inflating: train/Closed/_581.jpg   \n",
            "  inflating: train/Closed/_582.jpg   \n",
            "  inflating: train/Closed/_583.jpg   \n",
            "  inflating: train/Closed/_584.jpg   \n",
            "  inflating: train/Closed/_585.jpg   \n",
            "  inflating: train/Closed/_586.jpg   \n",
            "  inflating: train/Closed/_587.jpg   \n",
            "  inflating: train/Closed/_588.jpg   \n",
            "  inflating: train/Closed/_589.jpg   \n",
            "  inflating: train/Closed/_59.jpg    \n",
            "  inflating: train/Closed/_590.jpg   \n",
            "  inflating: train/Closed/_591.jpg   \n",
            "  inflating: train/Closed/_592.jpg   \n",
            "  inflating: train/Closed/_593.jpg   \n",
            "  inflating: train/Closed/_594.jpg   \n",
            "  inflating: train/Closed/_595.jpg   \n",
            "  inflating: train/Closed/_596.jpg   \n",
            "  inflating: train/Closed/_597.jpg   \n",
            "  inflating: train/Closed/_598.jpg   \n",
            "  inflating: train/Closed/_599.jpg   \n",
            "  inflating: train/Closed/_6.jpg     \n",
            "  inflating: train/Closed/_60.jpg    \n",
            "  inflating: train/Closed/_600.jpg   \n",
            "  inflating: train/Closed/_601.jpg   \n",
            "  inflating: train/Closed/_602.jpg   \n",
            "  inflating: train/Closed/_603.jpg   \n",
            "  inflating: train/Closed/_604.jpg   \n",
            "  inflating: train/Closed/_605.jpg   \n",
            "  inflating: train/Closed/_606.jpg   \n",
            "  inflating: train/Closed/_607.jpg   \n",
            "  inflating: train/Closed/_608.jpg   \n",
            "  inflating: train/Closed/_609.jpg   \n",
            "  inflating: train/Closed/_61.jpg    \n",
            "  inflating: train/Closed/_610.jpg   \n",
            "  inflating: train/Closed/_611.jpg   \n",
            "  inflating: train/Closed/_612.jpg   \n",
            "  inflating: train/Closed/_613.jpg   \n",
            "  inflating: train/Closed/_614.jpg   \n",
            "  inflating: train/Closed/_615.jpg   \n",
            "  inflating: train/Closed/_616.jpg   \n",
            "  inflating: train/Closed/_617.jpg   \n",
            "  inflating: train/Closed/_618.jpg   \n",
            "  inflating: train/Closed/_619.jpg   \n",
            "  inflating: train/Closed/_62.jpg    \n",
            "  inflating: train/Closed/_620.jpg   \n",
            "  inflating: train/Closed/_621.jpg   \n",
            "  inflating: train/Closed/_622.jpg   \n",
            "  inflating: train/Closed/_623.jpg   \n",
            "  inflating: train/Closed/_624.jpg   \n",
            "  inflating: train/Closed/_625.jpg   \n",
            "  inflating: train/Closed/_626.jpg   \n",
            "  inflating: train/Closed/_627.jpg   \n",
            "  inflating: train/Closed/_628.jpg   \n",
            "  inflating: train/Closed/_629.jpg   \n",
            "  inflating: train/Closed/_63.jpg    \n",
            "  inflating: train/Closed/_630.jpg   \n",
            "  inflating: train/Closed/_631.jpg   \n",
            "  inflating: train/Closed/_632.jpg   \n",
            "  inflating: train/Closed/_633.jpg   \n",
            "  inflating: train/Closed/_634.jpg   \n",
            "  inflating: train/Closed/_635.jpg   \n",
            "  inflating: train/Closed/_636.jpg   \n",
            "  inflating: train/Closed/_637.jpg   \n",
            "  inflating: train/Closed/_638.jpg   \n",
            "  inflating: train/Closed/_639.jpg   \n",
            "  inflating: train/Closed/_64.jpg    \n",
            "  inflating: train/Closed/_640.jpg   \n",
            "  inflating: train/Closed/_641.jpg   \n",
            "  inflating: train/Closed/_642.jpg   \n",
            "  inflating: train/Closed/_643.jpg   \n",
            "  inflating: train/Closed/_644.jpg   \n",
            "  inflating: train/Closed/_645.jpg   \n",
            "  inflating: train/Closed/_646.jpg   \n",
            "  inflating: train/Closed/_647.jpg   \n",
            "  inflating: train/Closed/_648.jpg   \n",
            "  inflating: train/Closed/_649.jpg   \n",
            "  inflating: train/Closed/_65.jpg    \n",
            "  inflating: train/Closed/_650.jpg   \n",
            "  inflating: train/Closed/_651.jpg   \n",
            "  inflating: train/Closed/_652.jpg   \n",
            "  inflating: train/Closed/_653.jpg   \n",
            "  inflating: train/Closed/_654.jpg   \n",
            "  inflating: train/Closed/_655.jpg   \n",
            "  inflating: train/Closed/_656.jpg   \n",
            "  inflating: train/Closed/_657.jpg   \n",
            "  inflating: train/Closed/_658.jpg   \n",
            "  inflating: train/Closed/_659.jpg   \n",
            "  inflating: train/Closed/_66.jpg    \n",
            "  inflating: train/Closed/_660.jpg   \n",
            "  inflating: train/Closed/_661.jpg   \n",
            "  inflating: train/Closed/_662.jpg   \n",
            "  inflating: train/Closed/_663.jpg   \n",
            "  inflating: train/Closed/_664.jpg   \n",
            "  inflating: train/Closed/_665.jpg   \n",
            "  inflating: train/Closed/_666.jpg   \n",
            "  inflating: train/Closed/_667.jpg   \n",
            "  inflating: train/Closed/_668.jpg   \n",
            "  inflating: train/Closed/_669.jpg   \n",
            "  inflating: train/Closed/_67.jpg    \n",
            "  inflating: train/Closed/_670.jpg   \n",
            "  inflating: train/Closed/_671.jpg   \n",
            "  inflating: train/Closed/_672.jpg   \n",
            "  inflating: train/Closed/_673.jpg   \n",
            "  inflating: train/Closed/_674.jpg   \n",
            "  inflating: train/Closed/_675.jpg   \n",
            "  inflating: train/Closed/_676.jpg   \n",
            "  inflating: train/Closed/_677.jpg   \n",
            "  inflating: train/Closed/_678.jpg   \n",
            "  inflating: train/Closed/_679.jpg   \n",
            "  inflating: train/Closed/_68.jpg    \n",
            "  inflating: train/Closed/_680.jpg   \n",
            "  inflating: train/Closed/_681.jpg   \n",
            "  inflating: train/Closed/_682.jpg   \n",
            "  inflating: train/Closed/_683.jpg   \n",
            "  inflating: train/Closed/_684.jpg   \n",
            "  inflating: train/Closed/_685.jpg   \n",
            "  inflating: train/Closed/_686.jpg   \n",
            "  inflating: train/Closed/_687.jpg   \n",
            "  inflating: train/Closed/_688.jpg   \n",
            "  inflating: train/Closed/_689.jpg   \n",
            "  inflating: train/Closed/_69.jpg    \n",
            "  inflating: train/Closed/_690.jpg   \n",
            "  inflating: train/Closed/_691.jpg   \n",
            "  inflating: train/Closed/_692.jpg   \n",
            "  inflating: train/Closed/_693.jpg   \n",
            "  inflating: train/Closed/_694.jpg   \n",
            "  inflating: train/Closed/_695.jpg   \n",
            "  inflating: train/Closed/_696.jpg   \n",
            "  inflating: train/Closed/_697.jpg   \n",
            "  inflating: train/Closed/_698.jpg   \n",
            "  inflating: train/Closed/_699.jpg   \n",
            "  inflating: train/Closed/_7.jpg     \n",
            "  inflating: train/Closed/_70.jpg    \n",
            "  inflating: train/Closed/_700.jpg   \n",
            "  inflating: train/Closed/_701.jpg   \n",
            "  inflating: train/Closed/_702.jpg   \n",
            "  inflating: train/Closed/_703.jpg   \n",
            "  inflating: train/Closed/_704.jpg   \n",
            "  inflating: train/Closed/_705.jpg   \n",
            "  inflating: train/Closed/_706.jpg   \n",
            "  inflating: train/Closed/_707.jpg   \n",
            "  inflating: train/Closed/_708.jpg   \n",
            "  inflating: train/Closed/_709.jpg   \n",
            "  inflating: train/Closed/_71.jpg    \n",
            "  inflating: train/Closed/_710.jpg   \n",
            "  inflating: train/Closed/_711.jpg   \n",
            "  inflating: train/Closed/_712.jpg   \n",
            "  inflating: train/Closed/_713.jpg   \n",
            "  inflating: train/Closed/_714.jpg   \n",
            "  inflating: train/Closed/_715.jpg   \n",
            "  inflating: train/Closed/_716.jpg   \n",
            "  inflating: train/Closed/_717.jpg   \n",
            "  inflating: train/Closed/_718.jpg   \n",
            "  inflating: train/Closed/_719.jpg   \n",
            "  inflating: train/Closed/_72.jpg    \n",
            "  inflating: train/Closed/_720.jpg   \n",
            "  inflating: train/Closed/_721.jpg   \n",
            "  inflating: train/Closed/_722.jpg   \n",
            "  inflating: train/Closed/_723.jpg   \n",
            "  inflating: train/Closed/_724.jpg   \n",
            "  inflating: train/Closed/_725.jpg   \n",
            "  inflating: train/Closed/_73.jpg    \n",
            "  inflating: train/Closed/_74.jpg    \n",
            "  inflating: train/Closed/_75.jpg    \n",
            "  inflating: train/Closed/_76.jpg    \n",
            "  inflating: train/Closed/_77.jpg    \n",
            "  inflating: train/Closed/_78.jpg    \n",
            "  inflating: train/Closed/_79.jpg    \n",
            "  inflating: train/Closed/_8.jpg     \n",
            "  inflating: train/Closed/_80.jpg    \n",
            "  inflating: train/Closed/_81.jpg    \n",
            "  inflating: train/Closed/_82.jpg    \n",
            "  inflating: train/Closed/_83.jpg    \n",
            "  inflating: train/Closed/_84.jpg    \n",
            "  inflating: train/Closed/_85.jpg    \n",
            "  inflating: train/Closed/_86.jpg    \n",
            "  inflating: train/Closed/_87.jpg    \n",
            "  inflating: train/Closed/_88.jpg    \n",
            "  inflating: train/Closed/_89.jpg    \n",
            "  inflating: train/Closed/_9.jpg     \n",
            "  inflating: train/Closed/_90.jpg    \n",
            "  inflating: train/Closed/_91.jpg    \n",
            "  inflating: train/Closed/_92.jpg    \n",
            "  inflating: train/Closed/_93.jpg    \n",
            "  inflating: train/Closed/_94.jpg    \n",
            "  inflating: train/Closed/_95.jpg    \n",
            "  inflating: train/Closed/_96.jpg    \n",
            "  inflating: train/Closed/_97.jpg    \n",
            "  inflating: train/Closed/_98.jpg    \n",
            "  inflating: train/Closed/_99.jpg    \n",
            "  inflating: train/Open/_0.jpg       \n",
            "  inflating: train/Open/_1.jpg       \n",
            "  inflating: train/Open/_10.jpg      \n",
            "  inflating: train/Open/_100.jpg     \n",
            "  inflating: train/Open/_101.jpg     \n",
            "  inflating: train/Open/_102.jpg     \n",
            "  inflating: train/Open/_103.jpg     \n",
            "  inflating: train/Open/_104.jpg     \n",
            "  inflating: train/Open/_105.jpg     \n",
            "  inflating: train/Open/_106.jpg     \n",
            "  inflating: train/Open/_107.jpg     \n",
            "  inflating: train/Open/_108.jpg     \n",
            "  inflating: train/Open/_109.jpg     \n",
            "  inflating: train/Open/_11.jpg      \n",
            "  inflating: train/Open/_110.jpg     \n",
            "  inflating: train/Open/_111.jpg     \n",
            "  inflating: train/Open/_112.jpg     \n",
            "  inflating: train/Open/_113.jpg     \n",
            "  inflating: train/Open/_114.jpg     \n",
            "  inflating: train/Open/_115.jpg     \n",
            "  inflating: train/Open/_116.jpg     \n",
            "  inflating: train/Open/_117.jpg     \n",
            "  inflating: train/Open/_118.jpg     \n",
            "  inflating: train/Open/_119.jpg     \n",
            "  inflating: train/Open/_12.jpg      \n",
            "  inflating: train/Open/_120.jpg     \n",
            "  inflating: train/Open/_121.jpg     \n",
            "  inflating: train/Open/_122.jpg     \n",
            "  inflating: train/Open/_123.jpg     \n",
            "  inflating: train/Open/_124.jpg     \n",
            "  inflating: train/Open/_125.jpg     \n",
            "  inflating: train/Open/_126.jpg     \n",
            "  inflating: train/Open/_127.jpg     \n",
            "  inflating: train/Open/_128.jpg     \n",
            "  inflating: train/Open/_129.jpg     \n",
            "  inflating: train/Open/_13.jpg      \n",
            "  inflating: train/Open/_130.jpg     \n",
            "  inflating: train/Open/_131.jpg     \n",
            "  inflating: train/Open/_132.jpg     \n",
            "  inflating: train/Open/_133.jpg     \n",
            "  inflating: train/Open/_134.jpg     \n",
            "  inflating: train/Open/_135.jpg     \n",
            "  inflating: train/Open/_136.jpg     \n",
            "  inflating: train/Open/_137.jpg     \n",
            "  inflating: train/Open/_138.jpg     \n",
            "  inflating: train/Open/_139.jpg     \n",
            "  inflating: train/Open/_14.jpg      \n",
            "  inflating: train/Open/_140.jpg     \n",
            "  inflating: train/Open/_141.jpg     \n",
            "  inflating: train/Open/_142.jpg     \n",
            "  inflating: train/Open/_143.jpg     \n",
            "  inflating: train/Open/_144.jpg     \n",
            "  inflating: train/Open/_145.jpg     \n",
            "  inflating: train/Open/_146.jpg     \n",
            "  inflating: train/Open/_147.jpg     \n",
            "  inflating: train/Open/_148.jpg     \n",
            "  inflating: train/Open/_149.jpg     \n",
            "  inflating: train/Open/_15.jpg      \n",
            "  inflating: train/Open/_150.jpg     \n",
            "  inflating: train/Open/_151.jpg     \n",
            "  inflating: train/Open/_152.jpg     \n",
            "  inflating: train/Open/_153.jpg     \n",
            "  inflating: train/Open/_154.jpg     \n",
            "  inflating: train/Open/_155.jpg     \n",
            "  inflating: train/Open/_156.jpg     \n",
            "  inflating: train/Open/_157.jpg     \n",
            "  inflating: train/Open/_158.jpg     \n",
            "  inflating: train/Open/_159.jpg     \n",
            "  inflating: train/Open/_16.jpg      \n",
            "  inflating: train/Open/_160.jpg     \n",
            "  inflating: train/Open/_161.jpg     \n",
            "  inflating: train/Open/_162.jpg     \n",
            "  inflating: train/Open/_163.jpg     \n",
            "  inflating: train/Open/_164.jpg     \n",
            "  inflating: train/Open/_165.jpg     \n",
            "  inflating: train/Open/_166.jpg     \n",
            "  inflating: train/Open/_167.jpg     \n",
            "  inflating: train/Open/_168.jpg     \n",
            "  inflating: train/Open/_169.jpg     \n",
            "  inflating: train/Open/_17.jpg      \n",
            "  inflating: train/Open/_170.jpg     \n",
            "  inflating: train/Open/_171.jpg     \n",
            "  inflating: train/Open/_172.jpg     \n",
            "  inflating: train/Open/_173.jpg     \n",
            "  inflating: train/Open/_174.jpg     \n",
            "  inflating: train/Open/_175.jpg     \n",
            "  inflating: train/Open/_176.jpg     \n",
            "  inflating: train/Open/_177.jpg     \n",
            "  inflating: train/Open/_178.jpg     \n",
            "  inflating: train/Open/_179.jpg     \n",
            "  inflating: train/Open/_18.jpg      \n",
            "  inflating: train/Open/_180.jpg     \n",
            "  inflating: train/Open/_181.jpg     \n",
            "  inflating: train/Open/_182.jpg     \n",
            "  inflating: train/Open/_183.jpg     \n",
            "  inflating: train/Open/_184.jpg     \n",
            "  inflating: train/Open/_185.jpg     \n",
            "  inflating: train/Open/_186.jpg     \n",
            "  inflating: train/Open/_187.jpg     \n",
            "  inflating: train/Open/_188.jpg     \n",
            "  inflating: train/Open/_189.jpg     \n",
            "  inflating: train/Open/_19.jpg      \n",
            "  inflating: train/Open/_190.jpg     \n",
            "  inflating: train/Open/_191.jpg     \n",
            "  inflating: train/Open/_192.jpg     \n",
            "  inflating: train/Open/_193.jpg     \n",
            "  inflating: train/Open/_194.jpg     \n",
            "  inflating: train/Open/_195.jpg     \n",
            "  inflating: train/Open/_196.jpg     \n",
            "  inflating: train/Open/_197.jpg     \n",
            "  inflating: train/Open/_198.jpg     \n",
            "  inflating: train/Open/_199.jpg     \n",
            "  inflating: train/Open/_2.jpg       \n",
            "  inflating: train/Open/_20.jpg      \n",
            "  inflating: train/Open/_200.jpg     \n",
            "  inflating: train/Open/_201.jpg     \n",
            "  inflating: train/Open/_202.jpg     \n",
            "  inflating: train/Open/_203.jpg     \n",
            "  inflating: train/Open/_204.jpg     \n",
            "  inflating: train/Open/_205.jpg     \n",
            "  inflating: train/Open/_206.jpg     \n",
            "  inflating: train/Open/_207.jpg     \n",
            "  inflating: train/Open/_208.jpg     \n",
            "  inflating: train/Open/_209.jpg     \n",
            "  inflating: train/Open/_21.jpg      \n",
            "  inflating: train/Open/_210.jpg     \n",
            "  inflating: train/Open/_211.jpg     \n",
            "  inflating: train/Open/_212.jpg     \n",
            "  inflating: train/Open/_213.jpg     \n",
            "  inflating: train/Open/_214.jpg     \n",
            "  inflating: train/Open/_215.jpg     \n",
            "  inflating: train/Open/_216.jpg     \n",
            "  inflating: train/Open/_217.jpg     \n",
            "  inflating: train/Open/_218.jpg     \n",
            "  inflating: train/Open/_219.jpg     \n",
            "  inflating: train/Open/_22.jpg      \n",
            "  inflating: train/Open/_220.jpg     \n",
            "  inflating: train/Open/_221.jpg     \n",
            "  inflating: train/Open/_222.jpg     \n",
            "  inflating: train/Open/_223.jpg     \n",
            "  inflating: train/Open/_224.jpg     \n",
            "  inflating: train/Open/_225.jpg     \n",
            "  inflating: train/Open/_226.jpg     \n",
            "  inflating: train/Open/_227.jpg     \n",
            "  inflating: train/Open/_228.jpg     \n",
            "  inflating: train/Open/_229.jpg     \n",
            "  inflating: train/Open/_23.jpg      \n",
            "  inflating: train/Open/_230.jpg     \n",
            "  inflating: train/Open/_231.jpg     \n",
            "  inflating: train/Open/_232.jpg     \n",
            "  inflating: train/Open/_233.jpg     \n",
            "  inflating: train/Open/_234.jpg     \n",
            "  inflating: train/Open/_235.jpg     \n",
            "  inflating: train/Open/_236.jpg     \n",
            "  inflating: train/Open/_237.jpg     \n",
            "  inflating: train/Open/_238.jpg     \n",
            "  inflating: train/Open/_239.jpg     \n",
            "  inflating: train/Open/_24.jpg      \n",
            "  inflating: train/Open/_240.jpg     \n",
            "  inflating: train/Open/_241.jpg     \n",
            "  inflating: train/Open/_242.jpg     \n",
            "  inflating: train/Open/_243.jpg     \n",
            "  inflating: train/Open/_244.jpg     \n",
            "  inflating: train/Open/_245.jpg     \n",
            "  inflating: train/Open/_246.jpg     \n",
            "  inflating: train/Open/_247.jpg     \n",
            "  inflating: train/Open/_248.jpg     \n",
            "  inflating: train/Open/_249.jpg     \n",
            "  inflating: train/Open/_25.jpg      \n",
            "  inflating: train/Open/_250.jpg     \n",
            "  inflating: train/Open/_251.jpg     \n",
            "  inflating: train/Open/_252.jpg     \n",
            "  inflating: train/Open/_253.jpg     \n",
            "  inflating: train/Open/_254.jpg     \n",
            "  inflating: train/Open/_255.jpg     \n",
            "  inflating: train/Open/_256.jpg     \n",
            "  inflating: train/Open/_257.jpg     \n",
            "  inflating: train/Open/_258.jpg     \n",
            "  inflating: train/Open/_259.jpg     \n",
            "  inflating: train/Open/_26.jpg      \n",
            "  inflating: train/Open/_260.jpg     \n",
            "  inflating: train/Open/_261.jpg     \n",
            "  inflating: train/Open/_262.jpg     \n",
            "  inflating: train/Open/_263.jpg     \n",
            "  inflating: train/Open/_264.jpg     \n",
            "  inflating: train/Open/_265.jpg     \n",
            "  inflating: train/Open/_266.jpg     \n",
            "  inflating: train/Open/_267.jpg     \n",
            "  inflating: train/Open/_268.jpg     \n",
            "  inflating: train/Open/_269.jpg     \n",
            "  inflating: train/Open/_27.jpg      \n",
            "  inflating: train/Open/_270.jpg     \n",
            "  inflating: train/Open/_271.jpg     \n",
            "  inflating: train/Open/_272.jpg     \n",
            "  inflating: train/Open/_273.jpg     \n",
            "  inflating: train/Open/_274.jpg     \n",
            "  inflating: train/Open/_275.jpg     \n",
            "  inflating: train/Open/_276.jpg     \n",
            "  inflating: train/Open/_277.jpg     \n",
            "  inflating: train/Open/_278.jpg     \n",
            "  inflating: train/Open/_279.jpg     \n",
            "  inflating: train/Open/_28.jpg      \n",
            "  inflating: train/Open/_280.jpg     \n",
            "  inflating: train/Open/_281.jpg     \n",
            "  inflating: train/Open/_282.jpg     \n",
            "  inflating: train/Open/_283.jpg     \n",
            "  inflating: train/Open/_284.jpg     \n",
            "  inflating: train/Open/_285.jpg     \n",
            "  inflating: train/Open/_286.jpg     \n",
            "  inflating: train/Open/_287.jpg     \n",
            "  inflating: train/Open/_288.jpg     \n",
            "  inflating: train/Open/_289.jpg     \n",
            "  inflating: train/Open/_29.jpg      \n",
            "  inflating: train/Open/_290.jpg     \n",
            "  inflating: train/Open/_291.jpg     \n",
            "  inflating: train/Open/_292.jpg     \n",
            "  inflating: train/Open/_293.jpg     \n",
            "  inflating: train/Open/_294.jpg     \n",
            "  inflating: train/Open/_295.jpg     \n",
            "  inflating: train/Open/_296.jpg     \n",
            "  inflating: train/Open/_297.jpg     \n",
            "  inflating: train/Open/_298.jpg     \n",
            "  inflating: train/Open/_299.jpg     \n",
            "  inflating: train/Open/_3.jpg       \n",
            "  inflating: train/Open/_30.jpg      \n",
            "  inflating: train/Open/_300.jpg     \n",
            "  inflating: train/Open/_301.jpg     \n",
            "  inflating: train/Open/_302.jpg     \n",
            "  inflating: train/Open/_303.jpg     \n",
            "  inflating: train/Open/_304.jpg     \n",
            "  inflating: train/Open/_305.jpg     \n",
            "  inflating: train/Open/_306.jpg     \n",
            "  inflating: train/Open/_307.jpg     \n",
            "  inflating: train/Open/_308.jpg     \n",
            "  inflating: train/Open/_309.jpg     \n",
            "  inflating: train/Open/_31.jpg      \n",
            "  inflating: train/Open/_310.jpg     \n",
            "  inflating: train/Open/_311.jpg     \n",
            "  inflating: train/Open/_312.jpg     \n",
            "  inflating: train/Open/_313.jpg     \n",
            "  inflating: train/Open/_314.jpg     \n",
            "  inflating: train/Open/_315.jpg     \n",
            "  inflating: train/Open/_316.jpg     \n",
            "  inflating: train/Open/_317.jpg     \n",
            "  inflating: train/Open/_318.jpg     \n",
            "  inflating: train/Open/_319.jpg     \n",
            "  inflating: train/Open/_32.jpg      \n",
            "  inflating: train/Open/_320.jpg     \n",
            "  inflating: train/Open/_321.jpg     \n",
            "  inflating: train/Open/_322.jpg     \n",
            "  inflating: train/Open/_323.jpg     \n",
            "  inflating: train/Open/_324.jpg     \n",
            "  inflating: train/Open/_325.jpg     \n",
            "  inflating: train/Open/_326.jpg     \n",
            "  inflating: train/Open/_327.jpg     \n",
            "  inflating: train/Open/_328.jpg     \n",
            "  inflating: train/Open/_329.jpg     \n",
            "  inflating: train/Open/_33.jpg      \n",
            "  inflating: train/Open/_330.jpg     \n",
            "  inflating: train/Open/_331.jpg     \n",
            "  inflating: train/Open/_332.jpg     \n",
            "  inflating: train/Open/_333.jpg     \n",
            "  inflating: train/Open/_334.jpg     \n",
            "  inflating: train/Open/_335.jpg     \n",
            "  inflating: train/Open/_336.jpg     \n",
            "  inflating: train/Open/_337.jpg     \n",
            "  inflating: train/Open/_338.jpg     \n",
            "  inflating: train/Open/_339.jpg     \n",
            "  inflating: train/Open/_34.jpg      \n",
            "  inflating: train/Open/_340.jpg     \n",
            "  inflating: train/Open/_341.jpg     \n",
            "  inflating: train/Open/_342.jpg     \n",
            "  inflating: train/Open/_343.jpg     \n",
            "  inflating: train/Open/_344.jpg     \n",
            "  inflating: train/Open/_345.jpg     \n",
            "  inflating: train/Open/_346.jpg     \n",
            "  inflating: train/Open/_347.jpg     \n",
            "  inflating: train/Open/_348.jpg     \n",
            "  inflating: train/Open/_349.jpg     \n",
            "  inflating: train/Open/_35.jpg      \n",
            "  inflating: train/Open/_350.jpg     \n",
            "  inflating: train/Open/_351.jpg     \n",
            "  inflating: train/Open/_352.jpg     \n",
            "  inflating: train/Open/_353.jpg     \n",
            "  inflating: train/Open/_354.jpg     \n",
            "  inflating: train/Open/_355.jpg     \n",
            "  inflating: train/Open/_356.jpg     \n",
            "  inflating: train/Open/_357.jpg     \n",
            "  inflating: train/Open/_358.jpg     \n",
            "  inflating: train/Open/_359.jpg     \n",
            "  inflating: train/Open/_36.jpg      \n",
            "  inflating: train/Open/_360.jpg     \n",
            "  inflating: train/Open/_361.jpg     \n",
            "  inflating: train/Open/_362.jpg     \n",
            "  inflating: train/Open/_363.jpg     \n",
            "  inflating: train/Open/_364.jpg     \n",
            "  inflating: train/Open/_365.jpg     \n",
            "  inflating: train/Open/_366.jpg     \n",
            "  inflating: train/Open/_367.jpg     \n",
            "  inflating: train/Open/_368.jpg     \n",
            "  inflating: train/Open/_369.jpg     \n",
            "  inflating: train/Open/_37.jpg      \n",
            "  inflating: train/Open/_370.jpg     \n",
            "  inflating: train/Open/_371.jpg     \n",
            "  inflating: train/Open/_372.jpg     \n",
            "  inflating: train/Open/_373.jpg     \n",
            "  inflating: train/Open/_374.jpg     \n",
            "  inflating: train/Open/_375.jpg     \n",
            "  inflating: train/Open/_376.jpg     \n",
            "  inflating: train/Open/_377.jpg     \n",
            "  inflating: train/Open/_378.jpg     \n",
            "  inflating: train/Open/_379.jpg     \n",
            "  inflating: train/Open/_38.jpg      \n",
            "  inflating: train/Open/_380.jpg     \n",
            "  inflating: train/Open/_381.jpg     \n",
            "  inflating: train/Open/_382.jpg     \n",
            "  inflating: train/Open/_383.jpg     \n",
            "  inflating: train/Open/_384.jpg     \n",
            "  inflating: train/Open/_385.jpg     \n",
            "  inflating: train/Open/_386.jpg     \n",
            "  inflating: train/Open/_387.jpg     \n",
            "  inflating: train/Open/_388.jpg     \n",
            "  inflating: train/Open/_389.jpg     \n",
            "  inflating: train/Open/_39.jpg      \n",
            "  inflating: train/Open/_390.jpg     \n",
            "  inflating: train/Open/_391.jpg     \n",
            "  inflating: train/Open/_392.jpg     \n",
            "  inflating: train/Open/_393.jpg     \n",
            "  inflating: train/Open/_394.jpg     \n",
            "  inflating: train/Open/_395.jpg     \n",
            "  inflating: train/Open/_396.jpg     \n",
            "  inflating: train/Open/_397.jpg     \n",
            "  inflating: train/Open/_398.jpg     \n",
            "  inflating: train/Open/_399.jpg     \n",
            "  inflating: train/Open/_4.jpg       \n",
            "  inflating: train/Open/_40.jpg      \n",
            "  inflating: train/Open/_400.jpg     \n",
            "  inflating: train/Open/_401.jpg     \n",
            "  inflating: train/Open/_402.jpg     \n",
            "  inflating: train/Open/_403.jpg     \n",
            "  inflating: train/Open/_404.jpg     \n",
            "  inflating: train/Open/_405.jpg     \n",
            "  inflating: train/Open/_406.jpg     \n",
            "  inflating: train/Open/_407.jpg     \n",
            "  inflating: train/Open/_408.jpg     \n",
            "  inflating: train/Open/_409.jpg     \n",
            "  inflating: train/Open/_41.jpg      \n",
            "  inflating: train/Open/_410.jpg     \n",
            "  inflating: train/Open/_411.jpg     \n",
            "  inflating: train/Open/_412.jpg     \n",
            "  inflating: train/Open/_413.jpg     \n",
            "  inflating: train/Open/_414.jpg     \n",
            "  inflating: train/Open/_415.jpg     \n",
            "  inflating: train/Open/_416.jpg     \n",
            "  inflating: train/Open/_417.jpg     \n",
            "  inflating: train/Open/_418.jpg     \n",
            "  inflating: train/Open/_419.jpg     \n",
            "  inflating: train/Open/_42.jpg      \n",
            "  inflating: train/Open/_420.jpg     \n",
            "  inflating: train/Open/_421.jpg     \n",
            "  inflating: train/Open/_422.jpg     \n",
            "  inflating: train/Open/_423.jpg     \n",
            "  inflating: train/Open/_424.jpg     \n",
            "  inflating: train/Open/_425.jpg     \n",
            "  inflating: train/Open/_426.jpg     \n",
            "  inflating: train/Open/_427.jpg     \n",
            "  inflating: train/Open/_428.jpg     \n",
            "  inflating: train/Open/_429.jpg     \n",
            "  inflating: train/Open/_43.jpg      \n",
            "  inflating: train/Open/_430.jpg     \n",
            "  inflating: train/Open/_431.jpg     \n",
            "  inflating: train/Open/_432.jpg     \n",
            "  inflating: train/Open/_433.jpg     \n",
            "  inflating: train/Open/_434.jpg     \n",
            "  inflating: train/Open/_435.jpg     \n",
            "  inflating: train/Open/_436.jpg     \n",
            "  inflating: train/Open/_437.jpg     \n",
            "  inflating: train/Open/_438.jpg     \n",
            "  inflating: train/Open/_439.jpg     \n",
            "  inflating: train/Open/_44.jpg      \n",
            "  inflating: train/Open/_440.jpg     \n",
            "  inflating: train/Open/_441.jpg     \n",
            "  inflating: train/Open/_442.jpg     \n",
            "  inflating: train/Open/_443.jpg     \n",
            "  inflating: train/Open/_444.jpg     \n",
            "  inflating: train/Open/_445.jpg     \n",
            "  inflating: train/Open/_446.jpg     \n",
            "  inflating: train/Open/_447.jpg     \n",
            "  inflating: train/Open/_448.jpg     \n",
            "  inflating: train/Open/_449.jpg     \n",
            "  inflating: train/Open/_45.jpg      \n",
            "  inflating: train/Open/_450.jpg     \n",
            "  inflating: train/Open/_451.jpg     \n",
            "  inflating: train/Open/_452.jpg     \n",
            "  inflating: train/Open/_453.jpg     \n",
            "  inflating: train/Open/_454.jpg     \n",
            "  inflating: train/Open/_455.jpg     \n",
            "  inflating: train/Open/_456.jpg     \n",
            "  inflating: train/Open/_457.jpg     \n",
            "  inflating: train/Open/_458.jpg     \n",
            "  inflating: train/Open/_459.jpg     \n",
            "  inflating: train/Open/_46.jpg      \n",
            "  inflating: train/Open/_460.jpg     \n",
            "  inflating: train/Open/_461.jpg     \n",
            "  inflating: train/Open/_462.jpg     \n",
            "  inflating: train/Open/_463.jpg     \n",
            "  inflating: train/Open/_464.jpg     \n",
            "  inflating: train/Open/_465.jpg     \n",
            "  inflating: train/Open/_466.jpg     \n",
            "  inflating: train/Open/_467.jpg     \n",
            "  inflating: train/Open/_468.jpg     \n",
            "  inflating: train/Open/_469.jpg     \n",
            "  inflating: train/Open/_47.jpg      \n",
            "  inflating: train/Open/_470.jpg     \n",
            "  inflating: train/Open/_471.jpg     \n",
            "  inflating: train/Open/_472.jpg     \n",
            "  inflating: train/Open/_473.jpg     \n",
            "  inflating: train/Open/_474.jpg     \n",
            "  inflating: train/Open/_475.jpg     \n",
            "  inflating: train/Open/_476.jpg     \n",
            "  inflating: train/Open/_477.jpg     \n",
            "  inflating: train/Open/_478.jpg     \n",
            "  inflating: train/Open/_479.jpg     \n",
            "  inflating: train/Open/_48.jpg      \n",
            "  inflating: train/Open/_480.jpg     \n",
            "  inflating: train/Open/_481.jpg     \n",
            "  inflating: train/Open/_482.jpg     \n",
            "  inflating: train/Open/_483.jpg     \n",
            "  inflating: train/Open/_484.jpg     \n",
            "  inflating: train/Open/_485.jpg     \n",
            "  inflating: train/Open/_486.jpg     \n",
            "  inflating: train/Open/_487.jpg     \n",
            "  inflating: train/Open/_488.jpg     \n",
            "  inflating: train/Open/_489.jpg     \n",
            "  inflating: train/Open/_49.jpg      \n",
            "  inflating: train/Open/_490.jpg     \n",
            "  inflating: train/Open/_491.jpg     \n",
            "  inflating: train/Open/_492.jpg     \n",
            "  inflating: train/Open/_493.jpg     \n",
            "  inflating: train/Open/_494.jpg     \n",
            "  inflating: train/Open/_495.jpg     \n",
            "  inflating: train/Open/_496.jpg     \n",
            "  inflating: train/Open/_497.jpg     \n",
            "  inflating: train/Open/_498.jpg     \n",
            "  inflating: train/Open/_499.jpg     \n",
            "  inflating: train/Open/_5.jpg       \n",
            "  inflating: train/Open/_50.jpg      \n",
            "  inflating: train/Open/_500.jpg     \n",
            "  inflating: train/Open/_501.jpg     \n",
            "  inflating: train/Open/_502.jpg     \n",
            "  inflating: train/Open/_503.jpg     \n",
            "  inflating: train/Open/_504.jpg     \n",
            "  inflating: train/Open/_505.jpg     \n",
            "  inflating: train/Open/_506.jpg     \n",
            "  inflating: train/Open/_507.jpg     \n",
            "  inflating: train/Open/_508.jpg     \n",
            "  inflating: train/Open/_509.jpg     \n",
            "  inflating: train/Open/_51.jpg      \n",
            "  inflating: train/Open/_510.jpg     \n",
            "  inflating: train/Open/_511.jpg     \n",
            "  inflating: train/Open/_512.jpg     \n",
            "  inflating: train/Open/_513.jpg     \n",
            "  inflating: train/Open/_514.jpg     \n",
            "  inflating: train/Open/_515.jpg     \n",
            "  inflating: train/Open/_516.jpg     \n",
            "  inflating: train/Open/_517.jpg     \n",
            "  inflating: train/Open/_518.jpg     \n",
            "  inflating: train/Open/_519.jpg     \n",
            "  inflating: train/Open/_52.jpg      \n",
            "  inflating: train/Open/_520.jpg     \n",
            "  inflating: train/Open/_521.jpg     \n",
            "  inflating: train/Open/_522.jpg     \n",
            "  inflating: train/Open/_523.jpg     \n",
            "  inflating: train/Open/_524.jpg     \n",
            "  inflating: train/Open/_525.jpg     \n",
            "  inflating: train/Open/_526.jpg     \n",
            "  inflating: train/Open/_527.jpg     \n",
            "  inflating: train/Open/_528.jpg     \n",
            "  inflating: train/Open/_529.jpg     \n",
            "  inflating: train/Open/_53.jpg      \n",
            "  inflating: train/Open/_530.jpg     \n",
            "  inflating: train/Open/_531.jpg     \n",
            "  inflating: train/Open/_532.jpg     \n",
            "  inflating: train/Open/_533.jpg     \n",
            "  inflating: train/Open/_534.jpg     \n",
            "  inflating: train/Open/_535.jpg     \n",
            "  inflating: train/Open/_536.jpg     \n",
            "  inflating: train/Open/_537.jpg     \n",
            "  inflating: train/Open/_538.jpg     \n",
            "  inflating: train/Open/_539.jpg     \n",
            "  inflating: train/Open/_54.jpg      \n",
            "  inflating: train/Open/_540.jpg     \n",
            "  inflating: train/Open/_541.jpg     \n",
            "  inflating: train/Open/_542.jpg     \n",
            "  inflating: train/Open/_543.jpg     \n",
            "  inflating: train/Open/_544.jpg     \n",
            "  inflating: train/Open/_545.jpg     \n",
            "  inflating: train/Open/_546.jpg     \n",
            "  inflating: train/Open/_547.jpg     \n",
            "  inflating: train/Open/_548.jpg     \n",
            "  inflating: train/Open/_549.jpg     \n",
            "  inflating: train/Open/_55.jpg      \n",
            "  inflating: train/Open/_550.jpg     \n",
            "  inflating: train/Open/_551.jpg     \n",
            "  inflating: train/Open/_552.jpg     \n",
            "  inflating: train/Open/_553.jpg     \n",
            "  inflating: train/Open/_554.jpg     \n",
            "  inflating: train/Open/_555.jpg     \n",
            "  inflating: train/Open/_556.jpg     \n",
            "  inflating: train/Open/_557.jpg     \n",
            "  inflating: train/Open/_558.jpg     \n",
            "  inflating: train/Open/_559.jpg     \n",
            "  inflating: train/Open/_56.jpg      \n",
            "  inflating: train/Open/_560.jpg     \n",
            "  inflating: train/Open/_561.jpg     \n",
            "  inflating: train/Open/_562.jpg     \n",
            "  inflating: train/Open/_563.jpg     \n",
            "  inflating: train/Open/_564.jpg     \n",
            "  inflating: train/Open/_565.jpg     \n",
            "  inflating: train/Open/_566.jpg     \n",
            "  inflating: train/Open/_567.jpg     \n",
            "  inflating: train/Open/_568.jpg     \n",
            "  inflating: train/Open/_569.jpg     \n",
            "  inflating: train/Open/_57.jpg      \n",
            "  inflating: train/Open/_570.jpg     \n",
            "  inflating: train/Open/_571.jpg     \n",
            "  inflating: train/Open/_572.jpg     \n",
            "  inflating: train/Open/_573.jpg     \n",
            "  inflating: train/Open/_574.jpg     \n",
            "  inflating: train/Open/_575.jpg     \n",
            "  inflating: train/Open/_576.jpg     \n",
            "  inflating: train/Open/_577.jpg     \n",
            "  inflating: train/Open/_578.jpg     \n",
            "  inflating: train/Open/_579.jpg     \n",
            "  inflating: train/Open/_58.jpg      \n",
            "  inflating: train/Open/_580.jpg     \n",
            "  inflating: train/Open/_581.jpg     \n",
            "  inflating: train/Open/_582.jpg     \n",
            "  inflating: train/Open/_583.jpg     \n",
            "  inflating: train/Open/_584.jpg     \n",
            "  inflating: train/Open/_585.jpg     \n",
            "  inflating: train/Open/_586.jpg     \n",
            "  inflating: train/Open/_587.jpg     \n",
            "  inflating: train/Open/_588.jpg     \n",
            "  inflating: train/Open/_589.jpg     \n",
            "  inflating: train/Open/_59.jpg      \n",
            "  inflating: train/Open/_590.jpg     \n",
            "  inflating: train/Open/_591.jpg     \n",
            "  inflating: train/Open/_592.jpg     \n",
            "  inflating: train/Open/_593.jpg     \n",
            "  inflating: train/Open/_594.jpg     \n",
            "  inflating: train/Open/_595.jpg     \n",
            "  inflating: train/Open/_596.jpg     \n",
            "  inflating: train/Open/_597.jpg     \n",
            "  inflating: train/Open/_598.jpg     \n",
            "  inflating: train/Open/_599.jpg     \n",
            "  inflating: train/Open/_6.jpg       \n",
            "  inflating: train/Open/_60.jpg      \n",
            "  inflating: train/Open/_600.jpg     \n",
            "  inflating: train/Open/_601.jpg     \n",
            "  inflating: train/Open/_602.jpg     \n",
            "  inflating: train/Open/_603.jpg     \n",
            "  inflating: train/Open/_604.jpg     \n",
            "  inflating: train/Open/_605.jpg     \n",
            "  inflating: train/Open/_606.jpg     \n",
            "  inflating: train/Open/_607.jpg     \n",
            "  inflating: train/Open/_608.jpg     \n",
            "  inflating: train/Open/_609.jpg     \n",
            "  inflating: train/Open/_61.jpg      \n",
            "  inflating: train/Open/_610.jpg     \n",
            "  inflating: train/Open/_611.jpg     \n",
            "  inflating: train/Open/_612.jpg     \n",
            "  inflating: train/Open/_613.jpg     \n",
            "  inflating: train/Open/_614.jpg     \n",
            "  inflating: train/Open/_615.jpg     \n",
            "  inflating: train/Open/_616.jpg     \n",
            "  inflating: train/Open/_617.jpg     \n",
            "  inflating: train/Open/_618.jpg     \n",
            "  inflating: train/Open/_619.jpg     \n",
            "  inflating: train/Open/_62.jpg      \n",
            "  inflating: train/Open/_620.jpg     \n",
            "  inflating: train/Open/_621.jpg     \n",
            "  inflating: train/Open/_622.jpg     \n",
            "  inflating: train/Open/_623.jpg     \n",
            "  inflating: train/Open/_624.jpg     \n",
            "  inflating: train/Open/_625.jpg     \n",
            "  inflating: train/Open/_626.jpg     \n",
            "  inflating: train/Open/_627.jpg     \n",
            "  inflating: train/Open/_628.jpg     \n",
            "  inflating: train/Open/_629.jpg     \n",
            "  inflating: train/Open/_63.jpg      \n",
            "  inflating: train/Open/_630.jpg     \n",
            "  inflating: train/Open/_631.jpg     \n",
            "  inflating: train/Open/_632.jpg     \n",
            "  inflating: train/Open/_633.jpg     \n",
            "  inflating: train/Open/_634.jpg     \n",
            "  inflating: train/Open/_635.jpg     \n",
            "  inflating: train/Open/_636.jpg     \n",
            "  inflating: train/Open/_637.jpg     \n",
            "  inflating: train/Open/_638.jpg     \n",
            "  inflating: train/Open/_639.jpg     \n",
            "  inflating: train/Open/_64.jpg      \n",
            "  inflating: train/Open/_640.jpg     \n",
            "  inflating: train/Open/_641.jpg     \n",
            "  inflating: train/Open/_642.jpg     \n",
            "  inflating: train/Open/_643.jpg     \n",
            "  inflating: train/Open/_644.jpg     \n",
            "  inflating: train/Open/_645.jpg     \n",
            "  inflating: train/Open/_646.jpg     \n",
            "  inflating: train/Open/_647.jpg     \n",
            "  inflating: train/Open/_648.jpg     \n",
            "  inflating: train/Open/_649.jpg     \n",
            "  inflating: train/Open/_65.jpg      \n",
            "  inflating: train/Open/_650.jpg     \n",
            "  inflating: train/Open/_651.jpg     \n",
            "  inflating: train/Open/_652.jpg     \n",
            "  inflating: train/Open/_653.jpg     \n",
            "  inflating: train/Open/_654.jpg     \n",
            "  inflating: train/Open/_655.jpg     \n",
            "  inflating: train/Open/_656.jpg     \n",
            "  inflating: train/Open/_657.jpg     \n",
            "  inflating: train/Open/_658.jpg     \n",
            "  inflating: train/Open/_659.jpg     \n",
            "  inflating: train/Open/_66.jpg      \n",
            "  inflating: train/Open/_660.jpg     \n",
            "  inflating: train/Open/_661.jpg     \n",
            "  inflating: train/Open/_662.jpg     \n",
            "  inflating: train/Open/_663.jpg     \n",
            "  inflating: train/Open/_664.jpg     \n",
            "  inflating: train/Open/_665.jpg     \n",
            "  inflating: train/Open/_666.jpg     \n",
            "  inflating: train/Open/_667.jpg     \n",
            "  inflating: train/Open/_668.jpg     \n",
            "  inflating: train/Open/_669.jpg     \n",
            "  inflating: train/Open/_67.jpg      \n",
            "  inflating: train/Open/_670.jpg     \n",
            "  inflating: train/Open/_671.jpg     \n",
            "  inflating: train/Open/_672.jpg     \n",
            "  inflating: train/Open/_673.jpg     \n",
            "  inflating: train/Open/_674.jpg     \n",
            "  inflating: train/Open/_675.jpg     \n",
            "  inflating: train/Open/_676.jpg     \n",
            "  inflating: train/Open/_677.jpg     \n",
            "  inflating: train/Open/_678.jpg     \n",
            "  inflating: train/Open/_679.jpg     \n",
            "  inflating: train/Open/_68.jpg      \n",
            "  inflating: train/Open/_680.jpg     \n",
            "  inflating: train/Open/_681.jpg     \n",
            "  inflating: train/Open/_682.jpg     \n",
            "  inflating: train/Open/_683.jpg     \n",
            "  inflating: train/Open/_684.jpg     \n",
            "  inflating: train/Open/_685.jpg     \n",
            "  inflating: train/Open/_686.jpg     \n",
            "  inflating: train/Open/_687.jpg     \n",
            "  inflating: train/Open/_688.jpg     \n",
            "  inflating: train/Open/_689.jpg     \n",
            "  inflating: train/Open/_69.jpg      \n",
            "  inflating: train/Open/_690.jpg     \n",
            "  inflating: train/Open/_691.jpg     \n",
            "  inflating: train/Open/_692.jpg     \n",
            "  inflating: train/Open/_693.jpg     \n",
            "  inflating: train/Open/_694.jpg     \n",
            "  inflating: train/Open/_695.jpg     \n",
            "  inflating: train/Open/_696.jpg     \n",
            "  inflating: train/Open/_697.jpg     \n",
            "  inflating: train/Open/_698.jpg     \n",
            "  inflating: train/Open/_699.jpg     \n",
            "  inflating: train/Open/_7.jpg       \n",
            "  inflating: train/Open/_70.jpg      \n",
            "  inflating: train/Open/_700.jpg     \n",
            "  inflating: train/Open/_701.jpg     \n",
            "  inflating: train/Open/_702.jpg     \n",
            "  inflating: train/Open/_703.jpg     \n",
            "  inflating: train/Open/_704.jpg     \n",
            "  inflating: train/Open/_705.jpg     \n",
            "  inflating: train/Open/_706.jpg     \n",
            "  inflating: train/Open/_707.jpg     \n",
            "  inflating: train/Open/_708.jpg     \n",
            "  inflating: train/Open/_709.jpg     \n",
            "  inflating: train/Open/_71.jpg      \n",
            "  inflating: train/Open/_710.jpg     \n",
            "  inflating: train/Open/_711.jpg     \n",
            "  inflating: train/Open/_712.jpg     \n",
            "  inflating: train/Open/_713.jpg     \n",
            "  inflating: train/Open/_714.jpg     \n",
            "  inflating: train/Open/_715.jpg     \n",
            "  inflating: train/Open/_716.jpg     \n",
            "  inflating: train/Open/_717.jpg     \n",
            "  inflating: train/Open/_718.jpg     \n",
            "  inflating: train/Open/_719.jpg     \n",
            "  inflating: train/Open/_72.jpg      \n",
            "  inflating: train/Open/_720.jpg     \n",
            "  inflating: train/Open/_721.jpg     \n",
            "  inflating: train/Open/_722.jpg     \n",
            "  inflating: train/Open/_723.jpg     \n",
            "  inflating: train/Open/_724.jpg     \n",
            "  inflating: train/Open/_725.jpg     \n",
            "  inflating: train/Open/_73.jpg      \n",
            "  inflating: train/Open/_74.jpg      \n",
            "  inflating: train/Open/_75.jpg      \n",
            "  inflating: train/Open/_76.jpg      \n",
            "  inflating: train/Open/_77.jpg      \n",
            "  inflating: train/Open/_78.jpg      \n",
            "  inflating: train/Open/_79.jpg      \n",
            "  inflating: train/Open/_8.jpg       \n",
            "  inflating: train/Open/_80.jpg      \n",
            "  inflating: train/Open/_81.jpg      \n",
            "  inflating: train/Open/_82.jpg      \n",
            "  inflating: train/Open/_83.jpg      \n",
            "  inflating: train/Open/_84.jpg      \n",
            "  inflating: train/Open/_85.jpg      \n",
            "  inflating: train/Open/_86.jpg      \n",
            "  inflating: train/Open/_87.jpg      \n",
            "  inflating: train/Open/_88.jpg      \n",
            "  inflating: train/Open/_89.jpg      \n",
            "  inflating: train/Open/_9.jpg       \n",
            "  inflating: train/Open/_90.jpg      \n",
            "  inflating: train/Open/_91.jpg      \n",
            "  inflating: train/Open/_92.jpg      \n",
            "  inflating: train/Open/_93.jpg      \n",
            "  inflating: train/Open/_94.jpg      \n",
            "  inflating: train/Open/_95.jpg      \n",
            "  inflating: train/Open/_96.jpg      \n",
            "  inflating: train/Open/_97.jpg      \n",
            "  inflating: train/Open/_98.jpg      \n",
            "  inflating: train/Open/_99.jpg      \n",
            "  inflating: train/no_yawn/1.jpg     \n",
            "  inflating: train/no_yawn/1003.jpg  \n",
            "  inflating: train/no_yawn/1004.jpg  \n",
            "  inflating: train/no_yawn/1006.jpg  \n",
            "  inflating: train/no_yawn/1007.jpg  \n",
            "  inflating: train/no_yawn/1008.jpg  \n",
            "  inflating: train/no_yawn/1009.jpg  \n",
            "  inflating: train/no_yawn/1010.jpg  \n",
            "  inflating: train/no_yawn/1021.jpg  \n",
            "  inflating: train/no_yawn/1028.jpg  \n",
            "  inflating: train/no_yawn/1029.jpg  \n",
            "  inflating: train/no_yawn/1030.jpg  \n",
            "  inflating: train/no_yawn/1031.jpg  \n",
            "  inflating: train/no_yawn/1032.jpg  \n",
            "  inflating: train/no_yawn/1033.jpg  \n",
            "  inflating: train/no_yawn/1034.jpg  \n",
            "  inflating: train/no_yawn/1038.jpg  \n",
            "  inflating: train/no_yawn/1039.jpg  \n",
            "  inflating: train/no_yawn/1042.jpg  \n",
            "  inflating: train/no_yawn/1044.jpg  \n",
            "  inflating: train/no_yawn/1046.jpg  \n",
            "  inflating: train/no_yawn/1047.jpg  \n",
            "  inflating: train/no_yawn/1050.jpg  \n",
            "  inflating: train/no_yawn/1061.jpg  \n",
            "  inflating: train/no_yawn/1062.jpg  \n",
            "  inflating: train/no_yawn/1063.jpg  \n",
            "  inflating: train/no_yawn/1067.jpg  \n",
            "  inflating: train/no_yawn/1068.jpg  \n",
            "  inflating: train/no_yawn/1069.jpg  \n",
            "  inflating: train/no_yawn/1073.jpg  \n",
            "  inflating: train/no_yawn/1074.jpg  \n",
            "  inflating: train/no_yawn/1096.jpg  \n",
            "  inflating: train/no_yawn/1097.jpg  \n",
            "  inflating: train/no_yawn/1098.jpg  \n",
            "  inflating: train/no_yawn/111.jpg   \n",
            "  inflating: train/no_yawn/1111.jpg  \n",
            "  inflating: train/no_yawn/1114.jpg  \n",
            "  inflating: train/no_yawn/1116.jpg  \n",
            "  inflating: train/no_yawn/1117.jpg  \n",
            "  inflating: train/no_yawn/1118.jpg  \n",
            "  inflating: train/no_yawn/112.jpg   \n",
            "  inflating: train/no_yawn/1120.jpg  \n",
            "  inflating: train/no_yawn/1121.jpg  \n",
            "  inflating: train/no_yawn/1122.jpg  \n",
            "  inflating: train/no_yawn/1128.jpg  \n",
            "  inflating: train/no_yawn/1129.jpg  \n",
            "  inflating: train/no_yawn/113.jpg   \n",
            "  inflating: train/no_yawn/1130.jpg  \n",
            "  inflating: train/no_yawn/1131.jpg  \n",
            "  inflating: train/no_yawn/1132.jpg  \n",
            "  inflating: train/no_yawn/1133.jpg  \n",
            "  inflating: train/no_yawn/1134.jpg  \n",
            "  inflating: train/no_yawn/1139.jpg  \n",
            "  inflating: train/no_yawn/114.jpg   \n",
            "  inflating: train/no_yawn/115.jpg   \n",
            "  inflating: train/no_yawn/117.jpg   \n",
            "  inflating: train/no_yawn/1172.jpg  \n",
            "  inflating: train/no_yawn/1173.jpg  \n",
            "  inflating: train/no_yawn/1174.jpg  \n",
            "  inflating: train/no_yawn/1176.jpg  \n",
            "  inflating: train/no_yawn/1177.jpg  \n",
            "  inflating: train/no_yawn/1178.jpg  \n",
            "  inflating: train/no_yawn/1201.jpg  \n",
            "  inflating: train/no_yawn/1202.jpg  \n",
            "  inflating: train/no_yawn/1203.jpg  \n",
            "  inflating: train/no_yawn/1208.jpg  \n",
            "  inflating: train/no_yawn/1209.jpg  \n",
            "  inflating: train/no_yawn/1210.jpg  \n",
            "  inflating: train/no_yawn/1213.jpg  \n",
            "  inflating: train/no_yawn/1214.jpg  \n",
            "  inflating: train/no_yawn/1246.jpg  \n",
            "  inflating: train/no_yawn/1247.jpg  \n",
            "  inflating: train/no_yawn/1248.jpg  \n",
            "  inflating: train/no_yawn/1250.jpg  \n",
            "  inflating: train/no_yawn/1261.jpg  \n",
            "  inflating: train/no_yawn/1266.jpg  \n",
            "  inflating: train/no_yawn/1267.jpg  \n",
            "  inflating: train/no_yawn/1268.jpg  \n",
            "  inflating: train/no_yawn/1269.jpg  \n",
            "  inflating: train/no_yawn/1270.jpg  \n",
            "  inflating: train/no_yawn/1281.jpg  \n",
            "  inflating: train/no_yawn/1282.jpg  \n",
            "  inflating: train/no_yawn/1318.jpg  \n",
            "  inflating: train/no_yawn/1319.jpg  \n",
            "  inflating: train/no_yawn/1320.jpg  \n",
            "  inflating: train/no_yawn/1322.jpg  \n",
            "  inflating: train/no_yawn/1323.jpg  \n",
            "  inflating: train/no_yawn/1324.jpg  \n",
            "  inflating: train/no_yawn/1326.jpg  \n",
            "  inflating: train/no_yawn/1327.jpg  \n",
            "  inflating: train/no_yawn/1332.jpg  \n",
            "  inflating: train/no_yawn/1333.jpg  \n",
            "  inflating: train/no_yawn/1334.jpg  \n",
            "  inflating: train/no_yawn/1356.jpg  \n",
            "  inflating: train/no_yawn/1357.jpg  \n",
            "  inflating: train/no_yawn/1359.jpg  \n",
            "  inflating: train/no_yawn/1362.jpg  \n",
            "  inflating: train/no_yawn/1363.jpg  \n",
            "  inflating: train/no_yawn/1367.jpg  \n",
            "  inflating: train/no_yawn/1368.jpg  \n",
            "  inflating: train/no_yawn/1369.jpg  \n",
            "  inflating: train/no_yawn/1370.jpg  \n",
            "  inflating: train/no_yawn/1371.jpg  \n",
            "  inflating: train/no_yawn/1374.jpg  \n",
            "  inflating: train/no_yawn/1376.jpg  \n",
            "  inflating: train/no_yawn/1378.jpg  \n",
            "  inflating: train/no_yawn/141.jpg   \n",
            "  inflating: train/no_yawn/1411.jpg  \n",
            "  inflating: train/no_yawn/1412.jpg  \n",
            "  inflating: train/no_yawn/1413.jpg  \n",
            "  inflating: train/no_yawn/142.jpg   \n",
            "  inflating: train/no_yawn/144.jpg   \n",
            "  inflating: train/no_yawn/1447.jpg  \n",
            "  inflating: train/no_yawn/1448.jpg  \n",
            "  inflating: train/no_yawn/1449.jpg  \n",
            "  inflating: train/no_yawn/145.jpg   \n",
            "  inflating: train/no_yawn/1450.jpg  \n",
            "  inflating: train/no_yawn/1451.jpg  \n",
            "  inflating: train/no_yawn/1452.jpg  \n",
            "  inflating: train/no_yawn/1459.jpg  \n",
            "  inflating: train/no_yawn/146.jpg   \n",
            "  inflating: train/no_yawn/1460.jpg  \n",
            "  inflating: train/no_yawn/1461.jpg  \n",
            "  inflating: train/no_yawn/1462.jpg  \n",
            "  inflating: train/no_yawn/1463.jpg  \n",
            "  inflating: train/no_yawn/1464.jpg  \n",
            "  inflating: train/no_yawn/147.jpg   \n",
            "  inflating: train/no_yawn/148.jpg   \n",
            "  inflating: train/no_yawn/1486.jpg  \n",
            "  inflating: train/no_yawn/1487.jpg  \n",
            "  inflating: train/no_yawn/149.jpg   \n",
            "  inflating: train/no_yawn/1492.jpg  \n",
            "  inflating: train/no_yawn/1493.jpg  \n",
            "  inflating: train/no_yawn/1496.jpg  \n",
            "  inflating: train/no_yawn/1497.jpg  \n",
            "  inflating: train/no_yawn/1498.jpg  \n",
            "  inflating: train/no_yawn/1499.jpg  \n",
            "  inflating: train/no_yawn/1500.jpg  \n",
            "  inflating: train/no_yawn/1503.jpg  \n",
            "  inflating: train/no_yawn/1507.jpg  \n",
            "  inflating: train/no_yawn/1508.jpg  \n",
            "  inflating: train/no_yawn/1509.jpg  \n",
            "  inflating: train/no_yawn/1510.jpg  \n",
            "  inflating: train/no_yawn/1532.jpg  \n",
            "  inflating: train/no_yawn/1536.jpg  \n",
            "  inflating: train/no_yawn/1537.jpg  \n",
            "  inflating: train/no_yawn/1538.jpg  \n",
            "  inflating: train/no_yawn/1541.jpg  \n",
            "  inflating: train/no_yawn/1542.jpg  \n",
            "  inflating: train/no_yawn/1543.jpg  \n",
            "  inflating: train/no_yawn/1544.jpg  \n",
            "  inflating: train/no_yawn/1558.jpg  \n",
            "  inflating: train/no_yawn/1559.jpg  \n",
            "  inflating: train/no_yawn/1561.jpg  \n",
            "  inflating: train/no_yawn/1562.jpg  \n",
            "  inflating: train/no_yawn/1566.jpg  \n",
            "  inflating: train/no_yawn/1567.jpg  \n",
            "  inflating: train/no_yawn/1570.jpg  \n",
            "  inflating: train/no_yawn/1571.jpg  \n",
            "  inflating: train/no_yawn/1572.jpg  \n",
            "  inflating: train/no_yawn/1573.jpg  \n",
            "  inflating: train/no_yawn/1574.jpg  \n",
            "  inflating: train/no_yawn/1576.jpg  \n",
            "  inflating: train/no_yawn/1592.jpg  \n",
            "  inflating: train/no_yawn/1593.jpg  \n",
            "  inflating: train/no_yawn/1594.jpg  \n",
            "  inflating: train/no_yawn/1596.jpg  \n",
            "  inflating: train/no_yawn/1597.jpg  \n",
            "  inflating: train/no_yawn/1598.jpg  \n",
            "  inflating: train/no_yawn/1599.jpg  \n",
            "  inflating: train/no_yawn/1600.jpg  \n",
            "  inflating: train/no_yawn/1611.jpg  \n",
            "  inflating: train/no_yawn/1627.jpg  \n",
            "  inflating: train/no_yawn/1629.jpg  \n",
            "  inflating: train/no_yawn/1630.jpg  \n",
            "  inflating: train/no_yawn/1641.jpg  \n",
            "  inflating: train/no_yawn/1642.jpg  \n",
            "  inflating: train/no_yawn/1643.jpg  \n",
            "  inflating: train/no_yawn/1647.jpg  \n",
            "  inflating: train/no_yawn/1648.jpg  \n",
            "  inflating: train/no_yawn/1651.jpg  \n",
            "  inflating: train/no_yawn/1652.jpg  \n",
            "  inflating: train/no_yawn/1653.jpg  \n",
            "  inflating: train/no_yawn/1686.jpg  \n",
            "  inflating: train/no_yawn/1689.jpg  \n",
            "  inflating: train/no_yawn/1690.jpg  \n",
            "  inflating: train/no_yawn/1701.jpg  \n",
            "  inflating: train/no_yawn/1703.jpg  \n",
            "  inflating: train/no_yawn/1706.jpg  \n",
            "  inflating: train/no_yawn/1707.jpg  \n",
            "  inflating: train/no_yawn/1708.jpg  \n",
            "  inflating: train/no_yawn/1711.jpg  \n",
            "  inflating: train/no_yawn/1712.jpg  \n",
            "  inflating: train/no_yawn/1714.jpg  \n",
            "  inflating: train/no_yawn/1736.jpg  \n",
            "  inflating: train/no_yawn/1738.jpg  \n",
            "  inflating: train/no_yawn/174.jpg   \n",
            "  inflating: train/no_yawn/1740.jpg  \n",
            "  inflating: train/no_yawn/175.jpg   \n",
            "  inflating: train/no_yawn/176.jpg   \n",
            "  inflating: train/no_yawn/1763.jpg  \n",
            "  inflating: train/no_yawn/1764.jpg  \n",
            "  inflating: train/no_yawn/1766.jpg  \n",
            "  inflating: train/no_yawn/1767.jpg  \n",
            "  inflating: train/no_yawn/1768.jpg  \n",
            "  inflating: train/no_yawn/1769.jpg  \n",
            "  inflating: train/no_yawn/177.jpg   \n",
            "  inflating: train/no_yawn/1771.jpg  \n",
            "  inflating: train/no_yawn/1777.jpg  \n",
            "  inflating: train/no_yawn/1778.jpg  \n",
            "  inflating: train/no_yawn/1779.jpg  \n",
            "  inflating: train/no_yawn/1780.jpg  \n",
            "  inflating: train/no_yawn/1781.jpg  \n",
            "  inflating: train/no_yawn/1782.jpg  \n",
            "  inflating: train/no_yawn/1783.jpg  \n",
            "  inflating: train/no_yawn/1784.jpg  \n",
            "  inflating: train/no_yawn/1788.jpg  \n",
            "  inflating: train/no_yawn/179.jpg   \n",
            "  inflating: train/no_yawn/1802.jpg  \n",
            "  inflating: train/no_yawn/1803.jpg  \n",
            "  inflating: train/no_yawn/1804.jpg  \n",
            "  inflating: train/no_yawn/1816.jpg  \n",
            "  inflating: train/no_yawn/1817.jpg  \n",
            "  inflating: train/no_yawn/1820.jpg  \n",
            "  inflating: train/no_yawn/1851.jpg  \n",
            "  inflating: train/no_yawn/1852.jpg  \n",
            "  inflating: train/no_yawn/1856.jpg  \n",
            "  inflating: train/no_yawn/1857.jpg  \n",
            "  inflating: train/no_yawn/1859.jpg  \n",
            "  inflating: train/no_yawn/1862.jpg  \n",
            "  inflating: train/no_yawn/1863.jpg  \n",
            "  inflating: train/no_yawn/1864.jpg  \n",
            "  inflating: train/no_yawn/1866.jpg  \n",
            "  inflating: train/no_yawn/1867.jpg  \n",
            "  inflating: train/no_yawn/1870.jpg  \n",
            "  inflating: train/no_yawn/1871.jpg  \n",
            "  inflating: train/no_yawn/1874.jpg  \n",
            "  inflating: train/no_yawn/1876.jpg  \n",
            "  inflating: train/no_yawn/1878.jpg  \n",
            "  inflating: train/no_yawn/1879.jpg  \n",
            "  inflating: train/no_yawn/1880.jpg  \n",
            "  inflating: train/no_yawn/1891.jpg  \n",
            "  inflating: train/no_yawn/1893.jpg  \n",
            "  inflating: train/no_yawn/1897.jpg  \n",
            "  inflating: train/no_yawn/1898.jpg  \n",
            "  inflating: train/no_yawn/1899.jpg  \n",
            "  inflating: train/no_yawn/1900.jpg  \n",
            "  inflating: train/no_yawn/1911.jpg  \n",
            "  inflating: train/no_yawn/1913.jpg  \n",
            "  inflating: train/no_yawn/1914.jpg  \n",
            "  inflating: train/no_yawn/1916.jpg  \n",
            "  inflating: train/no_yawn/1931.jpg  \n",
            "  inflating: train/no_yawn/1932.jpg  \n",
            "  inflating: train/no_yawn/1933.jpg  \n",
            "  inflating: train/no_yawn/1934.jpg  \n",
            "  inflating: train/no_yawn/1936.jpg  \n",
            "  inflating: train/no_yawn/1937.jpg  \n",
            "  inflating: train/no_yawn/1938.jpg  \n",
            "  inflating: train/no_yawn/1942.jpg  \n",
            "  inflating: train/no_yawn/1946.jpg  \n",
            "  inflating: train/no_yawn/1947.jpg  \n",
            "  inflating: train/no_yawn/1948.jpg  \n",
            "  inflating: train/no_yawn/1949.jpg  \n",
            "  inflating: train/no_yawn/1950.jpg  \n",
            "  inflating: train/no_yawn/1963.jpg  \n",
            "  inflating: train/no_yawn/1964.jpg  \n",
            "  inflating: train/no_yawn/1966.jpg  \n",
            "  inflating: train/no_yawn/1967.jpg  \n",
            "  inflating: train/no_yawn/1981.jpg  \n",
            "  inflating: train/no_yawn/1982.jpg  \n",
            "  inflating: train/no_yawn/1986.jpg  \n",
            "  inflating: train/no_yawn/1987.jpg  \n",
            "  inflating: train/no_yawn/1988.jpg  \n",
            "  inflating: train/no_yawn/1989.jpg  \n",
            "  inflating: train/no_yawn/1990.jpg  \n",
            "  inflating: train/no_yawn/2.jpg     \n",
            "  inflating: train/no_yawn/2001.jpg  \n",
            "  inflating: train/no_yawn/2004.jpg  \n",
            "  inflating: train/no_yawn/2008.jpg  \n",
            "  inflating: train/no_yawn/2009.jpg  \n",
            "  inflating: train/no_yawn/201.jpg   \n",
            "  inflating: train/no_yawn/2010.jpg  \n",
            "  inflating: train/no_yawn/2011.jpg  \n",
            "  inflating: train/no_yawn/2012.jpg  \n",
            "  inflating: train/no_yawn/2013.jpg  \n",
            "  inflating: train/no_yawn/2014.jpg  \n",
            "  inflating: train/no_yawn/2016.jpg  \n",
            "  inflating: train/no_yawn/202.jpg   \n",
            "  inflating: train/no_yawn/2031.jpg  \n",
            "  inflating: train/no_yawn/2032.jpg  \n",
            "  inflating: train/no_yawn/2033.jpg  \n",
            "  inflating: train/no_yawn/2034.jpg  \n",
            "  inflating: train/no_yawn/205.jpg   \n",
            "  inflating: train/no_yawn/2056.jpg  \n",
            "  inflating: train/no_yawn/2057.jpg  \n",
            "  inflating: train/no_yawn/2058.jpg  \n",
            "  inflating: train/no_yawn/2059.jpg  \n",
            "  inflating: train/no_yawn/206.jpg   \n",
            "  inflating: train/no_yawn/2062.jpg  \n",
            "  inflating: train/no_yawn/2066.jpg  \n",
            "  inflating: train/no_yawn/2067.jpg  \n",
            "  inflating: train/no_yawn/2068.jpg  \n",
            "  inflating: train/no_yawn/2069.jpg  \n",
            "  inflating: train/no_yawn/2070.jpg  \n",
            "  inflating: train/no_yawn/2071.jpg  \n",
            "  inflating: train/no_yawn/2074.jpg  \n",
            "  inflating: train/no_yawn/208.jpg   \n",
            "  inflating: train/no_yawn/2086.jpg  \n",
            "  inflating: train/no_yawn/2087.jpg  \n",
            "  inflating: train/no_yawn/209.jpg   \n",
            "  inflating: train/no_yawn/2090.jpg  \n",
            "  inflating: train/no_yawn/2091.jpg  \n",
            "  inflating: train/no_yawn/2092.jpg  \n",
            "  inflating: train/no_yawn/2093.jpg  \n",
            "  inflating: train/no_yawn/2107.jpg  \n",
            "  inflating: train/no_yawn/2108.jpg  \n",
            "  inflating: train/no_yawn/2109.jpg  \n",
            "  inflating: train/no_yawn/211.jpg   \n",
            "  inflating: train/no_yawn/2110.jpg  \n",
            "  inflating: train/no_yawn/212.jpg   \n",
            "  inflating: train/no_yawn/2121.jpg  \n",
            "  inflating: train/no_yawn/2124.jpg  \n",
            "  inflating: train/no_yawn/2126.jpg  \n",
            "  inflating: train/no_yawn/2129.jpg  \n",
            "  inflating: train/no_yawn/213.jpg   \n",
            "  inflating: train/no_yawn/2130.jpg  \n",
            "  inflating: train/no_yawn/2131.jpg  \n",
            "  inflating: train/no_yawn/2132.jpg  \n",
            "  inflating: train/no_yawn/2133.jpg  \n",
            "  inflating: train/no_yawn/2134.jpg  \n",
            "  inflating: train/no_yawn/2136.jpg  \n",
            "  inflating: train/no_yawn/2151.jpg  \n",
            "  inflating: train/no_yawn/2152.jpg  \n",
            "  inflating: train/no_yawn/2153.jpg  \n",
            "  inflating: train/no_yawn/2154.jpg  \n",
            "  inflating: train/no_yawn/2156.jpg  \n",
            "  inflating: train/no_yawn/2157.jpg  \n",
            "  inflating: train/no_yawn/2158.jpg  \n",
            "  inflating: train/no_yawn/2159.jpg  \n",
            "  inflating: train/no_yawn/2160.jpg  \n",
            "  inflating: train/no_yawn/217.jpg   \n",
            "  inflating: train/no_yawn/218.jpg   \n",
            "  inflating: train/no_yawn/219.jpg   \n",
            "  inflating: train/no_yawn/2196.jpg  \n",
            "  inflating: train/no_yawn/2197.jpg  \n",
            "  inflating: train/no_yawn/2198.jpg  \n",
            "  inflating: train/no_yawn/2199.jpg  \n",
            "  inflating: train/no_yawn/2200.jpg  \n",
            "  inflating: train/no_yawn/2201.jpg  \n",
            "  inflating: train/no_yawn/2202.jpg  \n",
            "  inflating: train/no_yawn/221.jpg   \n",
            "  inflating: train/no_yawn/2216.jpg  \n",
            "  inflating: train/no_yawn/2217.jpg  \n",
            "  inflating: train/no_yawn/2220.jpg  \n",
            "  inflating: train/no_yawn/2221.jpg  \n",
            "  inflating: train/no_yawn/2222.jpg  \n",
            "  inflating: train/no_yawn/2223.jpg  \n",
            "  inflating: train/no_yawn/2224.jpg  \n",
            "  inflating: train/no_yawn/2228.jpg  \n",
            "  inflating: train/no_yawn/2229.jpg  \n",
            "  inflating: train/no_yawn/223.jpg   \n",
            "  inflating: train/no_yawn/2230.jpg  \n",
            "  inflating: train/no_yawn/224.jpg   \n",
            "  inflating: train/no_yawn/2241.jpg  \n",
            "  inflating: train/no_yawn/2244.jpg  \n",
            "  inflating: train/no_yawn/2246.jpg  \n",
            "  inflating: train/no_yawn/2247.jpg  \n",
            "  inflating: train/no_yawn/225.jpg   \n",
            "  inflating: train/no_yawn/2250.jpg  \n",
            "  inflating: train/no_yawn/2251.jpg  \n",
            "  inflating: train/no_yawn/2252.jpg  \n",
            "  inflating: train/no_yawn/2253.jpg  \n",
            "  inflating: train/no_yawn/2254.jpg  \n",
            "  inflating: train/no_yawn/2256.jpg  \n",
            "  inflating: train/no_yawn/2259.jpg  \n",
            "  inflating: train/no_yawn/226.jpg   \n",
            "  inflating: train/no_yawn/2282.jpg  \n",
            "  inflating: train/no_yawn/2283.jpg  \n",
            "  inflating: train/no_yawn/2284.jpg  \n",
            "  inflating: train/no_yawn/2286.jpg  \n",
            "  inflating: train/no_yawn/2287.jpg  \n",
            "  inflating: train/no_yawn/2288.jpg  \n",
            "  inflating: train/no_yawn/2289.jpg  \n",
            "  inflating: train/no_yawn/229.jpg   \n",
            "  inflating: train/no_yawn/2290.jpg  \n",
            "  inflating: train/no_yawn/2296.jpg  \n",
            "  inflating: train/no_yawn/2297.jpg  \n",
            "  inflating: train/no_yawn/2298.jpg  \n",
            "  inflating: train/no_yawn/2299.jpg  \n",
            "  inflating: train/no_yawn/2300.jpg  \n",
            "  inflating: train/no_yawn/231.jpg   \n",
            "  inflating: train/no_yawn/2311.jpg  \n",
            "  inflating: train/no_yawn/2312.jpg  \n",
            "  inflating: train/no_yawn/2313.jpg  \n",
            "  inflating: train/no_yawn/2327.jpg  \n",
            "  inflating: train/no_yawn/233.jpg   \n",
            "  inflating: train/no_yawn/2330.jpg  \n",
            "  inflating: train/no_yawn/234.jpg   \n",
            "  inflating: train/no_yawn/2341.jpg  \n",
            "  inflating: train/no_yawn/2342.jpg  \n",
            "  inflating: train/no_yawn/2343.jpg  \n",
            "  inflating: train/no_yawn/2344.jpg  \n",
            "  inflating: train/no_yawn/2346.jpg  \n",
            "  inflating: train/no_yawn/2349.jpg  \n",
            "  inflating: train/no_yawn/235.jpg   \n",
            "  inflating: train/no_yawn/2350.jpg  \n",
            "  inflating: train/no_yawn/2351.jpg  \n",
            "  inflating: train/no_yawn/2354.jpg  \n",
            "  inflating: train/no_yawn/2356.jpg  \n",
            "  inflating: train/no_yawn/2357.jpg  \n",
            "  inflating: train/no_yawn/2358.jpg  \n",
            "  inflating: train/no_yawn/237.jpg   \n",
            "  inflating: train/no_yawn/2371.jpg  \n",
            "  inflating: train/no_yawn/2372.jpg  \n",
            "  inflating: train/no_yawn/2373.jpg  \n",
            "  inflating: train/no_yawn/2374.jpg  \n",
            "  inflating: train/no_yawn/238.jpg   \n",
            "  inflating: train/no_yawn/2396.jpg  \n",
            "  inflating: train/no_yawn/2399.jpg  \n",
            "  inflating: train/no_yawn/24.jpg    \n",
            "  inflating: train/no_yawn/2400.jpg  \n",
            "  inflating: train/no_yawn/2403.jpg  \n",
            "  inflating: train/no_yawn/2404.jpg  \n",
            "  inflating: train/no_yawn/2406.jpg  \n",
            "  inflating: train/no_yawn/2407.jpg  \n",
            "  inflating: train/no_yawn/2408.jpg  \n",
            "  inflating: train/no_yawn/2409.jpg  \n",
            "  inflating: train/no_yawn/2410.jpg  \n",
            "  inflating: train/no_yawn/2426.jpg  \n",
            "  inflating: train/no_yawn/2427.jpg  \n",
            "  inflating: train/no_yawn/2428.jpg  \n",
            "  inflating: train/no_yawn/2429.jpg  \n",
            "  inflating: train/no_yawn/2430.jpg  \n",
            "  inflating: train/no_yawn/2431.jpg  \n",
            "  inflating: train/no_yawn/2432.jpg  \n",
            "  inflating: train/no_yawn/2433.jpg  \n",
            "  inflating: train/no_yawn/2434.jpg  \n",
            "  inflating: train/no_yawn/2440.jpg  \n",
            "  inflating: train/no_yawn/2461.jpg  \n",
            "  inflating: train/no_yawn/2462.jpg  \n",
            "  inflating: train/no_yawn/2463.jpg  \n",
            "  inflating: train/no_yawn/2464.jpg  \n",
            "  inflating: train/no_yawn/2466.jpg  \n",
            "  inflating: train/no_yawn/2467.jpg  \n",
            "  inflating: train/no_yawn/2470.jpg  \n",
            "  inflating: train/no_yawn/2471.jpg  \n",
            "  inflating: train/no_yawn/2474.jpg  \n",
            "  inflating: train/no_yawn/2476.jpg  \n",
            "  inflating: train/no_yawn/2477.jpg  \n",
            "  inflating: train/no_yawn/2478.jpg  \n",
            "  inflating: train/no_yawn/2479.jpg  \n",
            "  inflating: train/no_yawn/2482.jpg  \n",
            "  inflating: train/no_yawn/2483.jpg  \n",
            "  inflating: train/no_yawn/2484.jpg  \n",
            "  inflating: train/no_yawn/2496.jpg  \n",
            "  inflating: train/no_yawn/2499.jpg  \n",
            "  inflating: train/no_yawn/25.jpg    \n",
            "  inflating: train/no_yawn/2500.jpg  \n",
            "  inflating: train/no_yawn/2511.jpg  \n",
            "  inflating: train/no_yawn/2513.jpg  \n",
            "  inflating: train/no_yawn/2514.jpg  \n",
            "  inflating: train/no_yawn/2516.jpg  \n",
            "  inflating: train/no_yawn/2517.jpg  \n",
            "  inflating: train/no_yawn/2518.jpg  \n",
            "  inflating: train/no_yawn/2519.jpg  \n",
            "  inflating: train/no_yawn/253.jpg   \n",
            "  inflating: train/no_yawn/2532.jpg  \n",
            "  inflating: train/no_yawn/2534.jpg  \n",
            "  inflating: train/no_yawn/2536.jpg  \n",
            "  inflating: train/no_yawn/2537.jpg  \n",
            "  inflating: train/no_yawn/2538.jpg  \n",
            "  inflating: train/no_yawn/2539.jpg  \n",
            "  inflating: train/no_yawn/254.jpg   \n",
            "  inflating: train/no_yawn/2540.jpg  \n",
            "  inflating: train/no_yawn/2541.jpg  \n",
            "  inflating: train/no_yawn/2542.jpg  \n",
            "  inflating: train/no_yawn/2547.jpg  \n",
            "  inflating: train/no_yawn/2548.jpg  \n",
            "  inflating: train/no_yawn/2549.jpg  \n",
            "  inflating: train/no_yawn/255.jpg   \n",
            "  inflating: train/no_yawn/2550.jpg  \n",
            "  inflating: train/no_yawn/256.jpg   \n",
            "  inflating: train/no_yawn/257.jpg   \n",
            "  inflating: train/no_yawn/2571.jpg  \n",
            "  inflating: train/no_yawn/2572.jpg  \n",
            "  inflating: train/no_yawn/2573.jpg  \n",
            "  inflating: train/no_yawn/2574.jpg  \n",
            "  inflating: train/no_yawn/2577.jpg  \n",
            "  inflating: train/no_yawn/2580.jpg  \n",
            "  inflating: train/no_yawn/2581.jpg  \n",
            "  inflating: train/no_yawn/2582.jpg  \n",
            "  inflating: train/no_yawn/2583.jpg  \n",
            "  inflating: train/no_yawn/2584.jpg  \n",
            "  inflating: train/no_yawn/2586.jpg  \n",
            "  inflating: train/no_yawn/2588.jpg  \n",
            "  inflating: train/no_yawn/2589.jpg  \n",
            "  inflating: train/no_yawn/259.jpg   \n",
            "  inflating: train/no_yawn/2590.jpg  \n",
            "  inflating: train/no_yawn/26.jpg    \n",
            "  inflating: train/no_yawn/2603.jpg  \n",
            "  inflating: train/no_yawn/2604.jpg  \n",
            "  inflating: train/no_yawn/2606.jpg  \n",
            "  inflating: train/no_yawn/2607.jpg  \n",
            "  inflating: train/no_yawn/2609.jpg  \n",
            "  inflating: train/no_yawn/2610.jpg  \n",
            "  inflating: train/no_yawn/2621.jpg  \n",
            "  inflating: train/no_yawn/2622.jpg  \n",
            "  inflating: train/no_yawn/2623.jpg  \n",
            "  inflating: train/no_yawn/27.jpg    \n",
            "  inflating: train/no_yawn/271.jpg   \n",
            "  inflating: train/no_yawn/276.jpg   \n",
            "  inflating: train/no_yawn/277.jpg   \n",
            "  inflating: train/no_yawn/278.jpg   \n",
            "  inflating: train/no_yawn/279.jpg   \n",
            "  inflating: train/no_yawn/28.jpg    \n",
            "  inflating: train/no_yawn/29.jpg    \n",
            "  inflating: train/no_yawn/291.jpg   \n",
            "  inflating: train/no_yawn/292.jpg   \n",
            "  inflating: train/no_yawn/293.jpg   \n",
            "  inflating: train/no_yawn/295.jpg   \n",
            "  inflating: train/no_yawn/299.jpg   \n",
            "  inflating: train/no_yawn/3.jpg     \n",
            "  inflating: train/no_yawn/312.jpg   \n",
            "  inflating: train/no_yawn/313.jpg   \n",
            "  inflating: train/no_yawn/314.jpg   \n",
            "  inflating: train/no_yawn/315.jpg   \n",
            "  inflating: train/no_yawn/316.jpg   \n",
            "  inflating: train/no_yawn/317.jpg   \n",
            "  inflating: train/no_yawn/318.jpg   \n",
            "  inflating: train/no_yawn/332.jpg   \n",
            "  inflating: train/no_yawn/333.jpg   \n",
            "  inflating: train/no_yawn/336.jpg   \n",
            "  inflating: train/no_yawn/371.jpg   \n",
            "  inflating: train/no_yawn/372.jpg   \n",
            "  inflating: train/no_yawn/373.jpg   \n",
            "  inflating: train/no_yawn/375.jpg   \n",
            "  inflating: train/no_yawn/378.jpg   \n",
            "  inflating: train/no_yawn/379.jpg   \n",
            "  inflating: train/no_yawn/380.jpg   \n",
            "  inflating: train/no_yawn/4.jpg     \n",
            "  inflating: train/no_yawn/411.jpg   \n",
            "  inflating: train/no_yawn/412.jpg   \n",
            "  inflating: train/no_yawn/416.jpg   \n",
            "  inflating: train/no_yawn/417.jpg   \n",
            "  inflating: train/no_yawn/420.jpg   \n",
            "  inflating: train/no_yawn/431.jpg   \n",
            "  inflating: train/no_yawn/432.jpg   \n",
            "  inflating: train/no_yawn/433.jpg   \n",
            "  inflating: train/no_yawn/435.jpg   \n",
            "  inflating: train/no_yawn/436.jpg   \n",
            "  inflating: train/no_yawn/437.jpg   \n",
            "  inflating: train/no_yawn/439.jpg   \n",
            "  inflating: train/no_yawn/443.jpg   \n",
            "  inflating: train/no_yawn/445.jpg   \n",
            "  inflating: train/no_yawn/446.jpg   \n",
            "  inflating: train/no_yawn/447.jpg   \n",
            "  inflating: train/no_yawn/448.jpg   \n",
            "  inflating: train/no_yawn/449.jpg   \n",
            "  inflating: train/no_yawn/450.jpg   \n",
            "  inflating: train/no_yawn/461.jpg   \n",
            "  inflating: train/no_yawn/466.jpg   \n",
            "  inflating: train/no_yawn/467.jpg   \n",
            "  inflating: train/no_yawn/469.jpg   \n",
            "  inflating: train/no_yawn/470.jpg   \n",
            "  inflating: train/no_yawn/481.jpg   \n",
            "  inflating: train/no_yawn/482.jpg   \n",
            "  inflating: train/no_yawn/483.jpg   \n",
            "  inflating: train/no_yawn/487.jpg   \n",
            "  inflating: train/no_yawn/488.jpg   \n",
            "  inflating: train/no_yawn/490.jpg   \n",
            "  inflating: train/no_yawn/5.jpg     \n",
            "  inflating: train/no_yawn/501.jpg   \n",
            "  inflating: train/no_yawn/502.jpg   \n",
            "  inflating: train/no_yawn/505.jpg   \n",
            "  inflating: train/no_yawn/507.jpg   \n",
            "  inflating: train/no_yawn/509.jpg   \n",
            "  inflating: train/no_yawn/51.jpg    \n",
            "  inflating: train/no_yawn/510.jpg   \n",
            "  inflating: train/no_yawn/521.jpg   \n",
            "  inflating: train/no_yawn/522.jpg   \n",
            "  inflating: train/no_yawn/525.jpg   \n",
            "  inflating: train/no_yawn/526.jpg   \n",
            "  inflating: train/no_yawn/528.jpg   \n",
            "  inflating: train/no_yawn/529.jpg   \n",
            "  inflating: train/no_yawn/54.jpg    \n",
            "  inflating: train/no_yawn/542.jpg   \n",
            "  inflating: train/no_yawn/543.jpg   \n",
            "  inflating: train/no_yawn/546.jpg   \n",
            "  inflating: train/no_yawn/547.jpg   \n",
            "  inflating: train/no_yawn/548.jpg   \n",
            "  inflating: train/no_yawn/551.jpg   \n",
            "  inflating: train/no_yawn/552.jpg   \n",
            "  inflating: train/no_yawn/555.jpg   \n",
            "  inflating: train/no_yawn/557.jpg   \n",
            "  inflating: train/no_yawn/558.jpg   \n",
            "  inflating: train/no_yawn/56.jpg    \n",
            "  inflating: train/no_yawn/560.jpg   \n",
            "  inflating: train/no_yawn/571.jpg   \n",
            "  inflating: train/no_yawn/572.jpg   \n",
            "  inflating: train/no_yawn/573.jpg   \n",
            "  inflating: train/no_yawn/578.jpg   \n",
            "  inflating: train/no_yawn/579.jpg   \n",
            "  inflating: train/no_yawn/58.jpg    \n",
            "  inflating: train/no_yawn/580.jpg   \n",
            "  inflating: train/no_yawn/6.jpg     \n",
            "  inflating: train/no_yawn/601.jpg   \n",
            "  inflating: train/no_yawn/602.jpg   \n",
            "  inflating: train/no_yawn/603.jpg   \n",
            "  inflating: train/no_yawn/606.jpg   \n",
            "  inflating: train/no_yawn/607.jpg   \n",
            "  inflating: train/no_yawn/610.jpg   \n",
            "  inflating: train/no_yawn/612.jpg   \n",
            "  inflating: train/no_yawn/613.jpg   \n",
            "  inflating: train/no_yawn/615.jpg   \n",
            "  inflating: train/no_yawn/616.jpg   \n",
            "  inflating: train/no_yawn/617.jpg   \n",
            "  inflating: train/no_yawn/618.jpg   \n",
            "  inflating: train/no_yawn/619.jpg   \n",
            "  inflating: train/no_yawn/623.jpg   \n",
            "  inflating: train/no_yawn/635.jpg   \n",
            "  inflating: train/no_yawn/638.jpg   \n",
            "  inflating: train/no_yawn/639.jpg   \n",
            "  inflating: train/no_yawn/640.jpg   \n",
            "  inflating: train/no_yawn/641.jpg   \n",
            "  inflating: train/no_yawn/645.jpg   \n",
            "  inflating: train/no_yawn/646.jpg   \n",
            "  inflating: train/no_yawn/647.jpg   \n",
            "  inflating: train/no_yawn/648.jpg   \n",
            "  inflating: train/no_yawn/652.jpg   \n",
            "  inflating: train/no_yawn/653.jpg   \n",
            "  inflating: train/no_yawn/657.jpg   \n",
            "  inflating: train/no_yawn/658.jpg   \n",
            "  inflating: train/no_yawn/659.jpg   \n",
            "  inflating: train/no_yawn/660.jpg   \n",
            "  inflating: train/no_yawn/681.jpg   \n",
            "  inflating: train/no_yawn/682.jpg   \n",
            "  inflating: train/no_yawn/683.jpg   \n",
            "  inflating: train/no_yawn/689.jpg   \n",
            "  inflating: train/no_yawn/7.jpg     \n",
            "  inflating: train/no_yawn/701.jpg   \n",
            "  inflating: train/no_yawn/702.jpg   \n",
            "  inflating: train/no_yawn/703.jpg   \n",
            "  inflating: train/no_yawn/71.jpg    \n",
            "  inflating: train/no_yawn/72.jpg    \n",
            "  inflating: train/no_yawn/725.jpg   \n",
            "  inflating: train/no_yawn/726.jpg   \n",
            "  inflating: train/no_yawn/728.jpg   \n",
            "  inflating: train/no_yawn/729.jpg   \n",
            "  inflating: train/no_yawn/73.jpg    \n",
            "  inflating: train/no_yawn/733.jpg   \n",
            "  inflating: train/no_yawn/755.jpg   \n",
            "  inflating: train/no_yawn/756.jpg   \n",
            "  inflating: train/no_yawn/758.jpg   \n",
            "  inflating: train/no_yawn/76.jpg    \n",
            "  inflating: train/no_yawn/760.jpg   \n",
            "  inflating: train/no_yawn/77.jpg    \n",
            "  inflating: train/no_yawn/771.jpg   \n",
            "  inflating: train/no_yawn/773.jpg   \n",
            "  inflating: train/no_yawn/775.jpg   \n",
            "  inflating: train/no_yawn/778.jpg   \n",
            "  inflating: train/no_yawn/779.jpg   \n",
            "  inflating: train/no_yawn/78.jpg    \n",
            "  inflating: train/no_yawn/780.jpg   \n",
            "  inflating: train/no_yawn/781.jpg   \n",
            "  inflating: train/no_yawn/782.jpg   \n",
            "  inflating: train/no_yawn/786.jpg   \n",
            "  inflating: train/no_yawn/787.jpg   \n",
            "  inflating: train/no_yawn/788.jpg   \n",
            "  inflating: train/no_yawn/79.jpg    \n",
            "  inflating: train/no_yawn/791.jpg   \n",
            "  inflating: train/no_yawn/792.jpg   \n",
            "  inflating: train/no_yawn/793.jpg   \n",
            "  inflating: train/no_yawn/8.jpg     \n",
            "  inflating: train/no_yawn/828.jpg   \n",
            "  inflating: train/no_yawn/829.jpg   \n",
            "  inflating: train/no_yawn/830.jpg   \n",
            "  inflating: train/no_yawn/831.jpg   \n",
            "  inflating: train/no_yawn/833.jpg   \n",
            "  inflating: train/no_yawn/837.jpg   \n",
            "  inflating: train/no_yawn/840.jpg   \n",
            "  inflating: train/no_yawn/851.jpg   \n",
            "  inflating: train/no_yawn/852.jpg   \n",
            "  inflating: train/no_yawn/853.jpg   \n",
            "  inflating: train/no_yawn/854.jpg   \n",
            "  inflating: train/no_yawn/866.jpg   \n",
            "  inflating: train/no_yawn/867.jpg   \n",
            "  inflating: train/no_yawn/868.jpg   \n",
            "  inflating: train/no_yawn/884.jpg   \n",
            "  inflating: train/no_yawn/896.jpg   \n",
            "  inflating: train/no_yawn/897.jpg   \n",
            "  inflating: train/no_yawn/898.jpg   \n",
            "  inflating: train/no_yawn/899.jpg   \n",
            "  inflating: train/no_yawn/9.jpg     \n",
            "  inflating: train/no_yawn/900.jpg   \n",
            "  inflating: train/no_yawn/91.jpg    \n",
            "  inflating: train/no_yawn/911.jpg   \n",
            "  inflating: train/no_yawn/914.jpg   \n",
            "  inflating: train/no_yawn/918.jpg   \n",
            "  inflating: train/no_yawn/919.jpg   \n",
            "  inflating: train/no_yawn/93.jpg    \n",
            "  inflating: train/no_yawn/931.jpg   \n",
            "  inflating: train/no_yawn/932.jpg   \n",
            "  inflating: train/no_yawn/933.jpg   \n",
            "  inflating: train/no_yawn/94.jpg    \n",
            "  inflating: train/no_yawn/957.jpg   \n",
            "  inflating: train/no_yawn/958.jpg   \n",
            "  inflating: train/no_yawn/959.jpg   \n",
            "  inflating: train/no_yawn/962.jpg   \n",
            "  inflating: train/no_yawn/963.jpg   \n",
            "  inflating: train/no_yawn/964.jpg   \n",
            "  inflating: train/no_yawn/976.jpg   \n",
            "  inflating: train/no_yawn/98.jpg    \n",
            "  inflating: train/no_yawn/980.jpg   \n",
            "  inflating: train/no_yawn/981.jpg   \n",
            "  inflating: train/no_yawn/982.jpg   \n",
            "  inflating: train/no_yawn/983.jpg   \n",
            "  inflating: train/no_yawn/987.jpg   \n",
            "  inflating: train/no_yawn/988.jpg   \n",
            "  inflating: train/no_yawn/99.jpg    \n",
            "  inflating: train/no_yawn/991.jpg   \n",
            "  inflating: train/no_yawn/992.jpg   \n",
            "  inflating: train/no_yawn/993.jpg   \n",
            "  inflating: train/no_yawn/994.jpg   \n",
            "  inflating: train/no_yawn/997.jpg   \n",
            "  inflating: train/no_yawn/998.jpg   \n",
            "  inflating: train/yawn/1.jpg        \n",
            "  inflating: train/yawn/10.jpg       \n",
            "  inflating: train/yawn/100.jpg      \n",
            "  inflating: train/yawn/101.jpg      \n",
            "  inflating: train/yawn/102.jpg      \n",
            "  inflating: train/yawn/103.jpg      \n",
            "  inflating: train/yawn/104.jpg      \n",
            "  inflating: train/yawn/105.jpg      \n",
            "  inflating: train/yawn/106.jpg      \n",
            "  inflating: train/yawn/107.jpg      \n",
            "  inflating: train/yawn/108.jpg      \n",
            "  inflating: train/yawn/109.jpg      \n",
            "  inflating: train/yawn/11.jpg       \n",
            "  inflating: train/yawn/110.jpg      \n",
            "  inflating: train/yawn/111.jpg      \n",
            "  inflating: train/yawn/112.jpg      \n",
            "  inflating: train/yawn/113.jpg      \n",
            "  inflating: train/yawn/114.jpg      \n",
            "  inflating: train/yawn/115.jpg      \n",
            "  inflating: train/yawn/116.jpg      \n",
            "  inflating: train/yawn/117.jpg      \n",
            "  inflating: train/yawn/118.jpg      \n",
            "  inflating: train/yawn/119.jpg      \n",
            "  inflating: train/yawn/12.jpg       \n",
            "  inflating: train/yawn/120.jpg      \n",
            "  inflating: train/yawn/121.jpg      \n",
            "  inflating: train/yawn/122.jpg      \n",
            "  inflating: train/yawn/123.jpg      \n",
            "  inflating: train/yawn/124.jpg      \n",
            "  inflating: train/yawn/125.jpg      \n",
            "  inflating: train/yawn/126.jpg      \n",
            "  inflating: train/yawn/127.jpg      \n",
            "  inflating: train/yawn/128.jpg      \n",
            "  inflating: train/yawn/129.jpg      \n",
            "  inflating: train/yawn/13.jpg       \n",
            "  inflating: train/yawn/130.jpg      \n",
            "  inflating: train/yawn/131.jpg      \n",
            "  inflating: train/yawn/132.jpg      \n",
            "  inflating: train/yawn/133.jpg      \n",
            "  inflating: train/yawn/134.jpg      \n",
            "  inflating: train/yawn/135.jpg      \n",
            "  inflating: train/yawn/136.jpg      \n",
            "  inflating: train/yawn/137.jpg      \n",
            "  inflating: train/yawn/138.jpg      \n",
            "  inflating: train/yawn/139.jpg      \n",
            "  inflating: train/yawn/14.jpg       \n",
            "  inflating: train/yawn/140.jpg      \n",
            "  inflating: train/yawn/141.jpg      \n",
            "  inflating: train/yawn/142.jpg      \n",
            "  inflating: train/yawn/143.jpg      \n",
            "  inflating: train/yawn/144.jpg      \n",
            "  inflating: train/yawn/145.jpg      \n",
            "  inflating: train/yawn/146.jpg      \n",
            "  inflating: train/yawn/147.jpg      \n",
            "  inflating: train/yawn/148.jpg      \n",
            "  inflating: train/yawn/149.jpg      \n",
            "  inflating: train/yawn/15.jpg       \n",
            "  inflating: train/yawn/150.jpg      \n",
            "  inflating: train/yawn/151.jpg      \n",
            "  inflating: train/yawn/152.jpg      \n",
            "  inflating: train/yawn/153.jpg      \n",
            "  inflating: train/yawn/154.jpg      \n",
            "  inflating: train/yawn/155.jpg      \n",
            "  inflating: train/yawn/156.jpg      \n",
            "  inflating: train/yawn/157.jpg      \n",
            "  inflating: train/yawn/158.jpg      \n",
            "  inflating: train/yawn/159.jpg      \n",
            "  inflating: train/yawn/16.jpg       \n",
            "  inflating: train/yawn/160.jpg      \n",
            "  inflating: train/yawn/161.jpg      \n",
            "  inflating: train/yawn/162.jpg      \n",
            "  inflating: train/yawn/163.jpg      \n",
            "  inflating: train/yawn/164.jpg      \n",
            "  inflating: train/yawn/165.jpg      \n",
            "  inflating: train/yawn/166.jpg      \n",
            "  inflating: train/yawn/167.jpg      \n",
            "  inflating: train/yawn/168.jpg      \n",
            "  inflating: train/yawn/169.jpg      \n",
            "  inflating: train/yawn/17.jpg       \n",
            "  inflating: train/yawn/170.jpg      \n",
            "  inflating: train/yawn/171.jpg      \n",
            "  inflating: train/yawn/172.jpg      \n",
            "  inflating: train/yawn/173.jpg      \n",
            "  inflating: train/yawn/174.jpg      \n",
            "  inflating: train/yawn/175.jpg      \n",
            "  inflating: train/yawn/176.jpg      \n",
            "  inflating: train/yawn/177.jpg      \n",
            "  inflating: train/yawn/178.jpg      \n",
            "  inflating: train/yawn/179.jpg      \n",
            "  inflating: train/yawn/18.jpg       \n",
            "  inflating: train/yawn/180.jpg      \n",
            "  inflating: train/yawn/181.jpg      \n",
            "  inflating: train/yawn/182.jpg      \n",
            "  inflating: train/yawn/183.jpg      \n",
            "  inflating: train/yawn/184.jpg      \n",
            "  inflating: train/yawn/185.jpg      \n",
            "  inflating: train/yawn/186.jpg      \n",
            "  inflating: train/yawn/187.jpg      \n",
            "  inflating: train/yawn/188.jpg      \n",
            "  inflating: train/yawn/189.jpg      \n",
            "  inflating: train/yawn/19.jpg       \n",
            "  inflating: train/yawn/190.jpg      \n",
            "  inflating: train/yawn/191.jpg      \n",
            "  inflating: train/yawn/192.jpg      \n",
            "  inflating: train/yawn/193.jpg      \n",
            "  inflating: train/yawn/194.jpg      \n",
            "  inflating: train/yawn/195.jpg      \n",
            "  inflating: train/yawn/196.jpg      \n",
            "  inflating: train/yawn/197.jpg      \n",
            "  inflating: train/yawn/198.jpg      \n",
            "  inflating: train/yawn/199.jpg      \n",
            "  inflating: train/yawn/2.jpg        \n",
            "  inflating: train/yawn/20.jpg       \n",
            "  inflating: train/yawn/200.jpg      \n",
            "  inflating: train/yawn/201.jpg      \n",
            "  inflating: train/yawn/202.jpg      \n",
            "  inflating: train/yawn/203.jpg      \n",
            "  inflating: train/yawn/204.jpg      \n",
            "  inflating: train/yawn/205.jpg      \n",
            "  inflating: train/yawn/206.jpg      \n",
            "  inflating: train/yawn/207.jpg      \n",
            "  inflating: train/yawn/208.jpg      \n",
            "  inflating: train/yawn/209.jpg      \n",
            "  inflating: train/yawn/21.jpg       \n",
            "  inflating: train/yawn/210.jpg      \n",
            "  inflating: train/yawn/211.jpg      \n",
            "  inflating: train/yawn/212.jpg      \n",
            "  inflating: train/yawn/213.jpg      \n",
            "  inflating: train/yawn/214.jpg      \n",
            "  inflating: train/yawn/215.jpg      \n",
            "  inflating: train/yawn/216.jpg      \n",
            "  inflating: train/yawn/217.jpg      \n",
            "  inflating: train/yawn/218.jpg      \n",
            "  inflating: train/yawn/219.jpg      \n",
            "  inflating: train/yawn/22.jpg       \n",
            "  inflating: train/yawn/220.jpg      \n",
            "  inflating: train/yawn/221.jpg      \n",
            "  inflating: train/yawn/222.jpg      \n",
            "  inflating: train/yawn/223.jpg      \n",
            "  inflating: train/yawn/224.jpg      \n",
            "  inflating: train/yawn/225.jpg      \n",
            "  inflating: train/yawn/226.jpg      \n",
            "  inflating: train/yawn/227.jpg      \n",
            "  inflating: train/yawn/228.jpg      \n",
            "  inflating: train/yawn/229.jpg      \n",
            "  inflating: train/yawn/23.jpg       \n",
            "  inflating: train/yawn/230.jpg      \n",
            "  inflating: train/yawn/231.jpg      \n",
            "  inflating: train/yawn/232.jpg      \n",
            "  inflating: train/yawn/233.jpg      \n",
            "  inflating: train/yawn/234.jpg      \n",
            "  inflating: train/yawn/235.jpg      \n",
            "  inflating: train/yawn/236.jpg      \n",
            "  inflating: train/yawn/237.jpg      \n",
            "  inflating: train/yawn/238.jpg      \n",
            "  inflating: train/yawn/239.jpg      \n",
            "  inflating: train/yawn/24.jpg       \n",
            "  inflating: train/yawn/240.jpg      \n",
            "  inflating: train/yawn/241.jpg      \n",
            "  inflating: train/yawn/242.jpg      \n",
            "  inflating: train/yawn/243.jpg      \n",
            "  inflating: train/yawn/244.jpg      \n",
            "  inflating: train/yawn/245.jpg      \n",
            "  inflating: train/yawn/246.jpg      \n",
            "  inflating: train/yawn/247.jpg      \n",
            "  inflating: train/yawn/248.jpg      \n",
            "  inflating: train/yawn/249.jpg      \n",
            "  inflating: train/yawn/25.jpg       \n",
            "  inflating: train/yawn/250.jpg      \n",
            "  inflating: train/yawn/251.jpg      \n",
            "  inflating: train/yawn/252.jpg      \n",
            "  inflating: train/yawn/253.jpg      \n",
            "  inflating: train/yawn/254.jpg      \n",
            "  inflating: train/yawn/255.jpg      \n",
            "  inflating: train/yawn/256.jpg      \n",
            "  inflating: train/yawn/257.jpg      \n",
            "  inflating: train/yawn/258.jpg      \n",
            "  inflating: train/yawn/259.jpg      \n",
            "  inflating: train/yawn/26.jpg       \n",
            "  inflating: train/yawn/260.jpg      \n",
            "  inflating: train/yawn/261.jpg      \n",
            "  inflating: train/yawn/262.jpg      \n",
            "  inflating: train/yawn/263.jpg      \n",
            "  inflating: train/yawn/264.jpg      \n",
            "  inflating: train/yawn/265.jpg      \n",
            "  inflating: train/yawn/266.jpg      \n",
            "  inflating: train/yawn/267.jpg      \n",
            "  inflating: train/yawn/268.jpg      \n",
            "  inflating: train/yawn/269.jpg      \n",
            "  inflating: train/yawn/27.jpg       \n",
            "  inflating: train/yawn/270.jpg      \n",
            "  inflating: train/yawn/271.jpg      \n",
            "  inflating: train/yawn/272.jpg      \n",
            "  inflating: train/yawn/273.jpg      \n",
            "  inflating: train/yawn/274.jpg      \n",
            "  inflating: train/yawn/275.jpg      \n",
            "  inflating: train/yawn/276.jpg      \n",
            "  inflating: train/yawn/277.jpg      \n",
            "  inflating: train/yawn/278.jpg      \n",
            "  inflating: train/yawn/279.jpg      \n",
            "  inflating: train/yawn/28.jpg       \n",
            "  inflating: train/yawn/280.jpg      \n",
            "  inflating: train/yawn/281.jpg      \n",
            "  inflating: train/yawn/282.jpg      \n",
            "  inflating: train/yawn/283.jpg      \n",
            "  inflating: train/yawn/284.jpg      \n",
            "  inflating: train/yawn/285.jpg      \n",
            "  inflating: train/yawn/286.jpg      \n",
            "  inflating: train/yawn/287.jpg      \n",
            "  inflating: train/yawn/288.jpg      \n",
            "  inflating: train/yawn/289.jpg      \n",
            "  inflating: train/yawn/29.jpg       \n",
            "  inflating: train/yawn/290.jpg      \n",
            "  inflating: train/yawn/291.jpg      \n",
            "  inflating: train/yawn/292.jpg      \n",
            "  inflating: train/yawn/293.jpg      \n",
            "  inflating: train/yawn/294.jpg      \n",
            "  inflating: train/yawn/295.jpg      \n",
            "  inflating: train/yawn/296.jpg      \n",
            "  inflating: train/yawn/297.jpg      \n",
            "  inflating: train/yawn/298.jpg      \n",
            "  inflating: train/yawn/299.jpg      \n",
            "  inflating: train/yawn/3.jpg        \n",
            "  inflating: train/yawn/30.jpg       \n",
            "  inflating: train/yawn/300.jpg      \n",
            "  inflating: train/yawn/301.jpg      \n",
            "  inflating: train/yawn/302.jpg      \n",
            "  inflating: train/yawn/303.jpg      \n",
            "  inflating: train/yawn/304.jpg      \n",
            "  inflating: train/yawn/305.jpg      \n",
            "  inflating: train/yawn/306.jpg      \n",
            "  inflating: train/yawn/307.jpg      \n",
            "  inflating: train/yawn/308.jpg      \n",
            "  inflating: train/yawn/309.jpg      \n",
            "  inflating: train/yawn/31.jpg       \n",
            "  inflating: train/yawn/310.jpg      \n",
            "  inflating: train/yawn/311.jpg      \n",
            "  inflating: train/yawn/312.jpg      \n",
            "  inflating: train/yawn/313.jpg      \n",
            "  inflating: train/yawn/314.jpg      \n",
            "  inflating: train/yawn/315.jpg      \n",
            "  inflating: train/yawn/316.jpg      \n",
            "  inflating: train/yawn/317.jpg      \n",
            "  inflating: train/yawn/318.jpg      \n",
            "  inflating: train/yawn/319.jpg      \n",
            "  inflating: train/yawn/32.jpg       \n",
            "  inflating: train/yawn/320.jpg      \n",
            "  inflating: train/yawn/321.jpg      \n",
            "  inflating: train/yawn/322.jpg      \n",
            "  inflating: train/yawn/323.jpg      \n",
            "  inflating: train/yawn/324.jpg      \n",
            "  inflating: train/yawn/325.jpg      \n",
            "  inflating: train/yawn/326.jpg      \n",
            "  inflating: train/yawn/327.jpg      \n",
            "  inflating: train/yawn/328.jpg      \n",
            "  inflating: train/yawn/329.jpg      \n",
            "  inflating: train/yawn/33.jpg       \n",
            "  inflating: train/yawn/330.jpg      \n",
            "  inflating: train/yawn/331.jpg      \n",
            "  inflating: train/yawn/332.jpg      \n",
            "  inflating: train/yawn/333.jpg      \n",
            "  inflating: train/yawn/334.jpg      \n",
            "  inflating: train/yawn/335.jpg      \n",
            "  inflating: train/yawn/336.jpg      \n",
            "  inflating: train/yawn/337.jpg      \n",
            "  inflating: train/yawn/338.jpg      \n",
            "  inflating: train/yawn/339.jpg      \n",
            "  inflating: train/yawn/34.jpg       \n",
            "  inflating: train/yawn/340.jpg      \n",
            "  inflating: train/yawn/341.jpg      \n",
            "  inflating: train/yawn/342.jpg      \n",
            "  inflating: train/yawn/343.jpg      \n",
            "  inflating: train/yawn/344.jpg      \n",
            "  inflating: train/yawn/345.jpg      \n",
            "  inflating: train/yawn/346.jpg      \n",
            "  inflating: train/yawn/347.jpg      \n",
            "  inflating: train/yawn/348.jpg      \n",
            "  inflating: train/yawn/349.jpg      \n",
            "  inflating: train/yawn/35.jpg       \n",
            "  inflating: train/yawn/350.jpg      \n",
            "  inflating: train/yawn/351.jpg      \n",
            "  inflating: train/yawn/352.jpg      \n",
            "  inflating: train/yawn/353.jpg      \n",
            "  inflating: train/yawn/354.jpg      \n",
            "  inflating: train/yawn/355.jpg      \n",
            "  inflating: train/yawn/356.jpg      \n",
            "  inflating: train/yawn/357.jpg      \n",
            "  inflating: train/yawn/358.jpg      \n",
            "  inflating: train/yawn/359.jpg      \n",
            "  inflating: train/yawn/36.jpg       \n",
            "  inflating: train/yawn/360.jpg      \n",
            "  inflating: train/yawn/361.jpg      \n",
            "  inflating: train/yawn/362.jpg      \n",
            "  inflating: train/yawn/363.jpg      \n",
            "  inflating: train/yawn/364.jpg      \n",
            "  inflating: train/yawn/365.jpg      \n",
            "  inflating: train/yawn/366.jpg      \n",
            "  inflating: train/yawn/367.jpg      \n",
            "  inflating: train/yawn/368.jpg      \n",
            "  inflating: train/yawn/369.jpg      \n",
            "  inflating: train/yawn/37.jpg       \n",
            "  inflating: train/yawn/370.jpg      \n",
            "  inflating: train/yawn/371.jpg      \n",
            "  inflating: train/yawn/372.jpg      \n",
            "  inflating: train/yawn/373.jpg      \n",
            "  inflating: train/yawn/374.jpg      \n",
            "  inflating: train/yawn/375.jpg      \n",
            "  inflating: train/yawn/376.jpg      \n",
            "  inflating: train/yawn/377.jpg      \n",
            "  inflating: train/yawn/378.jpg      \n",
            "  inflating: train/yawn/379.jpg      \n",
            "  inflating: train/yawn/38.jpg       \n",
            "  inflating: train/yawn/380.jpg      \n",
            "  inflating: train/yawn/381.jpg      \n",
            "  inflating: train/yawn/382.jpg      \n",
            "  inflating: train/yawn/383.jpg      \n",
            "  inflating: train/yawn/384.jpg      \n",
            "  inflating: train/yawn/385.jpg      \n",
            "  inflating: train/yawn/386.jpg      \n",
            "  inflating: train/yawn/387.jpg      \n",
            "  inflating: train/yawn/388.jpg      \n",
            "  inflating: train/yawn/389.jpg      \n",
            "  inflating: train/yawn/39.jpg       \n",
            "  inflating: train/yawn/390.jpg      \n",
            "  inflating: train/yawn/391.jpg      \n",
            "  inflating: train/yawn/392.jpg      \n",
            "  inflating: train/yawn/393.jpg      \n",
            "  inflating: train/yawn/394.jpg      \n",
            "  inflating: train/yawn/395.jpg      \n",
            "  inflating: train/yawn/396.jpg      \n",
            "  inflating: train/yawn/397.jpg      \n",
            "  inflating: train/yawn/398.jpg      \n",
            "  inflating: train/yawn/399.jpg      \n",
            "  inflating: train/yawn/4.jpg        \n",
            "  inflating: train/yawn/40.jpg       \n",
            "  inflating: train/yawn/400.jpg      \n",
            "  inflating: train/yawn/401.jpg      \n",
            "  inflating: train/yawn/402.jpg      \n",
            "  inflating: train/yawn/403.jpg      \n",
            "  inflating: train/yawn/404.jpg      \n",
            "  inflating: train/yawn/405.jpg      \n",
            "  inflating: train/yawn/406.jpg      \n",
            "  inflating: train/yawn/407.jpg      \n",
            "  inflating: train/yawn/408.jpg      \n",
            "  inflating: train/yawn/409.jpg      \n",
            "  inflating: train/yawn/41.jpg       \n",
            "  inflating: train/yawn/410.jpg      \n",
            "  inflating: train/yawn/411.jpg      \n",
            "  inflating: train/yawn/412.jpg      \n",
            "  inflating: train/yawn/413.jpg      \n",
            "  inflating: train/yawn/414.jpg      \n",
            "  inflating: train/yawn/415.jpg      \n",
            "  inflating: train/yawn/416.jpg      \n",
            "  inflating: train/yawn/417.jpg      \n",
            "  inflating: train/yawn/418.jpg      \n",
            "  inflating: train/yawn/419.jpg      \n",
            "  inflating: train/yawn/42.jpg       \n",
            "  inflating: train/yawn/420.jpg      \n",
            "  inflating: train/yawn/421.jpg      \n",
            "  inflating: train/yawn/422.jpg      \n",
            "  inflating: train/yawn/423.jpg      \n",
            "  inflating: train/yawn/424.jpg      \n",
            "  inflating: train/yawn/425.jpg      \n",
            "  inflating: train/yawn/426.jpg      \n",
            "  inflating: train/yawn/427.jpg      \n",
            "  inflating: train/yawn/428.jpg      \n",
            "  inflating: train/yawn/429.jpg      \n",
            "  inflating: train/yawn/43.jpg       \n",
            "  inflating: train/yawn/430.jpg      \n",
            "  inflating: train/yawn/431.jpg      \n",
            "  inflating: train/yawn/432.jpg      \n",
            "  inflating: train/yawn/433.jpg      \n",
            "  inflating: train/yawn/434.jpg      \n",
            "  inflating: train/yawn/435.jpg      \n",
            "  inflating: train/yawn/436.jpg      \n",
            "  inflating: train/yawn/437.jpg      \n",
            "  inflating: train/yawn/438.jpg      \n",
            "  inflating: train/yawn/439.jpg      \n",
            "  inflating: train/yawn/44.jpg       \n",
            "  inflating: train/yawn/440.jpg      \n",
            "  inflating: train/yawn/441.jpg      \n",
            "  inflating: train/yawn/442.jpg      \n",
            "  inflating: train/yawn/443.jpg      \n",
            "  inflating: train/yawn/444.jpg      \n",
            "  inflating: train/yawn/445.jpg      \n",
            "  inflating: train/yawn/446.jpg      \n",
            "  inflating: train/yawn/447.jpg      \n",
            "  inflating: train/yawn/448.jpg      \n",
            "  inflating: train/yawn/449.jpg      \n",
            "  inflating: train/yawn/45.jpg       \n",
            "  inflating: train/yawn/450.jpg      \n",
            "  inflating: train/yawn/451.jpg      \n",
            "  inflating: train/yawn/452.jpg      \n",
            "  inflating: train/yawn/453.jpg      \n",
            "  inflating: train/yawn/454.jpg      \n",
            "  inflating: train/yawn/455.jpg      \n",
            "  inflating: train/yawn/456.jpg      \n",
            "  inflating: train/yawn/457.jpg      \n",
            "  inflating: train/yawn/458.jpg      \n",
            "  inflating: train/yawn/459.jpg      \n",
            "  inflating: train/yawn/46.jpg       \n",
            "  inflating: train/yawn/460.jpg      \n",
            "  inflating: train/yawn/461.jpg      \n",
            "  inflating: train/yawn/462.jpg      \n",
            "  inflating: train/yawn/463.jpg      \n",
            "  inflating: train/yawn/464.jpg      \n",
            "  inflating: train/yawn/465.jpg      \n",
            "  inflating: train/yawn/466.jpg      \n",
            "  inflating: train/yawn/467.jpg      \n",
            "  inflating: train/yawn/468.jpg      \n",
            "  inflating: train/yawn/469.jpg      \n",
            "  inflating: train/yawn/47.jpg       \n",
            "  inflating: train/yawn/470.jpg      \n",
            "  inflating: train/yawn/471.jpg      \n",
            "  inflating: train/yawn/472.jpg      \n",
            "  inflating: train/yawn/473.jpg      \n",
            "  inflating: train/yawn/474.jpg      \n",
            "  inflating: train/yawn/475.jpg      \n",
            "  inflating: train/yawn/476.jpg      \n",
            "  inflating: train/yawn/477.jpg      \n",
            "  inflating: train/yawn/478.jpg      \n",
            "  inflating: train/yawn/479.jpg      \n",
            "  inflating: train/yawn/48.jpg       \n",
            "  inflating: train/yawn/480.jpg      \n",
            "  inflating: train/yawn/481.jpg      \n",
            "  inflating: train/yawn/482.jpg      \n",
            "  inflating: train/yawn/483.jpg      \n",
            "  inflating: train/yawn/484.jpg      \n",
            "  inflating: train/yawn/485.jpg      \n",
            "  inflating: train/yawn/486.jpg      \n",
            "  inflating: train/yawn/487.jpg      \n",
            "  inflating: train/yawn/488.jpg      \n",
            "  inflating: train/yawn/489.jpg      \n",
            "  inflating: train/yawn/49.jpg       \n",
            "  inflating: train/yawn/490.jpg      \n",
            "  inflating: train/yawn/491.jpg      \n",
            "  inflating: train/yawn/492.jpg      \n",
            "  inflating: train/yawn/493.jpg      \n",
            "  inflating: train/yawn/494.jpg      \n",
            "  inflating: train/yawn/495.jpg      \n",
            "  inflating: train/yawn/496.jpg      \n",
            "  inflating: train/yawn/497.jpg      \n",
            "  inflating: train/yawn/498.jpg      \n",
            "  inflating: train/yawn/499.jpg      \n",
            "  inflating: train/yawn/5.jpg        \n",
            "  inflating: train/yawn/50.jpg       \n",
            "  inflating: train/yawn/500.jpg      \n",
            "  inflating: train/yawn/501.jpg      \n",
            "  inflating: train/yawn/502.jpg      \n",
            "  inflating: train/yawn/503.jpg      \n",
            "  inflating: train/yawn/504.jpg      \n",
            "  inflating: train/yawn/505.jpg      \n",
            "  inflating: train/yawn/506.jpg      \n",
            "  inflating: train/yawn/507.jpg      \n",
            "  inflating: train/yawn/508.jpg      \n",
            "  inflating: train/yawn/509.jpg      \n",
            "  inflating: train/yawn/51.jpg       \n",
            "  inflating: train/yawn/510.jpg      \n",
            "  inflating: train/yawn/511.jpg      \n",
            "  inflating: train/yawn/512.jpg      \n",
            "  inflating: train/yawn/513.jpg      \n",
            "  inflating: train/yawn/514.jpg      \n",
            "  inflating: train/yawn/515.jpg      \n",
            "  inflating: train/yawn/516.jpg      \n",
            "  inflating: train/yawn/517.jpg      \n",
            "  inflating: train/yawn/518.jpg      \n",
            "  inflating: train/yawn/519.jpg      \n",
            "  inflating: train/yawn/52.jpg       \n",
            "  inflating: train/yawn/520.jpg      \n",
            "  inflating: train/yawn/521.jpg      \n",
            "  inflating: train/yawn/522.jpg      \n",
            "  inflating: train/yawn/523.jpg      \n",
            "  inflating: train/yawn/524.jpg      \n",
            "  inflating: train/yawn/525.jpg      \n",
            "  inflating: train/yawn/526.jpg      \n",
            "  inflating: train/yawn/527.jpg      \n",
            "  inflating: train/yawn/528.jpg      \n",
            "  inflating: train/yawn/529.jpg      \n",
            "  inflating: train/yawn/53.jpg       \n",
            "  inflating: train/yawn/530.jpg      \n",
            "  inflating: train/yawn/531.jpg      \n",
            "  inflating: train/yawn/532.jpg      \n",
            "  inflating: train/yawn/533.jpg      \n",
            "  inflating: train/yawn/534.jpg      \n",
            "  inflating: train/yawn/535.jpg      \n",
            "  inflating: train/yawn/536.jpg      \n",
            "  inflating: train/yawn/537.jpg      \n",
            "  inflating: train/yawn/538.jpg      \n",
            "  inflating: train/yawn/539.jpg      \n",
            "  inflating: train/yawn/54.jpg       \n",
            "  inflating: train/yawn/540.jpg      \n",
            "  inflating: train/yawn/541.jpg      \n",
            "  inflating: train/yawn/542.jpg      \n",
            "  inflating: train/yawn/543.jpg      \n",
            "  inflating: train/yawn/544.jpg      \n",
            "  inflating: train/yawn/545.jpg      \n",
            "  inflating: train/yawn/546.jpg      \n",
            "  inflating: train/yawn/547.jpg      \n",
            "  inflating: train/yawn/548.jpg      \n",
            "  inflating: train/yawn/549.jpg      \n",
            "  inflating: train/yawn/55.jpg       \n",
            "  inflating: train/yawn/550.jpg      \n",
            "  inflating: train/yawn/551.jpg      \n",
            "  inflating: train/yawn/552.jpg      \n",
            "  inflating: train/yawn/553.jpg      \n",
            "  inflating: train/yawn/554.jpg      \n",
            "  inflating: train/yawn/555.jpg      \n",
            "  inflating: train/yawn/556.jpg      \n",
            "  inflating: train/yawn/557.jpg      \n",
            "  inflating: train/yawn/558.jpg      \n",
            "  inflating: train/yawn/559.jpg      \n",
            "  inflating: train/yawn/56.jpg       \n",
            "  inflating: train/yawn/560.jpg      \n",
            "  inflating: train/yawn/561.jpg      \n",
            "  inflating: train/yawn/562.jpg      \n",
            "  inflating: train/yawn/563.jpg      \n",
            "  inflating: train/yawn/564.jpg      \n",
            "  inflating: train/yawn/565.jpg      \n",
            "  inflating: train/yawn/566.jpg      \n",
            "  inflating: train/yawn/567.jpg      \n",
            "  inflating: train/yawn/568.jpg      \n",
            "  inflating: train/yawn/569.jpg      \n",
            "  inflating: train/yawn/57.jpg       \n",
            "  inflating: train/yawn/570.jpg      \n",
            "  inflating: train/yawn/571.jpg      \n",
            "  inflating: train/yawn/572.jpg      \n",
            "  inflating: train/yawn/573.jpg      \n",
            "  inflating: train/yawn/574.jpg      \n",
            "  inflating: train/yawn/575.jpg      \n",
            "  inflating: train/yawn/576.jpg      \n",
            "  inflating: train/yawn/577.jpg      \n",
            "  inflating: train/yawn/578.jpg      \n",
            "  inflating: train/yawn/579.jpg      \n",
            "  inflating: train/yawn/58.jpg       \n",
            "  inflating: train/yawn/580.jpg      \n",
            "  inflating: train/yawn/581.jpg      \n",
            "  inflating: train/yawn/582.jpg      \n",
            "  inflating: train/yawn/583.jpg      \n",
            "  inflating: train/yawn/584.jpg      \n",
            "  inflating: train/yawn/585.jpg      \n",
            "  inflating: train/yawn/586.jpg      \n",
            "  inflating: train/yawn/587.jpg      \n",
            "  inflating: train/yawn/588.jpg      \n",
            "  inflating: train/yawn/589.jpg      \n",
            "  inflating: train/yawn/59.jpg       \n",
            "  inflating: train/yawn/590.jpg      \n",
            "  inflating: train/yawn/591.jpg      \n",
            "  inflating: train/yawn/592.jpg      \n",
            "  inflating: train/yawn/593.jpg      \n",
            "  inflating: train/yawn/594.jpg      \n",
            "  inflating: train/yawn/595.jpg      \n",
            "  inflating: train/yawn/596.jpg      \n",
            "  inflating: train/yawn/597.jpg      \n",
            "  inflating: train/yawn/598.jpg      \n",
            "  inflating: train/yawn/599.jpg      \n",
            "  inflating: train/yawn/6.jpg        \n",
            "  inflating: train/yawn/60.jpg       \n",
            "  inflating: train/yawn/600.jpg      \n",
            "  inflating: train/yawn/601.jpg      \n",
            "  inflating: train/yawn/602.jpg      \n",
            "  inflating: train/yawn/603.jpg      \n",
            "  inflating: train/yawn/604.jpg      \n",
            "  inflating: train/yawn/605.jpg      \n",
            "  inflating: train/yawn/606.jpg      \n",
            "  inflating: train/yawn/607.jpg      \n",
            "  inflating: train/yawn/608.jpg      \n",
            "  inflating: train/yawn/609.jpg      \n",
            "  inflating: train/yawn/61.jpg       \n",
            "  inflating: train/yawn/610.jpg      \n",
            "  inflating: train/yawn/611.jpg      \n",
            "  inflating: train/yawn/612.jpg      \n",
            "  inflating: train/yawn/613.jpg      \n",
            "  inflating: train/yawn/614.jpg      \n",
            "  inflating: train/yawn/615.jpg      \n",
            "  inflating: train/yawn/616.jpg      \n",
            "  inflating: train/yawn/617.jpg      \n",
            "  inflating: train/yawn/618.jpg      \n",
            "  inflating: train/yawn/619.jpg      \n",
            "  inflating: train/yawn/62.jpg       \n",
            "  inflating: train/yawn/620.jpg      \n",
            "  inflating: train/yawn/621.jpg      \n",
            "  inflating: train/yawn/622.jpg      \n",
            "  inflating: train/yawn/623.jpg      \n",
            "  inflating: train/yawn/624.jpg      \n",
            "  inflating: train/yawn/625.jpg      \n",
            "  inflating: train/yawn/626.jpg      \n",
            "  inflating: train/yawn/627.jpg      \n",
            "  inflating: train/yawn/628.jpg      \n",
            "  inflating: train/yawn/629.jpg      \n",
            "  inflating: train/yawn/63.jpg       \n",
            "  inflating: train/yawn/630.jpg      \n",
            "  inflating: train/yawn/631.jpg      \n",
            "  inflating: train/yawn/632.jpg      \n",
            "  inflating: train/yawn/633.jpg      \n",
            "  inflating: train/yawn/634.jpg      \n",
            "  inflating: train/yawn/635.jpg      \n",
            "  inflating: train/yawn/636.jpg      \n",
            "  inflating: train/yawn/637.jpg      \n",
            "  inflating: train/yawn/638.jpg      \n",
            "  inflating: train/yawn/639.jpg      \n",
            "  inflating: train/yawn/64.jpg       \n",
            "  inflating: train/yawn/640.jpg      \n",
            "  inflating: train/yawn/641.jpg      \n",
            "  inflating: train/yawn/642.jpg      \n",
            "  inflating: train/yawn/643.jpg      \n",
            "  inflating: train/yawn/644.jpg      \n",
            "  inflating: train/yawn/645.jpg      \n",
            "  inflating: train/yawn/647.jpg      \n",
            "  inflating: train/yawn/648.jpg      \n",
            "  inflating: train/yawn/649.jpg      \n",
            "  inflating: train/yawn/65.jpg       \n",
            "  inflating: train/yawn/650.jpg      \n",
            "  inflating: train/yawn/651.jpg      \n",
            "  inflating: train/yawn/652.jpg      \n",
            "  inflating: train/yawn/653.jpg      \n",
            "  inflating: train/yawn/654.jpg      \n",
            "  inflating: train/yawn/655.jpg      \n",
            "  inflating: train/yawn/656.jpg      \n",
            "  inflating: train/yawn/657.jpg      \n",
            "  inflating: train/yawn/658.jpg      \n",
            "  inflating: train/yawn/659.jpg      \n",
            "  inflating: train/yawn/66.jpg       \n",
            "  inflating: train/yawn/660.jpg      \n",
            "  inflating: train/yawn/661.jpg      \n",
            "  inflating: train/yawn/662.jpg      \n",
            "  inflating: train/yawn/663.jpg      \n",
            "  inflating: train/yawn/664.jpg      \n",
            "  inflating: train/yawn/665.jpg      \n",
            "  inflating: train/yawn/666.jpg      \n",
            "  inflating: train/yawn/667.jpg      \n",
            "  inflating: train/yawn/668.jpg      \n",
            "  inflating: train/yawn/669.jpg      \n",
            "  inflating: train/yawn/67.jpg       \n",
            "  inflating: train/yawn/670.jpg      \n",
            "  inflating: train/yawn/671.jpg      \n",
            "  inflating: train/yawn/672.jpg      \n",
            "  inflating: train/yawn/673.jpg      \n",
            "  inflating: train/yawn/674.jpg      \n",
            "  inflating: train/yawn/675.jpg      \n",
            "  inflating: train/yawn/676.jpg      \n",
            "  inflating: train/yawn/677.jpg      \n",
            "  inflating: train/yawn/678.jpg      \n",
            "  inflating: train/yawn/679.jpg      \n",
            "  inflating: train/yawn/68.jpg       \n",
            "  inflating: train/yawn/680.jpg      \n",
            "  inflating: train/yawn/681.jpg      \n",
            "  inflating: train/yawn/682.jpg      \n",
            "  inflating: train/yawn/683.jpg      \n",
            "  inflating: train/yawn/684.jpg      \n",
            "  inflating: train/yawn/685.jpg      \n",
            "  inflating: train/yawn/686.jpg      \n",
            "  inflating: train/yawn/687.jpg      \n",
            "  inflating: train/yawn/688.jpg      \n",
            "  inflating: train/yawn/689.jpg      \n",
            "  inflating: train/yawn/69.jpg       \n",
            "  inflating: train/yawn/691.jpg      \n",
            "  inflating: train/yawn/692.jpg      \n",
            "  inflating: train/yawn/693.jpg      \n",
            "  inflating: train/yawn/694.jpg      \n",
            "  inflating: train/yawn/696.jpg      \n",
            "  inflating: train/yawn/697.jpg      \n",
            "  inflating: train/yawn/698.jpg      \n",
            "  inflating: train/yawn/699.jpg      \n",
            "  inflating: train/yawn/7.jpg        \n",
            "  inflating: train/yawn/70.jpg       \n",
            "  inflating: train/yawn/700.jpg      \n",
            "  inflating: train/yawn/701.jpg      \n",
            "  inflating: train/yawn/702.jpg      \n",
            "  inflating: train/yawn/703.jpg      \n",
            "  inflating: train/yawn/704.jpg      \n",
            "  inflating: train/yawn/705.jpg      \n",
            "  inflating: train/yawn/706.jpg      \n",
            "  inflating: train/yawn/707.jpg      \n",
            "  inflating: train/yawn/708.jpg      \n",
            "  inflating: train/yawn/709.jpg      \n",
            "  inflating: train/yawn/71.jpg       \n",
            "  inflating: train/yawn/710.jpg      \n",
            "  inflating: train/yawn/711.jpg      \n",
            "  inflating: train/yawn/712.jpg      \n",
            "  inflating: train/yawn/713.jpg      \n",
            "  inflating: train/yawn/714.jpg      \n",
            "  inflating: train/yawn/715.jpg      \n",
            "  inflating: train/yawn/716.jpg      \n",
            "  inflating: train/yawn/717.jpg      \n",
            "  inflating: train/yawn/718.jpg      \n",
            "  inflating: train/yawn/719.jpg      \n",
            "  inflating: train/yawn/72.jpg       \n",
            "  inflating: train/yawn/720.jpg      \n",
            "  inflating: train/yawn/721.jpg      \n",
            "  inflating: train/yawn/722.jpg      \n",
            "  inflating: train/yawn/723.jpg      \n",
            "  inflating: train/yawn/724.jpg      \n",
            "  inflating: train/yawn/725.jpg      \n",
            "  inflating: train/yawn/726.jpg      \n",
            "  inflating: train/yawn/73.jpg       \n",
            "  inflating: train/yawn/74.jpg       \n",
            "  inflating: train/yawn/75.jpg       \n",
            "  inflating: train/yawn/76.jpg       \n",
            "  inflating: train/yawn/77.jpg       \n",
            "  inflating: train/yawn/78.jpg       \n",
            "  inflating: train/yawn/79.jpg       \n",
            "  inflating: train/yawn/8.jpg        \n",
            "  inflating: train/yawn/80.jpg       \n",
            "  inflating: train/yawn/81.jpg       \n",
            "  inflating: train/yawn/82.jpg       \n",
            "  inflating: train/yawn/83.jpg       \n",
            "  inflating: train/yawn/84.jpg       \n",
            "  inflating: train/yawn/85.jpg       \n",
            "  inflating: train/yawn/86.jpg       \n",
            "  inflating: train/yawn/87.jpg       \n",
            "  inflating: train/yawn/88.jpg       \n",
            "  inflating: train/yawn/89.jpg       \n",
            "  inflating: train/yawn/9.jpg        \n",
            "  inflating: train/yawn/90.jpg       \n",
            "  inflating: train/yawn/91.jpg       \n",
            "  inflating: train/yawn/92.jpg       \n",
            "  inflating: train/yawn/93.jpg       \n",
            "  inflating: train/yawn/94.jpg       \n",
            "  inflating: train/yawn/95.jpg       \n",
            "  inflating: train/yawn/96.jpg       \n",
            "  inflating: train/yawn/97.jpg       \n",
            "  inflating: train/yawn/98.jpg       \n",
            "  inflating: train/yawn/99.jpg       \n"
          ]
        }
      ]
    },
    {
      "cell_type": "code",
      "source": [
        "import numpy as np # linear algebra\n",
        "import pandas as pd # data processing, CSV file I/O (e.g. pd.read_csv)\n",
        "import cv2\n",
        "import random\n",
        "from tqdm import tqdm\n",
        "import matplotlib.pyplot as plt\n",
        "from tensorflow.keras.preprocessing.image import ImageDataGenerator\n",
        "# Input data files are available in the read-only \"../input/\" directory\n",
        "# For example, running this (by clicking run or pressing Shift+Enter) will list all files under the input directory\n",
        "\n",
        "import os\n",
        "labels = os.listdir(\"train\")\n",
        "labels"
      ],
      "metadata": {
        "id": "tRVSLTJ3xxZQ",
        "colab": {
          "base_uri": "https://localhost:8080/",
          "height": 0
        },
        "outputId": "7f93b5b8-37d8-4d03-db3a-d3358fce8b50"
      },
      "execution_count": 6,
      "outputs": [
        {
          "output_type": "execute_result",
          "data": {
            "text/plain": [
              "['Closed', 'yawn', 'Open', 'no_yawn']"
            ]
          },
          "metadata": {},
          "execution_count": 6
        }
      ]
    },
    {
      "cell_type": "code",
      "source": [
        "import cv2\n",
        "def get_data(dir_path=\"train/\"):\n",
        "    labels = ['Closed', 'Open']\n",
        "    IMG_SIZE = 224\n",
        "    data = []\n",
        "    for label in labels:\n",
        "        path = os.path.join(dir_path, label)\n",
        "        class_num = labels.index(label)\n",
        "        print(class_num)\n",
        "        for img in os.listdir(path):\n",
        "            try:\n",
        "                img_array = cv2.imread(os.path.join(path, img), cv2.IMREAD_COLOR)\n",
        "                resized_array = cv2.resize(img_array, (IMG_SIZE, IMG_SIZE))\n",
        "                data.append([resized_array, class_num])\n",
        "            except Exception as e:\n",
        "                print(e)\n",
        "    return data\n",
        "data_train = get_data()"
      ],
      "metadata": {
        "colab": {
          "base_uri": "https://localhost:8080/",
          "height": 0
        },
        "id": "FBj09vHuN9PV",
        "outputId": "9e74888f-b83c-4ce2-fedb-08418cf6d8ed"
      },
      "execution_count": 7,
      "outputs": [
        {
          "output_type": "stream",
          "name": "stdout",
          "text": [
            "0\n",
            "1\n"
          ]
        }
      ]
    },
    {
      "cell_type": "code",
      "source": [
        "X = []\n",
        "y = []\n",
        "for feature, label in data_train:\n",
        "    X.append(feature)\n",
        "    y.append(label)"
      ],
      "metadata": {
        "id": "kyw_r2E1OVbf"
      },
      "execution_count": 8,
      "outputs": []
    },
    {
      "cell_type": "code",
      "source": [
        "X = np.array(X)\n",
        "X = X.reshape(-1, 224, 224, 3)"
      ],
      "metadata": {
        "id": "9rt46a6hOa7S"
      },
      "execution_count": 9,
      "outputs": []
    },
    {
      "cell_type": "code",
      "source": [
        "from sklearn.preprocessing import LabelBinarizer\n",
        "label_bin = LabelBinarizer()\n",
        "y = label_bin.fit_transform(y)"
      ],
      "metadata": {
        "id": "4IpzQLMcOdwB"
      },
      "execution_count": 10,
      "outputs": []
    },
    {
      "cell_type": "code",
      "source": [
        "y = np.array(y)"
      ],
      "metadata": {
        "id": "rhGwOKsBOg5k"
      },
      "execution_count": 11,
      "outputs": []
    },
    {
      "cell_type": "code",
      "source": [
        "from sklearn.model_selection import train_test_split\n",
        "X_train,X_test,y_train,y_test = train_test_split(X,y,test_size=0.2)"
      ],
      "metadata": {
        "id": "uxfBX92SOlh8"
      },
      "execution_count": 12,
      "outputs": []
    },
    {
      "cell_type": "code",
      "source": [
        "from tensorflow.keras.applications.vgg19 import VGG19\n",
        "vgg = VGG19(weights=\"imagenet\",include_top = False,input_shape=(224,224,3))"
      ],
      "metadata": {
        "colab": {
          "base_uri": "https://localhost:8080/",
          "height": 0
        },
        "id": "_-o9Crh7OxFj",
        "outputId": "53599681-39c6-4505-88bf-d6d53e56ff04"
      },
      "execution_count": 13,
      "outputs": [
        {
          "output_type": "stream",
          "name": "stdout",
          "text": [
            "Downloading data from https://storage.googleapis.com/tensorflow/keras-applications/vgg19/vgg19_weights_tf_dim_ordering_tf_kernels_notop.h5\n",
            "80134624/80134624 [==============================] - 4s 0us/step\n"
          ]
        }
      ]
    },
    {
      "cell_type": "code",
      "source": [
        "for layer in vgg.layers:\n",
        "    layer.trainable = False"
      ],
      "metadata": {
        "id": "GJu26u64O5zz"
      },
      "execution_count": 14,
      "outputs": []
    },
    {
      "cell_type": "code",
      "source": [
        "from tensorflow.keras import Sequential\n",
        "from tensorflow.keras.layers import Flatten,Dense\n",
        "model = Sequential()\n",
        "model.add(vgg)\n",
        "model.add(Flatten())\n",
        "model.add(Dense(1,activation=\"sigmoid\"))"
      ],
      "metadata": {
        "id": "Emi_TNujxeU-"
      },
      "execution_count": 15,
      "outputs": []
    },
    {
      "cell_type": "code",
      "source": [
        "model.summary()"
      ],
      "metadata": {
        "colab": {
          "base_uri": "https://localhost:8080/",
          "height": 0
        },
        "id": "Kw9r7OlAPB5O",
        "outputId": "6edfd57b-daf7-4141-a568-a55521473206"
      },
      "execution_count": 16,
      "outputs": [
        {
          "output_type": "stream",
          "name": "stdout",
          "text": [
            "Model: \"sequential\"\n",
            "_________________________________________________________________\n",
            " Layer (type)                Output Shape              Param #   \n",
            "=================================================================\n",
            " vgg19 (Functional)          (None, 7, 7, 512)         20024384  \n",
            "                                                                 \n",
            " flatten (Flatten)           (None, 25088)             0         \n",
            "                                                                 \n",
            " dense (Dense)               (None, 1)                 25089     \n",
            "                                                                 \n",
            "=================================================================\n",
            "Total params: 20,049,473\n",
            "Trainable params: 25,089\n",
            "Non-trainable params: 20,024,384\n",
            "_________________________________________________________________\n"
          ]
        }
      ]
    },
    {
      "cell_type": "code",
      "source": [
        "model.compile(optimizer=\"adam\",loss=\"binary_crossentropy\",metrics=[\"accuracy\"])"
      ],
      "metadata": {
        "id": "KU5CTjkdPIyX"
      },
      "execution_count": 17,
      "outputs": []
    },
    {
      "cell_type": "code",
      "source": [
        "from tensorflow.keras.callbacks import ModelCheckpoint,EarlyStopping\n",
        "checkpoint = ModelCheckpoint(\"vgg19.h5\",monitor=\"val_acc\",verbose=1,save_best_only=True,\n",
        "                             save_weights_only=False,save_freq=1)\n",
        "earlystop = EarlyStopping(monitor=\"val_acc\",patience=5,verbose=1)"
      ],
      "metadata": {
        "id": "hGVmxxMZPL-E"
      },
      "execution_count": 19,
      "outputs": []
    },
    {
      "cell_type": "code",
      "source": [
        "history = model.fit(X_train,y_train,batch_size=32,epochs=15,validation_data=(X_test,y_test),\n",
        "                    verbose=1,callbacks=[checkpoint,earlystop])"
      ],
      "metadata": {
        "colab": {
          "base_uri": "https://localhost:8080/",
          "height": 0
        },
        "id": "6mDiJid1PWmz",
        "outputId": "c08dc947-95f9-4154-d740-a1470719263b"
      },
      "execution_count": 20,
      "outputs": [
        {
          "metadata": {
            "tags": null
          },
          "name": "stdout",
          "output_type": "stream",
          "text": [
            "Epoch 1/15\n"
          ]
        },
        {
          "metadata": {
            "tags": null
          },
          "name": "stderr",
          "output_type": "stream",
          "text": [
            "WARNING:tensorflow:Can save best model only with val_acc available, skipping.\n"
          ]
        },
        {
          "metadata": {
            "tags": null
          },
          "name": "stdout",
          "output_type": "stream",
          "text": [
            "\r 1/37 [..............................] - ETA: 14:19 - loss: 2.4502 - accuracy: 0.4375"
          ]
        },
        {
          "metadata": {
            "tags": null
          },
          "name": "stderr",
          "output_type": "stream",
          "text": [
            "WARNING:tensorflow:Can save best model only with val_acc available, skipping.\n"
          ]
        },
        {
          "metadata": {
            "tags": null
          },
          "name": "stdout",
          "output_type": "stream",
          "text": [
            "\b\b\b\b\b\b\b\b\b\b\b\b\b\b\b\b\b\b\b\b\b\b\b\b\b\b\b\b\b\b\b\b\b\b\b\b\b\b\b\b\b\b\b\b\b\b\b\b\b\b\b\b\b\b\b\b\b\b\b\b\b\b\b\b\b\b\b\b\b\b\b\b\b\b\b\b\b\b\b\b\b\b\b\b\b\r 2/37 [>.............................] - ETA: 12:32 - loss: 3.1132 - accuracy: 0.4844"
          ]
        },
        {
          "metadata": {
            "tags": null
          },
          "name": "stderr",
          "output_type": "stream",
          "text": [
            "WARNING:tensorflow:Can save best model only with val_acc available, skipping.\n"
          ]
        },
        {
          "metadata": {
            "tags": null
          },
          "name": "stdout",
          "output_type": "stream",
          "text": [
            "\b\b\b\b\b\b\b\b\b\b\b\b\b\b\b\b\b\b\b\b\b\b\b\b\b\b\b\b\b\b\b\b\b\b\b\b\b\b\b\b\b\b\b\b\b\b\b\b\b\b\b\b\b\b\b\b\b\b\b\b\b\b\b\b\b\b\b\b\b\b\b\b\b\b\b\b\b\b\b\b\b\b\b\b\b\r 3/37 [=>............................] - ETA: 12:00 - loss: 2.4054 - accuracy: 0.5833"
          ]
        },
        {
          "metadata": {
            "tags": null
          },
          "name": "stderr",
          "output_type": "stream",
          "text": [
            "WARNING:tensorflow:Can save best model only with val_acc available, skipping.\n"
          ]
        },
        {
          "metadata": {
            "tags": null
          },
          "name": "stdout",
          "output_type": "stream",
          "text": [
            "\b\b\b\b\b\b\b\b\b\b\b\b\b\b\b\b\b\b\b\b\b\b\b\b\b\b\b\b\b\b\b\b\b\b\b\b\b\b\b\b\b\b\b\b\b\b\b\b\b\b\b\b\b\b\b\b\b\b\b\b\b\b\b\b\b\b\b\b\b\b\b\b\b\b\b\b\b\b\b\b\b\b\b\b\b\r 4/37 [==>...........................] - ETA: 11:42 - loss: 1.8935 - accuracy: 0.6719"
          ]
        },
        {
          "metadata": {
            "tags": null
          },
          "name": "stderr",
          "output_type": "stream",
          "text": [
            "WARNING:tensorflow:Can save best model only with val_acc available, skipping.\n"
          ]
        },
        {
          "metadata": {
            "tags": null
          },
          "name": "stdout",
          "output_type": "stream",
          "text": [
            "\b\b\b\b\b\b\b\b\b\b\b\b\b\b\b\b\b\b\b\b\b\b\b\b\b\b\b\b\b\b\b\b\b\b\b\b\b\b\b\b\b\b\b\b\b\b\b\b\b\b\b\b\b\b\b\b\b\b\b\b\b\b\b\b\b\b\b\b\b\b\b\b\b\b\b\b\b\b\b\b\b\b\b\b\b\r 5/37 [===>..........................] - ETA: 11:22 - loss: 1.6966 - accuracy: 0.7063"
          ]
        },
        {
          "metadata": {
            "tags": null
          },
          "name": "stderr",
          "output_type": "stream",
          "text": [
            "WARNING:tensorflow:Can save best model only with val_acc available, skipping.\n"
          ]
        },
        {
          "metadata": {
            "tags": null
          },
          "name": "stdout",
          "output_type": "stream",
          "text": [
            "\b\b\b\b\b\b\b\b\b\b\b\b\b\b\b\b\b\b\b\b\b\b\b\b\b\b\b\b\b\b\b\b\b\b\b\b\b\b\b\b\b\b\b\b\b\b\b\b\b\b\b\b\b\b\b\b\b\b\b\b\b\b\b\b\b\b\b\b\b\b\b\b\b\b\b\b\b\b\b\b\b\b\b\b\b\r 6/37 [===>..........................] - ETA: 10:54 - loss: 1.5449 - accuracy: 0.7344"
          ]
        },
        {
          "metadata": {
            "tags": null
          },
          "name": "stderr",
          "output_type": "stream",
          "text": [
            "WARNING:tensorflow:Can save best model only with val_acc available, skipping.\n"
          ]
        },
        {
          "metadata": {
            "tags": null
          },
          "name": "stdout",
          "output_type": "stream",
          "text": [
            "\b\b\b\b\b\b\b\b\b\b\b\b\b\b\b\b\b\b\b\b\b\b\b\b\b\b\b\b\b\b\b\b\b\b\b\b\b\b\b\b\b\b\b\b\b\b\b\b\b\b\b\b\b\b\b\b\b\b\b\b\b\b\b\b\b\b\b\b\b\b\b\b\b\b\b\b\b\b\b\b\b\b\b\b\b\r 7/37 [====>.........................] - ETA: 10:35 - loss: 1.3242 - accuracy: 0.7723"
          ]
        },
        {
          "metadata": {
            "tags": null
          },
          "name": "stderr",
          "output_type": "stream",
          "text": [
            "WARNING:tensorflow:Can save best model only with val_acc available, skipping.\n"
          ]
        },
        {
          "metadata": {
            "tags": null
          },
          "name": "stdout",
          "output_type": "stream",
          "text": [
            "\b\b\b\b\b\b\b\b\b\b\b\b\b\b\b\b\b\b\b\b\b\b\b\b\b\b\b\b\b\b\b\b\b\b\b\b\b\b\b\b\b\b\b\b\b\b\b\b\b\b\b\b\b\b\b\b\b\b\b\b\b\b\b\b\b\b\b\b\b\b\b\b\b\b\b\b\b\b\b\b\b\b\b\b\b\r 8/37 [=====>........................] - ETA: 10:11 - loss: 1.1588 - accuracy: 0.8008"
          ]
        },
        {
          "metadata": {
            "tags": null
          },
          "name": "stderr",
          "output_type": "stream",
          "text": [
            "WARNING:tensorflow:Can save best model only with val_acc available, skipping.\n"
          ]
        },
        {
          "metadata": {
            "tags": null
          },
          "name": "stdout",
          "output_type": "stream",
          "text": [
            "\b\b\b\b\b\b\b\b\b\b\b\b\b\b\b\b\b\b\b\b\b\b\b\b\b\b\b\b\b\b\b\b\b\b\b\b\b\b\b\b\b\b\b\b\b\b\b\b\b\b\b\b\b\b\b\b\b\b\b\b\b\b\b\b\b\b\b\b\b\b\b\b\b\b\b\b\b\b\b\b\b\b\b\b\b\r 9/37 [======>.......................] - ETA: 9:50 - loss: 1.0494 - accuracy: 0.8194 "
          ]
        },
        {
          "metadata": {
            "tags": null
          },
          "name": "stderr",
          "output_type": "stream",
          "text": [
            "WARNING:tensorflow:Can save best model only with val_acc available, skipping.\n"
          ]
        },
        {
          "metadata": {
            "tags": null
          },
          "name": "stdout",
          "output_type": "stream",
          "text": [
            "\b\b\b\b\b\b\b\b\b\b\b\b\b\b\b\b\b\b\b\b\b\b\b\b\b\b\b\b\b\b\b\b\b\b\b\b\b\b\b\b\b\b\b\b\b\b\b\b\b\b\b\b\b\b\b\b\b\b\b\b\b\b\b\b\b\b\b\b\b\b\b\b\b\b\b\b\b\b\b\b\b\b\b\b\r10/37 [=======>......................] - ETA: 9:31 - loss: 0.9444 - accuracy: 0.8375"
          ]
        },
        {
          "metadata": {
            "tags": null
          },
          "name": "stderr",
          "output_type": "stream",
          "text": [
            "WARNING:tensorflow:Can save best model only with val_acc available, skipping.\n"
          ]
        },
        {
          "metadata": {
            "tags": null
          },
          "name": "stdout",
          "output_type": "stream",
          "text": [
            "\b\b\b\b\b\b\b\b\b\b\b\b\b\b\b\b\b\b\b\b\b\b\b\b\b\b\b\b\b\b\b\b\b\b\b\b\b\b\b\b\b\b\b\b\b\b\b\b\b\b\b\b\b\b\b\b\b\b\b\b\b\b\b\b\b\b\b\b\b\b\b\b\b\b\b\b\b\b\b\b\b\b\b\b\r11/37 [=======>......................] - ETA: 9:07 - loss: 0.8877 - accuracy: 0.8494"
          ]
        },
        {
          "metadata": {
            "tags": null
          },
          "name": "stderr",
          "output_type": "stream",
          "text": [
            "WARNING:tensorflow:Can save best model only with val_acc available, skipping.\n"
          ]
        },
        {
          "metadata": {
            "tags": null
          },
          "name": "stdout",
          "output_type": "stream",
          "text": [
            "\b\b\b\b\b\b\b\b\b\b\b\b\b\b\b\b\b\b\b\b\b\b\b\b\b\b\b\b\b\b\b\b\b\b\b\b\b\b\b\b\b\b\b\b\b\b\b\b\b\b\b\b\b\b\b\b\b\b\b\b\b\b\b\b\b\b\b\b\b\b\b\b\b\b\b\b\b\b\b\b\b\b\b\b\r12/37 [========>.....................] - ETA: 8:47 - loss: 0.8283 - accuracy: 0.8594"
          ]
        },
        {
          "metadata": {
            "tags": null
          },
          "name": "stderr",
          "output_type": "stream",
          "text": [
            "WARNING:tensorflow:Can save best model only with val_acc available, skipping.\n"
          ]
        },
        {
          "metadata": {
            "tags": null
          },
          "name": "stdout",
          "output_type": "stream",
          "text": [
            "\b\b\b\b\b\b\b\b\b\b\b\b\b\b\b\b\b\b\b\b\b\b\b\b\b\b\b\b\b\b\b\b\b\b\b\b\b\b\b\b\b\b\b\b\b\b\b\b\b\b\b\b\b\b\b\b\b\b\b\b\b\b\b\b\b\b\b\b\b\b\b\b\b\b\b\b\b\b\b\b\b\b\b\b\r13/37 [=========>....................] - ETA: 8:27 - loss: 0.7726 - accuracy: 0.8678"
          ]
        },
        {
          "metadata": {
            "tags": null
          },
          "name": "stderr",
          "output_type": "stream",
          "text": [
            "WARNING:tensorflow:Can save best model only with val_acc available, skipping.\n"
          ]
        },
        {
          "metadata": {
            "tags": null
          },
          "name": "stdout",
          "output_type": "stream",
          "text": [
            "\b\b\b\b\b\b\b\b\b\b\b\b\b\b\b\b\b\b\b\b\b\b\b\b\b\b\b\b\b\b\b\b\b\b\b\b\b\b\b\b\b\b\b\b\b\b\b\b\b\b\b\b\b\b\b\b\b\b\b\b\b\b\b\b\b\b\b\b\b\b\b\b\b\b\b\b\b\b\b\b\b\b\b\b\r14/37 [==========>...................] - ETA: 8:04 - loss: 0.7613 - accuracy: 0.8728"
          ]
        },
        {
          "metadata": {
            "tags": null
          },
          "name": "stderr",
          "output_type": "stream",
          "text": [
            "WARNING:tensorflow:Can save best model only with val_acc available, skipping.\n"
          ]
        },
        {
          "metadata": {
            "tags": null
          },
          "name": "stdout",
          "output_type": "stream",
          "text": [
            "\b\b\b\b\b\b\b\b\b\b\b\b\b\b\b\b\b\b\b\b\b\b\b\b\b\b\b\b\b\b\b\b\b\b\b\b\b\b\b\b\b\b\b\b\b\b\b\b\b\b\b\b\b\b\b\b\b\b\b\b\b\b\b\b\b\b\b\b\b\b\b\b\b\b\b\b\b\b\b\b\b\b\b\b\r15/37 [===========>..................] - ETA: 7:44 - loss: 0.7105 - accuracy: 0.8813"
          ]
        },
        {
          "metadata": {
            "tags": null
          },
          "name": "stderr",
          "output_type": "stream",
          "text": [
            "WARNING:tensorflow:Can save best model only with val_acc available, skipping.\n"
          ]
        },
        {
          "metadata": {
            "tags": null
          },
          "name": "stdout",
          "output_type": "stream",
          "text": [
            "\b\b\b\b\b\b\b\b\b\b\b\b\b\b\b\b\b\b\b\b\b\b\b\b\b\b\b\b\b\b\b\b\b\b\b\b\b\b\b\b\b\b\b\b\b\b\b\b\b\b\b\b\b\b\b\b\b\b\b\b\b\b\b\b\b\b\b\b\b\b\b\b\b\b\b\b\b\b\b\b\b\b\b\b\r16/37 [===========>..................] - ETA: 7:22 - loss: 0.6704 - accuracy: 0.8867"
          ]
        },
        {
          "metadata": {
            "tags": null
          },
          "name": "stderr",
          "output_type": "stream",
          "text": [
            "WARNING:tensorflow:Can save best model only with val_acc available, skipping.\n"
          ]
        },
        {
          "metadata": {
            "tags": null
          },
          "name": "stdout",
          "output_type": "stream",
          "text": [
            "\b\b\b\b\b\b\b\b\b\b\b\b\b\b\b\b\b\b\b\b\b\b\b\b\b\b\b\b\b\b\b\b\b\b\b\b\b\b\b\b\b\b\b\b\b\b\b\b\b\b\b\b\b\b\b\b\b\b\b\b\b\b\b\b\b\b\b\b\b\b\b\b\b\b\b\b\b\b\b\b\b\b\b\b\r17/37 [============>.................] - ETA: 7:01 - loss: 0.6688 - accuracy: 0.8897"
          ]
        },
        {
          "metadata": {
            "tags": null
          },
          "name": "stderr",
          "output_type": "stream",
          "text": [
            "WARNING:tensorflow:Can save best model only with val_acc available, skipping.\n"
          ]
        },
        {
          "metadata": {
            "tags": null
          },
          "name": "stdout",
          "output_type": "stream",
          "text": [
            "\b\b\b\b\b\b\b\b\b\b\b\b\b\b\b\b\b\b\b\b\b\b\b\b\b\b\b\b\b\b\b\b\b\b\b\b\b\b\b\b\b\b\b\b\b\b\b\b\b\b\b\b\b\b\b\b\b\b\b\b\b\b\b\b\b\b\b\b\b\b\b\b\b\b\b\b\b\b\b\b\b\b\b\b\r18/37 [=============>................] - ETA: 6:40 - loss: 0.6322 - accuracy: 0.8958"
          ]
        },
        {
          "metadata": {
            "tags": null
          },
          "name": "stderr",
          "output_type": "stream",
          "text": [
            "WARNING:tensorflow:Can save best model only with val_acc available, skipping.\n"
          ]
        },
        {
          "metadata": {
            "tags": null
          },
          "name": "stdout",
          "output_type": "stream",
          "text": [
            "\b\b\b\b\b\b\b\b\b\b\b\b\b\b\b\b\b\b\b\b\b\b\b\b\b\b\b\b\b\b\b\b\b\b\b\b\b\b\b\b\b\b\b\b\b\b\b\b\b\b\b\b\b\b\b\b\b\b\b\b\b\b\b\b\b\b\b\b\b\b\b\b\b\b\b\b\b\b\b\b\b\b\b\b\r19/37 [==============>...............] - ETA: 6:18 - loss: 0.6072 - accuracy: 0.8980"
          ]
        },
        {
          "metadata": {
            "tags": null
          },
          "name": "stderr",
          "output_type": "stream",
          "text": [
            "WARNING:tensorflow:Can save best model only with val_acc available, skipping.\n"
          ]
        },
        {
          "metadata": {
            "tags": null
          },
          "name": "stdout",
          "output_type": "stream",
          "text": [
            "\b\b\b\b\b\b\b\b\b\b\b\b\b\b\b\b\b\b\b\b\b\b\b\b\b\b\b\b\b\b\b\b\b\b\b\b\b\b\b\b\b\b\b\b\b\b\b\b\b\b\b\b\b\b\b\b\b\b\b\b\b\b\b\b\b\b\b\b\b\b\b\b\b\b\b\b\b\b\b\b\b\b\b\b\r20/37 [===============>..............] - ETA: 5:58 - loss: 0.5773 - accuracy: 0.9031"
          ]
        },
        {
          "metadata": {
            "tags": null
          },
          "name": "stderr",
          "output_type": "stream",
          "text": [
            "WARNING:tensorflow:Can save best model only with val_acc available, skipping.\n"
          ]
        },
        {
          "metadata": {
            "tags": null
          },
          "name": "stdout",
          "output_type": "stream",
          "text": [
            "\b\b\b\b\b\b\b\b\b\b\b\b\b\b\b\b\b\b\b\b\b\b\b\b\b\b\b\b\b\b\b\b\b\b\b\b\b\b\b\b\b\b\b\b\b\b\b\b\b\b\b\b\b\b\b\b\b\b\b\b\b\b\b\b\b\b\b\b\b\b\b\b\b\b\b\b\b\b\b\b\b\b\b\b\r21/37 [================>.............] - ETA: 5:37 - loss: 0.5498 - accuracy: 0.9077"
          ]
        },
        {
          "metadata": {
            "tags": null
          },
          "name": "stderr",
          "output_type": "stream",
          "text": [
            "WARNING:tensorflow:Can save best model only with val_acc available, skipping.\n"
          ]
        },
        {
          "metadata": {
            "tags": null
          },
          "name": "stdout",
          "output_type": "stream",
          "text": [
            "\b\b\b\b\b\b\b\b\b\b\b\b\b\b\b\b\b\b\b\b\b\b\b\b\b\b\b\b\b\b\b\b\b\b\b\b\b\b\b\b\b\b\b\b\b\b\b\b\b\b\b\b\b\b\b\b\b\b\b\b\b\b\b\b\b\b\b\b\b\b\b\b\b\b\b\b\b\b\b\b\b\b\b\b\r22/37 [================>.............] - ETA: 5:15 - loss: 0.5411 - accuracy: 0.9105"
          ]
        },
        {
          "metadata": {
            "tags": null
          },
          "name": "stderr",
          "output_type": "stream",
          "text": [
            "WARNING:tensorflow:Can save best model only with val_acc available, skipping.\n"
          ]
        },
        {
          "metadata": {
            "tags": null
          },
          "name": "stdout",
          "output_type": "stream",
          "text": [
            "\b\b\b\b\b\b\b\b\b\b\b\b\b\b\b\b\b\b\b\b\b\b\b\b\b\b\b\b\b\b\b\b\b\b\b\b\b\b\b\b\b\b\b\b\b\b\b\b\b\b\b\b\b\b\b\b\b\b\b\b\b\b\b\b\b\b\b\b\b\b\b\b\b\b\b\b\b\b\b\b\b\b\b\b\r23/37 [=================>............] - ETA: 4:55 - loss: 0.5391 - accuracy: 0.9130"
          ]
        },
        {
          "metadata": {
            "tags": null
          },
          "name": "stderr",
          "output_type": "stream",
          "text": [
            "WARNING:tensorflow:Can save best model only with val_acc available, skipping.\n"
          ]
        },
        {
          "metadata": {
            "tags": null
          },
          "name": "stdout",
          "output_type": "stream",
          "text": [
            "\b\b\b\b\b\b\b\b\b\b\b\b\b\b\b\b\b\b\b\b\b\b\b\b\b\b\b\b\b\b\b\b\b\b\b\b\b\b\b\b\b\b\b\b\b\b\b\b\b\b\b\b\b\b\b\b\b\b\b\b\b\b\b\b\b\b\b\b\b\b\b\b\b\b\b\b\b\b\b\b\b\b\b\b\r24/37 [==================>...........] - ETA: 4:37 - loss: 0.5277 - accuracy: 0.9154"
          ]
        },
        {
          "metadata": {
            "tags": null
          },
          "name": "stderr",
          "output_type": "stream",
          "text": [
            "WARNING:tensorflow:Can save best model only with val_acc available, skipping.\n"
          ]
        },
        {
          "metadata": {
            "tags": null
          },
          "name": "stdout",
          "output_type": "stream",
          "text": [
            "\b\b\b\b\b\b\b\b\b\b\b\b\b\b\b\b\b\b\b\b\b\b\b\b\b\b\b\b\b\b\b\b\b\b\b\b\b\b\b\b\b\b\b\b\b\b\b\b\b\b\b\b\b\b\b\b\b\b\b\b\b\b\b\b\b\b\b\b\b\b\b\b\b\b\b\b\b\b\b\b\b\b\b\b\r25/37 [===================>..........] - ETA: 4:16 - loss: 0.5066 - accuracy: 0.9187"
          ]
        },
        {
          "metadata": {
            "tags": null
          },
          "name": "stderr",
          "output_type": "stream",
          "text": [
            "WARNING:tensorflow:Can save best model only with val_acc available, skipping.\n"
          ]
        },
        {
          "metadata": {
            "tags": null
          },
          "name": "stdout",
          "output_type": "stream",
          "text": [
            "\b\b\b\b\b\b\b\b\b\b\b\b\b\b\b\b\b\b\b\b\b\b\b\b\b\b\b\b\b\b\b\b\b\b\b\b\b\b\b\b\b\b\b\b\b\b\b\b\b\b\b\b\b\b\b\b\b\b\b\b\b\b\b\b\b\b\b\b\b\b\b\b\b\b\b\b\b\b\b\b\b\b\b\b\r26/37 [====================>.........] - ETA: 3:54 - loss: 0.5180 - accuracy: 0.9183"
          ]
        },
        {
          "metadata": {
            "tags": null
          },
          "name": "stderr",
          "output_type": "stream",
          "text": [
            "WARNING:tensorflow:Can save best model only with val_acc available, skipping.\n"
          ]
        },
        {
          "metadata": {
            "tags": null
          },
          "name": "stdout",
          "output_type": "stream",
          "text": [
            "\b\b\b\b\b\b\b\b\b\b\b\b\b\b\b\b\b\b\b\b\b\b\b\b\b\b\b\b\b\b\b\b\b\b\b\b\b\b\b\b\b\b\b\b\b\b\b\b\b\b\b\b\b\b\b\b\b\b\b\b\b\b\b\b\b\b\b\b\b\b\b\b\b\b\b\b\b\b\b\b\b\b\b\b\r27/37 [====================>.........] - ETA: 3:33 - loss: 0.4988 - accuracy: 0.9213"
          ]
        },
        {
          "metadata": {
            "tags": null
          },
          "name": "stderr",
          "output_type": "stream",
          "text": [
            "WARNING:tensorflow:Can save best model only with val_acc available, skipping.\n"
          ]
        },
        {
          "metadata": {
            "tags": null
          },
          "name": "stdout",
          "output_type": "stream",
          "text": [
            "\b\b\b\b\b\b\b\b\b\b\b\b\b\b\b\b\b\b\b\b\b\b\b\b\b\b\b\b\b\b\b\b\b\b\b\b\b\b\b\b\b\b\b\b\b\b\b\b\b\b\b\b\b\b\b\b\b\b\b\b\b\b\b\b\b\b\b\b\b\b\b\b\b\b\b\b\b\b\b\b\b\b\b\b\r28/37 [=====================>........] - ETA: 3:11 - loss: 0.4812 - accuracy: 0.9241"
          ]
        },
        {
          "metadata": {
            "tags": null
          },
          "name": "stderr",
          "output_type": "stream",
          "text": [
            "WARNING:tensorflow:Can save best model only with val_acc available, skipping.\n"
          ]
        },
        {
          "metadata": {
            "tags": null
          },
          "name": "stdout",
          "output_type": "stream",
          "text": [
            "\b\b\b\b\b\b\b\b\b\b\b\b\b\b\b\b\b\b\b\b\b\b\b\b\b\b\b\b\b\b\b\b\b\b\b\b\b\b\b\b\b\b\b\b\b\b\b\b\b\b\b\b\b\b\b\b\b\b\b\b\b\b\b\b\b\b\b\b\b\b\b\b\b\b\b\b\b\b\b\b\b\b\b\b\r29/37 [======================>.......] - ETA: 2:50 - loss: 0.4646 - accuracy: 0.9267"
          ]
        },
        {
          "metadata": {
            "tags": null
          },
          "name": "stderr",
          "output_type": "stream",
          "text": [
            "WARNING:tensorflow:Can save best model only with val_acc available, skipping.\n"
          ]
        },
        {
          "metadata": {
            "tags": null
          },
          "name": "stdout",
          "output_type": "stream",
          "text": [
            "\b\b\b\b\b\b\b\b\b\b\b\b\b\b\b\b\b\b\b\b\b\b\b\b\b\b\b\b\b\b\b\b\b\b\b\b\b\b\b\b\b\b\b\b\b\b\b\b\b\b\b\b\b\b\b\b\b\b\b\b\b\b\b\b\b\b\b\b\b\b\b\b\b\b\b\b\b\b\b\b\b\b\b\b\r30/37 [=======================>......] - ETA: 2:29 - loss: 0.4533 - accuracy: 0.9281"
          ]
        },
        {
          "metadata": {
            "tags": null
          },
          "name": "stderr",
          "output_type": "stream",
          "text": [
            "WARNING:tensorflow:Can save best model only with val_acc available, skipping.\n"
          ]
        },
        {
          "metadata": {
            "tags": null
          },
          "name": "stdout",
          "output_type": "stream",
          "text": [
            "\b\b\b\b\b\b\b\b\b\b\b\b\b\b\b\b\b\b\b\b\b\b\b\b\b\b\b\b\b\b\b\b\b\b\b\b\b\b\b\b\b\b\b\b\b\b\b\b\b\b\b\b\b\b\b\b\b\b\b\b\b\b\b\b\b\b\b\b\b\b\b\b\b\b\b\b\b\b\b\b\b\b\b\b\r31/37 [========================>.....] - ETA: 2:07 - loss: 0.4387 - accuracy: 0.9304"
          ]
        },
        {
          "metadata": {
            "tags": null
          },
          "name": "stderr",
          "output_type": "stream",
          "text": [
            "WARNING:tensorflow:Can save best model only with val_acc available, skipping.\n"
          ]
        },
        {
          "metadata": {
            "tags": null
          },
          "name": "stdout",
          "output_type": "stream",
          "text": [
            "\b\b\b\b\b\b\b\b\b\b\b\b\b\b\b\b\b\b\b\b\b\b\b\b\b\b\b\b\b\b\b\b\b\b\b\b\b\b\b\b\b\b\b\b\b\b\b\b\b\b\b\b\b\b\b\b\b\b\b\b\b\b\b\b\b\b\b\b\b\b\b\b\b\b\b\b\b\b\b\b\b\b\b\b\r32/37 [========================>.....] - ETA: 1:46 - loss: 0.4588 - accuracy: 0.9316"
          ]
        },
        {
          "metadata": {
            "tags": null
          },
          "name": "stderr",
          "output_type": "stream",
          "text": [
            "WARNING:tensorflow:Can save best model only with val_acc available, skipping.\n"
          ]
        },
        {
          "metadata": {
            "tags": null
          },
          "name": "stdout",
          "output_type": "stream",
          "text": [
            "\b\b\b\b\b\b\b\b\b\b\b\b\b\b\b\b\b\b\b\b\b\b\b\b\b\b\b\b\b\b\b\b\b\b\b\b\b\b\b\b\b\b\b\b\b\b\b\b\b\b\b\b\b\b\b\b\b\b\b\b\b\b\b\b\b\b\b\b\b\b\b\b\b\b\b\b\b\b\b\b\b\b\b\b\r33/37 [=========================>....] - ETA: 1:25 - loss: 0.4449 - accuracy: 0.9337"
          ]
        },
        {
          "metadata": {
            "tags": null
          },
          "name": "stderr",
          "output_type": "stream",
          "text": [
            "WARNING:tensorflow:Can save best model only with val_acc available, skipping.\n"
          ]
        },
        {
          "metadata": {
            "tags": null
          },
          "name": "stdout",
          "output_type": "stream",
          "text": [
            "\b\b\b\b\b\b\b\b\b\b\b\b\b\b\b\b\b\b\b\b\b\b\b\b\b\b\b\b\b\b\b\b\b\b\b\b\b\b\b\b\b\b\b\b\b\b\b\b\b\b\b\b\b\b\b\b\b\b\b\b\b\b\b\b\b\b\b\b\b\b\b\b\b\b\b\b\b\b\b\b\b\b\b\b\r34/37 [==========================>...] - ETA: 1:03 - loss: 0.4318 - accuracy: 0.9357"
          ]
        },
        {
          "metadata": {
            "tags": null
          },
          "name": "stderr",
          "output_type": "stream",
          "text": [
            "WARNING:tensorflow:Can save best model only with val_acc available, skipping.\n"
          ]
        },
        {
          "metadata": {
            "tags": null
          },
          "name": "stdout",
          "output_type": "stream",
          "text": [
            "\b\b\b\b\b\b\b\b\b\b\b\b\b\b\b\b\b\b\b\b\b\b\b\b\b\b\b\b\b\b\b\b\b\b\b\b\b\b\b\b\b\b\b\b\b\b\b\b\b\b\b\b\b\b\b\b\b\b\b\b\b\b\b\b\b\b\b\b\b\b\b\b\b\b\b\b\b\b\b\b\b\b\b\b\r35/37 [===========================>..] - ETA: 42s - loss: 0.4195 - accuracy: 0.9375 "
          ]
        },
        {
          "metadata": {
            "tags": null
          },
          "name": "stderr",
          "output_type": "stream",
          "text": [
            "WARNING:tensorflow:Can save best model only with val_acc available, skipping.\n"
          ]
        },
        {
          "metadata": {
            "tags": null
          },
          "name": "stdout",
          "output_type": "stream",
          "text": [
            "\b\b\b\b\b\b\b\b\b\b\b\b\b\b\b\b\b\b\b\b\b\b\b\b\b\b\b\b\b\b\b\b\b\b\b\b\b\b\b\b\b\b\b\b\b\b\b\b\b\b\b\b\b\b\b\b\b\b\b\b\b\b\b\b\b\b\b\b\b\b\b\b\b\b\b\b\b\b\b\b\b\b\b\r36/37 [============================>.] - ETA: 21s - loss: 0.4079 - accuracy: 0.9392"
          ]
        },
        {
          "metadata": {
            "tags": null
          },
          "name": "stderr",
          "output_type": "stream",
          "text": [
            "WARNING:tensorflow:Can save best model only with val_acc available, skipping.\n"
          ]
        },
        {
          "metadata": {
            "tags": null
          },
          "name": "stdout",
          "output_type": "stream",
          "text": [
            "\b\b\b\b\b\b\b\b\b\b\b\b\b\b\b\b\b\b\b\b\b\b\b\b\b\b\b\b\b\b\b\b\b\b\b\b\b\b\b\b\b\b\b\b\b\b\b\b\b\b\b\b\b\b\b\b\b\b\b\b\b\b\b\b\b\b\b\b\b\b\b\b\b\b\b\b\b\b\b\b\b\b\b\r37/37 [==============================] - ETA: 0s - loss: 0.4047 - accuracy: 0.9397 "
          ]
        },
        {
          "metadata": {
            "tags": null
          },
          "name": "stderr",
          "output_type": "stream",
          "text": [
            "WARNING:tensorflow:Early stopping conditioned on metric `val_acc` which is not available. Available metrics are: loss,accuracy,val_loss,val_accuracy\n"
          ]
        },
        {
          "metadata": {
            "tags": null
          },
          "name": "stdout",
          "output_type": "stream",
          "text": [
            "\b\b\b\b\b\b\b\b\b\b\b\b\b\b\b\b\b\b\b\b\b\b\b\b\b\b\b\b\b\b\b\b\b\b\b\b\b\b\b\b\b\b\b\b\b\b\b\b\b\b\b\b\b\b\b\b\b\b\b\b\b\b\b\b\b\b\b\b\b\b\b\b\b\b\b\b\b\b\b\b\b\b\r37/37 [==============================] - 977s 26s/step - loss: 0.4047 - accuracy: 0.9397 - val_loss: 0.1363 - val_accuracy: 0.9828\n",
            "Epoch 2/15\n"
          ]
        },
        {
          "metadata": {
            "tags": null
          },
          "name": "stderr",
          "output_type": "stream",
          "text": [
            "WARNING:tensorflow:Can save best model only with val_acc available, skipping.\n"
          ]
        },
        {
          "metadata": {
            "tags": null
          },
          "name": "stdout",
          "output_type": "stream",
          "text": [
            "\r 1/37 [..............................] - ETA: 12:09 - loss: 6.6124e-04 - accuracy: 1.0000"
          ]
        },
        {
          "metadata": {
            "tags": null
          },
          "name": "stderr",
          "output_type": "stream",
          "text": [
            "WARNING:tensorflow:Can save best model only with val_acc available, skipping.\n"
          ]
        },
        {
          "metadata": {
            "tags": null
          },
          "name": "stdout",
          "output_type": "stream",
          "text": [
            "\b\b\b\b\b\b\b\b\b\b\b\b\b\b\b\b\b\b\b\b\b\b\b\b\b\b\b\b\b\b\b\b\b\b\b\b\b\b\b\b\b\b\b\b\b\b\b\b\b\b\b\b\b\b\b\b\b\b\b\b\b\b\b\b\b\b\b\b\b\b\b\b\b\b\b\b\b\b\b\b\b\b\b\b\b\b\b\b\b\r 2/37 [>.............................] - ETA: 12:35 - loss: 3.4606e-04 - accuracy: 1.0000"
          ]
        },
        {
          "metadata": {
            "tags": null
          },
          "name": "stderr",
          "output_type": "stream",
          "text": [
            "WARNING:tensorflow:Can save best model only with val_acc available, skipping.\n"
          ]
        },
        {
          "metadata": {
            "tags": null
          },
          "name": "stdout",
          "output_type": "stream",
          "text": [
            "\b\b\b\b\b\b\b\b\b\b\b\b\b\b\b\b\b\b\b\b\b\b\b\b\b\b\b\b\b\b\b\b\b\b\b\b\b\b\b\b\b\b\b\b\b\b\b\b\b\b\b\b\b\b\b\b\b\b\b\b\b\b\b\b\b\b\b\b\b\b\b\b\b\b\b\b\b\b\b\b\b\b\b\b\b\b\b\b\b\r 3/37 [=>............................] - ETA: 12:06 - loss: 2.3071e-04 - accuracy: 1.0000"
          ]
        },
        {
          "metadata": {
            "tags": null
          },
          "name": "stderr",
          "output_type": "stream",
          "text": [
            "WARNING:tensorflow:Can save best model only with val_acc available, skipping.\n"
          ]
        },
        {
          "metadata": {
            "tags": null
          },
          "name": "stdout",
          "output_type": "stream",
          "text": [
            "\b\b\b\b\b\b\b\b\b\b\b\b\b\b\b\b\b\b\b\b\b\b\b\b\b\b\b\b\b\b\b\b\b\b\b\b\b\b\b\b\b\b\b\b\b\b\b\b\b\b\b\b\b\b\b\b\b\b\b\b\b\b\b\b\b\b\b\b\b\b\b\b\b\b\b\b\b\b\b\b\b\b\b\b\b\b\b\b\b\r 4/37 [==>...........................] - ETA: 11:36 - loss: 0.0794 - accuracy: 0.9922    "
          ]
        },
        {
          "metadata": {
            "tags": null
          },
          "name": "stderr",
          "output_type": "stream",
          "text": [
            "WARNING:tensorflow:Can save best model only with val_acc available, skipping.\n"
          ]
        },
        {
          "metadata": {
            "tags": null
          },
          "name": "stdout",
          "output_type": "stream",
          "text": [
            "\b\b\b\b\b\b\b\b\b\b\b\b\b\b\b\b\b\b\b\b\b\b\b\b\b\b\b\b\b\b\b\b\b\b\b\b\b\b\b\b\b\b\b\b\b\b\b\b\b\b\b\b\b\b\b\b\b\b\b\b\b\b\b\b\b\b\b\b\b\b\b\b\b\b\b\b\b\b\b\b\b\b\b\b\b\r 5/37 [===>..........................] - ETA: 11:18 - loss: 0.0635 - accuracy: 0.9937"
          ]
        },
        {
          "metadata": {
            "tags": null
          },
          "name": "stderr",
          "output_type": "stream",
          "text": [
            "WARNING:tensorflow:Can save best model only with val_acc available, skipping.\n"
          ]
        },
        {
          "metadata": {
            "tags": null
          },
          "name": "stdout",
          "output_type": "stream",
          "text": [
            "\b\b\b\b\b\b\b\b\b\b\b\b\b\b\b\b\b\b\b\b\b\b\b\b\b\b\b\b\b\b\b\b\b\b\b\b\b\b\b\b\b\b\b\b\b\b\b\b\b\b\b\b\b\b\b\b\b\b\b\b\b\b\b\b\b\b\b\b\b\b\b\b\b\b\b\b\b\b\b\b\b\b\b\b\b\r 6/37 [===>..........................] - ETA: 10:51 - loss: 0.0529 - accuracy: 0.9948"
          ]
        },
        {
          "metadata": {
            "tags": null
          },
          "name": "stderr",
          "output_type": "stream",
          "text": [
            "WARNING:tensorflow:Can save best model only with val_acc available, skipping.\n"
          ]
        },
        {
          "metadata": {
            "tags": null
          },
          "name": "stdout",
          "output_type": "stream",
          "text": [
            "\b\b\b\b\b\b\b\b\b\b\b\b\b\b\b\b\b\b\b\b\b\b\b\b\b\b\b\b\b\b\b\b\b\b\b\b\b\b\b\b\b\b\b\b\b\b\b\b\b\b\b\b\b\b\b\b\b\b\b\b\b\b\b\b\b\b\b\b\b\b\b\b\b\b\b\b\b\b\b\b\b\b\b\b\b\r 7/37 [====>.........................] - ETA: 10:32 - loss: 0.0455 - accuracy: 0.9955"
          ]
        },
        {
          "metadata": {
            "tags": null
          },
          "name": "stderr",
          "output_type": "stream",
          "text": [
            "WARNING:tensorflow:Can save best model only with val_acc available, skipping.\n"
          ]
        },
        {
          "metadata": {
            "tags": null
          },
          "name": "stdout",
          "output_type": "stream",
          "text": [
            "\b\b\b\b\b\b\b\b\b\b\b\b\b\b\b\b\b\b\b\b\b\b\b\b\b\b\b\b\b\b\b\b\b\b\b\b\b\b\b\b\b\b\b\b\b\b\b\b\b\b\b\b\b\b\b\b\b\b\b\b\b\b\b\b\b\b\b\b\b\b\b\b\b\b\b\b\b\b\b\b\b\b\b\b\b\r 8/37 [=====>........................] - ETA: 10:13 - loss: 0.0398 - accuracy: 0.9961"
          ]
        },
        {
          "metadata": {
            "tags": null
          },
          "name": "stderr",
          "output_type": "stream",
          "text": [
            "WARNING:tensorflow:Can save best model only with val_acc available, skipping.\n"
          ]
        },
        {
          "metadata": {
            "tags": null
          },
          "name": "stdout",
          "output_type": "stream",
          "text": [
            "\b\b\b\b\b\b\b\b\b\b\b\b\b\b\b\b\b\b\b\b\b\b\b\b\b\b\b\b\b\b\b\b\b\b\b\b\b\b\b\b\b\b\b\b\b\b\b\b\b\b\b\b\b\b\b\b\b\b\b\b\b\b\b\b\b\b\b\b\b\b\b\b\b\b\b\b\b\b\b\b\b\b\b\b\b\r 9/37 [======>.......................] - ETA: 9:49 - loss: 0.0354 - accuracy: 0.9965 "
          ]
        },
        {
          "metadata": {
            "tags": null
          },
          "name": "stderr",
          "output_type": "stream",
          "text": [
            "WARNING:tensorflow:Can save best model only with val_acc available, skipping.\n"
          ]
        },
        {
          "metadata": {
            "tags": null
          },
          "name": "stdout",
          "output_type": "stream",
          "text": [
            "\b\b\b\b\b\b\b\b\b\b\b\b\b\b\b\b\b\b\b\b\b\b\b\b\b\b\b\b\b\b\b\b\b\b\b\b\b\b\b\b\b\b\b\b\b\b\b\b\b\b\b\b\b\b\b\b\b\b\b\b\b\b\b\b\b\b\b\b\b\b\b\b\b\b\b\b\b\b\b\b\b\b\b\b\r10/37 [=======>......................] - ETA: 9:29 - loss: 0.0319 - accuracy: 0.9969"
          ]
        },
        {
          "metadata": {
            "tags": null
          },
          "name": "stderr",
          "output_type": "stream",
          "text": [
            "WARNING:tensorflow:Can save best model only with val_acc available, skipping.\n"
          ]
        },
        {
          "metadata": {
            "tags": null
          },
          "name": "stdout",
          "output_type": "stream",
          "text": [
            "\b\b\b\b\b\b\b\b\b\b\b\b\b\b\b\b\b\b\b\b\b\b\b\b\b\b\b\b\b\b\b\b\b\b\b\b\b\b\b\b\b\b\b\b\b\b\b\b\b\b\b\b\b\b\b\b\b\b\b\b\b\b\b\b\b\b\b\b\b\b\b\b\b\b\b\b\b\b\b\b\b\b\b\b\r11/37 [=======>......................] - ETA: 9:09 - loss: 0.0290 - accuracy: 0.9972"
          ]
        },
        {
          "metadata": {
            "tags": null
          },
          "name": "stderr",
          "output_type": "stream",
          "text": [
            "WARNING:tensorflow:Can save best model only with val_acc available, skipping.\n"
          ]
        },
        {
          "metadata": {
            "tags": null
          },
          "name": "stdout",
          "output_type": "stream",
          "text": [
            "\b\b\b\b\b\b\b\b\b\b\b\b\b\b\b\b\b\b\b\b\b\b\b\b\b\b\b\b\b\b\b\b\b\b\b\b\b\b\b\b\b\b\b\b\b\b\b\b\b\b\b\b\b\b\b\b\b\b\b\b\b\b\b\b\b\b\b\b\b\b\b\b\b\b\b\b\b\b\b\b\b\b\b\b\r12/37 [========>.....................] - ETA: 8:46 - loss: 0.0266 - accuracy: 0.9974"
          ]
        },
        {
          "metadata": {
            "tags": null
          },
          "name": "stderr",
          "output_type": "stream",
          "text": [
            "WARNING:tensorflow:Can save best model only with val_acc available, skipping.\n"
          ]
        },
        {
          "metadata": {
            "tags": null
          },
          "name": "stdout",
          "output_type": "stream",
          "text": [
            "\b\b\b\b\b\b\b\b\b\b\b\b\b\b\b\b\b\b\b\b\b\b\b\b\b\b\b\b\b\b\b\b\b\b\b\b\b\b\b\b\b\b\b\b\b\b\b\b\b\b\b\b\b\b\b\b\b\b\b\b\b\b\b\b\b\b\b\b\b\b\b\b\b\b\b\b\b\b\b\b\b\b\b\b\r13/37 [=========>....................] - ETA: 8:26 - loss: 0.0803 - accuracy: 0.9952"
          ]
        },
        {
          "metadata": {
            "tags": null
          },
          "name": "stderr",
          "output_type": "stream",
          "text": [
            "WARNING:tensorflow:Can save best model only with val_acc available, skipping.\n"
          ]
        },
        {
          "metadata": {
            "tags": null
          },
          "name": "stdout",
          "output_type": "stream",
          "text": [
            "\b\b\b\b\b\b\b\b\b\b\b\b\b\b\b\b\b\b\b\b\b\b\b\b\b\b\b\b\b\b\b\b\b\b\b\b\b\b\b\b\b\b\b\b\b\b\b\b\b\b\b\b\b\b\b\b\b\b\b\b\b\b\b\b\b\b\b\b\b\b\b\b\b\b\b\b\b\b\b\b\b\b\b\b\r14/37 [==========>...................] - ETA: 8:04 - loss: 0.0752 - accuracy: 0.9955"
          ]
        },
        {
          "metadata": {
            "tags": null
          },
          "name": "stderr",
          "output_type": "stream",
          "text": [
            "WARNING:tensorflow:Can save best model only with val_acc available, skipping.\n"
          ]
        },
        {
          "metadata": {
            "tags": null
          },
          "name": "stdout",
          "output_type": "stream",
          "text": [
            "\b\b\b\b\b\b\b\b\b\b\b\b\b\b\b\b\b\b\b\b\b\b\b\b\b\b\b\b\b\b\b\b\b\b\b\b\b\b\b\b\b\b\b\b\b\b\b\b\b\b\b\b\b\b\b\b\b\b\b\b\b\b\b\b\b\b\b\b\b\b\b\b\b\b\b\b\b\b\b\b\b\b\b\b\r15/37 [===========>..................] - ETA: 7:43 - loss: 0.0702 - accuracy: 0.9958"
          ]
        },
        {
          "metadata": {
            "tags": null
          },
          "name": "stderr",
          "output_type": "stream",
          "text": [
            "WARNING:tensorflow:Can save best model only with val_acc available, skipping.\n"
          ]
        },
        {
          "metadata": {
            "tags": null
          },
          "name": "stdout",
          "output_type": "stream",
          "text": [
            "\b\b\b\b\b\b\b\b\b\b\b\b\b\b\b\b\b\b\b\b\b\b\b\b\b\b\b\b\b\b\b\b\b\b\b\b\b\b\b\b\b\b\b\b\b\b\b\b\b\b\b\b\b\b\b\b\b\b\b\b\b\b\b\b\b\b\b\b\b\b\b\b\b\b\b\b\b\b\b\b\b\b\b\b\r16/37 [===========>..................] - ETA: 7:23 - loss: 0.0763 - accuracy: 0.9941"
          ]
        },
        {
          "metadata": {
            "tags": null
          },
          "name": "stderr",
          "output_type": "stream",
          "text": [
            "WARNING:tensorflow:Can save best model only with val_acc available, skipping.\n"
          ]
        },
        {
          "metadata": {
            "tags": null
          },
          "name": "stdout",
          "output_type": "stream",
          "text": [
            "\b\b\b\b\b\b\b\b\b\b\b\b\b\b\b\b\b\b\b\b\b\b\b\b\b\b\b\b\b\b\b\b\b\b\b\b\b\b\b\b\b\b\b\b\b\b\b\b\b\b\b\b\b\b\b\b\b\b\b\b\b\b\b\b\b\b\b\b\b\b\b\b\b\b\b\b\b\b\b\b\b\b\b\b\r17/37 [============>.................] - ETA: 7:01 - loss: 0.0720 - accuracy: 0.9945"
          ]
        },
        {
          "metadata": {
            "tags": null
          },
          "name": "stderr",
          "output_type": "stream",
          "text": [
            "WARNING:tensorflow:Can save best model only with val_acc available, skipping.\n"
          ]
        },
        {
          "metadata": {
            "tags": null
          },
          "name": "stdout",
          "output_type": "stream",
          "text": [
            "\b\b\b\b\b\b\b\b\b\b\b\b\b\b\b\b\b\b\b\b\b\b\b\b\b\b\b\b\b\b\b\b\b\b\b\b\b\b\b\b\b\b\b\b\b\b\b\b\b\b\b\b\b\b\b\b\b\b\b\b\b\b\b\b\b\b\b\b\b\b\b\b\b\b\b\b\b\b\b\b\b\b\b\b\r18/37 [=============>................] - ETA: 6:40 - loss: 0.0711 - accuracy: 0.9931"
          ]
        },
        {
          "metadata": {
            "tags": null
          },
          "name": "stderr",
          "output_type": "stream",
          "text": [
            "WARNING:tensorflow:Can save best model only with val_acc available, skipping.\n"
          ]
        },
        {
          "metadata": {
            "tags": null
          },
          "name": "stdout",
          "output_type": "stream",
          "text": [
            "\b\b\b\b\b\b\b\b\b\b\b\b\b\b\b\b\b\b\b\b\b\b\b\b\b\b\b\b\b\b\b\b\b\b\b\b\b\b\b\b\b\b\b\b\b\b\b\b\b\b\b\b\b\b\b\b\b\b\b\b\b\b\b\b\b\b\b\b\b\b\b\b\b\b\b\b\b\b\b\b\b\b\b\b\r19/37 [==============>...............] - ETA: 6:19 - loss: 0.0674 - accuracy: 0.9934"
          ]
        },
        {
          "metadata": {
            "tags": null
          },
          "name": "stderr",
          "output_type": "stream",
          "text": [
            "WARNING:tensorflow:Can save best model only with val_acc available, skipping.\n"
          ]
        },
        {
          "metadata": {
            "tags": null
          },
          "name": "stdout",
          "output_type": "stream",
          "text": [
            "\b\b\b\b\b\b\b\b\b\b\b\b\b\b\b\b\b\b\b\b\b\b\b\b\b\b\b\b\b\b\b\b\b\b\b\b\b\b\b\b\b\b\b\b\b\b\b\b\b\b\b\b\b\b\b\b\b\b\b\b\b\b\b\b\b\b\b\b\b\b\b\b\b\b\b\b\b\b\b\b\b\b\b\b\r20/37 [===============>..............] - ETA: 5:58 - loss: 0.0640 - accuracy: 0.9937"
          ]
        },
        {
          "metadata": {
            "tags": null
          },
          "name": "stderr",
          "output_type": "stream",
          "text": [
            "WARNING:tensorflow:Can save best model only with val_acc available, skipping.\n"
          ]
        },
        {
          "metadata": {
            "tags": null
          },
          "name": "stdout",
          "output_type": "stream",
          "text": [
            "\b\b\b\b\b\b\b\b\b\b\b\b\b\b\b\b\b\b\b\b\b\b\b\b\b\b\b\b\b\b\b\b\b\b\b\b\b\b\b\b\b\b\b\b\b\b\b\b\b\b\b\b\b\b\b\b\b\b\b\b\b\b\b\b\b\b\b\b\b\b\b\b\b\b\b\b\b\b\b\b\b\b\b\b\r21/37 [================>.............] - ETA: 5:37 - loss: 0.0610 - accuracy: 0.9940"
          ]
        },
        {
          "metadata": {
            "tags": null
          },
          "name": "stderr",
          "output_type": "stream",
          "text": [
            "WARNING:tensorflow:Can save best model only with val_acc available, skipping.\n"
          ]
        },
        {
          "metadata": {
            "tags": null
          },
          "name": "stdout",
          "output_type": "stream",
          "text": [
            "\b\b\b\b\b\b\b\b\b\b\b\b\b\b\b\b\b\b\b\b\b\b\b\b\b\b\b\b\b\b\b\b\b\b\b\b\b\b\b\b\b\b\b\b\b\b\b\b\b\b\b\b\b\b\b\b\b\b\b\b\b\b\b\b\b\b\b\b\b\b\b\b\b\b\b\b\b\b\b\b\b\b\b\b\r22/37 [================>.............] - ETA: 5:15 - loss: 0.0604 - accuracy: 0.9929"
          ]
        },
        {
          "metadata": {
            "tags": null
          },
          "name": "stderr",
          "output_type": "stream",
          "text": [
            "WARNING:tensorflow:Can save best model only with val_acc available, skipping.\n"
          ]
        },
        {
          "metadata": {
            "tags": null
          },
          "name": "stdout",
          "output_type": "stream",
          "text": [
            "\b\b\b\b\b\b\b\b\b\b\b\b\b\b\b\b\b\b\b\b\b\b\b\b\b\b\b\b\b\b\b\b\b\b\b\b\b\b\b\b\b\b\b\b\b\b\b\b\b\b\b\b\b\b\b\b\b\b\b\b\b\b\b\b\b\b\b\b\b\b\b\b\b\b\b\b\b\b\b\b\b\b\b\b\r23/37 [=================>............] - ETA: 4:55 - loss: 0.0579 - accuracy: 0.9932"
          ]
        },
        {
          "metadata": {
            "tags": null
          },
          "name": "stderr",
          "output_type": "stream",
          "text": [
            "WARNING:tensorflow:Can save best model only with val_acc available, skipping.\n"
          ]
        },
        {
          "metadata": {
            "tags": null
          },
          "name": "stdout",
          "output_type": "stream",
          "text": [
            "\b\b\b\b\b\b\b\b\b\b\b\b\b\b\b\b\b\b\b\b\b\b\b\b\b\b\b\b\b\b\b\b\b\b\b\b\b\b\b\b\b\b\b\b\b\b\b\b\b\b\b\b\b\b\b\b\b\b\b\b\b\b\b\b\b\b\b\b\b\b\b\b\b\b\b\b\b\b\b\b\b\b\b\b\r24/37 [==================>...........] - ETA: 4:34 - loss: 0.0554 - accuracy: 0.9935"
          ]
        },
        {
          "metadata": {
            "tags": null
          },
          "name": "stderr",
          "output_type": "stream",
          "text": [
            "WARNING:tensorflow:Can save best model only with val_acc available, skipping.\n"
          ]
        },
        {
          "metadata": {
            "tags": null
          },
          "name": "stdout",
          "output_type": "stream",
          "text": [
            "\b\b\b\b\b\b\b\b\b\b\b\b\b\b\b\b\b\b\b\b\b\b\b\b\b\b\b\b\b\b\b\b\b\b\b\b\b\b\b\b\b\b\b\b\b\b\b\b\b\b\b\b\b\b\b\b\b\b\b\b\b\b\b\b\b\b\b\b\b\b\b\b\b\b\b\b\b\b\b\b\b\b\b\b\r25/37 [===================>..........] - ETA: 4:12 - loss: 0.0532 - accuracy: 0.9937"
          ]
        },
        {
          "metadata": {
            "tags": null
          },
          "name": "stderr",
          "output_type": "stream",
          "text": [
            "WARNING:tensorflow:Can save best model only with val_acc available, skipping.\n"
          ]
        },
        {
          "metadata": {
            "tags": null
          },
          "name": "stdout",
          "output_type": "stream",
          "text": [
            "\b\b\b\b\b\b\b\b\b\b\b\b\b\b\b\b\b\b\b\b\b\b\b\b\b\b\b\b\b\b\b\b\b\b\b\b\b\b\b\b\b\b\b\b\b\b\b\b\b\b\b\b\b\b\b\b\b\b\b\b\b\b\b\b\b\b\b\b\b\b\b\b\b\b\b\b\b\b\b\b\b\b\b\b\r26/37 [====================>.........] - ETA: 3:51 - loss: 0.0512 - accuracy: 0.9940"
          ]
        },
        {
          "metadata": {
            "tags": null
          },
          "name": "stderr",
          "output_type": "stream",
          "text": [
            "WARNING:tensorflow:Can save best model only with val_acc available, skipping.\n"
          ]
        },
        {
          "metadata": {
            "tags": null
          },
          "name": "stdout",
          "output_type": "stream",
          "text": [
            "\b\b\b\b\b\b\b\b\b\b\b\b\b\b\b\b\b\b\b\b\b\b\b\b\b\b\b\b\b\b\b\b\b\b\b\b\b\b\b\b\b\b\b\b\b\b\b\b\b\b\b\b\b\b\b\b\b\b\b\b\b\b\b\b\b\b\b\b\b\b\b\b\b\b\b\b\b\b\b\b\b\b\b\b\r27/37 [====================>.........] - ETA: 3:30 - loss: 0.0493 - accuracy: 0.9942"
          ]
        },
        {
          "metadata": {
            "tags": null
          },
          "name": "stderr",
          "output_type": "stream",
          "text": [
            "WARNING:tensorflow:Can save best model only with val_acc available, skipping.\n"
          ]
        },
        {
          "metadata": {
            "tags": null
          },
          "name": "stdout",
          "output_type": "stream",
          "text": [
            "\b\b\b\b\b\b\b\b\b\b\b\b\b\b\b\b\b\b\b\b\b\b\b\b\b\b\b\b\b\b\b\b\b\b\b\b\b\b\b\b\b\b\b\b\b\b\b\b\b\b\b\b\b\b\b\b\b\b\b\b\b\b\b\b\b\b\b\b\b\b\b\b\b\b\b\b\b\b\b\b\b\b\b\b\r28/37 [=====================>........] - ETA: 3:09 - loss: 0.0475 - accuracy: 0.9944"
          ]
        },
        {
          "metadata": {
            "tags": null
          },
          "name": "stderr",
          "output_type": "stream",
          "text": [
            "WARNING:tensorflow:Can save best model only with val_acc available, skipping.\n"
          ]
        },
        {
          "metadata": {
            "tags": null
          },
          "name": "stdout",
          "output_type": "stream",
          "text": [
            "\b\b\b\b\b\b\b\b\b\b\b\b\b\b\b\b\b\b\b\b\b\b\b\b\b\b\b\b\b\b\b\b\b\b\b\b\b\b\b\b\b\b\b\b\b\b\b\b\b\b\b\b\b\b\b\b\b\b\b\b\b\b\b\b\b\b\b\b\b\b\b\b\b\b\b\b\b\b\b\b\b\b\b\b\r29/37 [======================>.......] - ETA: 2:48 - loss: 0.0466 - accuracy: 0.9935"
          ]
        },
        {
          "metadata": {
            "tags": null
          },
          "name": "stderr",
          "output_type": "stream",
          "text": [
            "WARNING:tensorflow:Can save best model only with val_acc available, skipping.\n"
          ]
        },
        {
          "metadata": {
            "tags": null
          },
          "name": "stdout",
          "output_type": "stream",
          "text": [
            "\b\b\b\b\b\b\b\b\b\b\b\b\b\b\b\b\b\b\b\b\b\b\b\b\b\b\b\b\b\b\b\b\b\b\b\b\b\b\b\b\b\b\b\b\b\b\b\b\b\b\b\b\b\b\b\b\b\b\b\b\b\b\b\b\b\b\b\b\b\b\b\b\b\b\b\b\b\b\b\b\b\b\b\b\r30/37 [=======================>......] - ETA: 2:27 - loss: 0.0458 - accuracy: 0.9937"
          ]
        },
        {
          "output_type": "stream",
          "name": "stderr",
          "text": [
            "WARNING:tensorflow:Can save best model only with val_acc available, skipping.\n"
          ]
        },
        {
          "output_type": "stream",
          "name": "stdout",
          "text": [
            "\b\b\b\b\b\b\b\b\b\b\b\b\b\b\b\b\b\b\b\b\b\b\b\b\b\b\b\b\b\b\b\b\b\b\b\b\b\b\b\b\b\b\b\b\b\b\b\b\b\b\b\b\b\b\b\b\b\b\b\b\b\b\b\b\b\b\b\b\b\b\b\b\b\b\b\b\b\b\b\b\b\b\b\b\r31/37 [========================>.....] - ETA: 2:06 - loss: 0.0443 - accuracy: 0.9940"
          ]
        },
        {
          "output_type": "stream",
          "name": "stderr",
          "text": [
            "WARNING:tensorflow:Can save best model only with val_acc available, skipping.\n"
          ]
        },
        {
          "output_type": "stream",
          "name": "stdout",
          "text": [
            "\b\b\b\b\b\b\b\b\b\b\b\b\b\b\b\b\b\b\b\b\b\b\b\b\b\b\b\b\b\b\b\b\b\b\b\b\b\b\b\b\b\b\b\b\b\b\b\b\b\b\b\b\b\b\b\b\b\b\b\b\b\b\b\b\b\b\b\b\b\b\b\b\b\b\b\b\b\b\b\b\b\b\b\b\r32/37 [========================>.....] - ETA: 1:45 - loss: 0.0430 - accuracy: 0.9941"
          ]
        },
        {
          "output_type": "stream",
          "name": "stderr",
          "text": [
            "WARNING:tensorflow:Can save best model only with val_acc available, skipping.\n"
          ]
        },
        {
          "output_type": "stream",
          "name": "stdout",
          "text": [
            "\b\b\b\b\b\b\b\b\b\b\b\b\b\b\b\b\b\b\b\b\b\b\b\b\b\b\b\b\b\b\b\b\b\b\b\b\b\b\b\b\b\b\b\b\b\b\b\b\b\b\b\b\b\b\b\b\b\b\b\b\b\b\b\b\b\b\b\b\b\b\b\b\b\b\b\b\b\b\b\b\b\b\b\b\r33/37 [=========================>....] - ETA: 1:24 - loss: 0.0417 - accuracy: 0.9943"
          ]
        },
        {
          "output_type": "stream",
          "name": "stderr",
          "text": [
            "WARNING:tensorflow:Can save best model only with val_acc available, skipping.\n"
          ]
        },
        {
          "output_type": "stream",
          "name": "stdout",
          "text": [
            "\b\b\b\b\b\b\b\b\b\b\b\b\b\b\b\b\b\b\b\b\b\b\b\b\b\b\b\b\b\b\b\b\b\b\b\b\b\b\b\b\b\b\b\b\b\b\b\b\b\b\b\b\b\b\b\b\b\b\b\b\b\b\b\b\b\b\b\b\b\b\b\b\b\b\b\b\b\b\b\b\b\b\b\b\r34/37 [==========================>...] - ETA: 1:02 - loss: 0.0404 - accuracy: 0.9945"
          ]
        },
        {
          "output_type": "stream",
          "name": "stderr",
          "text": [
            "WARNING:tensorflow:Can save best model only with val_acc available, skipping.\n"
          ]
        },
        {
          "output_type": "stream",
          "name": "stdout",
          "text": [
            "\b\b\b\b\b\b\b\b\b\b\b\b\b\b\b\b\b\b\b\b\b\b\b\b\b\b\b\b\b\b\b\b\b\b\b\b\b\b\b\b\b\b\b\b\b\b\b\b\b\b\b\b\b\b\b\b\b\b\b\b\b\b\b\b\b\b\b\b\b\b\b\b\b\b\b\b\b\b\b\b\b\b\b\b\r35/37 [===========================>..] - ETA: 41s - loss: 0.0393 - accuracy: 0.9946 "
          ]
        },
        {
          "output_type": "stream",
          "name": "stderr",
          "text": [
            "WARNING:tensorflow:Can save best model only with val_acc available, skipping.\n"
          ]
        },
        {
          "output_type": "stream",
          "name": "stdout",
          "text": [
            "\b\b\b\b\b\b\b\b\b\b\b\b\b\b\b\b\b\b\b\b\b\b\b\b\b\b\b\b\b\b\b\b\b\b\b\b\b\b\b\b\b\b\b\b\b\b\b\b\b\b\b\b\b\b\b\b\b\b\b\b\b\b\b\b\b\b\b\b\b\b\b\b\b\b\b\b\b\b\b\b\b\b\b\r36/37 [============================>.] - ETA: 20s - loss: 0.0382 - accuracy: 0.9948"
          ]
        },
        {
          "output_type": "stream",
          "name": "stderr",
          "text": [
            "WARNING:tensorflow:Can save best model only with val_acc available, skipping.\n"
          ]
        },
        {
          "output_type": "stream",
          "name": "stdout",
          "text": [
            "\b\b\b\b\b\b\b\b\b\b\b\b\b\b\b\b\b\b\b\b\b\b\b\b\b\b\b\b\b\b\b\b\b\b\b\b\b\b\b\b\b\b\b\b\b\b\b\b\b\b\b\b\b\b\b\b\b\b\b\b\b\b\b\b\b\b\b\b\b\b\b\b\b\b\b\b\b\b\b\b\b\b\b\r37/37 [==============================] - ETA: 0s - loss: 0.0379 - accuracy: 0.9948 "
          ]
        },
        {
          "output_type": "stream",
          "name": "stderr",
          "text": [
            "WARNING:tensorflow:Early stopping conditioned on metric `val_acc` which is not available. Available metrics are: loss,accuracy,val_loss,val_accuracy\n"
          ]
        },
        {
          "output_type": "stream",
          "name": "stdout",
          "text": [
            "\b\b\b\b\b\b\b\b\b\b\b\b\b\b\b\b\b\b\b\b\b\b\b\b\b\b\b\b\b\b\b\b\b\b\b\b\b\b\b\b\b\b\b\b\b\b\b\b\b\b\b\b\b\b\b\b\b\b\b\b\b\b\b\b\b\b\b\b\b\b\b\b\b\b\b\b\b\b\b\b\b\b\r37/37 [==============================] - 961s 26s/step - loss: 0.0379 - accuracy: 0.9948 - val_loss: 0.0300 - val_accuracy: 0.9931\n",
            "Epoch 3/15\n"
          ]
        },
        {
          "output_type": "stream",
          "name": "stderr",
          "text": [
            "WARNING:tensorflow:Can save best model only with val_acc available, skipping.\n"
          ]
        },
        {
          "output_type": "stream",
          "name": "stdout",
          "text": [
            "\r 1/37 [..............................] - ETA: 12:20 - loss: 1.2198e-05 - accuracy: 1.0000"
          ]
        },
        {
          "output_type": "stream",
          "name": "stderr",
          "text": [
            "WARNING:tensorflow:Can save best model only with val_acc available, skipping.\n"
          ]
        },
        {
          "output_type": "stream",
          "name": "stdout",
          "text": [
            "\b\b\b\b\b\b\b\b\b\b\b\b\b\b\b\b\b\b\b\b\b\b\b\b\b\b\b\b\b\b\b\b\b\b\b\b\b\b\b\b\b\b\b\b\b\b\b\b\b\b\b\b\b\b\b\b\b\b\b\b\b\b\b\b\b\b\b\b\b\b\b\b\b\b\b\b\b\b\b\b\b\b\b\b\b\b\b\b\b\r 2/37 [>.............................] - ETA: 11:57 - loss: 6.0989e-06 - accuracy: 1.0000"
          ]
        },
        {
          "output_type": "stream",
          "name": "stderr",
          "text": [
            "WARNING:tensorflow:Can save best model only with val_acc available, skipping.\n"
          ]
        },
        {
          "output_type": "stream",
          "name": "stdout",
          "text": [
            "\b\b\b\b\b\b\b\b\b\b\b\b\b\b\b\b\b\b\b\b\b\b\b\b\b\b\b\b\b\b\b\b\b\b\b\b\b\b\b\b\b\b\b\b\b\b\b\b\b\b\b\b\b\b\b\b\b\b\b\b\b\b\b\b\b\b\b\b\b\b\b\b\b\b\b\b\b\b\b\b\b\b\b\b\b\b\b\b\b\r 3/37 [=>............................] - ETA: 11:25 - loss: 4.2724e-06 - accuracy: 1.0000"
          ]
        },
        {
          "output_type": "stream",
          "name": "stderr",
          "text": [
            "WARNING:tensorflow:Can save best model only with val_acc available, skipping.\n"
          ]
        },
        {
          "output_type": "stream",
          "name": "stdout",
          "text": [
            "\b\b\b\b\b\b\b\b\b\b\b\b\b\b\b\b\b\b\b\b\b\b\b\b\b\b\b\b\b\b\b\b\b\b\b\b\b\b\b\b\b\b\b\b\b\b\b\b\b\b\b\b\b\b\b\b\b\b\b\b\b\b\b\b\b\b\b\b\b\b\b\b\b\b\b\b\b\b\b\b\b\b\b\b\b\b\b\b\b\r 4/37 [==>...........................] - ETA: 11:09 - loss: 7.5930e-06 - accuracy: 1.0000"
          ]
        },
        {
          "output_type": "stream",
          "name": "stderr",
          "text": [
            "WARNING:tensorflow:Can save best model only with val_acc available, skipping.\n"
          ]
        },
        {
          "output_type": "stream",
          "name": "stdout",
          "text": [
            "\b\b\b\b\b\b\b\b\b\b\b\b\b\b\b\b\b\b\b\b\b\b\b\b\b\b\b\b\b\b\b\b\b\b\b\b\b\b\b\b\b\b\b\b\b\b\b\b\b\b\b\b\b\b\b\b\b\b\b\b\b\b\b\b\b\b\b\b\b\b\b\b\b\b\b\b\b\b\b\b\b\b\b\b\b\b\b\b\b\r 5/37 [===>..........................] - ETA: 10:50 - loss: 6.2352e-06 - accuracy: 1.0000"
          ]
        },
        {
          "output_type": "stream",
          "name": "stderr",
          "text": [
            "WARNING:tensorflow:Can save best model only with val_acc available, skipping.\n"
          ]
        },
        {
          "output_type": "stream",
          "name": "stdout",
          "text": [
            "\b\b\b\b\b\b\b\b\b\b\b\b\b\b\b\b\b\b\b\b\b\b\b\b\b\b\b\b\b\b\b\b\b\b\b\b\b\b\b\b\b\b\b\b\b\b\b\b\b\b\b\b\b\b\b\b\b\b\b\b\b\b\b\b\b\b\b\b\b\b\b\b\b\b\b\b\b\b\b\b\b\b\b\b\b\b\b\b\b\r 6/37 [===>..........................] - ETA: 10:26 - loss: 6.6944e-06 - accuracy: 1.0000"
          ]
        },
        {
          "output_type": "stream",
          "name": "stderr",
          "text": [
            "WARNING:tensorflow:Can save best model only with val_acc available, skipping.\n"
          ]
        },
        {
          "output_type": "stream",
          "name": "stdout",
          "text": [
            "\b\b\b\b\b\b\b\b\b\b\b\b\b\b\b\b\b\b\b\b\b\b\b\b\b\b\b\b\b\b\b\b\b\b\b\b\b\b\b\b\b\b\b\b\b\b\b\b\b\b\b\b\b\b\b\b\b\b\b\b\b\b\b\b\b\b\b\b\b\b\b\b\b\b\b\b\b\b\b\b\b\b\b\b\b\b\b\b\b\r 7/37 [====>.........................] - ETA: 10:08 - loss: 5.9194e-06 - accuracy: 1.0000"
          ]
        },
        {
          "output_type": "stream",
          "name": "stderr",
          "text": [
            "WARNING:tensorflow:Can save best model only with val_acc available, skipping.\n"
          ]
        },
        {
          "output_type": "stream",
          "name": "stdout",
          "text": [
            "\b\b\b\b\b\b\b\b\b\b\b\b\b\b\b\b\b\b\b\b\b\b\b\b\b\b\b\b\b\b\b\b\b\b\b\b\b\b\b\b\b\b\b\b\b\b\b\b\b\b\b\b\b\b\b\b\b\b\b\b\b\b\b\b\b\b\b\b\b\b\b\b\b\b\b\b\b\b\b\b\b\b\b\b\b\b\b\b\b\r 8/37 [=====>........................] - ETA: 9:49 - loss: 5.2317e-06 - accuracy: 1.0000 "
          ]
        },
        {
          "output_type": "stream",
          "name": "stderr",
          "text": [
            "WARNING:tensorflow:Can save best model only with val_acc available, skipping.\n"
          ]
        },
        {
          "output_type": "stream",
          "name": "stdout",
          "text": [
            "\b\b\b\b\b\b\b\b\b\b\b\b\b\b\b\b\b\b\b\b\b\b\b\b\b\b\b\b\b\b\b\b\b\b\b\b\b\b\b\b\b\b\b\b\b\b\b\b\b\b\b\b\b\b\b\b\b\b\b\b\b\b\b\b\b\b\b\b\b\b\b\b\b\b\b\b\b\b\b\b\b\b\b\b\b\b\b\b\r 9/37 [======>.......................] - ETA: 9:28 - loss: 6.0045e-06 - accuracy: 1.0000"
          ]
        },
        {
          "output_type": "stream",
          "name": "stderr",
          "text": [
            "WARNING:tensorflow:Can save best model only with val_acc available, skipping.\n"
          ]
        },
        {
          "output_type": "stream",
          "name": "stdout",
          "text": [
            "\b\b\b\b\b\b\b\b\b\b\b\b\b\b\b\b\b\b\b\b\b\b\b\b\b\b\b\b\b\b\b\b\b\b\b\b\b\b\b\b\b\b\b\b\b\b\b\b\b\b\b\b\b\b\b\b\b\b\b\b\b\b\b\b\b\b\b\b\b\b\b\b\b\b\b\b\b\b\b\b\b\b\b\b\b\b\b\b\r10/37 [=======>......................] - ETA: 9:07 - loss: 1.4101e-05 - accuracy: 1.0000"
          ]
        },
        {
          "output_type": "stream",
          "name": "stderr",
          "text": [
            "WARNING:tensorflow:Can save best model only with val_acc available, skipping.\n"
          ]
        },
        {
          "output_type": "stream",
          "name": "stdout",
          "text": [
            "\b\b\b\b\b\b\b\b\b\b\b\b\b\b\b\b\b\b\b\b\b\b\b\b\b\b\b\b\b\b\b\b\b\b\b\b\b\b\b\b\b\b\b\b\b\b\b\b\b\b\b\b\b\b\b\b\b\b\b\b\b\b\b\b\b\b\b\b\b\b\b\b\b\b\b\b\b\b\b\b\b\b\b\b\b\b\b\b\r11/37 [=======>......................] - ETA: 8:47 - loss: 0.0066 - accuracy: 0.9972    "
          ]
        },
        {
          "output_type": "stream",
          "name": "stderr",
          "text": [
            "WARNING:tensorflow:Can save best model only with val_acc available, skipping.\n"
          ]
        },
        {
          "output_type": "stream",
          "name": "stdout",
          "text": [
            "\b\b\b\b\b\b\b\b\b\b\b\b\b\b\b\b\b\b\b\b\b\b\b\b\b\b\b\b\b\b\b\b\b\b\b\b\b\b\b\b\b\b\b\b\b\b\b\b\b\b\b\b\b\b\b\b\b\b\b\b\b\b\b\b\b\b\b\b\b\b\b\b\b\b\b\b\b\b\b\b\b\b\b\b\r12/37 [========>.....................] - ETA: 8:27 - loss: 0.0060 - accuracy: 0.9974"
          ]
        },
        {
          "output_type": "stream",
          "name": "stderr",
          "text": [
            "WARNING:tensorflow:Can save best model only with val_acc available, skipping.\n"
          ]
        },
        {
          "output_type": "stream",
          "name": "stdout",
          "text": [
            "\b\b\b\b\b\b\b\b\b\b\b\b\b\b\b\b\b\b\b\b\b\b\b\b\b\b\b\b\b\b\b\b\b\b\b\b\b\b\b\b\b\b\b\b\b\b\b\b\b\b\b\b\b\b\b\b\b\b\b\b\b\b\b\b\b\b\b\b\b\b\b\b\b\b\b\b\b\b\b\b\b\b\b\b\r13/37 [=========>....................] - ETA: 8:06 - loss: 0.0056 - accuracy: 0.9976"
          ]
        },
        {
          "output_type": "stream",
          "name": "stderr",
          "text": [
            "WARNING:tensorflow:Can save best model only with val_acc available, skipping.\n"
          ]
        },
        {
          "output_type": "stream",
          "name": "stdout",
          "text": [
            "\b\b\b\b\b\b\b\b\b\b\b\b\b\b\b\b\b\b\b\b\b\b\b\b\b\b\b\b\b\b\b\b\b\b\b\b\b\b\b\b\b\b\b\b\b\b\b\b\b\b\b\b\b\b\b\b\b\b\b\b\b\b\b\b\b\b\b\b\b\b\b\b\b\b\b\b\b\b\b\b\b\b\b\b\r14/37 [==========>...................] - ETA: 7:46 - loss: 0.0052 - accuracy: 0.9978"
          ]
        },
        {
          "output_type": "stream",
          "name": "stderr",
          "text": [
            "WARNING:tensorflow:Can save best model only with val_acc available, skipping.\n"
          ]
        },
        {
          "output_type": "stream",
          "name": "stdout",
          "text": [
            "\b\b\b\b\b\b\b\b\b\b\b\b\b\b\b\b\b\b\b\b\b\b\b\b\b\b\b\b\b\b\b\b\b\b\b\b\b\b\b\b\b\b\b\b\b\b\b\b\b\b\b\b\b\b\b\b\b\b\b\b\b\b\b\b\b\b\b\b\b\b\b\b\b\b\b\b\b\b\b\b\b\b\b\b\r15/37 [===========>..................] - ETA: 7:26 - loss: 0.0048 - accuracy: 0.9979"
          ]
        },
        {
          "output_type": "stream",
          "name": "stderr",
          "text": [
            "WARNING:tensorflow:Can save best model only with val_acc available, skipping.\n"
          ]
        },
        {
          "output_type": "stream",
          "name": "stdout",
          "text": [
            "\b\b\b\b\b\b\b\b\b\b\b\b\b\b\b\b\b\b\b\b\b\b\b\b\b\b\b\b\b\b\b\b\b\b\b\b\b\b\b\b\b\b\b\b\b\b\b\b\b\b\b\b\b\b\b\b\b\b\b\b\b\b\b\b\b\b\b\b\b\b\b\b\b\b\b\b\b\b\b\b\b\b\b\b\r16/37 [===========>..................] - ETA: 7:05 - loss: 0.0045 - accuracy: 0.9980"
          ]
        },
        {
          "output_type": "stream",
          "name": "stderr",
          "text": [
            "WARNING:tensorflow:Can save best model only with val_acc available, skipping.\n"
          ]
        },
        {
          "output_type": "stream",
          "name": "stdout",
          "text": [
            "\b\b\b\b\b\b\b\b\b\b\b\b\b\b\b\b\b\b\b\b\b\b\b\b\b\b\b\b\b\b\b\b\b\b\b\b\b\b\b\b\b\b\b\b\b\b\b\b\b\b\b\b\b\b\b\b\b\b\b\b\b\b\b\b\b\b\b\b\b\b\b\b\b\b\b\b\b\b\b\b\b\b\b\b\r17/37 [============>.................] - ETA: 6:45 - loss: 0.0042 - accuracy: 0.9982"
          ]
        },
        {
          "output_type": "stream",
          "name": "stderr",
          "text": [
            "WARNING:tensorflow:Can save best model only with val_acc available, skipping.\n"
          ]
        },
        {
          "output_type": "stream",
          "name": "stdout",
          "text": [
            "\b\b\b\b\b\b\b\b\b\b\b\b\b\b\b\b\b\b\b\b\b\b\b\b\b\b\b\b\b\b\b\b\b\b\b\b\b\b\b\b\b\b\b\b\b\b\b\b\b\b\b\b\b\b\b\b\b\b\b\b\b\b\b\b\b\b\b\b\b\b\b\b\b\b\b\b\b\b\b\b\b\b\b\b\r18/37 [=============>................] - ETA: 6:25 - loss: 0.0040 - accuracy: 0.9983"
          ]
        },
        {
          "output_type": "stream",
          "name": "stderr",
          "text": [
            "WARNING:tensorflow:Can save best model only with val_acc available, skipping.\n"
          ]
        },
        {
          "output_type": "stream",
          "name": "stdout",
          "text": [
            "\b\b\b\b\b\b\b\b\b\b\b\b\b\b\b\b\b\b\b\b\b\b\b\b\b\b\b\b\b\b\b\b\b\b\b\b\b\b\b\b\b\b\b\b\b\b\b\b\b\b\b\b\b\b\b\b\b\b\b\b\b\b\b\b\b\b\b\b\b\b\b\b\b\b\b\b\b\b\b\b\b\b\b\b\r19/37 [==============>...............] - ETA: 6:05 - loss: 0.0038 - accuracy: 0.9984"
          ]
        },
        {
          "output_type": "stream",
          "name": "stderr",
          "text": [
            "WARNING:tensorflow:Can save best model only with val_acc available, skipping.\n"
          ]
        },
        {
          "output_type": "stream",
          "name": "stdout",
          "text": [
            "\b\b\b\b\b\b\b\b\b\b\b\b\b\b\b\b\b\b\b\b\b\b\b\b\b\b\b\b\b\b\b\b\b\b\b\b\b\b\b\b\b\b\b\b\b\b\b\b\b\b\b\b\b\b\b\b\b\b\b\b\b\b\b\b\b\b\b\b\b\b\b\b\b\b\b\b\b\b\b\b\b\b\b\b\r20/37 [===============>..............] - ETA: 5:44 - loss: 0.0061 - accuracy: 0.9969"
          ]
        },
        {
          "output_type": "stream",
          "name": "stderr",
          "text": [
            "WARNING:tensorflow:Can save best model only with val_acc available, skipping.\n"
          ]
        },
        {
          "output_type": "stream",
          "name": "stdout",
          "text": [
            "\b\b\b\b\b\b\b\b\b\b\b\b\b\b\b\b\b\b\b\b\b\b\b\b\b\b\b\b\b\b\b\b\b\b\b\b\b\b\b\b\b\b\b\b\b\b\b\b\b\b\b\b\b\b\b\b\b\b\b\b\b\b\b\b\b\b\b\b\b\b\b\b\b\b\b\b\b\b\b\b\b\b\b\b\r21/37 [================>.............] - ETA: 5:24 - loss: 0.0058 - accuracy: 0.9970"
          ]
        },
        {
          "output_type": "stream",
          "name": "stderr",
          "text": [
            "WARNING:tensorflow:Can save best model only with val_acc available, skipping.\n"
          ]
        },
        {
          "output_type": "stream",
          "name": "stdout",
          "text": [
            "\b\b\b\b\b\b\b\b\b\b\b\b\b\b\b\b\b\b\b\b\b\b\b\b\b\b\b\b\b\b\b\b\b\b\b\b\b\b\b\b\b\b\b\b\b\b\b\b\b\b\b\b\b\b\b\b\b\b\b\b\b\b\b\b\b\b\b\b\b\b\b\b\b\b\b\b\b\b\b\b\b\b\b\b\r22/37 [================>.............] - ETA: 5:04 - loss: 0.0055 - accuracy: 0.9972"
          ]
        },
        {
          "output_type": "stream",
          "name": "stderr",
          "text": [
            "WARNING:tensorflow:Can save best model only with val_acc available, skipping.\n"
          ]
        },
        {
          "output_type": "stream",
          "name": "stdout",
          "text": [
            "\b\b\b\b\b\b\b\b\b\b\b\b\b\b\b\b\b\b\b\b\b\b\b\b\b\b\b\b\b\b\b\b\b\b\b\b\b\b\b\b\b\b\b\b\b\b\b\b\b\b\b\b\b\b\b\b\b\b\b\b\b\b\b\b\b\b\b\b\b\b\b\b\b\b\b\b\b\b\b\b\b\b\b\b\r23/37 [=================>............] - ETA: 4:43 - loss: 0.0053 - accuracy: 0.9973"
          ]
        },
        {
          "output_type": "stream",
          "name": "stderr",
          "text": [
            "WARNING:tensorflow:Can save best model only with val_acc available, skipping.\n"
          ]
        },
        {
          "output_type": "stream",
          "name": "stdout",
          "text": [
            "\b\b\b\b\b\b\b\b\b\b\b\b\b\b\b\b\b\b\b\b\b\b\b\b\b\b\b\b\b\b\b\b\b\b\b\b\b\b\b\b\b\b\b\b\b\b\b\b\b\b\b\b\b\b\b\b\b\b\b\b\b\b\b\b\b\b\b\b\b\b\b\b\b\b\b\b\b\b\b\b\b\b\b\b\r24/37 [==================>...........] - ETA: 4:23 - loss: 0.0051 - accuracy: 0.9974"
          ]
        },
        {
          "output_type": "stream",
          "name": "stderr",
          "text": [
            "WARNING:tensorflow:Can save best model only with val_acc available, skipping.\n"
          ]
        },
        {
          "output_type": "stream",
          "name": "stdout",
          "text": [
            "\b\b\b\b\b\b\b\b\b\b\b\b\b\b\b\b\b\b\b\b\b\b\b\b\b\b\b\b\b\b\b\b\b\b\b\b\b\b\b\b\b\b\b\b\b\b\b\b\b\b\b\b\b\b\b\b\b\b\b\b\b\b\b\b\b\b\b\b\b\b\b\b\b\b\b\b\b\b\b\b\b\b\b\b\r25/37 [===================>..........] - ETA: 4:03 - loss: 0.0049 - accuracy: 0.9975"
          ]
        },
        {
          "output_type": "stream",
          "name": "stderr",
          "text": [
            "WARNING:tensorflow:Can save best model only with val_acc available, skipping.\n"
          ]
        },
        {
          "output_type": "stream",
          "name": "stdout",
          "text": [
            "\b\b\b\b\b\b\b\b\b\b\b\b\b\b\b\b\b\b\b\b\b\b\b\b\b\b\b\b\b\b\b\b\b\b\b\b\b\b\b\b\b\b\b\b\b\b\b\b\b\b\b\b\b\b\b\b\b\b\b\b\b\b\b\b\b\b\b\b\b\b\b\b\b\b\b\b\b\b\b\b\b\b\b\b\r26/37 [====================>.........] - ETA: 3:43 - loss: 0.0047 - accuracy: 0.9976"
          ]
        },
        {
          "output_type": "stream",
          "name": "stderr",
          "text": [
            "WARNING:tensorflow:Can save best model only with val_acc available, skipping.\n"
          ]
        },
        {
          "output_type": "stream",
          "name": "stdout",
          "text": [
            "\b\b\b\b\b\b\b\b\b\b\b\b\b\b\b\b\b\b\b\b\b\b\b\b\b\b\b\b\b\b\b\b\b\b\b\b\b\b\b\b\b\b\b\b\b\b\b\b\b\b\b\b\b\b\b\b\b\b\b\b\b\b\b\b\b\b\b\b\b\b\b\b\b\b\b\b\b\b\b\b\b\b\b\b\r27/37 [====================>.........] - ETA: 3:22 - loss: 0.0045 - accuracy: 0.9977"
          ]
        },
        {
          "output_type": "stream",
          "name": "stderr",
          "text": [
            "WARNING:tensorflow:Can save best model only with val_acc available, skipping.\n"
          ]
        },
        {
          "output_type": "stream",
          "name": "stdout",
          "text": [
            "\b\b\b\b\b\b\b\b\b\b\b\b\b\b\b\b\b\b\b\b\b\b\b\b\b\b\b\b\b\b\b\b\b\b\b\b\b\b\b\b\b\b\b\b\b\b\b\b\b\b\b\b\b\b\b\b\b\b\b\b\b\b\b\b\b\b\b\b\b\b\b\b\b\b\b\b\b\b\b\b\b\b\b\b\r28/37 [=====================>........] - ETA: 3:02 - loss: 0.0044 - accuracy: 0.9978"
          ]
        },
        {
          "output_type": "stream",
          "name": "stderr",
          "text": [
            "WARNING:tensorflow:Can save best model only with val_acc available, skipping.\n"
          ]
        },
        {
          "output_type": "stream",
          "name": "stdout",
          "text": [
            "\b\b\b\b\b\b\b\b\b\b\b\b\b\b\b\b\b\b\b\b\b\b\b\b\b\b\b\b\b\b\b\b\b\b\b\b\b\b\b\b\b\b\b\b\b\b\b\b\b\b\b\b\b\b\b\b\b\b\b\b\b\b\b\b\b\b\b\b\b\b\b\b\b\b\b\b\b\b\b\b\b\b\b\b\r29/37 [======================>.......] - ETA: 2:42 - loss: 0.0047 - accuracy: 0.9978"
          ]
        },
        {
          "output_type": "stream",
          "name": "stderr",
          "text": [
            "WARNING:tensorflow:Can save best model only with val_acc available, skipping.\n"
          ]
        },
        {
          "output_type": "stream",
          "name": "stdout",
          "text": [
            "\b\b\b\b\b\b\b\b\b\b\b\b\b\b\b\b\b\b\b\b\b\b\b\b\b\b\b\b\b\b\b\b\b\b\b\b\b\b\b\b\b\b\b\b\b\b\b\b\b\b\b\b\b\b\b\b\b\b\b\b\b\b\b\b\b\b\b\b\b\b\b\b\b\b\b\b\b\b\b\b\b\b\b\b\r30/37 [=======================>......] - ETA: 2:22 - loss: 0.0045 - accuracy: 0.9979"
          ]
        },
        {
          "output_type": "stream",
          "name": "stderr",
          "text": [
            "WARNING:tensorflow:Can save best model only with val_acc available, skipping.\n"
          ]
        },
        {
          "output_type": "stream",
          "name": "stdout",
          "text": [
            "\b\b\b\b\b\b\b\b\b\b\b\b\b\b\b\b\b\b\b\b\b\b\b\b\b\b\b\b\b\b\b\b\b\b\b\b\b\b\b\b\b\b\b\b\b\b\b\b\b\b\b\b\b\b\b\b\b\b\b\b\b\b\b\b\b\b\b\b\b\b\b\b\b\b\b\b\b\b\b\b\b\b\b\b\r31/37 [========================>.....] - ETA: 2:01 - loss: 0.0044 - accuracy: 0.9980"
          ]
        },
        {
          "output_type": "stream",
          "name": "stderr",
          "text": [
            "WARNING:tensorflow:Can save best model only with val_acc available, skipping.\n"
          ]
        },
        {
          "output_type": "stream",
          "name": "stdout",
          "text": [
            "\b\b\b\b\b\b\b\b\b\b\b\b\b\b\b\b\b\b\b\b\b\b\b\b\b\b\b\b\b\b\b\b\b\b\b\b\b\b\b\b\b\b\b\b\b\b\b\b\b\b\b\b\b\b\b\b\b\b\b\b\b\b\b\b\b\b\b\b\b\b\b\b\b\b\b\b\b\b\b\b\b\b\b\b\r32/37 [========================>.....] - ETA: 1:41 - loss: 0.0042 - accuracy: 0.9980"
          ]
        },
        {
          "output_type": "stream",
          "name": "stderr",
          "text": [
            "WARNING:tensorflow:Can save best model only with val_acc available, skipping.\n"
          ]
        },
        {
          "output_type": "stream",
          "name": "stdout",
          "text": [
            "\b\b\b\b\b\b\b\b\b\b\b\b\b\b\b\b\b\b\b\b\b\b\b\b\b\b\b\b\b\b\b\b\b\b\b\b\b\b\b\b\b\b\b\b\b\b\b\b\b\b\b\b\b\b\b\b\b\b\b\b\b\b\b\b\b\b\b\b\b\b\b\b\b\b\b\b\b\b\b\b\b\b\b\b\r33/37 [=========================>....] - ETA: 1:21 - loss: 0.0041 - accuracy: 0.9981"
          ]
        },
        {
          "output_type": "stream",
          "name": "stderr",
          "text": [
            "WARNING:tensorflow:Can save best model only with val_acc available, skipping.\n"
          ]
        },
        {
          "output_type": "stream",
          "name": "stdout",
          "text": [
            "\b\b\b\b\b\b\b\b\b\b\b\b\b\b\b\b\b\b\b\b\b\b\b\b\b\b\b\b\b\b\b\b\b\b\b\b\b\b\b\b\b\b\b\b\b\b\b\b\b\b\b\b\b\b\b\b\b\b\b\b\b\b\b\b\b\b\b\b\b\b\b\b\b\b\b\b\b\b\b\b\b\b\b\b\r34/37 [==========================>...] - ETA: 1:00 - loss: 0.0040 - accuracy: 0.9982"
          ]
        },
        {
          "output_type": "stream",
          "name": "stderr",
          "text": [
            "WARNING:tensorflow:Can save best model only with val_acc available, skipping.\n"
          ]
        },
        {
          "output_type": "stream",
          "name": "stdout",
          "text": [
            "\b\b\b\b\b\b\b\b\b\b\b\b\b\b\b\b\b\b\b\b\b\b\b\b\b\b\b\b\b\b\b\b\b\b\b\b\b\b\b\b\b\b\b\b\b\b\b\b\b\b\b\b\b\b\b\b\b\b\b\b\b\b\b\b\b\b\b\b\b\b\b\b\b\b\b\b\b\b\b\b\b\b\b\b\r35/37 [===========================>..] - ETA: 40s - loss: 0.0039 - accuracy: 0.9982 "
          ]
        },
        {
          "output_type": "stream",
          "name": "stderr",
          "text": [
            "WARNING:tensorflow:Can save best model only with val_acc available, skipping.\n"
          ]
        },
        {
          "output_type": "stream",
          "name": "stdout",
          "text": [
            "\b\b\b\b\b\b\b\b\b\b\b\b\b\b\b\b\b\b\b\b\b\b\b\b\b\b\b\b\b\b\b\b\b\b\b\b\b\b\b\b\b\b\b\b\b\b\b\b\b\b\b\b\b\b\b\b\b\b\b\b\b\b\b\b\b\b\b\b\b\b\b\b\b\b\b\b\b\b\b\b\b\b\b\r36/37 [============================>.] - ETA: 20s - loss: 0.0038 - accuracy: 0.9983"
          ]
        },
        {
          "output_type": "stream",
          "name": "stderr",
          "text": [
            "WARNING:tensorflow:Can save best model only with val_acc available, skipping.\n"
          ]
        },
        {
          "output_type": "stream",
          "name": "stdout",
          "text": [
            "\b\b\b\b\b\b\b\b\b\b\b\b\b\b\b\b\b\b\b\b\b\b\b\b\b\b\b\b\b\b\b\b\b\b\b\b\b\b\b\b\b\b\b\b\b\b\b\b\b\b\b\b\b\b\b\b\b\b\b\b\b\b\b\b\b\b\b\b\b\b\b\b\b\b\b\b\b\b\b\b\b\b\b\r37/37 [==============================] - ETA: 0s - loss: 0.0038 - accuracy: 0.9983 "
          ]
        },
        {
          "output_type": "stream",
          "name": "stderr",
          "text": [
            "WARNING:tensorflow:Early stopping conditioned on metric `val_acc` which is not available. Available metrics are: loss,accuracy,val_loss,val_accuracy\n"
          ]
        },
        {
          "output_type": "stream",
          "name": "stdout",
          "text": [
            "\b\b\b\b\b\b\b\b\b\b\b\b\b\b\b\b\b\b\b\b\b\b\b\b\b\b\b\b\b\b\b\b\b\b\b\b\b\b\b\b\b\b\b\b\b\b\b\b\b\b\b\b\b\b\b\b\b\b\b\b\b\b\b\b\b\b\b\b\b\b\b\b\b\b\b\b\b\b\b\b\b\b\r37/37 [==============================] - 939s 25s/step - loss: 0.0038 - accuracy: 0.9983 - val_loss: 0.0487 - val_accuracy: 0.9931\n",
            "Epoch 4/15\n"
          ]
        },
        {
          "output_type": "stream",
          "name": "stderr",
          "text": [
            "WARNING:tensorflow:Can save best model only with val_acc available, skipping.\n"
          ]
        },
        {
          "output_type": "stream",
          "name": "stdout",
          "text": [
            "\r 1/37 [..............................] - ETA: 12:23 - loss: 1.3475e-07 - accuracy: 1.0000"
          ]
        },
        {
          "output_type": "stream",
          "name": "stderr",
          "text": [
            "WARNING:tensorflow:Can save best model only with val_acc available, skipping.\n"
          ]
        },
        {
          "output_type": "stream",
          "name": "stdout",
          "text": [
            "\b\b\b\b\b\b\b\b\b\b\b\b\b\b\b\b\b\b\b\b\b\b\b\b\b\b\b\b\b\b\b\b\b\b\b\b\b\b\b\b\b\b\b\b\b\b\b\b\b\b\b\b\b\b\b\b\b\b\b\b\b\b\b\b\b\b\b\b\b\b\b\b\b\b\b\b\b\b\b\b\b\b\b\b\b\b\b\b\b\r 2/37 [>.............................] - ETA: 11:28 - loss: 1.2501e-06 - accuracy: 1.0000"
          ]
        },
        {
          "output_type": "stream",
          "name": "stderr",
          "text": [
            "WARNING:tensorflow:Can save best model only with val_acc available, skipping.\n"
          ]
        },
        {
          "output_type": "stream",
          "name": "stdout",
          "text": [
            "\b\b\b\b\b\b\b\b\b\b\b\b\b\b\b\b\b\b\b\b\b\b\b\b\b\b\b\b\b\b\b\b\b\b\b\b\b\b\b\b\b\b\b\b\b\b\b\b\b\b\b\b\b\b\b\b\b\b\b\b\b\b\b\b\b\b\b\b\b\b\b\b\b\b\b\b\b\b\b\b\b\b\b\b\b\b\b\b\b\r 3/37 [=>............................] - ETA: 11:23 - loss: 5.8986e-05 - accuracy: 1.0000"
          ]
        },
        {
          "output_type": "stream",
          "name": "stderr",
          "text": [
            "WARNING:tensorflow:Can save best model only with val_acc available, skipping.\n"
          ]
        },
        {
          "output_type": "stream",
          "name": "stdout",
          "text": [
            "\b\b\b\b\b\b\b\b\b\b\b\b\b\b\b\b\b\b\b\b\b\b\b\b\b\b\b\b\b\b\b\b\b\b\b\b\b\b\b\b\b\b\b\b\b\b\b\b\b\b\b\b\b\b\b\b\b\b\b\b\b\b\b\b\b\b\b\b\b\b\b\b\b\b\b\b\b\b\b\b\b\b\b\b\b\b\b\b\b\r 4/37 [==>...........................] - ETA: 11:07 - loss: 4.4552e-05 - accuracy: 1.0000"
          ]
        },
        {
          "output_type": "stream",
          "name": "stderr",
          "text": [
            "WARNING:tensorflow:Can save best model only with val_acc available, skipping.\n"
          ]
        },
        {
          "output_type": "stream",
          "name": "stdout",
          "text": [
            "\b\b\b\b\b\b\b\b\b\b\b\b\b\b\b\b\b\b\b\b\b\b\b\b\b\b\b\b\b\b\b\b\b\b\b\b\b\b\b\b\b\b\b\b\b\b\b\b\b\b\b\b\b\b\b\b\b\b\b\b\b\b\b\b\b\b\b\b\b\b\b\b\b\b\b\b\b\b\b\b\b\b\b\b\b\b\b\b\b\r 5/37 [===>..........................] - ETA: 10:46 - loss: 0.0077 - accuracy: 0.9937    "
          ]
        },
        {
          "output_type": "stream",
          "name": "stderr",
          "text": [
            "WARNING:tensorflow:Can save best model only with val_acc available, skipping.\n"
          ]
        },
        {
          "output_type": "stream",
          "name": "stdout",
          "text": [
            "\b\b\b\b\b\b\b\b\b\b\b\b\b\b\b\b\b\b\b\b\b\b\b\b\b\b\b\b\b\b\b\b\b\b\b\b\b\b\b\b\b\b\b\b\b\b\b\b\b\b\b\b\b\b\b\b\b\b\b\b\b\b\b\b\b\b\b\b\b\b\b\b\b\b\b\b\b\b\b\b\b\b\b\b\b\r 6/37 [===>..........................] - ETA: 10:25 - loss: 0.0064 - accuracy: 0.9948"
          ]
        },
        {
          "output_type": "stream",
          "name": "stderr",
          "text": [
            "WARNING:tensorflow:Can save best model only with val_acc available, skipping.\n"
          ]
        },
        {
          "output_type": "stream",
          "name": "stdout",
          "text": [
            "\b\b\b\b\b\b\b\b\b\b\b\b\b\b\b\b\b\b\b\b\b\b\b\b\b\b\b\b\b\b\b\b\b\b\b\b\b\b\b\b\b\b\b\b\b\b\b\b\b\b\b\b\b\b\b\b\b\b\b\b\b\b\b\b\b\b\b\b\b\b\b\b\b\b\b\b\b\b\b\b\b\b\b\b\b\r 7/37 [====>.........................] - ETA: 10:07 - loss: 0.0055 - accuracy: 0.9955"
          ]
        },
        {
          "output_type": "stream",
          "name": "stderr",
          "text": [
            "WARNING:tensorflow:Can save best model only with val_acc available, skipping.\n"
          ]
        },
        {
          "output_type": "stream",
          "name": "stdout",
          "text": [
            "\b\b\b\b\b\b\b\b\b\b\b\b\b\b\b\b\b\b\b\b\b\b\b\b\b\b\b\b\b\b\b\b\b\b\b\b\b\b\b\b\b\b\b\b\b\b\b\b\b\b\b\b\b\b\b\b\b\b\b\b\b\b\b\b\b\b\b\b\b\b\b\b\b\b\b\b\b\b\b\b\b\b\b\b\b\r 8/37 [=====>........................] - ETA: 9:48 - loss: 0.0059 - accuracy: 0.9961 "
          ]
        },
        {
          "output_type": "stream",
          "name": "stderr",
          "text": [
            "WARNING:tensorflow:Can save best model only with val_acc available, skipping.\n"
          ]
        },
        {
          "output_type": "stream",
          "name": "stdout",
          "text": [
            "\b\b\b\b\b\b\b\b\b\b\b\b\b\b\b\b\b\b\b\b\b\b\b\b\b\b\b\b\b\b\b\b\b\b\b\b\b\b\b\b\b\b\b\b\b\b\b\b\b\b\b\b\b\b\b\b\b\b\b\b\b\b\b\b\b\b\b\b\b\b\b\b\b\b\b\b\b\b\b\b\b\b\b\b\r 9/37 [======>.......................] - ETA: 9:25 - loss: 0.0052 - accuracy: 0.9965"
          ]
        },
        {
          "output_type": "stream",
          "name": "stderr",
          "text": [
            "WARNING:tensorflow:Can save best model only with val_acc available, skipping.\n"
          ]
        },
        {
          "output_type": "stream",
          "name": "stdout",
          "text": [
            "\b\b\b\b\b\b\b\b\b\b\b\b\b\b\b\b\b\b\b\b\b\b\b\b\b\b\b\b\b\b\b\b\b\b\b\b\b\b\b\b\b\b\b\b\b\b\b\b\b\b\b\b\b\b\b\b\b\b\b\b\b\b\b\b\b\b\b\b\b\b\b\b\b\b\b\b\b\b\b\b\b\b\b\b\r10/37 [=======>......................] - ETA: 9:06 - loss: 0.0047 - accuracy: 0.9969"
          ]
        },
        {
          "output_type": "stream",
          "name": "stderr",
          "text": [
            "WARNING:tensorflow:Can save best model only with val_acc available, skipping.\n"
          ]
        },
        {
          "output_type": "stream",
          "name": "stdout",
          "text": [
            "\b\b\b\b\b\b\b\b\b\b\b\b\b\b\b\b\b\b\b\b\b\b\b\b\b\b\b\b\b\b\b\b\b\b\b\b\b\b\b\b\b\b\b\b\b\b\b\b\b\b\b\b\b\b\b\b\b\b\b\b\b\b\b\b\b\b\b\b\b\b\b\b\b\b\b\b\b\b\b\b\b\b\b\b\r11/37 [=======>......................] - ETA: 8:46 - loss: 0.0043 - accuracy: 0.9972"
          ]
        },
        {
          "output_type": "stream",
          "name": "stderr",
          "text": [
            "WARNING:tensorflow:Can save best model only with val_acc available, skipping.\n"
          ]
        },
        {
          "output_type": "stream",
          "name": "stdout",
          "text": [
            "\b\b\b\b\b\b\b\b\b\b\b\b\b\b\b\b\b\b\b\b\b\b\b\b\b\b\b\b\b\b\b\b\b\b\b\b\b\b\b\b\b\b\b\b\b\b\b\b\b\b\b\b\b\b\b\b\b\b\b\b\b\b\b\b\b\b\b\b\b\b\b\b\b\b\b\b\b\b\b\b\b\b\b\b\r12/37 [========>.....................] - ETA: 8:25 - loss: 0.0040 - accuracy: 0.9974"
          ]
        },
        {
          "output_type": "stream",
          "name": "stderr",
          "text": [
            "WARNING:tensorflow:Can save best model only with val_acc available, skipping.\n"
          ]
        },
        {
          "output_type": "stream",
          "name": "stdout",
          "text": [
            "\b\b\b\b\b\b\b\b\b\b\b\b\b\b\b\b\b\b\b\b\b\b\b\b\b\b\b\b\b\b\b\b\b\b\b\b\b\b\b\b\b\b\b\b\b\b\b\b\b\b\b\b\b\b\b\b\b\b\b\b\b\b\b\b\b\b\b\b\b\b\b\b\b\b\b\b\b\b\b\b\b\b\b\b\r13/37 [=========>....................] - ETA: 8:06 - loss: 0.0037 - accuracy: 0.9976"
          ]
        },
        {
          "output_type": "stream",
          "name": "stderr",
          "text": [
            "WARNING:tensorflow:Can save best model only with val_acc available, skipping.\n"
          ]
        },
        {
          "output_type": "stream",
          "name": "stdout",
          "text": [
            "\b\b\b\b\b\b\b\b\b\b\b\b\b\b\b\b\b\b\b\b\b\b\b\b\b\b\b\b\b\b\b\b\b\b\b\b\b\b\b\b\b\b\b\b\b\b\b\b\b\b\b\b\b\b\b\b\b\b\b\b\b\b\b\b\b\b\b\b\b\b\b\b\b\b\b\b\b\b\b\b\b\b\b\b\r14/37 [==========>...................] - ETA: 7:46 - loss: 0.0036 - accuracy: 0.9978"
          ]
        },
        {
          "output_type": "stream",
          "name": "stderr",
          "text": [
            "WARNING:tensorflow:Can save best model only with val_acc available, skipping.\n"
          ]
        },
        {
          "output_type": "stream",
          "name": "stdout",
          "text": [
            "\b\b\b\b\b\b\b\b\b\b\b\b\b\b\b\b\b\b\b\b\b\b\b\b\b\b\b\b\b\b\b\b\b\b\b\b\b\b\b\b\b\b\b\b\b\b\b\b\b\b\b\b\b\b\b\b\b\b\b\b\b\b\b\b\b\b\b\b\b\b\b\b\b\b\b\b\b\b\b\b\b\b\b\b\r15/37 [===========>..................] - ETA: 7:26 - loss: 0.0034 - accuracy: 0.9979"
          ]
        },
        {
          "output_type": "stream",
          "name": "stderr",
          "text": [
            "WARNING:tensorflow:Can save best model only with val_acc available, skipping.\n"
          ]
        },
        {
          "output_type": "stream",
          "name": "stdout",
          "text": [
            "\b\b\b\b\b\b\b\b\b\b\b\b\b\b\b\b\b\b\b\b\b\b\b\b\b\b\b\b\b\b\b\b\b\b\b\b\b\b\b\b\b\b\b\b\b\b\b\b\b\b\b\b\b\b\b\b\b\b\b\b\b\b\b\b\b\b\b\b\b\b\b\b\b\b\b\b\b\b\b\b\b\b\b\b\r16/37 [===========>..................] - ETA: 7:05 - loss: 0.0032 - accuracy: 0.9980"
          ]
        },
        {
          "output_type": "stream",
          "name": "stderr",
          "text": [
            "WARNING:tensorflow:Can save best model only with val_acc available, skipping.\n"
          ]
        },
        {
          "output_type": "stream",
          "name": "stdout",
          "text": [
            "\b\b\b\b\b\b\b\b\b\b\b\b\b\b\b\b\b\b\b\b\b\b\b\b\b\b\b\b\b\b\b\b\b\b\b\b\b\b\b\b\b\b\b\b\b\b\b\b\b\b\b\b\b\b\b\b\b\b\b\b\b\b\b\b\b\b\b\b\b\b\b\b\b\b\b\b\b\b\b\b\b\b\b\b\r17/37 [============>.................] - ETA: 6:45 - loss: 0.0036 - accuracy: 0.9982"
          ]
        },
        {
          "output_type": "stream",
          "name": "stderr",
          "text": [
            "WARNING:tensorflow:Can save best model only with val_acc available, skipping.\n"
          ]
        },
        {
          "output_type": "stream",
          "name": "stdout",
          "text": [
            "\b\b\b\b\b\b\b\b\b\b\b\b\b\b\b\b\b\b\b\b\b\b\b\b\b\b\b\b\b\b\b\b\b\b\b\b\b\b\b\b\b\b\b\b\b\b\b\b\b\b\b\b\b\b\b\b\b\b\b\b\b\b\b\b\b\b\b\b\b\b\b\b\b\b\b\b\b\b\b\b\b\b\b\b\r18/37 [=============>................] - ETA: 6:25 - loss: 0.0034 - accuracy: 0.9983"
          ]
        },
        {
          "output_type": "stream",
          "name": "stderr",
          "text": [
            "WARNING:tensorflow:Can save best model only with val_acc available, skipping.\n"
          ]
        },
        {
          "output_type": "stream",
          "name": "stdout",
          "text": [
            "\b\b\b\b\b\b\b\b\b\b\b\b\b\b\b\b\b\b\b\b\b\b\b\b\b\b\b\b\b\b\b\b\b\b\b\b\b\b\b\b\b\b\b\b\b\b\b\b\b\b\b\b\b\b\b\b\b\b\b\b\b\b\b\b\b\b\b\b\b\b\b\b\b\b\b\b\b\b\b\b\b\b\b\b\r19/37 [==============>...............] - ETA: 6:04 - loss: 0.0032 - accuracy: 0.9984"
          ]
        },
        {
          "output_type": "stream",
          "name": "stderr",
          "text": [
            "WARNING:tensorflow:Can save best model only with val_acc available, skipping.\n"
          ]
        },
        {
          "output_type": "stream",
          "name": "stdout",
          "text": [
            "\b\b\b\b\b\b\b\b\b\b\b\b\b\b\b\b\b\b\b\b\b\b\b\b\b\b\b\b\b\b\b\b\b\b\b\b\b\b\b\b\b\b\b\b\b\b\b\b\b\b\b\b\b\b\b\b\b\b\b\b\b\b\b\b\b\b\b\b\b\b\b\b\b\b\b\b\b\b\b\b\b\b\b\b\r20/37 [===============>..............] - ETA: 5:44 - loss: 0.0031 - accuracy: 0.9984"
          ]
        },
        {
          "output_type": "stream",
          "name": "stderr",
          "text": [
            "WARNING:tensorflow:Can save best model only with val_acc available, skipping.\n"
          ]
        },
        {
          "output_type": "stream",
          "name": "stdout",
          "text": [
            "\b\b\b\b\b\b\b\b\b\b\b\b\b\b\b\b\b\b\b\b\b\b\b\b\b\b\b\b\b\b\b\b\b\b\b\b\b\b\b\b\b\b\b\b\b\b\b\b\b\b\b\b\b\b\b\b\b\b\b\b\b\b\b\b\b\b\b\b\b\b\b\b\b\b\b\b\b\b\b\b\b\b\b\b\r21/37 [================>.............] - ETA: 5:24 - loss: 0.0029 - accuracy: 0.9985"
          ]
        },
        {
          "output_type": "stream",
          "name": "stderr",
          "text": [
            "WARNING:tensorflow:Can save best model only with val_acc available, skipping.\n"
          ]
        },
        {
          "output_type": "stream",
          "name": "stdout",
          "text": [
            "\b\b\b\b\b\b\b\b\b\b\b\b\b\b\b\b\b\b\b\b\b\b\b\b\b\b\b\b\b\b\b\b\b\b\b\b\b\b\b\b\b\b\b\b\b\b\b\b\b\b\b\b\b\b\b\b\b\b\b\b\b\b\b\b\b\b\b\b\b\b\b\b\b\b\b\b\b\b\b\b\b\b\b\b\r22/37 [================>.............] - ETA: 5:04 - loss: 0.0030 - accuracy: 0.9986"
          ]
        },
        {
          "output_type": "stream",
          "name": "stderr",
          "text": [
            "WARNING:tensorflow:Can save best model only with val_acc available, skipping.\n"
          ]
        },
        {
          "output_type": "stream",
          "name": "stdout",
          "text": [
            "\b\b\b\b\b\b\b\b\b\b\b\b\b\b\b\b\b\b\b\b\b\b\b\b\b\b\b\b\b\b\b\b\b\b\b\b\b\b\b\b\b\b\b\b\b\b\b\b\b\b\b\b\b\b\b\b\b\b\b\b\b\b\b\b\b\b\b\b\b\b\b\b\b\b\b\b\b\b\b\b\b\b\b\b\r23/37 [=================>............] - ETA: 4:43 - loss: 0.0040 - accuracy: 0.9986"
          ]
        },
        {
          "output_type": "stream",
          "name": "stderr",
          "text": [
            "WARNING:tensorflow:Can save best model only with val_acc available, skipping.\n"
          ]
        },
        {
          "output_type": "stream",
          "name": "stdout",
          "text": [
            "\b\b\b\b\b\b\b\b\b\b\b\b\b\b\b\b\b\b\b\b\b\b\b\b\b\b\b\b\b\b\b\b\b\b\b\b\b\b\b\b\b\b\b\b\b\b\b\b\b\b\b\b\b\b\b\b\b\b\b\b\b\b\b\b\b\b\b\b\b\b\b\b\b\b\b\b\b\b\b\b\b\b\b\b\r24/37 [==================>...........] - ETA: 4:23 - loss: 0.0048 - accuracy: 0.9974"
          ]
        },
        {
          "output_type": "stream",
          "name": "stderr",
          "text": [
            "WARNING:tensorflow:Can save best model only with val_acc available, skipping.\n"
          ]
        },
        {
          "output_type": "stream",
          "name": "stdout",
          "text": [
            "\b\b\b\b\b\b\b\b\b\b\b\b\b\b\b\b\b\b\b\b\b\b\b\b\b\b\b\b\b\b\b\b\b\b\b\b\b\b\b\b\b\b\b\b\b\b\b\b\b\b\b\b\b\b\b\b\b\b\b\b\b\b\b\b\b\b\b\b\b\b\b\b\b\b\b\b\b\b\b\b\b\b\b\b\r25/37 [===================>..........] - ETA: 4:03 - loss: 0.0046 - accuracy: 0.9975"
          ]
        },
        {
          "output_type": "stream",
          "name": "stderr",
          "text": [
            "WARNING:tensorflow:Can save best model only with val_acc available, skipping.\n"
          ]
        },
        {
          "output_type": "stream",
          "name": "stdout",
          "text": [
            "\b\b\b\b\b\b\b\b\b\b\b\b\b\b\b\b\b\b\b\b\b\b\b\b\b\b\b\b\b\b\b\b\b\b\b\b\b\b\b\b\b\b\b\b\b\b\b\b\b\b\b\b\b\b\b\b\b\b\b\b\b\b\b\b\b\b\b\b\b\b\b\b\b\b\b\b\b\b\b\b\b\b\b\b\r26/37 [====================>.........] - ETA: 3:43 - loss: 0.0048 - accuracy: 0.9976"
          ]
        },
        {
          "output_type": "stream",
          "name": "stderr",
          "text": [
            "WARNING:tensorflow:Can save best model only with val_acc available, skipping.\n"
          ]
        },
        {
          "output_type": "stream",
          "name": "stdout",
          "text": [
            "\b\b\b\b\b\b\b\b\b\b\b\b\b\b\b\b\b\b\b\b\b\b\b\b\b\b\b\b\b\b\b\b\b\b\b\b\b\b\b\b\b\b\b\b\b\b\b\b\b\b\b\b\b\b\b\b\b\b\b\b\b\b\b\b\b\b\b\b\b\b\b\b\b\b\b\b\b\b\b\b\b\b\b\b\r27/37 [====================>.........] - ETA: 3:22 - loss: 0.0046 - accuracy: 0.9977"
          ]
        },
        {
          "output_type": "stream",
          "name": "stderr",
          "text": [
            "WARNING:tensorflow:Can save best model only with val_acc available, skipping.\n"
          ]
        },
        {
          "output_type": "stream",
          "name": "stdout",
          "text": [
            "\b\b\b\b\b\b\b\b\b\b\b\b\b\b\b\b\b\b\b\b\b\b\b\b\b\b\b\b\b\b\b\b\b\b\b\b\b\b\b\b\b\b\b\b\b\b\b\b\b\b\b\b\b\b\b\b\b\b\b\b\b\b\b\b\b\b\b\b\b\b\b\b\b\b\b\b\b\b\b\b\b\b\b\b\r28/37 [=====================>........] - ETA: 3:02 - loss: 0.0045 - accuracy: 0.9978"
          ]
        },
        {
          "output_type": "stream",
          "name": "stderr",
          "text": [
            "WARNING:tensorflow:Can save best model only with val_acc available, skipping.\n"
          ]
        },
        {
          "output_type": "stream",
          "name": "stdout",
          "text": [
            "\b\b\b\b\b\b\b\b\b\b\b\b\b\b\b\b\b\b\b\b\b\b\b\b\b\b\b\b\b\b\b\b\b\b\b\b\b\b\b\b\b\b\b\b\b\b\b\b\b\b\b\b\b\b\b\b\b\b\b\b\b\b\b\b\b\b\b\b\b\b\b\b\b\b\b\b\b\b\b\b\b\b\b\b\r29/37 [======================>.......] - ETA: 2:42 - loss: 0.0043 - accuracy: 0.9978"
          ]
        },
        {
          "output_type": "stream",
          "name": "stderr",
          "text": [
            "WARNING:tensorflow:Can save best model only with val_acc available, skipping.\n"
          ]
        },
        {
          "output_type": "stream",
          "name": "stdout",
          "text": [
            "\b\b\b\b\b\b\b\b\b\b\b\b\b\b\b\b\b\b\b\b\b\b\b\b\b\b\b\b\b\b\b\b\b\b\b\b\b\b\b\b\b\b\b\b\b\b\b\b\b\b\b\b\b\b\b\b\b\b\b\b\b\b\b\b\b\b\b\b\b\b\b\b\b\b\b\b\b\b\b\b\b\b\b\b\r30/37 [=======================>......] - ETA: 2:21 - loss: 0.0042 - accuracy: 0.9979"
          ]
        },
        {
          "output_type": "stream",
          "name": "stderr",
          "text": [
            "WARNING:tensorflow:Can save best model only with val_acc available, skipping.\n"
          ]
        },
        {
          "output_type": "stream",
          "name": "stdout",
          "text": [
            "\b\b\b\b\b\b\b\b\b\b\b\b\b\b\b\b\b\b\b\b\b\b\b\b\b\b\b\b\b\b\b\b\b\b\b\b\b\b\b\b\b\b\b\b\b\b\b\b\b\b\b\b\b\b\b\b\b\b\b\b\b\b\b\b\b\b\b\b\b\b\b\b\b\b\b\b\b\b\b\b\b\b\b\b\r31/37 [========================>.....] - ETA: 2:01 - loss: 0.0040 - accuracy: 0.9980"
          ]
        },
        {
          "output_type": "stream",
          "name": "stderr",
          "text": [
            "WARNING:tensorflow:Can save best model only with val_acc available, skipping.\n"
          ]
        },
        {
          "output_type": "stream",
          "name": "stdout",
          "text": [
            "\b\b\b\b\b\b\b\b\b\b\b\b\b\b\b\b\b\b\b\b\b\b\b\b\b\b\b\b\b\b\b\b\b\b\b\b\b\b\b\b\b\b\b\b\b\b\b\b\b\b\b\b\b\b\b\b\b\b\b\b\b\b\b\b\b\b\b\b\b\b\b\b\b\b\b\b\b\b\b\b\b\b\b\b\r32/37 [========================>.....] - ETA: 1:41 - loss: 0.0039 - accuracy: 0.9980"
          ]
        },
        {
          "output_type": "stream",
          "name": "stderr",
          "text": [
            "WARNING:tensorflow:Can save best model only with val_acc available, skipping.\n"
          ]
        },
        {
          "output_type": "stream",
          "name": "stdout",
          "text": [
            "\b\b\b\b\b\b\b\b\b\b\b\b\b\b\b\b\b\b\b\b\b\b\b\b\b\b\b\b\b\b\b\b\b\b\b\b\b\b\b\b\b\b\b\b\b\b\b\b\b\b\b\b\b\b\b\b\b\b\b\b\b\b\b\b\b\b\b\b\b\b\b\b\b\b\b\b\b\b\b\b\b\b\b\b\r33/37 [=========================>....] - ETA: 1:21 - loss: 0.0038 - accuracy: 0.9981"
          ]
        },
        {
          "output_type": "stream",
          "name": "stderr",
          "text": [
            "WARNING:tensorflow:Can save best model only with val_acc available, skipping.\n"
          ]
        },
        {
          "output_type": "stream",
          "name": "stdout",
          "text": [
            "\b\b\b\b\b\b\b\b\b\b\b\b\b\b\b\b\b\b\b\b\b\b\b\b\b\b\b\b\b\b\b\b\b\b\b\b\b\b\b\b\b\b\b\b\b\b\b\b\b\b\b\b\b\b\b\b\b\b\b\b\b\b\b\b\b\b\b\b\b\b\b\b\b\b\b\b\b\b\b\b\b\b\b\b\r34/37 [==========================>...] - ETA: 1:00 - loss: 0.0037 - accuracy: 0.9982"
          ]
        },
        {
          "output_type": "stream",
          "name": "stderr",
          "text": [
            "WARNING:tensorflow:Can save best model only with val_acc available, skipping.\n"
          ]
        },
        {
          "output_type": "stream",
          "name": "stdout",
          "text": [
            "\b\b\b\b\b\b\b\b\b\b\b\b\b\b\b\b\b\b\b\b\b\b\b\b\b\b\b\b\b\b\b\b\b\b\b\b\b\b\b\b\b\b\b\b\b\b\b\b\b\b\b\b\b\b\b\b\b\b\b\b\b\b\b\b\b\b\b\b\b\b\b\b\b\b\b\b\b\b\b\b\b\b\b\b\r35/37 [===========================>..] - ETA: 40s - loss: 0.0036 - accuracy: 0.9982 "
          ]
        },
        {
          "output_type": "stream",
          "name": "stderr",
          "text": [
            "WARNING:tensorflow:Can save best model only with val_acc available, skipping.\n"
          ]
        },
        {
          "output_type": "stream",
          "name": "stdout",
          "text": [
            "\b\b\b\b\b\b\b\b\b\b\b\b\b\b\b\b\b\b\b\b\b\b\b\b\b\b\b\b\b\b\b\b\b\b\b\b\b\b\b\b\b\b\b\b\b\b\b\b\b\b\b\b\b\b\b\b\b\b\b\b\b\b\b\b\b\b\b\b\b\b\b\b\b\b\b\b\b\b\b\b\b\b\b\r36/37 [============================>.] - ETA: 20s - loss: 0.0035 - accuracy: 0.9983"
          ]
        },
        {
          "output_type": "stream",
          "name": "stderr",
          "text": [
            "WARNING:tensorflow:Can save best model only with val_acc available, skipping.\n"
          ]
        },
        {
          "output_type": "stream",
          "name": "stdout",
          "text": [
            "\b\b\b\b\b\b\b\b\b\b\b\b\b\b\b\b\b\b\b\b\b\b\b\b\b\b\b\b\b\b\b\b\b\b\b\b\b\b\b\b\b\b\b\b\b\b\b\b\b\b\b\b\b\b\b\b\b\b\b\b\b\b\b\b\b\b\b\b\b\b\b\b\b\b\b\b\b\b\b\b\b\b\b\r37/37 [==============================] - ETA: 0s - loss: 0.0035 - accuracy: 0.9983 "
          ]
        },
        {
          "output_type": "stream",
          "name": "stderr",
          "text": [
            "WARNING:tensorflow:Early stopping conditioned on metric `val_acc` which is not available. Available metrics are: loss,accuracy,val_loss,val_accuracy\n"
          ]
        },
        {
          "output_type": "stream",
          "name": "stdout",
          "text": [
            "\b\b\b\b\b\b\b\b\b\b\b\b\b\b\b\b\b\b\b\b\b\b\b\b\b\b\b\b\b\b\b\b\b\b\b\b\b\b\b\b\b\b\b\b\b\b\b\b\b\b\b\b\b\b\b\b\b\b\b\b\b\b\b\b\b\b\b\b\b\b\b\b\b\b\b\b\b\b\b\b\b\b\r37/37 [==============================] - 938s 25s/step - loss: 0.0035 - accuracy: 0.9983 - val_loss: 0.1012 - val_accuracy: 0.9863\n",
            "Epoch 5/15\n"
          ]
        },
        {
          "output_type": "stream",
          "name": "stderr",
          "text": [
            "WARNING:tensorflow:Can save best model only with val_acc available, skipping.\n"
          ]
        },
        {
          "output_type": "stream",
          "name": "stdout",
          "text": [
            "\r 1/37 [..............................] - ETA: 11:53 - loss: 0.0028 - accuracy: 1.0000"
          ]
        },
        {
          "output_type": "stream",
          "name": "stderr",
          "text": [
            "WARNING:tensorflow:Can save best model only with val_acc available, skipping.\n"
          ]
        },
        {
          "output_type": "stream",
          "name": "stdout",
          "text": [
            "\b\b\b\b\b\b\b\b\b\b\b\b\b\b\b\b\b\b\b\b\b\b\b\b\b\b\b\b\b\b\b\b\b\b\b\b\b\b\b\b\b\b\b\b\b\b\b\b\b\b\b\b\b\b\b\b\b\b\b\b\b\b\b\b\b\b\b\b\b\b\b\b\b\b\b\b\b\b\b\b\b\b\b\b\b\r 2/37 [>.............................] - ETA: 11:48 - loss: 0.0014 - accuracy: 1.0000"
          ]
        },
        {
          "output_type": "stream",
          "name": "stderr",
          "text": [
            "WARNING:tensorflow:Can save best model only with val_acc available, skipping.\n"
          ]
        },
        {
          "output_type": "stream",
          "name": "stdout",
          "text": [
            "\b\b\b\b\b\b\b\b\b\b\b\b\b\b\b\b\b\b\b\b\b\b\b\b\b\b\b\b\b\b\b\b\b\b\b\b\b\b\b\b\b\b\b\b\b\b\b\b\b\b\b\b\b\b\b\b\b\b\b\b\b\b\b\b\b\b\b\b\b\b\b\b\b\b\b\b\b\b\b\b\b\b\b\b\b\r 3/37 [=>............................] - ETA: 11:33 - loss: 0.0215 - accuracy: 0.9896"
          ]
        },
        {
          "output_type": "stream",
          "name": "stderr",
          "text": [
            "WARNING:tensorflow:Can save best model only with val_acc available, skipping.\n"
          ]
        },
        {
          "output_type": "stream",
          "name": "stdout",
          "text": [
            "\b\b\b\b\b\b\b\b\b\b\b\b\b\b\b\b\b\b\b\b\b\b\b\b\b\b\b\b\b\b\b\b\b\b\b\b\b\b\b\b\b\b\b\b\b\b\b\b\b\b\b\b\b\b\b\b\b\b\b\b\b\b\b\b\b\b\b\b\b\b\b\b\b\b\b\b\b\b\b\b\b\b\b\b\b\r 4/37 [==>...........................] - ETA: 11:13 - loss: 0.0162 - accuracy: 0.9922"
          ]
        },
        {
          "output_type": "stream",
          "name": "stderr",
          "text": [
            "WARNING:tensorflow:Can save best model only with val_acc available, skipping.\n"
          ]
        },
        {
          "output_type": "stream",
          "name": "stdout",
          "text": [
            "\b\b\b\b\b\b\b\b\b\b\b\b\b\b\b\b\b\b\b\b\b\b\b\b\b\b\b\b\b\b\b\b\b\b\b\b\b\b\b\b\b\b\b\b\b\b\b\b\b\b\b\b\b\b\b\b\b\b\b\b\b\b\b\b\b\b\b\b\b\b\b\b\b\b\b\b\b\b\b\b\b\b\b\b\b\r 5/37 [===>..........................] - ETA: 10:46 - loss: 0.0131 - accuracy: 0.9937"
          ]
        },
        {
          "output_type": "stream",
          "name": "stderr",
          "text": [
            "WARNING:tensorflow:Can save best model only with val_acc available, skipping.\n"
          ]
        },
        {
          "output_type": "stream",
          "name": "stdout",
          "text": [
            "\b\b\b\b\b\b\b\b\b\b\b\b\b\b\b\b\b\b\b\b\b\b\b\b\b\b\b\b\b\b\b\b\b\b\b\b\b\b\b\b\b\b\b\b\b\b\b\b\b\b\b\b\b\b\b\b\b\b\b\b\b\b\b\b\b\b\b\b\b\b\b\b\b\b\b\b\b\b\b\b\b\b\b\b\b\r 6/37 [===>..........................] - ETA: 10:28 - loss: 0.0113 - accuracy: 0.9948"
          ]
        },
        {
          "output_type": "stream",
          "name": "stderr",
          "text": [
            "WARNING:tensorflow:Can save best model only with val_acc available, skipping.\n"
          ]
        },
        {
          "output_type": "stream",
          "name": "stdout",
          "text": [
            "\b\b\b\b\b\b\b\b\b\b\b\b\b\b\b\b\b\b\b\b\b\b\b\b\b\b\b\b\b\b\b\b\b\b\b\b\b\b\b\b\b\b\b\b\b\b\b\b\b\b\b\b\b\b\b\b\b\b\b\b\b\b\b\b\b\b\b\b\b\b\b\b\b\b\b\b\b\b\b\b\b\b\b\b\b\r 7/37 [====>.........................] - ETA: 10:08 - loss: 0.0097 - accuracy: 0.9955"
          ]
        },
        {
          "output_type": "stream",
          "name": "stderr",
          "text": [
            "WARNING:tensorflow:Can save best model only with val_acc available, skipping.\n"
          ]
        },
        {
          "output_type": "stream",
          "name": "stdout",
          "text": [
            "\b\b\b\b\b\b\b\b\b\b\b\b\b\b\b\b\b\b\b\b\b\b\b\b\b\b\b\b\b\b\b\b\b\b\b\b\b\b\b\b\b\b\b\b\b\b\b\b\b\b\b\b\b\b\b\b\b\b\b\b\b\b\b\b\b\b\b\b\b\b\b\b\b\b\b\b\b\b\b\b\b\b\b\b\b\r 8/37 [=====>........................] - ETA: 9:45 - loss: 0.0085 - accuracy: 0.9961 "
          ]
        },
        {
          "output_type": "stream",
          "name": "stderr",
          "text": [
            "WARNING:tensorflow:Can save best model only with val_acc available, skipping.\n"
          ]
        },
        {
          "output_type": "stream",
          "name": "stdout",
          "text": [
            "\b\b\b\b\b\b\b\b\b\b\b\b\b\b\b\b\b\b\b\b\b\b\b\b\b\b\b\b\b\b\b\b\b\b\b\b\b\b\b\b\b\b\b\b\b\b\b\b\b\b\b\b\b\b\b\b\b\b\b\b\b\b\b\b\b\b\b\b\b\b\b\b\b\b\b\b\b\b\b\b\b\b\b\b\r 9/37 [======>.......................] - ETA: 9:26 - loss: 0.0075 - accuracy: 0.9965"
          ]
        },
        {
          "output_type": "stream",
          "name": "stderr",
          "text": [
            "WARNING:tensorflow:Can save best model only with val_acc available, skipping.\n"
          ]
        },
        {
          "output_type": "stream",
          "name": "stdout",
          "text": [
            "\b\b\b\b\b\b\b\b\b\b\b\b\b\b\b\b\b\b\b\b\b\b\b\b\b\b\b\b\b\b\b\b\b\b\b\b\b\b\b\b\b\b\b\b\b\b\b\b\b\b\b\b\b\b\b\b\b\b\b\b\b\b\b\b\b\b\b\b\b\b\b\b\b\b\b\b\b\b\b\b\b\b\b\b\r10/37 [=======>......................] - ETA: 9:07 - loss: 0.0068 - accuracy: 0.9969"
          ]
        },
        {
          "output_type": "stream",
          "name": "stderr",
          "text": [
            "WARNING:tensorflow:Can save best model only with val_acc available, skipping.\n"
          ]
        },
        {
          "output_type": "stream",
          "name": "stdout",
          "text": [
            "\b\b\b\b\b\b\b\b\b\b\b\b\b\b\b\b\b\b\b\b\b\b\b\b\b\b\b\b\b\b\b\b\b\b\b\b\b\b\b\b\b\b\b\b\b\b\b\b\b\b\b\b\b\b\b\b\b\b\b\b\b\b\b\b\b\b\b\b\b\b\b\b\b\b\b\b\b\b\b\b\b\b\b\b\r11/37 [=======>......................] - ETA: 8:45 - loss: 0.0063 - accuracy: 0.9972"
          ]
        },
        {
          "output_type": "stream",
          "name": "stderr",
          "text": [
            "WARNING:tensorflow:Can save best model only with val_acc available, skipping.\n"
          ]
        },
        {
          "output_type": "stream",
          "name": "stdout",
          "text": [
            "\b\b\b\b\b\b\b\b\b\b\b\b\b\b\b\b\b\b\b\b\b\b\b\b\b\b\b\b\b\b\b\b\b\b\b\b\b\b\b\b\b\b\b\b\b\b\b\b\b\b\b\b\b\b\b\b\b\b\b\b\b\b\b\b\b\b\b\b\b\b\b\b\b\b\b\b\b\b\b\b\b\b\b\b\r12/37 [========>.....................] - ETA: 8:26 - loss: 0.0058 - accuracy: 0.9974"
          ]
        },
        {
          "output_type": "stream",
          "name": "stderr",
          "text": [
            "WARNING:tensorflow:Can save best model only with val_acc available, skipping.\n"
          ]
        },
        {
          "output_type": "stream",
          "name": "stdout",
          "text": [
            "\b\b\b\b\b\b\b\b\b\b\b\b\b\b\b\b\b\b\b\b\b\b\b\b\b\b\b\b\b\b\b\b\b\b\b\b\b\b\b\b\b\b\b\b\b\b\b\b\b\b\b\b\b\b\b\b\b\b\b\b\b\b\b\b\b\b\b\b\b\b\b\b\b\b\b\b\b\b\b\b\b\b\b\b\r13/37 [=========>....................] - ETA: 8:06 - loss: 0.0053 - accuracy: 0.9976"
          ]
        },
        {
          "output_type": "stream",
          "name": "stderr",
          "text": [
            "WARNING:tensorflow:Can save best model only with val_acc available, skipping.\n"
          ]
        },
        {
          "output_type": "stream",
          "name": "stdout",
          "text": [
            "\b\b\b\b\b\b\b\b\b\b\b\b\b\b\b\b\b\b\b\b\b\b\b\b\b\b\b\b\b\b\b\b\b\b\b\b\b\b\b\b\b\b\b\b\b\b\b\b\b\b\b\b\b\b\b\b\b\b\b\b\b\b\b\b\b\b\b\b\b\b\b\b\b\b\b\b\b\b\b\b\b\b\b\b\r14/37 [==========>...................] - ETA: 7:46 - loss: 0.0050 - accuracy: 0.9978"
          ]
        },
        {
          "output_type": "stream",
          "name": "stderr",
          "text": [
            "WARNING:tensorflow:Can save best model only with val_acc available, skipping.\n"
          ]
        },
        {
          "output_type": "stream",
          "name": "stdout",
          "text": [
            "\b\b\b\b\b\b\b\b\b\b\b\b\b\b\b\b\b\b\b\b\b\b\b\b\b\b\b\b\b\b\b\b\b\b\b\b\b\b\b\b\b\b\b\b\b\b\b\b\b\b\b\b\b\b\b\b\b\b\b\b\b\b\b\b\b\b\b\b\b\b\b\b\b\b\b\b\b\b\b\b\b\b\b\b\r15/37 [===========>..................] - ETA: 7:25 - loss: 0.0046 - accuracy: 0.9979"
          ]
        },
        {
          "output_type": "stream",
          "name": "stderr",
          "text": [
            "WARNING:tensorflow:Can save best model only with val_acc available, skipping.\n"
          ]
        },
        {
          "output_type": "stream",
          "name": "stdout",
          "text": [
            "\b\b\b\b\b\b\b\b\b\b\b\b\b\b\b\b\b\b\b\b\b\b\b\b\b\b\b\b\b\b\b\b\b\b\b\b\b\b\b\b\b\b\b\b\b\b\b\b\b\b\b\b\b\b\b\b\b\b\b\b\b\b\b\b\b\b\b\b\b\b\b\b\b\b\b\b\b\b\b\b\b\b\b\b\r16/37 [===========>..................] - ETA: 7:05 - loss: 0.0068 - accuracy: 0.9961"
          ]
        },
        {
          "output_type": "stream",
          "name": "stderr",
          "text": [
            "WARNING:tensorflow:Can save best model only with val_acc available, skipping.\n"
          ]
        },
        {
          "output_type": "stream",
          "name": "stdout",
          "text": [
            "\b\b\b\b\b\b\b\b\b\b\b\b\b\b\b\b\b\b\b\b\b\b\b\b\b\b\b\b\b\b\b\b\b\b\b\b\b\b\b\b\b\b\b\b\b\b\b\b\b\b\b\b\b\b\b\b\b\b\b\b\b\b\b\b\b\b\b\b\b\b\b\b\b\b\b\b\b\b\b\b\b\b\b\b\r17/37 [============>.................] - ETA: 6:45 - loss: 0.0064 - accuracy: 0.9963"
          ]
        },
        {
          "output_type": "stream",
          "name": "stderr",
          "text": [
            "WARNING:tensorflow:Can save best model only with val_acc available, skipping.\n"
          ]
        },
        {
          "output_type": "stream",
          "name": "stdout",
          "text": [
            "\b\b\b\b\b\b\b\b\b\b\b\b\b\b\b\b\b\b\b\b\b\b\b\b\b\b\b\b\b\b\b\b\b\b\b\b\b\b\b\b\b\b\b\b\b\b\b\b\b\b\b\b\b\b\b\b\b\b\b\b\b\b\b\b\b\b\b\b\b\b\b\b\b\b\b\b\b\b\b\b\b\b\b\b\r18/37 [=============>................] - ETA: 6:25 - loss: 0.0060 - accuracy: 0.9965"
          ]
        },
        {
          "output_type": "stream",
          "name": "stderr",
          "text": [
            "WARNING:tensorflow:Can save best model only with val_acc available, skipping.\n"
          ]
        },
        {
          "output_type": "stream",
          "name": "stdout",
          "text": [
            "\b\b\b\b\b\b\b\b\b\b\b\b\b\b\b\b\b\b\b\b\b\b\b\b\b\b\b\b\b\b\b\b\b\b\b\b\b\b\b\b\b\b\b\b\b\b\b\b\b\b\b\b\b\b\b\b\b\b\b\b\b\b\b\b\b\b\b\b\b\b\b\b\b\b\b\b\b\b\b\b\b\b\b\b\r19/37 [==============>...............] - ETA: 6:04 - loss: 0.0057 - accuracy: 0.9967"
          ]
        },
        {
          "output_type": "stream",
          "name": "stderr",
          "text": [
            "WARNING:tensorflow:Can save best model only with val_acc available, skipping.\n"
          ]
        },
        {
          "output_type": "stream",
          "name": "stdout",
          "text": [
            "\b\b\b\b\b\b\b\b\b\b\b\b\b\b\b\b\b\b\b\b\b\b\b\b\b\b\b\b\b\b\b\b\b\b\b\b\b\b\b\b\b\b\b\b\b\b\b\b\b\b\b\b\b\b\b\b\b\b\b\b\b\b\b\b\b\b\b\b\b\b\b\b\b\b\b\b\b\b\b\b\b\b\b\b\r20/37 [===============>..............] - ETA: 5:44 - loss: 0.0054 - accuracy: 0.9969"
          ]
        },
        {
          "output_type": "stream",
          "name": "stderr",
          "text": [
            "WARNING:tensorflow:Can save best model only with val_acc available, skipping.\n"
          ]
        },
        {
          "output_type": "stream",
          "name": "stdout",
          "text": [
            "\b\b\b\b\b\b\b\b\b\b\b\b\b\b\b\b\b\b\b\b\b\b\b\b\b\b\b\b\b\b\b\b\b\b\b\b\b\b\b\b\b\b\b\b\b\b\b\b\b\b\b\b\b\b\b\b\b\b\b\b\b\b\b\b\b\b\b\b\b\b\b\b\b\b\b\b\b\b\b\b\b\b\b\b\r21/37 [================>.............] - ETA: 5:24 - loss: 0.0052 - accuracy: 0.9970"
          ]
        },
        {
          "output_type": "stream",
          "name": "stderr",
          "text": [
            "WARNING:tensorflow:Can save best model only with val_acc available, skipping.\n"
          ]
        },
        {
          "output_type": "stream",
          "name": "stdout",
          "text": [
            "\b\b\b\b\b\b\b\b\b\b\b\b\b\b\b\b\b\b\b\b\b\b\b\b\b\b\b\b\b\b\b\b\b\b\b\b\b\b\b\b\b\b\b\b\b\b\b\b\b\b\b\b\b\b\b\b\b\b\b\b\b\b\b\b\b\b\b\b\b\b\b\b\b\b\b\b\b\b\b\b\b\b\b\b\r22/37 [================>.............] - ETA: 5:04 - loss: 0.0049 - accuracy: 0.9972"
          ]
        },
        {
          "output_type": "stream",
          "name": "stderr",
          "text": [
            "WARNING:tensorflow:Can save best model only with val_acc available, skipping.\n"
          ]
        },
        {
          "output_type": "stream",
          "name": "stdout",
          "text": [
            "\b\b\b\b\b\b\b\b\b\b\b\b\b\b\b\b\b\b\b\b\b\b\b\b\b\b\b\b\b\b\b\b\b\b\b\b\b\b\b\b\b\b\b\b\b\b\b\b\b\b\b\b\b\b\b\b\b\b\b\b\b\b\b\b\b\b\b\b\b\b\b\b\b\b\b\b\b\b\b\b\b\b\b\b\r23/37 [=================>............] - ETA: 4:43 - loss: 0.0047 - accuracy: 0.9973"
          ]
        },
        {
          "output_type": "stream",
          "name": "stderr",
          "text": [
            "WARNING:tensorflow:Can save best model only with val_acc available, skipping.\n"
          ]
        },
        {
          "output_type": "stream",
          "name": "stdout",
          "text": [
            "\b\b\b\b\b\b\b\b\b\b\b\b\b\b\b\b\b\b\b\b\b\b\b\b\b\b\b\b\b\b\b\b\b\b\b\b\b\b\b\b\b\b\b\b\b\b\b\b\b\b\b\b\b\b\b\b\b\b\b\b\b\b\b\b\b\b\b\b\b\b\b\b\b\b\b\b\b\b\b\b\b\b\b\b\r24/37 [==================>...........] - ETA: 4:23 - loss: 0.0045 - accuracy: 0.9974"
          ]
        },
        {
          "output_type": "stream",
          "name": "stderr",
          "text": [
            "WARNING:tensorflow:Can save best model only with val_acc available, skipping.\n"
          ]
        },
        {
          "output_type": "stream",
          "name": "stdout",
          "text": [
            "\b\b\b\b\b\b\b\b\b\b\b\b\b\b\b\b\b\b\b\b\b\b\b\b\b\b\b\b\b\b\b\b\b\b\b\b\b\b\b\b\b\b\b\b\b\b\b\b\b\b\b\b\b\b\b\b\b\b\b\b\b\b\b\b\b\b\b\b\b\b\b\b\b\b\b\b\b\b\b\b\b\b\b\b\r25/37 [===================>..........] - ETA: 4:03 - loss: 0.0044 - accuracy: 0.9975"
          ]
        },
        {
          "output_type": "stream",
          "name": "stderr",
          "text": [
            "WARNING:tensorflow:Can save best model only with val_acc available, skipping.\n"
          ]
        },
        {
          "output_type": "stream",
          "name": "stdout",
          "text": [
            "\b\b\b\b\b\b\b\b\b\b\b\b\b\b\b\b\b\b\b\b\b\b\b\b\b\b\b\b\b\b\b\b\b\b\b\b\b\b\b\b\b\b\b\b\b\b\b\b\b\b\b\b\b\b\b\b\b\b\b\b\b\b\b\b\b\b\b\b\b\b\b\b\b\b\b\b\b\b\b\b\b\b\b\b\r26/37 [====================>.........] - ETA: 3:42 - loss: 0.0042 - accuracy: 0.9976"
          ]
        },
        {
          "output_type": "stream",
          "name": "stderr",
          "text": [
            "WARNING:tensorflow:Can save best model only with val_acc available, skipping.\n"
          ]
        },
        {
          "output_type": "stream",
          "name": "stdout",
          "text": [
            "\b\b\b\b\b\b\b\b\b\b\b\b\b\b\b\b\b\b\b\b\b\b\b\b\b\b\b\b\b\b\b\b\b\b\b\b\b\b\b\b\b\b\b\b\b\b\b\b\b\b\b\b\b\b\b\b\b\b\b\b\b\b\b\b\b\b\b\b\b\b\b\b\b\b\b\b\b\b\b\b\b\b\b\b\r27/37 [====================>.........] - ETA: 3:22 - loss: 0.0041 - accuracy: 0.9977"
          ]
        },
        {
          "output_type": "stream",
          "name": "stderr",
          "text": [
            "WARNING:tensorflow:Can save best model only with val_acc available, skipping.\n"
          ]
        },
        {
          "output_type": "stream",
          "name": "stdout",
          "text": [
            "\b\b\b\b\b\b\b\b\b\b\b\b\b\b\b\b\b\b\b\b\b\b\b\b\b\b\b\b\b\b\b\b\b\b\b\b\b\b\b\b\b\b\b\b\b\b\b\b\b\b\b\b\b\b\b\b\b\b\b\b\b\b\b\b\b\b\b\b\b\b\b\b\b\b\b\b\b\b\b\b\b\b\b\b\r28/37 [=====================>........] - ETA: 3:02 - loss: 0.0039 - accuracy: 0.9978"
          ]
        },
        {
          "output_type": "stream",
          "name": "stderr",
          "text": [
            "WARNING:tensorflow:Can save best model only with val_acc available, skipping.\n"
          ]
        },
        {
          "output_type": "stream",
          "name": "stdout",
          "text": [
            "\b\b\b\b\b\b\b\b\b\b\b\b\b\b\b\b\b\b\b\b\b\b\b\b\b\b\b\b\b\b\b\b\b\b\b\b\b\b\b\b\b\b\b\b\b\b\b\b\b\b\b\b\b\b\b\b\b\b\b\b\b\b\b\b\b\b\b\b\b\b\b\b\b\b\b\b\b\b\b\b\b\b\b\b\r29/37 [======================>.......] - ETA: 2:42 - loss: 0.0038 - accuracy: 0.9978"
          ]
        },
        {
          "output_type": "stream",
          "name": "stderr",
          "text": [
            "WARNING:tensorflow:Can save best model only with val_acc available, skipping.\n"
          ]
        },
        {
          "output_type": "stream",
          "name": "stdout",
          "text": [
            "\b\b\b\b\b\b\b\b\b\b\b\b\b\b\b\b\b\b\b\b\b\b\b\b\b\b\b\b\b\b\b\b\b\b\b\b\b\b\b\b\b\b\b\b\b\b\b\b\b\b\b\b\b\b\b\b\b\b\b\b\b\b\b\b\b\b\b\b\b\b\b\b\b\b\b\b\b\b\b\b\b\b\b\b\r30/37 [=======================>......] - ETA: 2:21 - loss: 0.0037 - accuracy: 0.9979"
          ]
        },
        {
          "output_type": "stream",
          "name": "stderr",
          "text": [
            "WARNING:tensorflow:Can save best model only with val_acc available, skipping.\n"
          ]
        },
        {
          "output_type": "stream",
          "name": "stdout",
          "text": [
            "\b\b\b\b\b\b\b\b\b\b\b\b\b\b\b\b\b\b\b\b\b\b\b\b\b\b\b\b\b\b\b\b\b\b\b\b\b\b\b\b\b\b\b\b\b\b\b\b\b\b\b\b\b\b\b\b\b\b\b\b\b\b\b\b\b\b\b\b\b\b\b\b\b\b\b\b\b\b\b\b\b\b\b\b\r31/37 [========================>.....] - ETA: 2:01 - loss: 0.0036 - accuracy: 0.9980"
          ]
        },
        {
          "output_type": "stream",
          "name": "stderr",
          "text": [
            "WARNING:tensorflow:Can save best model only with val_acc available, skipping.\n"
          ]
        },
        {
          "output_type": "stream",
          "name": "stdout",
          "text": [
            "\b\b\b\b\b\b\b\b\b\b\b\b\b\b\b\b\b\b\b\b\b\b\b\b\b\b\b\b\b\b\b\b\b\b\b\b\b\b\b\b\b\b\b\b\b\b\b\b\b\b\b\b\b\b\b\b\b\b\b\b\b\b\b\b\b\b\b\b\b\b\b\b\b\b\b\b\b\b\b\b\b\b\b\b\r32/37 [========================>.....] - ETA: 1:41 - loss: 0.0035 - accuracy: 0.9980"
          ]
        },
        {
          "output_type": "stream",
          "name": "stderr",
          "text": [
            "WARNING:tensorflow:Can save best model only with val_acc available, skipping.\n"
          ]
        },
        {
          "output_type": "stream",
          "name": "stdout",
          "text": [
            "\b\b\b\b\b\b\b\b\b\b\b\b\b\b\b\b\b\b\b\b\b\b\b\b\b\b\b\b\b\b\b\b\b\b\b\b\b\b\b\b\b\b\b\b\b\b\b\b\b\b\b\b\b\b\b\b\b\b\b\b\b\b\b\b\b\b\b\b\b\b\b\b\b\b\b\b\b\b\b\b\b\b\b\b\r33/37 [=========================>....] - ETA: 1:21 - loss: 0.0034 - accuracy: 0.9981"
          ]
        },
        {
          "output_type": "stream",
          "name": "stderr",
          "text": [
            "WARNING:tensorflow:Can save best model only with val_acc available, skipping.\n"
          ]
        },
        {
          "output_type": "stream",
          "name": "stdout",
          "text": [
            "\b\b\b\b\b\b\b\b\b\b\b\b\b\b\b\b\b\b\b\b\b\b\b\b\b\b\b\b\b\b\b\b\b\b\b\b\b\b\b\b\b\b\b\b\b\b\b\b\b\b\b\b\b\b\b\b\b\b\b\b\b\b\b\b\b\b\b\b\b\b\b\b\b\b\b\b\b\b\b\b\b\b\b\b\r34/37 [==========================>...] - ETA: 1:00 - loss: 0.0033 - accuracy: 0.9982"
          ]
        },
        {
          "output_type": "stream",
          "name": "stderr",
          "text": [
            "WARNING:tensorflow:Can save best model only with val_acc available, skipping.\n"
          ]
        },
        {
          "output_type": "stream",
          "name": "stdout",
          "text": [
            "\b\b\b\b\b\b\b\b\b\b\b\b\b\b\b\b\b\b\b\b\b\b\b\b\b\b\b\b\b\b\b\b\b\b\b\b\b\b\b\b\b\b\b\b\b\b\b\b\b\b\b\b\b\b\b\b\b\b\b\b\b\b\b\b\b\b\b\b\b\b\b\b\b\b\b\b\b\b\b\b\b\b\b\b\r35/37 [===========================>..] - ETA: 40s - loss: 0.0032 - accuracy: 0.9982 "
          ]
        },
        {
          "output_type": "stream",
          "name": "stderr",
          "text": [
            "WARNING:tensorflow:Can save best model only with val_acc available, skipping.\n"
          ]
        },
        {
          "output_type": "stream",
          "name": "stdout",
          "text": [
            "\b\b\b\b\b\b\b\b\b\b\b\b\b\b\b\b\b\b\b\b\b\b\b\b\b\b\b\b\b\b\b\b\b\b\b\b\b\b\b\b\b\b\b\b\b\b\b\b\b\b\b\b\b\b\b\b\b\b\b\b\b\b\b\b\b\b\b\b\b\b\b\b\b\b\b\b\b\b\b\b\b\b\b\r36/37 [============================>.] - ETA: 20s - loss: 0.0031 - accuracy: 0.9983"
          ]
        },
        {
          "output_type": "stream",
          "name": "stderr",
          "text": [
            "WARNING:tensorflow:Can save best model only with val_acc available, skipping.\n"
          ]
        },
        {
          "output_type": "stream",
          "name": "stdout",
          "text": [
            "\b\b\b\b\b\b\b\b\b\b\b\b\b\b\b\b\b\b\b\b\b\b\b\b\b\b\b\b\b\b\b\b\b\b\b\b\b\b\b\b\b\b\b\b\b\b\b\b\b\b\b\b\b\b\b\b\b\b\b\b\b\b\b\b\b\b\b\b\b\b\b\b\b\b\b\b\b\b\b\b\b\b\b\r37/37 [==============================] - ETA: 0s - loss: 0.0031 - accuracy: 0.9983 "
          ]
        },
        {
          "output_type": "stream",
          "name": "stderr",
          "text": [
            "WARNING:tensorflow:Early stopping conditioned on metric `val_acc` which is not available. Available metrics are: loss,accuracy,val_loss,val_accuracy\n"
          ]
        },
        {
          "output_type": "stream",
          "name": "stdout",
          "text": [
            "\b\b\b\b\b\b\b\b\b\b\b\b\b\b\b\b\b\b\b\b\b\b\b\b\b\b\b\b\b\b\b\b\b\b\b\b\b\b\b\b\b\b\b\b\b\b\b\b\b\b\b\b\b\b\b\b\b\b\b\b\b\b\b\b\b\b\b\b\b\b\b\b\b\b\b\b\b\b\b\b\b\b\r37/37 [==============================] - 936s 25s/step - loss: 0.0031 - accuracy: 0.9983 - val_loss: 0.0233 - val_accuracy: 0.9897\n",
            "Epoch 6/15\n"
          ]
        },
        {
          "output_type": "stream",
          "name": "stderr",
          "text": [
            "WARNING:tensorflow:Can save best model only with val_acc available, skipping.\n"
          ]
        },
        {
          "output_type": "stream",
          "name": "stdout",
          "text": [
            "\r 1/37 [..............................] - ETA: 12:20 - loss: 3.5478e-10 - accuracy: 1.0000"
          ]
        },
        {
          "output_type": "stream",
          "name": "stderr",
          "text": [
            "WARNING:tensorflow:Can save best model only with val_acc available, skipping.\n"
          ]
        },
        {
          "output_type": "stream",
          "name": "stdout",
          "text": [
            "\b\b\b\b\b\b\b\b\b\b\b\b\b\b\b\b\b\b\b\b\b\b\b\b\b\b\b\b\b\b\b\b\b\b\b\b\b\b\b\b\b\b\b\b\b\b\b\b\b\b\b\b\b\b\b\b\b\b\b\b\b\b\b\b\b\b\b\b\b\b\b\b\b\b\b\b\b\b\b\b\b\b\b\b\b\b\b\b\b\r 2/37 [>.............................] - ETA: 11:59 - loss: 3.6386e-06 - accuracy: 1.0000"
          ]
        },
        {
          "output_type": "stream",
          "name": "stderr",
          "text": [
            "WARNING:tensorflow:Can save best model only with val_acc available, skipping.\n"
          ]
        },
        {
          "output_type": "stream",
          "name": "stdout",
          "text": [
            "\b\b\b\b\b\b\b\b\b\b\b\b\b\b\b\b\b\b\b\b\b\b\b\b\b\b\b\b\b\b\b\b\b\b\b\b\b\b\b\b\b\b\b\b\b\b\b\b\b\b\b\b\b\b\b\b\b\b\b\b\b\b\b\b\b\b\b\b\b\b\b\b\b\b\b\b\b\b\b\b\b\b\b\b\b\b\b\b\b\r 3/37 [=>............................] - ETA: 11:25 - loss: 3.1181e-06 - accuracy: 1.0000"
          ]
        },
        {
          "output_type": "stream",
          "name": "stderr",
          "text": [
            "WARNING:tensorflow:Can save best model only with val_acc available, skipping.\n"
          ]
        },
        {
          "output_type": "stream",
          "name": "stdout",
          "text": [
            "\b\b\b\b\b\b\b\b\b\b\b\b\b\b\b\b\b\b\b\b\b\b\b\b\b\b\b\b\b\b\b\b\b\b\b\b\b\b\b\b\b\b\b\b\b\b\b\b\b\b\b\b\b\b\b\b\b\b\b\b\b\b\b\b\b\b\b\b\b\b\b\b\b\b\b\b\b\b\b\b\b\b\b\b\b\b\b\b\b\r 4/37 [==>...........................] - ETA: 11:08 - loss: 1.0867e-04 - accuracy: 1.0000"
          ]
        },
        {
          "output_type": "stream",
          "name": "stderr",
          "text": [
            "WARNING:tensorflow:Can save best model only with val_acc available, skipping.\n"
          ]
        },
        {
          "output_type": "stream",
          "name": "stdout",
          "text": [
            "\b\b\b\b\b\b\b\b\b\b\b\b\b\b\b\b\b\b\b\b\b\b\b\b\b\b\b\b\b\b\b\b\b\b\b\b\b\b\b\b\b\b\b\b\b\b\b\b\b\b\b\b\b\b\b\b\b\b\b\b\b\b\b\b\b\b\b\b\b\b\b\b\b\b\b\b\b\b\b\b\b\b\b\b\b\b\b\b\b\r 5/37 [===>..........................] - ETA: 10:49 - loss: 9.3033e-05 - accuracy: 1.0000"
          ]
        },
        {
          "output_type": "stream",
          "name": "stderr",
          "text": [
            "WARNING:tensorflow:Can save best model only with val_acc available, skipping.\n"
          ]
        },
        {
          "output_type": "stream",
          "name": "stdout",
          "text": [
            "\b\b\b\b\b\b\b\b\b\b\b\b\b\b\b\b\b\b\b\b\b\b\b\b\b\b\b\b\b\b\b\b\b\b\b\b\b\b\b\b\b\b\b\b\b\b\b\b\b\b\b\b\b\b\b\b\b\b\b\b\b\b\b\b\b\b\b\b\b\b\b\b\b\b\b\b\b\b\b\b\b\b\b\b\b\b\b\b\b\r 6/37 [===>..........................] - ETA: 10:29 - loss: 7.7913e-05 - accuracy: 1.0000"
          ]
        },
        {
          "output_type": "stream",
          "name": "stderr",
          "text": [
            "WARNING:tensorflow:Can save best model only with val_acc available, skipping.\n"
          ]
        },
        {
          "output_type": "stream",
          "name": "stdout",
          "text": [
            "\b\b\b\b\b\b\b\b\b\b\b\b\b\b\b\b\b\b\b\b\b\b\b\b\b\b\b\b\b\b\b\b\b\b\b\b\b\b\b\b\b\b\b\b\b\b\b\b\b\b\b\b\b\b\b\b\b\b\b\b\b\b\b\b\b\b\b\b\b\b\b\b\b\b\b\b\b\b\b\b\b\b\b\b\b\b\b\b\b\r 7/37 [====>.........................] - ETA: 10:06 - loss: 1.5902e-04 - accuracy: 1.0000"
          ]
        },
        {
          "output_type": "stream",
          "name": "stderr",
          "text": [
            "WARNING:tensorflow:Can save best model only with val_acc available, skipping.\n"
          ]
        },
        {
          "output_type": "stream",
          "name": "stdout",
          "text": [
            "\b\b\b\b\b\b\b\b\b\b\b\b\b\b\b\b\b\b\b\b\b\b\b\b\b\b\b\b\b\b\b\b\b\b\b\b\b\b\b\b\b\b\b\b\b\b\b\b\b\b\b\b\b\b\b\b\b\b\b\b\b\b\b\b\b\b\b\b\b\b\b\b\b\b\b\b\b\b\b\b\b\b\b\b\b\b\b\b\b\r 8/37 [=====>........................] - ETA: 9:47 - loss: 1.5065e-04 - accuracy: 1.0000 "
          ]
        },
        {
          "output_type": "stream",
          "name": "stderr",
          "text": [
            "WARNING:tensorflow:Can save best model only with val_acc available, skipping.\n"
          ]
        },
        {
          "output_type": "stream",
          "name": "stdout",
          "text": [
            "\b\b\b\b\b\b\b\b\b\b\b\b\b\b\b\b\b\b\b\b\b\b\b\b\b\b\b\b\b\b\b\b\b\b\b\b\b\b\b\b\b\b\b\b\b\b\b\b\b\b\b\b\b\b\b\b\b\b\b\b\b\b\b\b\b\b\b\b\b\b\b\b\b\b\b\b\b\b\b\b\b\b\b\b\b\b\b\b\r 9/37 [======>.......................] - ETA: 9:27 - loss: 1.3398e-04 - accuracy: 1.0000"
          ]
        },
        {
          "output_type": "stream",
          "name": "stderr",
          "text": [
            "WARNING:tensorflow:Can save best model only with val_acc available, skipping.\n"
          ]
        },
        {
          "output_type": "stream",
          "name": "stdout",
          "text": [
            "\b\b\b\b\b\b\b\b\b\b\b\b\b\b\b\b\b\b\b\b\b\b\b\b\b\b\b\b\b\b\b\b\b\b\b\b\b\b\b\b\b\b\b\b\b\b\b\b\b\b\b\b\b\b\b\b\b\b\b\b\b\b\b\b\b\b\b\b\b\b\b\b\b\b\b\b\b\b\b\b\b\b\b\b\b\b\b\b\r10/37 [=======>......................] - ETA: 9:05 - loss: 2.2868e-04 - accuracy: 1.0000"
          ]
        },
        {
          "output_type": "stream",
          "name": "stderr",
          "text": [
            "WARNING:tensorflow:Can save best model only with val_acc available, skipping.\n"
          ]
        },
        {
          "output_type": "stream",
          "name": "stdout",
          "text": [
            "\b\b\b\b\b\b\b\b\b\b\b\b\b\b\b\b\b\b\b\b\b\b\b\b\b\b\b\b\b\b\b\b\b\b\b\b\b\b\b\b\b\b\b\b\b\b\b\b\b\b\b\b\b\b\b\b\b\b\b\b\b\b\b\b\b\b\b\b\b\b\b\b\b\b\b\b\b\b\b\b\b\b\b\b\b\b\b\b\r11/37 [=======>......................] - ETA: 8:46 - loss: 2.3764e-04 - accuracy: 1.0000"
          ]
        },
        {
          "output_type": "stream",
          "name": "stderr",
          "text": [
            "WARNING:tensorflow:Can save best model only with val_acc available, skipping.\n"
          ]
        },
        {
          "output_type": "stream",
          "name": "stdout",
          "text": [
            "\b\b\b\b\b\b\b\b\b\b\b\b\b\b\b\b\b\b\b\b\b\b\b\b\b\b\b\b\b\b\b\b\b\b\b\b\b\b\b\b\b\b\b\b\b\b\b\b\b\b\b\b\b\b\b\b\b\b\b\b\b\b\b\b\b\b\b\b\b\b\b\b\b\b\b\b\b\b\b\b\b\b\b\b\b\b\b\b\r12/37 [========>.....................] - ETA: 8:26 - loss: 0.0011 - accuracy: 1.0000    "
          ]
        },
        {
          "output_type": "stream",
          "name": "stderr",
          "text": [
            "WARNING:tensorflow:Can save best model only with val_acc available, skipping.\n"
          ]
        },
        {
          "output_type": "stream",
          "name": "stdout",
          "text": [
            "\b\b\b\b\b\b\b\b\b\b\b\b\b\b\b\b\b\b\b\b\b\b\b\b\b\b\b\b\b\b\b\b\b\b\b\b\b\b\b\b\b\b\b\b\b\b\b\b\b\b\b\b\b\b\b\b\b\b\b\b\b\b\b\b\b\b\b\b\b\b\b\b\b\b\b\b\b\b\b\b\b\b\b\b\r13/37 [=========>....................] - ETA: 8:05 - loss: 0.0010 - accuracy: 1.0000"
          ]
        },
        {
          "output_type": "stream",
          "name": "stderr",
          "text": [
            "WARNING:tensorflow:Can save best model only with val_acc available, skipping.\n"
          ]
        },
        {
          "output_type": "stream",
          "name": "stdout",
          "text": [
            "\b\b\b\b\b\b\b\b\b\b\b\b\b\b\b\b\b\b\b\b\b\b\b\b\b\b\b\b\b\b\b\b\b\b\b\b\b\b\b\b\b\b\b\b\b\b\b\b\b\b\b\b\b\b\b\b\b\b\b\b\b\b\b\b\b\b\b\b\b\b\b\b\b\b\b\b\b\b\b\b\b\b\b\b\r14/37 [==========>...................] - ETA: 7:45 - loss: 9.6394e-04 - accuracy: 1.0000"
          ]
        },
        {
          "output_type": "stream",
          "name": "stderr",
          "text": [
            "WARNING:tensorflow:Can save best model only with val_acc available, skipping.\n"
          ]
        },
        {
          "output_type": "stream",
          "name": "stdout",
          "text": [
            "\b\b\b\b\b\b\b\b\b\b\b\b\b\b\b\b\b\b\b\b\b\b\b\b\b\b\b\b\b\b\b\b\b\b\b\b\b\b\b\b\b\b\b\b\b\b\b\b\b\b\b\b\b\b\b\b\b\b\b\b\b\b\b\b\b\b\b\b\b\b\b\b\b\b\b\b\b\b\b\b\b\b\b\b\b\b\b\b\r15/37 [===========>..................] - ETA: 7:25 - loss: 9.0165e-04 - accuracy: 1.0000"
          ]
        },
        {
          "output_type": "stream",
          "name": "stderr",
          "text": [
            "WARNING:tensorflow:Can save best model only with val_acc available, skipping.\n"
          ]
        },
        {
          "output_type": "stream",
          "name": "stdout",
          "text": [
            "\b\b\b\b\b\b\b\b\b\b\b\b\b\b\b\b\b\b\b\b\b\b\b\b\b\b\b\b\b\b\b\b\b\b\b\b\b\b\b\b\b\b\b\b\b\b\b\b\b\b\b\b\b\b\b\b\b\b\b\b\b\b\b\b\b\b\b\b\b\b\b\b\b\b\b\b\b\b\b\b\b\b\b\b\b\b\b\b\r16/37 [===========>..................] - ETA: 7:05 - loss: 8.8841e-04 - accuracy: 1.0000"
          ]
        },
        {
          "output_type": "stream",
          "name": "stderr",
          "text": [
            "WARNING:tensorflow:Can save best model only with val_acc available, skipping.\n"
          ]
        },
        {
          "output_type": "stream",
          "name": "stdout",
          "text": [
            "\b\b\b\b\b\b\b\b\b\b\b\b\b\b\b\b\b\b\b\b\b\b\b\b\b\b\b\b\b\b\b\b\b\b\b\b\b\b\b\b\b\b\b\b\b\b\b\b\b\b\b\b\b\b\b\b\b\b\b\b\b\b\b\b\b\b\b\b\b\b\b\b\b\b\b\b\b\b\b\b\b\b\b\b\b\b\b\b\r17/37 [============>.................] - ETA: 6:44 - loss: 8.3743e-04 - accuracy: 1.0000"
          ]
        },
        {
          "output_type": "stream",
          "name": "stderr",
          "text": [
            "WARNING:tensorflow:Can save best model only with val_acc available, skipping.\n"
          ]
        },
        {
          "output_type": "stream",
          "name": "stdout",
          "text": [
            "\b\b\b\b\b\b\b\b\b\b\b\b\b\b\b\b\b\b\b\b\b\b\b\b\b\b\b\b\b\b\b\b\b\b\b\b\b\b\b\b\b\b\b\b\b\b\b\b\b\b\b\b\b\b\b\b\b\b\b\b\b\b\b\b\b\b\b\b\b\b\b\b\b\b\b\b\b\b\b\b\b\b\b\b\b\b\b\b\r18/37 [=============>................] - ETA: 6:24 - loss: 7.9091e-04 - accuracy: 1.0000"
          ]
        },
        {
          "output_type": "stream",
          "name": "stderr",
          "text": [
            "WARNING:tensorflow:Can save best model only with val_acc available, skipping.\n"
          ]
        },
        {
          "output_type": "stream",
          "name": "stdout",
          "text": [
            "\b\b\b\b\b\b\b\b\b\b\b\b\b\b\b\b\b\b\b\b\b\b\b\b\b\b\b\b\b\b\b\b\b\b\b\b\b\b\b\b\b\b\b\b\b\b\b\b\b\b\b\b\b\b\b\b\b\b\b\b\b\b\b\b\b\b\b\b\b\b\b\b\b\b\b\b\b\b\b\b\b\b\b\b\b\b\b\b\r19/37 [==============>...............] - ETA: 6:04 - loss: 7.4929e-04 - accuracy: 1.0000"
          ]
        },
        {
          "output_type": "stream",
          "name": "stderr",
          "text": [
            "WARNING:tensorflow:Can save best model only with val_acc available, skipping.\n"
          ]
        },
        {
          "output_type": "stream",
          "name": "stdout",
          "text": [
            "\b\b\b\b\b\b\b\b\b\b\b\b\b\b\b\b\b\b\b\b\b\b\b\b\b\b\b\b\b\b\b\b\b\b\b\b\b\b\b\b\b\b\b\b\b\b\b\b\b\b\b\b\b\b\b\b\b\b\b\b\b\b\b\b\b\b\b\b\b\b\b\b\b\b\b\b\b\b\b\b\b\b\b\b\b\b\b\b\r20/37 [===============>..............] - ETA: 5:43 - loss: 7.1405e-04 - accuracy: 1.0000"
          ]
        },
        {
          "output_type": "stream",
          "name": "stderr",
          "text": [
            "WARNING:tensorflow:Can save best model only with val_acc available, skipping.\n"
          ]
        },
        {
          "output_type": "stream",
          "name": "stdout",
          "text": [
            "\b\b\b\b\b\b\b\b\b\b\b\b\b\b\b\b\b\b\b\b\b\b\b\b\b\b\b\b\b\b\b\b\b\b\b\b\b\b\b\b\b\b\b\b\b\b\b\b\b\b\b\b\b\b\b\b\b\b\b\b\b\b\b\b\b\b\b\b\b\b\b\b\b\b\b\b\b\b\b\b\b\b\b\b\b\b\b\b\r21/37 [================>.............] - ETA: 5:23 - loss: 6.8293e-04 - accuracy: 1.0000"
          ]
        },
        {
          "output_type": "stream",
          "name": "stderr",
          "text": [
            "WARNING:tensorflow:Can save best model only with val_acc available, skipping.\n"
          ]
        },
        {
          "output_type": "stream",
          "name": "stdout",
          "text": [
            "\b\b\b\b\b\b\b\b\b\b\b\b\b\b\b\b\b\b\b\b\b\b\b\b\b\b\b\b\b\b\b\b\b\b\b\b\b\b\b\b\b\b\b\b\b\b\b\b\b\b\b\b\b\b\b\b\b\b\b\b\b\b\b\b\b\b\b\b\b\b\b\b\b\b\b\b\b\b\b\b\b\b\b\b\b\b\b\b\r22/37 [================>.............] - ETA: 5:03 - loss: 6.5189e-04 - accuracy: 1.0000"
          ]
        },
        {
          "output_type": "stream",
          "name": "stderr",
          "text": [
            "WARNING:tensorflow:Can save best model only with val_acc available, skipping.\n"
          ]
        },
        {
          "output_type": "stream",
          "name": "stdout",
          "text": [
            "\b\b\b\b\b\b\b\b\b\b\b\b\b\b\b\b\b\b\b\b\b\b\b\b\b\b\b\b\b\b\b\b\b\b\b\b\b\b\b\b\b\b\b\b\b\b\b\b\b\b\b\b\b\b\b\b\b\b\b\b\b\b\b\b\b\b\b\b\b\b\b\b\b\b\b\b\b\b\b\b\b\b\b\b\b\b\b\b\r23/37 [=================>............] - ETA: 4:43 - loss: 6.2410e-04 - accuracy: 1.0000"
          ]
        },
        {
          "output_type": "stream",
          "name": "stderr",
          "text": [
            "WARNING:tensorflow:Can save best model only with val_acc available, skipping.\n"
          ]
        },
        {
          "output_type": "stream",
          "name": "stdout",
          "text": [
            "\b\b\b\b\b\b\b\b\b\b\b\b\b\b\b\b\b\b\b\b\b\b\b\b\b\b\b\b\b\b\b\b\b\b\b\b\b\b\b\b\b\b\b\b\b\b\b\b\b\b\b\b\b\b\b\b\b\b\b\b\b\b\b\b\b\b\b\b\b\b\b\b\b\b\b\b\b\b\b\b\b\b\b\b\b\b\b\b\r24/37 [==================>...........] - ETA: 4:23 - loss: 5.9824e-04 - accuracy: 1.0000"
          ]
        },
        {
          "output_type": "stream",
          "name": "stderr",
          "text": [
            "WARNING:tensorflow:Can save best model only with val_acc available, skipping.\n"
          ]
        },
        {
          "output_type": "stream",
          "name": "stdout",
          "text": [
            "\b\b\b\b\b\b\b\b\b\b\b\b\b\b\b\b\b\b\b\b\b\b\b\b\b\b\b\b\b\b\b\b\b\b\b\b\b\b\b\b\b\b\b\b\b\b\b\b\b\b\b\b\b\b\b\b\b\b\b\b\b\b\b\b\b\b\b\b\b\b\b\b\b\b\b\b\b\b\b\b\b\b\b\b\b\b\b\b\r25/37 [===================>..........] - ETA: 4:02 - loss: 5.7431e-04 - accuracy: 1.0000"
          ]
        },
        {
          "output_type": "stream",
          "name": "stderr",
          "text": [
            "WARNING:tensorflow:Can save best model only with val_acc available, skipping.\n"
          ]
        },
        {
          "output_type": "stream",
          "name": "stdout",
          "text": [
            "\b\b\b\b\b\b\b\b\b\b\b\b\b\b\b\b\b\b\b\b\b\b\b\b\b\b\b\b\b\b\b\b\b\b\b\b\b\b\b\b\b\b\b\b\b\b\b\b\b\b\b\b\b\b\b\b\b\b\b\b\b\b\b\b\b\b\b\b\b\b\b\b\b\b\b\b\b\b\b\b\b\b\b\b\b\b\b\b\r26/37 [====================>.........] - ETA: 3:42 - loss: 5.5226e-04 - accuracy: 1.0000"
          ]
        },
        {
          "output_type": "stream",
          "name": "stderr",
          "text": [
            "WARNING:tensorflow:Can save best model only with val_acc available, skipping.\n"
          ]
        },
        {
          "output_type": "stream",
          "name": "stdout",
          "text": [
            "\b\b\b\b\b\b\b\b\b\b\b\b\b\b\b\b\b\b\b\b\b\b\b\b\b\b\b\b\b\b\b\b\b\b\b\b\b\b\b\b\b\b\b\b\b\b\b\b\b\b\b\b\b\b\b\b\b\b\b\b\b\b\b\b\b\b\b\b\b\b\b\b\b\b\b\b\b\b\b\b\b\b\b\b\b\b\b\b\r27/37 [====================>.........] - ETA: 3:22 - loss: 5.3181e-04 - accuracy: 1.0000"
          ]
        },
        {
          "output_type": "stream",
          "name": "stderr",
          "text": [
            "WARNING:tensorflow:Can save best model only with val_acc available, skipping.\n"
          ]
        },
        {
          "output_type": "stream",
          "name": "stdout",
          "text": [
            "\b\b\b\b\b\b\b\b\b\b\b\b\b\b\b\b\b\b\b\b\b\b\b\b\b\b\b\b\b\b\b\b\b\b\b\b\b\b\b\b\b\b\b\b\b\b\b\b\b\b\b\b\b\b\b\b\b\b\b\b\b\b\b\b\b\b\b\b\b\b\b\b\b\b\b\b\b\b\b\b\b\b\b\b\b\b\b\b\r28/37 [=====================>........] - ETA: 3:02 - loss: 5.1282e-04 - accuracy: 1.0000"
          ]
        },
        {
          "output_type": "stream",
          "name": "stderr",
          "text": [
            "WARNING:tensorflow:Can save best model only with val_acc available, skipping.\n"
          ]
        },
        {
          "output_type": "stream",
          "name": "stdout",
          "text": [
            "\b\b\b\b\b\b\b\b\b\b\b\b\b\b\b\b\b\b\b\b\b\b\b\b\b\b\b\b\b\b\b\b\b\b\b\b\b\b\b\b\b\b\b\b\b\b\b\b\b\b\b\b\b\b\b\b\b\b\b\b\b\b\b\b\b\b\b\b\b\b\b\b\b\b\b\b\b\b\b\b\b\b\b\b\b\b\b\b\r29/37 [======================>.......] - ETA: 2:41 - loss: 4.9546e-04 - accuracy: 1.0000"
          ]
        },
        {
          "output_type": "stream",
          "name": "stderr",
          "text": [
            "WARNING:tensorflow:Can save best model only with val_acc available, skipping.\n"
          ]
        },
        {
          "output_type": "stream",
          "name": "stdout",
          "text": [
            "\b\b\b\b\b\b\b\b\b\b\b\b\b\b\b\b\b\b\b\b\b\b\b\b\b\b\b\b\b\b\b\b\b\b\b\b\b\b\b\b\b\b\b\b\b\b\b\b\b\b\b\b\b\b\b\b\b\b\b\b\b\b\b\b\b\b\b\b\b\b\b\b\b\b\b\b\b\b\b\b\b\b\b\b\b\b\b\b\r30/37 [=======================>......] - ETA: 2:21 - loss: 4.7894e-04 - accuracy: 1.0000"
          ]
        },
        {
          "output_type": "stream",
          "name": "stderr",
          "text": [
            "WARNING:tensorflow:Can save best model only with val_acc available, skipping.\n"
          ]
        },
        {
          "output_type": "stream",
          "name": "stdout",
          "text": [
            "\b\b\b\b\b\b\b\b\b\b\b\b\b\b\b\b\b\b\b\b\b\b\b\b\b\b\b\b\b\b\b\b\b\b\b\b\b\b\b\b\b\b\b\b\b\b\b\b\b\b\b\b\b\b\b\b\b\b\b\b\b\b\b\b\b\b\b\b\b\b\b\b\b\b\b\b\b\b\b\b\b\b\b\b\b\b\b\b\r31/37 [========================>.....] - ETA: 2:01 - loss: 4.6681e-04 - accuracy: 1.0000"
          ]
        },
        {
          "output_type": "stream",
          "name": "stderr",
          "text": [
            "WARNING:tensorflow:Can save best model only with val_acc available, skipping.\n"
          ]
        },
        {
          "output_type": "stream",
          "name": "stdout",
          "text": [
            "\b\b\b\b\b\b\b\b\b\b\b\b\b\b\b\b\b\b\b\b\b\b\b\b\b\b\b\b\b\b\b\b\b\b\b\b\b\b\b\b\b\b\b\b\b\b\b\b\b\b\b\b\b\b\b\b\b\b\b\b\b\b\b\b\b\b\b\b\b\b\b\b\b\b\b\b\b\b\b\b\b\b\b\b\b\b\b\b\r32/37 [========================>.....] - ETA: 1:41 - loss: 4.5222e-04 - accuracy: 1.0000"
          ]
        },
        {
          "output_type": "stream",
          "name": "stderr",
          "text": [
            "WARNING:tensorflow:Can save best model only with val_acc available, skipping.\n"
          ]
        },
        {
          "output_type": "stream",
          "name": "stdout",
          "text": [
            "\b\b\b\b\b\b\b\b\b\b\b\b\b\b\b\b\b\b\b\b\b\b\b\b\b\b\b\b\b\b\b\b\b\b\b\b\b\b\b\b\b\b\b\b\b\b\b\b\b\b\b\b\b\b\b\b\b\b\b\b\b\b\b\b\b\b\b\b\b\b\b\b\b\b\b\b\b\b\b\b\b\b\b\b\b\b\b\b\r33/37 [=========================>....] - ETA: 1:20 - loss: 4.5302e-04 - accuracy: 1.0000"
          ]
        },
        {
          "output_type": "stream",
          "name": "stderr",
          "text": [
            "WARNING:tensorflow:Can save best model only with val_acc available, skipping.\n"
          ]
        },
        {
          "output_type": "stream",
          "name": "stdout",
          "text": [
            "\b\b\b\b\b\b\b\b\b\b\b\b\b\b\b\b\b\b\b\b\b\b\b\b\b\b\b\b\b\b\b\b\b\b\b\b\b\b\b\b\b\b\b\b\b\b\b\b\b\b\b\b\b\b\b\b\b\b\b\b\b\b\b\b\b\b\b\b\b\b\b\b\b\b\b\b\b\b\b\b\b\b\b\b\b\b\b\b\r34/37 [==========================>...] - ETA: 1:00 - loss: 4.4416e-04 - accuracy: 1.0000"
          ]
        },
        {
          "output_type": "stream",
          "name": "stderr",
          "text": [
            "WARNING:tensorflow:Can save best model only with val_acc available, skipping.\n"
          ]
        },
        {
          "output_type": "stream",
          "name": "stdout",
          "text": [
            "\b\b\b\b\b\b\b\b\b\b\b\b\b\b\b\b\b\b\b\b\b\b\b\b\b\b\b\b\b\b\b\b\b\b\b\b\b\b\b\b\b\b\b\b\b\b\b\b\b\b\b\b\b\b\b\b\b\b\b\b\b\b\b\b\b\b\b\b\b\b\b\b\b\b\b\b\b\b\b\b\b\b\b\b\b\b\b\b\r35/37 [===========================>..] - ETA: 40s - loss: 4.3159e-04 - accuracy: 1.0000 "
          ]
        },
        {
          "output_type": "stream",
          "name": "stderr",
          "text": [
            "WARNING:tensorflow:Can save best model only with val_acc available, skipping.\n"
          ]
        },
        {
          "output_type": "stream",
          "name": "stdout",
          "text": [
            "\b\b\b\b\b\b\b\b\b\b\b\b\b\b\b\b\b\b\b\b\b\b\b\b\b\b\b\b\b\b\b\b\b\b\b\b\b\b\b\b\b\b\b\b\b\b\b\b\b\b\b\b\b\b\b\b\b\b\b\b\b\b\b\b\b\b\b\b\b\b\b\b\b\b\b\b\b\b\b\b\b\b\b\b\b\b\b\r36/37 [============================>.] - ETA: 20s - loss: 4.2085e-04 - accuracy: 1.0000"
          ]
        },
        {
          "output_type": "stream",
          "name": "stderr",
          "text": [
            "WARNING:tensorflow:Can save best model only with val_acc available, skipping.\n"
          ]
        },
        {
          "output_type": "stream",
          "name": "stdout",
          "text": [
            "\b\b\b\b\b\b\b\b\b\b\b\b\b\b\b\b\b\b\b\b\b\b\b\b\b\b\b\b\b\b\b\b\b\b\b\b\b\b\b\b\b\b\b\b\b\b\b\b\b\b\b\b\b\b\b\b\b\b\b\b\b\b\b\b\b\b\b\b\b\b\b\b\b\b\b\b\b\b\b\b\b\b\b\b\b\b\b\r37/37 [==============================] - ETA: 0s - loss: 4.1758e-04 - accuracy: 1.0000 "
          ]
        },
        {
          "output_type": "stream",
          "name": "stderr",
          "text": [
            "WARNING:tensorflow:Early stopping conditioned on metric `val_acc` which is not available. Available metrics are: loss,accuracy,val_loss,val_accuracy\n"
          ]
        },
        {
          "output_type": "stream",
          "name": "stdout",
          "text": [
            "\b\b\b\b\b\b\b\b\b\b\b\b\b\b\b\b\b\b\b\b\b\b\b\b\b\b\b\b\b\b\b\b\b\b\b\b\b\b\b\b\b\b\b\b\b\b\b\b\b\b\b\b\b\b\b\b\b\b\b\b\b\b\b\b\b\b\b\b\b\b\b\b\b\b\b\b\b\b\b\b\b\b\b\b\b\b\r37/37 [==============================] - 937s 25s/step - loss: 4.1758e-04 - accuracy: 1.0000 - val_loss: 0.0252 - val_accuracy: 0.9897\n",
            "Epoch 7/15\n"
          ]
        },
        {
          "output_type": "stream",
          "name": "stderr",
          "text": [
            "WARNING:tensorflow:Can save best model only with val_acc available, skipping.\n"
          ]
        },
        {
          "output_type": "stream",
          "name": "stdout",
          "text": [
            "\r 1/37 [..............................] - ETA: 12:18 - loss: 5.0794e-04 - accuracy: 1.0000"
          ]
        },
        {
          "output_type": "stream",
          "name": "stderr",
          "text": [
            "WARNING:tensorflow:Can save best model only with val_acc available, skipping.\n"
          ]
        },
        {
          "output_type": "stream",
          "name": "stdout",
          "text": [
            "\b\b\b\b\b\b\b\b\b\b\b\b\b\b\b\b\b\b\b\b\b\b\b\b\b\b\b\b\b\b\b\b\b\b\b\b\b\b\b\b\b\b\b\b\b\b\b\b\b\b\b\b\b\b\b\b\b\b\b\b\b\b\b\b\b\b\b\b\b\b\b\b\b\b\b\b\b\b\b\b\b\b\b\b\b\b\b\b\b\r 2/37 [>.............................] - ETA: 11:29 - loss: 2.5492e-04 - accuracy: 1.0000"
          ]
        },
        {
          "output_type": "stream",
          "name": "stderr",
          "text": [
            "WARNING:tensorflow:Can save best model only with val_acc available, skipping.\n"
          ]
        },
        {
          "output_type": "stream",
          "name": "stdout",
          "text": [
            "\b\b\b\b\b\b\b\b\b\b\b\b\b\b\b\b\b\b\b\b\b\b\b\b\b\b\b\b\b\b\b\b\b\b\b\b\b\b\b\b\b\b\b\b\b\b\b\b\b\b\b\b\b\b\b\b\b\b\b\b\b\b\b\b\b\b\b\b\b\b\b\b\b\b\b\b\b\b\b\b\b\b\b\b\b\b\b\b\b\r 3/37 [=>............................] - ETA: 11:23 - loss: 2.2269e-04 - accuracy: 1.0000"
          ]
        },
        {
          "output_type": "stream",
          "name": "stderr",
          "text": [
            "WARNING:tensorflow:Can save best model only with val_acc available, skipping.\n"
          ]
        },
        {
          "output_type": "stream",
          "name": "stdout",
          "text": [
            "\b\b\b\b\b\b\b\b\b\b\b\b\b\b\b\b\b\b\b\b\b\b\b\b\b\b\b\b\b\b\b\b\b\b\b\b\b\b\b\b\b\b\b\b\b\b\b\b\b\b\b\b\b\b\b\b\b\b\b\b\b\b\b\b\b\b\b\b\b\b\b\b\b\b\b\b\b\b\b\b\b\b\b\b\b\b\b\b\b\r 4/37 [==>...........................] - ETA: 11:08 - loss: 1.6801e-04 - accuracy: 1.0000"
          ]
        },
        {
          "output_type": "stream",
          "name": "stderr",
          "text": [
            "WARNING:tensorflow:Can save best model only with val_acc available, skipping.\n"
          ]
        },
        {
          "output_type": "stream",
          "name": "stdout",
          "text": [
            "\b\b\b\b\b\b\b\b\b\b\b\b\b\b\b\b\b\b\b\b\b\b\b\b\b\b\b\b\b\b\b\b\b\b\b\b\b\b\b\b\b\b\b\b\b\b\b\b\b\b\b\b\b\b\b\b\b\b\b\b\b\b\b\b\b\b\b\b\b\b\b\b\b\b\b\b\b\b\b\b\b\b\b\b\b\b\b\b\b\r 5/37 [===>..........................] - ETA: 10:50 - loss: 1.3661e-04 - accuracy: 1.0000"
          ]
        },
        {
          "output_type": "stream",
          "name": "stderr",
          "text": [
            "WARNING:tensorflow:Can save best model only with val_acc available, skipping.\n"
          ]
        },
        {
          "output_type": "stream",
          "name": "stdout",
          "text": [
            "\b\b\b\b\b\b\b\b\b\b\b\b\b\b\b\b\b\b\b\b\b\b\b\b\b\b\b\b\b\b\b\b\b\b\b\b\b\b\b\b\b\b\b\b\b\b\b\b\b\b\b\b\b\b\b\b\b\b\b\b\b\b\b\b\b\b\b\b\b\b\b\b\b\b\b\b\b\b\b\b\b\b\b\b\b\b\b\b\b\r 6/37 [===>..........................] - ETA: 10:26 - loss: 1.2752e-04 - accuracy: 1.0000"
          ]
        },
        {
          "output_type": "stream",
          "name": "stderr",
          "text": [
            "WARNING:tensorflow:Can save best model only with val_acc available, skipping.\n"
          ]
        },
        {
          "output_type": "stream",
          "name": "stdout",
          "text": [
            "\b\b\b\b\b\b\b\b\b\b\b\b\b\b\b\b\b\b\b\b\b\b\b\b\b\b\b\b\b\b\b\b\b\b\b\b\b\b\b\b\b\b\b\b\b\b\b\b\b\b\b\b\b\b\b\b\b\b\b\b\b\b\b\b\b\b\b\b\b\b\b\b\b\b\b\b\b\b\b\b\b\b\b\b\b\b\b\b\b\r 7/37 [====>.........................] - ETA: 10:07 - loss: 1.1205e-04 - accuracy: 1.0000"
          ]
        },
        {
          "output_type": "stream",
          "name": "stderr",
          "text": [
            "WARNING:tensorflow:Can save best model only with val_acc available, skipping.\n"
          ]
        },
        {
          "output_type": "stream",
          "name": "stdout",
          "text": [
            "\b\b\b\b\b\b\b\b\b\b\b\b\b\b\b\b\b\b\b\b\b\b\b\b\b\b\b\b\b\b\b\b\b\b\b\b\b\b\b\b\b\b\b\b\b\b\b\b\b\b\b\b\b\b\b\b\b\b\b\b\b\b\b\b\b\b\b\b\b\b\b\b\b\b\b\b\b\b\b\b\b\b\b\b\b\b\b\b\b\r 8/37 [=====>........................] - ETA: 9:48 - loss: 9.8048e-05 - accuracy: 1.0000 "
          ]
        },
        {
          "output_type": "stream",
          "name": "stderr",
          "text": [
            "WARNING:tensorflow:Can save best model only with val_acc available, skipping.\n"
          ]
        },
        {
          "output_type": "stream",
          "name": "stdout",
          "text": [
            "\b\b\b\b\b\b\b\b\b\b\b\b\b\b\b\b\b\b\b\b\b\b\b\b\b\b\b\b\b\b\b\b\b\b\b\b\b\b\b\b\b\b\b\b\b\b\b\b\b\b\b\b\b\b\b\b\b\b\b\b\b\b\b\b\b\b\b\b\b\b\b\b\b\b\b\b\b\b\b\b\b\b\b\b\b\b\b\b\r 9/37 [======>.......................] - ETA: 9:25 - loss: 1.0082e-04 - accuracy: 1.0000"
          ]
        },
        {
          "output_type": "stream",
          "name": "stderr",
          "text": [
            "WARNING:tensorflow:Can save best model only with val_acc available, skipping.\n"
          ]
        },
        {
          "output_type": "stream",
          "name": "stdout",
          "text": [
            "\b\b\b\b\b\b\b\b\b\b\b\b\b\b\b\b\b\b\b\b\b\b\b\b\b\b\b\b\b\b\b\b\b\b\b\b\b\b\b\b\b\b\b\b\b\b\b\b\b\b\b\b\b\b\b\b\b\b\b\b\b\b\b\b\b\b\b\b\b\b\b\b\b\b\b\b\b\b\b\b\b\b\b\b\b\b\b\b\r10/37 [=======>......................] - ETA: 9:06 - loss: 9.0736e-05 - accuracy: 1.0000"
          ]
        },
        {
          "output_type": "stream",
          "name": "stderr",
          "text": [
            "WARNING:tensorflow:Can save best model only with val_acc available, skipping.\n"
          ]
        },
        {
          "output_type": "stream",
          "name": "stdout",
          "text": [
            "\b\b\b\b\b\b\b\b\b\b\b\b\b\b\b\b\b\b\b\b\b\b\b\b\b\b\b\b\b\b\b\b\b\b\b\b\b\b\b\b\b\b\b\b\b\b\b\b\b\b\b\b\b\b\b\b\b\b\b\b\b\b\b\b\b\b\b\b\b\b\b\b\b\b\b\b\b\b\b\b\b\b\b\b\b\b\b\b\r11/37 [=======>......................] - ETA: 8:46 - loss: 8.2487e-05 - accuracy: 1.0000"
          ]
        },
        {
          "output_type": "stream",
          "name": "stderr",
          "text": [
            "WARNING:tensorflow:Can save best model only with val_acc available, skipping.\n"
          ]
        },
        {
          "output_type": "stream",
          "name": "stdout",
          "text": [
            "\b\b\b\b\b\b\b\b\b\b\b\b\b\b\b\b\b\b\b\b\b\b\b\b\b\b\b\b\b\b\b\b\b\b\b\b\b\b\b\b\b\b\b\b\b\b\b\b\b\b\b\b\b\b\b\b\b\b\b\b\b\b\b\b\b\b\b\b\b\b\b\b\b\b\b\b\b\b\b\b\b\b\b\b\b\b\b\b\r12/37 [========>.....................] - ETA: 8:25 - loss: 7.5614e-05 - accuracy: 1.0000"
          ]
        },
        {
          "output_type": "stream",
          "name": "stderr",
          "text": [
            "WARNING:tensorflow:Can save best model only with val_acc available, skipping.\n"
          ]
        },
        {
          "output_type": "stream",
          "name": "stdout",
          "text": [
            "\b\b\b\b\b\b\b\b\b\b\b\b\b\b\b\b\b\b\b\b\b\b\b\b\b\b\b\b\b\b\b\b\b\b\b\b\b\b\b\b\b\b\b\b\b\b\b\b\b\b\b\b\b\b\b\b\b\b\b\b\b\b\b\b\b\b\b\b\b\b\b\b\b\b\b\b\b\b\b\b\b\b\b\b\b\b\b\b\r13/37 [=========>....................] - ETA: 8:05 - loss: 7.1187e-05 - accuracy: 1.0000"
          ]
        },
        {
          "output_type": "stream",
          "name": "stderr",
          "text": [
            "WARNING:tensorflow:Can save best model only with val_acc available, skipping.\n"
          ]
        },
        {
          "output_type": "stream",
          "name": "stdout",
          "text": [
            "\b\b\b\b\b\b\b\b\b\b\b\b\b\b\b\b\b\b\b\b\b\b\b\b\b\b\b\b\b\b\b\b\b\b\b\b\b\b\b\b\b\b\b\b\b\b\b\b\b\b\b\b\b\b\b\b\b\b\b\b\b\b\b\b\b\b\b\b\b\b\b\b\b\b\b\b\b\b\b\b\b\b\b\b\b\b\b\b\r14/37 [==========>...................] - ETA: 7:45 - loss: 8.0638e-05 - accuracy: 1.0000"
          ]
        },
        {
          "output_type": "stream",
          "name": "stderr",
          "text": [
            "WARNING:tensorflow:Can save best model only with val_acc available, skipping.\n"
          ]
        },
        {
          "output_type": "stream",
          "name": "stdout",
          "text": [
            "\b\b\b\b\b\b\b\b\b\b\b\b\b\b\b\b\b\b\b\b\b\b\b\b\b\b\b\b\b\b\b\b\b\b\b\b\b\b\b\b\b\b\b\b\b\b\b\b\b\b\b\b\b\b\b\b\b\b\b\b\b\b\b\b\b\b\b\b\b\b\b\b\b\b\b\b\b\b\b\b\b\b\b\b\b\b\b\b\r15/37 [===========>..................] - ETA: 7:26 - loss: 7.5310e-05 - accuracy: 1.0000"
          ]
        },
        {
          "output_type": "stream",
          "name": "stderr",
          "text": [
            "WARNING:tensorflow:Can save best model only with val_acc available, skipping.\n"
          ]
        },
        {
          "output_type": "stream",
          "name": "stdout",
          "text": [
            "\b\b\b\b\b\b\b\b\b\b\b\b\b\b\b\b\b\b\b\b\b\b\b\b\b\b\b\b\b\b\b\b\b\b\b\b\b\b\b\b\b\b\b\b\b\b\b\b\b\b\b\b\b\b\b\b\b\b\b\b\b\b\b\b\b\b\b\b\b\b\b\b\b\b\b\b\b\b\b\b\b\b\b\b\b\b\b\b\r16/37 [===========>..................] - ETA: 7:05 - loss: 7.7892e-05 - accuracy: 1.0000"
          ]
        },
        {
          "output_type": "stream",
          "name": "stderr",
          "text": [
            "WARNING:tensorflow:Can save best model only with val_acc available, skipping.\n"
          ]
        },
        {
          "output_type": "stream",
          "name": "stdout",
          "text": [
            "\b\b\b\b\b\b\b\b\b\b\b\b\b\b\b\b\b\b\b\b\b\b\b\b\b\b\b\b\b\b\b\b\b\b\b\b\b\b\b\b\b\b\b\b\b\b\b\b\b\b\b\b\b\b\b\b\b\b\b\b\b\b\b\b\b\b\b\b\b\b\b\b\b\b\b\b\b\b\b\b\b\b\b\b\b\b\b\b\r17/37 [============>.................] - ETA: 6:45 - loss: 7.3730e-05 - accuracy: 1.0000"
          ]
        },
        {
          "output_type": "stream",
          "name": "stderr",
          "text": [
            "WARNING:tensorflow:Can save best model only with val_acc available, skipping.\n"
          ]
        },
        {
          "output_type": "stream",
          "name": "stdout",
          "text": [
            "\b\b\b\b\b\b\b\b\b\b\b\b\b\b\b\b\b\b\b\b\b\b\b\b\b\b\b\b\b\b\b\b\b\b\b\b\b\b\b\b\b\b\b\b\b\b\b\b\b\b\b\b\b\b\b\b\b\b\b\b\b\b\b\b\b\b\b\b\b\b\b\b\b\b\b\b\b\b\b\b\b\b\b\b\b\b\b\b\r18/37 [=============>................] - ETA: 6:25 - loss: 6.9640e-05 - accuracy: 1.0000"
          ]
        },
        {
          "output_type": "stream",
          "name": "stderr",
          "text": [
            "WARNING:tensorflow:Can save best model only with val_acc available, skipping.\n"
          ]
        },
        {
          "output_type": "stream",
          "name": "stdout",
          "text": [
            "\b\b\b\b\b\b\b\b\b\b\b\b\b\b\b\b\b\b\b\b\b\b\b\b\b\b\b\b\b\b\b\b\b\b\b\b\b\b\b\b\b\b\b\b\b\b\b\b\b\b\b\b\b\b\b\b\b\b\b\b\b\b\b\b\b\b\b\b\b\b\b\b\b\b\b\b\b\b\b\b\b\b\b\b\b\b\b\b\r19/37 [==============>...............] - ETA: 6:04 - loss: 1.0017e-04 - accuracy: 1.0000"
          ]
        },
        {
          "output_type": "stream",
          "name": "stderr",
          "text": [
            "WARNING:tensorflow:Can save best model only with val_acc available, skipping.\n"
          ]
        },
        {
          "output_type": "stream",
          "name": "stdout",
          "text": [
            "\b\b\b\b\b\b\b\b\b\b\b\b\b\b\b\b\b\b\b\b\b\b\b\b\b\b\b\b\b\b\b\b\b\b\b\b\b\b\b\b\b\b\b\b\b\b\b\b\b\b\b\b\b\b\b\b\b\b\b\b\b\b\b\b\b\b\b\b\b\b\b\b\b\b\b\b\b\b\b\b\b\b\b\b\b\b\b\b\r20/37 [===============>..............] - ETA: 5:44 - loss: 9.5267e-05 - accuracy: 1.0000"
          ]
        },
        {
          "output_type": "stream",
          "name": "stderr",
          "text": [
            "WARNING:tensorflow:Can save best model only with val_acc available, skipping.\n"
          ]
        },
        {
          "output_type": "stream",
          "name": "stdout",
          "text": [
            "\b\b\b\b\b\b\b\b\b\b\b\b\b\b\b\b\b\b\b\b\b\b\b\b\b\b\b\b\b\b\b\b\b\b\b\b\b\b\b\b\b\b\b\b\b\b\b\b\b\b\b\b\b\b\b\b\b\b\b\b\b\b\b\b\b\b\b\b\b\b\b\b\b\b\b\b\b\b\b\b\b\b\b\b\b\b\b\b\r21/37 [================>.............] - ETA: 5:24 - loss: 9.2988e-05 - accuracy: 1.0000"
          ]
        },
        {
          "output_type": "stream",
          "name": "stderr",
          "text": [
            "WARNING:tensorflow:Can save best model only with val_acc available, skipping.\n"
          ]
        },
        {
          "output_type": "stream",
          "name": "stdout",
          "text": [
            "\b\b\b\b\b\b\b\b\b\b\b\b\b\b\b\b\b\b\b\b\b\b\b\b\b\b\b\b\b\b\b\b\b\b\b\b\b\b\b\b\b\b\b\b\b\b\b\b\b\b\b\b\b\b\b\b\b\b\b\b\b\b\b\b\b\b\b\b\b\b\b\b\b\b\b\b\b\b\b\b\b\b\b\b\b\b\b\b\r22/37 [================>.............] - ETA: 5:03 - loss: 8.9751e-05 - accuracy: 1.0000"
          ]
        },
        {
          "output_type": "stream",
          "name": "stderr",
          "text": [
            "WARNING:tensorflow:Can save best model only with val_acc available, skipping.\n"
          ]
        },
        {
          "output_type": "stream",
          "name": "stdout",
          "text": [
            "\b\b\b\b\b\b\b\b\b\b\b\b\b\b\b\b\b\b\b\b\b\b\b\b\b\b\b\b\b\b\b\b\b\b\b\b\b\b\b\b\b\b\b\b\b\b\b\b\b\b\b\b\b\b\b\b\b\b\b\b\b\b\b\b\b\b\b\b\b\b\b\b\b\b\b\b\b\b\b\b\b\b\b\b\b\b\b\b\r23/37 [=================>............] - ETA: 4:43 - loss: 8.5859e-05 - accuracy: 1.0000"
          ]
        },
        {
          "output_type": "stream",
          "name": "stderr",
          "text": [
            "WARNING:tensorflow:Can save best model only with val_acc available, skipping.\n"
          ]
        },
        {
          "output_type": "stream",
          "name": "stdout",
          "text": [
            "\b\b\b\b\b\b\b\b\b\b\b\b\b\b\b\b\b\b\b\b\b\b\b\b\b\b\b\b\b\b\b\b\b\b\b\b\b\b\b\b\b\b\b\b\b\b\b\b\b\b\b\b\b\b\b\b\b\b\b\b\b\b\b\b\b\b\b\b\b\b\b\b\b\b\b\b\b\b\b\b\b\b\b\b\b\b\b\b\r24/37 [==================>...........] - ETA: 4:23 - loss: 8.2531e-05 - accuracy: 1.0000"
          ]
        },
        {
          "output_type": "stream",
          "name": "stderr",
          "text": [
            "WARNING:tensorflow:Can save best model only with val_acc available, skipping.\n"
          ]
        },
        {
          "output_type": "stream",
          "name": "stdout",
          "text": [
            "\b\b\b\b\b\b\b\b\b\b\b\b\b\b\b\b\b\b\b\b\b\b\b\b\b\b\b\b\b\b\b\b\b\b\b\b\b\b\b\b\b\b\b\b\b\b\b\b\b\b\b\b\b\b\b\b\b\b\b\b\b\b\b\b\b\b\b\b\b\b\b\b\b\b\b\b\b\b\b\b\b\b\b\b\b\b\b\b\r25/37 [===================>..........] - ETA: 4:03 - loss: 7.9262e-05 - accuracy: 1.0000"
          ]
        },
        {
          "output_type": "stream",
          "name": "stderr",
          "text": [
            "WARNING:tensorflow:Can save best model only with val_acc available, skipping.\n"
          ]
        },
        {
          "output_type": "stream",
          "name": "stdout",
          "text": [
            "\b\b\b\b\b\b\b\b\b\b\b\b\b\b\b\b\b\b\b\b\b\b\b\b\b\b\b\b\b\b\b\b\b\b\b\b\b\b\b\b\b\b\b\b\b\b\b\b\b\b\b\b\b\b\b\b\b\b\b\b\b\b\b\b\b\b\b\b\b\b\b\b\b\b\b\b\b\b\b\b\b\b\b\b\b\b\b\b\r26/37 [====================>.........] - ETA: 3:42 - loss: 7.6214e-05 - accuracy: 1.0000"
          ]
        },
        {
          "output_type": "stream",
          "name": "stderr",
          "text": [
            "WARNING:tensorflow:Can save best model only with val_acc available, skipping.\n"
          ]
        },
        {
          "output_type": "stream",
          "name": "stdout",
          "text": [
            "\b\b\b\b\b\b\b\b\b\b\b\b\b\b\b\b\b\b\b\b\b\b\b\b\b\b\b\b\b\b\b\b\b\b\b\b\b\b\b\b\b\b\b\b\b\b\b\b\b\b\b\b\b\b\b\b\b\b\b\b\b\b\b\b\b\b\b\b\b\b\b\b\b\b\b\b\b\b\b\b\b\b\b\b\b\b\b\b\r27/37 [====================>.........] - ETA: 3:22 - loss: 7.5640e-05 - accuracy: 1.0000"
          ]
        },
        {
          "output_type": "stream",
          "name": "stderr",
          "text": [
            "WARNING:tensorflow:Can save best model only with val_acc available, skipping.\n"
          ]
        },
        {
          "output_type": "stream",
          "name": "stdout",
          "text": [
            "\b\b\b\b\b\b\b\b\b\b\b\b\b\b\b\b\b\b\b\b\b\b\b\b\b\b\b\b\b\b\b\b\b\b\b\b\b\b\b\b\b\b\b\b\b\b\b\b\b\b\b\b\b\b\b\b\b\b\b\b\b\b\b\b\b\b\b\b\b\b\b\b\b\b\b\b\b\b\b\b\b\b\b\b\b\b\b\b\r28/37 [=====================>........] - ETA: 3:02 - loss: 7.2939e-05 - accuracy: 1.0000"
          ]
        },
        {
          "output_type": "stream",
          "name": "stderr",
          "text": [
            "WARNING:tensorflow:Can save best model only with val_acc available, skipping.\n"
          ]
        },
        {
          "output_type": "stream",
          "name": "stdout",
          "text": [
            "\b\b\b\b\b\b\b\b\b\b\b\b\b\b\b\b\b\b\b\b\b\b\b\b\b\b\b\b\b\b\b\b\b\b\b\b\b\b\b\b\b\b\b\b\b\b\b\b\b\b\b\b\b\b\b\b\b\b\b\b\b\b\b\b\b\b\b\b\b\b\b\b\b\b\b\b\b\b\b\b\b\b\b\b\b\b\b\b\r29/37 [======================>.......] - ETA: 2:42 - loss: 7.0425e-05 - accuracy: 1.0000"
          ]
        },
        {
          "output_type": "stream",
          "name": "stderr",
          "text": [
            "WARNING:tensorflow:Can save best model only with val_acc available, skipping.\n"
          ]
        },
        {
          "output_type": "stream",
          "name": "stdout",
          "text": [
            "\b\b\b\b\b\b\b\b\b\b\b\b\b\b\b\b\b\b\b\b\b\b\b\b\b\b\b\b\b\b\b\b\b\b\b\b\b\b\b\b\b\b\b\b\b\b\b\b\b\b\b\b\b\b\b\b\b\b\b\b\b\b\b\b\b\b\b\b\b\b\b\b\b\b\b\b\b\b\b\b\b\b\b\b\b\b\b\b\r30/37 [=======================>......] - ETA: 2:21 - loss: 6.9016e-05 - accuracy: 1.0000"
          ]
        },
        {
          "output_type": "stream",
          "name": "stderr",
          "text": [
            "WARNING:tensorflow:Can save best model only with val_acc available, skipping.\n"
          ]
        },
        {
          "output_type": "stream",
          "name": "stdout",
          "text": [
            "\b\b\b\b\b\b\b\b\b\b\b\b\b\b\b\b\b\b\b\b\b\b\b\b\b\b\b\b\b\b\b\b\b\b\b\b\b\b\b\b\b\b\b\b\b\b\b\b\b\b\b\b\b\b\b\b\b\b\b\b\b\b\b\b\b\b\b\b\b\b\b\b\b\b\b\b\b\b\b\b\b\b\b\b\b\b\b\b\r31/37 [========================>.....] - ETA: 2:01 - loss: 6.6842e-05 - accuracy: 1.0000"
          ]
        },
        {
          "output_type": "stream",
          "name": "stderr",
          "text": [
            "WARNING:tensorflow:Can save best model only with val_acc available, skipping.\n"
          ]
        },
        {
          "output_type": "stream",
          "name": "stdout",
          "text": [
            "\b\b\b\b\b\b\b\b\b\b\b\b\b\b\b\b\b\b\b\b\b\b\b\b\b\b\b\b\b\b\b\b\b\b\b\b\b\b\b\b\b\b\b\b\b\b\b\b\b\b\b\b\b\b\b\b\b\b\b\b\b\b\b\b\b\b\b\b\b\b\b\b\b\b\b\b\b\b\b\b\b\b\b\b\b\b\b\b\r32/37 [========================>.....] - ETA: 1:41 - loss: 6.4753e-05 - accuracy: 1.0000"
          ]
        },
        {
          "output_type": "stream",
          "name": "stderr",
          "text": [
            "WARNING:tensorflow:Can save best model only with val_acc available, skipping.\n"
          ]
        },
        {
          "output_type": "stream",
          "name": "stdout",
          "text": [
            "\b\b\b\b\b\b\b\b\b\b\b\b\b\b\b\b\b\b\b\b\b\b\b\b\b\b\b\b\b\b\b\b\b\b\b\b\b\b\b\b\b\b\b\b\b\b\b\b\b\b\b\b\b\b\b\b\b\b\b\b\b\b\b\b\b\b\b\b\b\b\b\b\b\b\b\b\b\b\b\b\b\b\b\b\b\b\b\b\r33/37 [=========================>....] - ETA: 1:21 - loss: 6.8605e-05 - accuracy: 1.0000"
          ]
        },
        {
          "output_type": "stream",
          "name": "stderr",
          "text": [
            "WARNING:tensorflow:Can save best model only with val_acc available, skipping.\n"
          ]
        },
        {
          "output_type": "stream",
          "name": "stdout",
          "text": [
            "\b\b\b\b\b\b\b\b\b\b\b\b\b\b\b\b\b\b\b\b\b\b\b\b\b\b\b\b\b\b\b\b\b\b\b\b\b\b\b\b\b\b\b\b\b\b\b\b\b\b\b\b\b\b\b\b\b\b\b\b\b\b\b\b\b\b\b\b\b\b\b\b\b\b\b\b\b\b\b\b\b\b\b\b\b\b\b\b\r34/37 [==========================>...] - ETA: 1:00 - loss: 7.4350e-05 - accuracy: 1.0000"
          ]
        },
        {
          "output_type": "stream",
          "name": "stderr",
          "text": [
            "WARNING:tensorflow:Can save best model only with val_acc available, skipping.\n"
          ]
        },
        {
          "output_type": "stream",
          "name": "stdout",
          "text": [
            "\b\b\b\b\b\b\b\b\b\b\b\b\b\b\b\b\b\b\b\b\b\b\b\b\b\b\b\b\b\b\b\b\b\b\b\b\b\b\b\b\b\b\b\b\b\b\b\b\b\b\b\b\b\b\b\b\b\b\b\b\b\b\b\b\b\b\b\b\b\b\b\b\b\b\b\b\b\b\b\b\b\b\b\b\b\b\b\b\r35/37 [===========================>..] - ETA: 40s - loss: 7.2226e-05 - accuracy: 1.0000 "
          ]
        },
        {
          "output_type": "stream",
          "name": "stderr",
          "text": [
            "WARNING:tensorflow:Can save best model only with val_acc available, skipping.\n"
          ]
        },
        {
          "output_type": "stream",
          "name": "stdout",
          "text": [
            "\b\b\b\b\b\b\b\b\b\b\b\b\b\b\b\b\b\b\b\b\b\b\b\b\b\b\b\b\b\b\b\b\b\b\b\b\b\b\b\b\b\b\b\b\b\b\b\b\b\b\b\b\b\b\b\b\b\b\b\b\b\b\b\b\b\b\b\b\b\b\b\b\b\b\b\b\b\b\b\b\b\b\b\b\b\b\b\r36/37 [============================>.] - ETA: 20s - loss: 7.0412e-05 - accuracy: 1.0000"
          ]
        },
        {
          "output_type": "stream",
          "name": "stderr",
          "text": [
            "WARNING:tensorflow:Can save best model only with val_acc available, skipping.\n"
          ]
        },
        {
          "output_type": "stream",
          "name": "stdout",
          "text": [
            "\b\b\b\b\b\b\b\b\b\b\b\b\b\b\b\b\b\b\b\b\b\b\b\b\b\b\b\b\b\b\b\b\b\b\b\b\b\b\b\b\b\b\b\b\b\b\b\b\b\b\b\b\b\b\b\b\b\b\b\b\b\b\b\b\b\b\b\b\b\b\b\b\b\b\b\b\b\b\b\b\b\b\b\b\b\b\b\r37/37 [==============================] - ETA: 0s - loss: 6.9866e-05 - accuracy: 1.0000 "
          ]
        },
        {
          "output_type": "stream",
          "name": "stderr",
          "text": [
            "WARNING:tensorflow:Early stopping conditioned on metric `val_acc` which is not available. Available metrics are: loss,accuracy,val_loss,val_accuracy\n"
          ]
        },
        {
          "output_type": "stream",
          "name": "stdout",
          "text": [
            "\b\b\b\b\b\b\b\b\b\b\b\b\b\b\b\b\b\b\b\b\b\b\b\b\b\b\b\b\b\b\b\b\b\b\b\b\b\b\b\b\b\b\b\b\b\b\b\b\b\b\b\b\b\b\b\b\b\b\b\b\b\b\b\b\b\b\b\b\b\b\b\b\b\b\b\b\b\b\b\b\b\b\b\b\b\b\r37/37 [==============================] - 938s 25s/step - loss: 6.9866e-05 - accuracy: 1.0000 - val_loss: 0.0265 - val_accuracy: 0.9931\n",
            "Epoch 8/15\n"
          ]
        },
        {
          "output_type": "stream",
          "name": "stderr",
          "text": [
            "WARNING:tensorflow:Can save best model only with val_acc available, skipping.\n"
          ]
        },
        {
          "output_type": "stream",
          "name": "stdout",
          "text": [
            "\r 1/37 [..............................] - ETA: 11:51 - loss: 2.1538e-06 - accuracy: 1.0000"
          ]
        },
        {
          "output_type": "stream",
          "name": "stderr",
          "text": [
            "WARNING:tensorflow:Can save best model only with val_acc available, skipping.\n"
          ]
        },
        {
          "output_type": "stream",
          "name": "stdout",
          "text": [
            "\b\b\b\b\b\b\b\b\b\b\b\b\b\b\b\b\b\b\b\b\b\b\b\b\b\b\b\b\b\b\b\b\b\b\b\b\b\b\b\b\b\b\b\b\b\b\b\b\b\b\b\b\b\b\b\b\b\b\b\b\b\b\b\b\b\b\b\b\b\b\b\b\b\b\b\b\b\b\b\b\b\b\b\b\b\b\b\b\b\r 2/37 [>.............................] - ETA: 11:58 - loss: 2.9093e-06 - accuracy: 1.0000"
          ]
        },
        {
          "output_type": "stream",
          "name": "stderr",
          "text": [
            "WARNING:tensorflow:Can save best model only with val_acc available, skipping.\n"
          ]
        },
        {
          "output_type": "stream",
          "name": "stdout",
          "text": [
            "\b\b\b\b\b\b\b\b\b\b\b\b\b\b\b\b\b\b\b\b\b\b\b\b\b\b\b\b\b\b\b\b\b\b\b\b\b\b\b\b\b\b\b\b\b\b\b\b\b\b\b\b\b\b\b\b\b\b\b\b\b\b\b\b\b\b\b\b\b\b\b\b\b\b\b\b\b\b\b\b\b\b\b\b\b\b\b\b\b\r 3/37 [=>............................] - ETA: 11:37 - loss: 1.9399e-06 - accuracy: 1.0000"
          ]
        },
        {
          "output_type": "stream",
          "name": "stderr",
          "text": [
            "WARNING:tensorflow:Can save best model only with val_acc available, skipping.\n"
          ]
        },
        {
          "output_type": "stream",
          "name": "stdout",
          "text": [
            "\b\b\b\b\b\b\b\b\b\b\b\b\b\b\b\b\b\b\b\b\b\b\b\b\b\b\b\b\b\b\b\b\b\b\b\b\b\b\b\b\b\b\b\b\b\b\b\b\b\b\b\b\b\b\b\b\b\b\b\b\b\b\b\b\b\b\b\b\b\b\b\b\b\b\b\b\b\b\b\b\b\b\b\b\b\b\b\b\b\r 4/37 [==>...........................] - ETA: 11:16 - loss: 3.2871e-05 - accuracy: 1.0000"
          ]
        },
        {
          "output_type": "stream",
          "name": "stderr",
          "text": [
            "WARNING:tensorflow:Can save best model only with val_acc available, skipping.\n"
          ]
        },
        {
          "output_type": "stream",
          "name": "stdout",
          "text": [
            "\b\b\b\b\b\b\b\b\b\b\b\b\b\b\b\b\b\b\b\b\b\b\b\b\b\b\b\b\b\b\b\b\b\b\b\b\b\b\b\b\b\b\b\b\b\b\b\b\b\b\b\b\b\b\b\b\b\b\b\b\b\b\b\b\b\b\b\b\b\b\b\b\b\b\b\b\b\b\b\b\b\b\b\b\b\b\b\b\b\r 5/37 [===>..........................] - ETA: 10:49 - loss: 2.7244e-05 - accuracy: 1.0000"
          ]
        },
        {
          "output_type": "stream",
          "name": "stderr",
          "text": [
            "WARNING:tensorflow:Can save best model only with val_acc available, skipping.\n"
          ]
        },
        {
          "output_type": "stream",
          "name": "stdout",
          "text": [
            "\b\b\b\b\b\b\b\b\b\b\b\b\b\b\b\b\b\b\b\b\b\b\b\b\b\b\b\b\b\b\b\b\b\b\b\b\b\b\b\b\b\b\b\b\b\b\b\b\b\b\b\b\b\b\b\b\b\b\b\b\b\b\b\b\b\b\b\b\b\b\b\b\b\b\b\b\b\b\b\b\b\b\b\b\b\b\b\b\b\r 6/37 [===>..........................] - ETA: 10:30 - loss: 3.8291e-05 - accuracy: 1.0000"
          ]
        },
        {
          "output_type": "stream",
          "name": "stderr",
          "text": [
            "WARNING:tensorflow:Can save best model only with val_acc available, skipping.\n"
          ]
        },
        {
          "output_type": "stream",
          "name": "stdout",
          "text": [
            "\b\b\b\b\b\b\b\b\b\b\b\b\b\b\b\b\b\b\b\b\b\b\b\b\b\b\b\b\b\b\b\b\b\b\b\b\b\b\b\b\b\b\b\b\b\b\b\b\b\b\b\b\b\b\b\b\b\b\b\b\b\b\b\b\b\b\b\b\b\b\b\b\b\b\b\b\b\b\b\b\b\b\b\b\b\b\b\b\b\r 7/37 [====>.........................] - ETA: 10:11 - loss: 4.5104e-05 - accuracy: 1.0000"
          ]
        },
        {
          "output_type": "stream",
          "name": "stderr",
          "text": [
            "WARNING:tensorflow:Can save best model only with val_acc available, skipping.\n"
          ]
        },
        {
          "output_type": "stream",
          "name": "stdout",
          "text": [
            "\b\b\b\b\b\b\b\b\b\b\b\b\b\b\b\b\b\b\b\b\b\b\b\b\b\b\b\b\b\b\b\b\b\b\b\b\b\b\b\b\b\b\b\b\b\b\b\b\b\b\b\b\b\b\b\b\b\b\b\b\b\b\b\b\b\b\b\b\b\b\b\b\b\b\b\b\b\b\b\b\b\b\b\b\b\b\b\b\b\r 8/37 [=====>........................] - ETA: 9:48 - loss: 4.2598e-05 - accuracy: 1.0000 "
          ]
        },
        {
          "output_type": "stream",
          "name": "stderr",
          "text": [
            "WARNING:tensorflow:Can save best model only with val_acc available, skipping.\n"
          ]
        },
        {
          "output_type": "stream",
          "name": "stdout",
          "text": [
            "\b\b\b\b\b\b\b\b\b\b\b\b\b\b\b\b\b\b\b\b\b\b\b\b\b\b\b\b\b\b\b\b\b\b\b\b\b\b\b\b\b\b\b\b\b\b\b\b\b\b\b\b\b\b\b\b\b\b\b\b\b\b\b\b\b\b\b\b\b\b\b\b\b\b\b\b\b\b\b\b\b\b\b\b\b\b\b\b\r 9/37 [======>.......................] - ETA: 9:28 - loss: 8.8835e-05 - accuracy: 1.0000"
          ]
        },
        {
          "output_type": "stream",
          "name": "stderr",
          "text": [
            "WARNING:tensorflow:Can save best model only with val_acc available, skipping.\n"
          ]
        },
        {
          "output_type": "stream",
          "name": "stdout",
          "text": [
            "\b\b\b\b\b\b\b\b\b\b\b\b\b\b\b\b\b\b\b\b\b\b\b\b\b\b\b\b\b\b\b\b\b\b\b\b\b\b\b\b\b\b\b\b\b\b\b\b\b\b\b\b\b\b\b\b\b\b\b\b\b\b\b\b\b\b\b\b\b\b\b\b\b\b\b\b\b\b\b\b\b\b\b\b\b\b\b\b\r10/37 [=======>......................] - ETA: 9:09 - loss: 8.0613e-05 - accuracy: 1.0000"
          ]
        },
        {
          "output_type": "stream",
          "name": "stderr",
          "text": [
            "WARNING:tensorflow:Can save best model only with val_acc available, skipping.\n"
          ]
        },
        {
          "output_type": "stream",
          "name": "stdout",
          "text": [
            "\b\b\b\b\b\b\b\b\b\b\b\b\b\b\b\b\b\b\b\b\b\b\b\b\b\b\b\b\b\b\b\b\b\b\b\b\b\b\b\b\b\b\b\b\b\b\b\b\b\b\b\b\b\b\b\b\b\b\b\b\b\b\b\b\b\b\b\b\b\b\b\b\b\b\b\b\b\b\b\b\b\b\b\b\b\b\b\b\r11/37 [=======>......................] - ETA: 8:47 - loss: 7.3285e-05 - accuracy: 1.0000"
          ]
        },
        {
          "output_type": "stream",
          "name": "stderr",
          "text": [
            "WARNING:tensorflow:Can save best model only with val_acc available, skipping.\n"
          ]
        },
        {
          "output_type": "stream",
          "name": "stdout",
          "text": [
            "\b\b\b\b\b\b\b\b\b\b\b\b\b\b\b\b\b\b\b\b\b\b\b\b\b\b\b\b\b\b\b\b\b\b\b\b\b\b\b\b\b\b\b\b\b\b\b\b\b\b\b\b\b\b\b\b\b\b\b\b\b\b\b\b\b\b\b\b\b\b\b\b\b\b\b\b\b\b\b\b\b\b\b\b\b\b\b\b\r12/37 [========>.....................] - ETA: 8:27 - loss: 8.0502e-05 - accuracy: 1.0000"
          ]
        },
        {
          "output_type": "stream",
          "name": "stderr",
          "text": [
            "WARNING:tensorflow:Can save best model only with val_acc available, skipping.\n"
          ]
        },
        {
          "output_type": "stream",
          "name": "stdout",
          "text": [
            "\b\b\b\b\b\b\b\b\b\b\b\b\b\b\b\b\b\b\b\b\b\b\b\b\b\b\b\b\b\b\b\b\b\b\b\b\b\b\b\b\b\b\b\b\b\b\b\b\b\b\b\b\b\b\b\b\b\b\b\b\b\b\b\b\b\b\b\b\b\b\b\b\b\b\b\b\b\b\b\b\b\b\b\b\b\b\b\b\r13/37 [=========>....................] - ETA: 8:07 - loss: 7.4310e-05 - accuracy: 1.0000"
          ]
        },
        {
          "output_type": "stream",
          "name": "stderr",
          "text": [
            "WARNING:tensorflow:Can save best model only with val_acc available, skipping.\n"
          ]
        },
        {
          "output_type": "stream",
          "name": "stdout",
          "text": [
            "\b\b\b\b\b\b\b\b\b\b\b\b\b\b\b\b\b\b\b\b\b\b\b\b\b\b\b\b\b\b\b\b\b\b\b\b\b\b\b\b\b\b\b\b\b\b\b\b\b\b\b\b\b\b\b\b\b\b\b\b\b\b\b\b\b\b\b\b\b\b\b\b\b\b\b\b\b\b\b\b\b\b\b\b\b\b\b\b\r14/37 [==========>...................] - ETA: 7:47 - loss: 6.9271e-05 - accuracy: 1.0000"
          ]
        },
        {
          "output_type": "stream",
          "name": "stderr",
          "text": [
            "WARNING:tensorflow:Can save best model only with val_acc available, skipping.\n"
          ]
        },
        {
          "output_type": "stream",
          "name": "stdout",
          "text": [
            "\b\b\b\b\b\b\b\b\b\b\b\b\b\b\b\b\b\b\b\b\b\b\b\b\b\b\b\b\b\b\b\b\b\b\b\b\b\b\b\b\b\b\b\b\b\b\b\b\b\b\b\b\b\b\b\b\b\b\b\b\b\b\b\b\b\b\b\b\b\b\b\b\b\b\b\b\b\b\b\b\b\b\b\b\b\b\b\b\r15/37 [===========>..................] - ETA: 7:26 - loss: 6.4654e-05 - accuracy: 1.0000"
          ]
        },
        {
          "output_type": "stream",
          "name": "stderr",
          "text": [
            "WARNING:tensorflow:Can save best model only with val_acc available, skipping.\n"
          ]
        },
        {
          "output_type": "stream",
          "name": "stdout",
          "text": [
            "\b\b\b\b\b\b\b\b\b\b\b\b\b\b\b\b\b\b\b\b\b\b\b\b\b\b\b\b\b\b\b\b\b\b\b\b\b\b\b\b\b\b\b\b\b\b\b\b\b\b\b\b\b\b\b\b\b\b\b\b\b\b\b\b\b\b\b\b\b\b\b\b\b\b\b\b\b\b\b\b\b\b\b\b\b\b\b\b\r16/37 [===========>..................] - ETA: 7:06 - loss: 6.0615e-05 - accuracy: 1.0000"
          ]
        },
        {
          "output_type": "stream",
          "name": "stderr",
          "text": [
            "WARNING:tensorflow:Can save best model only with val_acc available, skipping.\n"
          ]
        },
        {
          "output_type": "stream",
          "name": "stdout",
          "text": [
            "\b\b\b\b\b\b\b\b\b\b\b\b\b\b\b\b\b\b\b\b\b\b\b\b\b\b\b\b\b\b\b\b\b\b\b\b\b\b\b\b\b\b\b\b\b\b\b\b\b\b\b\b\b\b\b\b\b\b\b\b\b\b\b\b\b\b\b\b\b\b\b\b\b\b\b\b\b\b\b\b\b\b\b\b\b\b\b\b\r17/37 [============>.................] - ETA: 6:46 - loss: 5.7053e-05 - accuracy: 1.0000"
          ]
        },
        {
          "output_type": "stream",
          "name": "stderr",
          "text": [
            "WARNING:tensorflow:Can save best model only with val_acc available, skipping.\n"
          ]
        },
        {
          "output_type": "stream",
          "name": "stdout",
          "text": [
            "\b\b\b\b\b\b\b\b\b\b\b\b\b\b\b\b\b\b\b\b\b\b\b\b\b\b\b\b\b\b\b\b\b\b\b\b\b\b\b\b\b\b\b\b\b\b\b\b\b\b\b\b\b\b\b\b\b\b\b\b\b\b\b\b\b\b\b\b\b\b\b\b\b\b\b\b\b\b\b\b\b\b\b\b\b\b\b\b\r18/37 [=============>................] - ETA: 6:25 - loss: 5.4675e-05 - accuracy: 1.0000"
          ]
        },
        {
          "output_type": "stream",
          "name": "stderr",
          "text": [
            "WARNING:tensorflow:Can save best model only with val_acc available, skipping.\n"
          ]
        },
        {
          "output_type": "stream",
          "name": "stdout",
          "text": [
            "\b\b\b\b\b\b\b\b\b\b\b\b\b\b\b\b\b\b\b\b\b\b\b\b\b\b\b\b\b\b\b\b\b\b\b\b\b\b\b\b\b\b\b\b\b\b\b\b\b\b\b\b\b\b\b\b\b\b\b\b\b\b\b\b\b\b\b\b\b\b\b\b\b\b\b\b\b\b\b\b\b\b\b\b\b\b\b\b\r19/37 [==============>...............] - ETA: 6:05 - loss: 5.1800e-05 - accuracy: 1.0000"
          ]
        },
        {
          "output_type": "stream",
          "name": "stderr",
          "text": [
            "WARNING:tensorflow:Can save best model only with val_acc available, skipping.\n"
          ]
        },
        {
          "output_type": "stream",
          "name": "stdout",
          "text": [
            "\b\b\b\b\b\b\b\b\b\b\b\b\b\b\b\b\b\b\b\b\b\b\b\b\b\b\b\b\b\b\b\b\b\b\b\b\b\b\b\b\b\b\b\b\b\b\b\b\b\b\b\b\b\b\b\b\b\b\b\b\b\b\b\b\b\b\b\b\b\b\b\b\b\b\b\b\b\b\b\b\b\b\b\b\b\b\b\b\r20/37 [===============>..............] - ETA: 5:45 - loss: 4.9377e-05 - accuracy: 1.0000"
          ]
        },
        {
          "output_type": "stream",
          "name": "stderr",
          "text": [
            "WARNING:tensorflow:Can save best model only with val_acc available, skipping.\n"
          ]
        },
        {
          "output_type": "stream",
          "name": "stdout",
          "text": [
            "\b\b\b\b\b\b\b\b\b\b\b\b\b\b\b\b\b\b\b\b\b\b\b\b\b\b\b\b\b\b\b\b\b\b\b\b\b\b\b\b\b\b\b\b\b\b\b\b\b\b\b\b\b\b\b\b\b\b\b\b\b\b\b\b\b\b\b\b\b\b\b\b\b\b\b\b\b\b\b\b\b\b\b\b\b\b\b\b\r21/37 [================>.............] - ETA: 5:24 - loss: 4.7048e-05 - accuracy: 1.0000"
          ]
        },
        {
          "output_type": "stream",
          "name": "stderr",
          "text": [
            "WARNING:tensorflow:Can save best model only with val_acc available, skipping.\n"
          ]
        },
        {
          "output_type": "stream",
          "name": "stdout",
          "text": [
            "\b\b\b\b\b\b\b\b\b\b\b\b\b\b\b\b\b\b\b\b\b\b\b\b\b\b\b\b\b\b\b\b\b\b\b\b\b\b\b\b\b\b\b\b\b\b\b\b\b\b\b\b\b\b\b\b\b\b\b\b\b\b\b\b\b\b\b\b\b\b\b\b\b\b\b\b\b\b\b\b\b\b\b\b\b\b\b\b\r22/37 [================>.............] - ETA: 5:04 - loss: 4.4910e-05 - accuracy: 1.0000"
          ]
        },
        {
          "output_type": "stream",
          "name": "stderr",
          "text": [
            "WARNING:tensorflow:Can save best model only with val_acc available, skipping.\n"
          ]
        },
        {
          "output_type": "stream",
          "name": "stdout",
          "text": [
            "\b\b\b\b\b\b\b\b\b\b\b\b\b\b\b\b\b\b\b\b\b\b\b\b\b\b\b\b\b\b\b\b\b\b\b\b\b\b\b\b\b\b\b\b\b\b\b\b\b\b\b\b\b\b\b\b\b\b\b\b\b\b\b\b\b\b\b\b\b\b\b\b\b\b\b\b\b\b\b\b\b\b\b\b\b\b\b\b\r23/37 [=================>............] - ETA: 4:43 - loss: 4.8422e-05 - accuracy: 1.0000"
          ]
        },
        {
          "output_type": "stream",
          "name": "stderr",
          "text": [
            "WARNING:tensorflow:Can save best model only with val_acc available, skipping.\n"
          ]
        },
        {
          "output_type": "stream",
          "name": "stdout",
          "text": [
            "\b\b\b\b\b\b\b\b\b\b\b\b\b\b\b\b\b\b\b\b\b\b\b\b\b\b\b\b\b\b\b\b\b\b\b\b\b\b\b\b\b\b\b\b\b\b\b\b\b\b\b\b\b\b\b\b\b\b\b\b\b\b\b\b\b\b\b\b\b\b\b\b\b\b\b\b\b\b\b\b\b\b\b\b\b\b\b\b\r24/37 [==================>...........] - ETA: 4:23 - loss: 4.6404e-05 - accuracy: 1.0000"
          ]
        },
        {
          "output_type": "stream",
          "name": "stderr",
          "text": [
            "WARNING:tensorflow:Can save best model only with val_acc available, skipping.\n"
          ]
        },
        {
          "output_type": "stream",
          "name": "stdout",
          "text": [
            "\b\b\b\b\b\b\b\b\b\b\b\b\b\b\b\b\b\b\b\b\b\b\b\b\b\b\b\b\b\b\b\b\b\b\b\b\b\b\b\b\b\b\b\b\b\b\b\b\b\b\b\b\b\b\b\b\b\b\b\b\b\b\b\b\b\b\b\b\b\b\b\b\b\b\b\b\b\b\b\b\b\b\b\b\b\b\b\b\r25/37 [===================>..........] - ETA: 4:03 - loss: 4.5321e-05 - accuracy: 1.0000"
          ]
        },
        {
          "output_type": "stream",
          "name": "stderr",
          "text": [
            "WARNING:tensorflow:Can save best model only with val_acc available, skipping.\n"
          ]
        },
        {
          "output_type": "stream",
          "name": "stdout",
          "text": [
            "\b\b\b\b\b\b\b\b\b\b\b\b\b\b\b\b\b\b\b\b\b\b\b\b\b\b\b\b\b\b\b\b\b\b\b\b\b\b\b\b\b\b\b\b\b\b\b\b\b\b\b\b\b\b\b\b\b\b\b\b\b\b\b\b\b\b\b\b\b\b\b\b\b\b\b\b\b\b\b\b\b\b\b\b\b\b\b\b\r26/37 [====================>.........] - ETA: 3:43 - loss: 4.9298e-05 - accuracy: 1.0000"
          ]
        },
        {
          "output_type": "stream",
          "name": "stderr",
          "text": [
            "WARNING:tensorflow:Can save best model only with val_acc available, skipping.\n"
          ]
        },
        {
          "output_type": "stream",
          "name": "stdout",
          "text": [
            "\b\b\b\b\b\b\b\b\b\b\b\b\b\b\b\b\b\b\b\b\b\b\b\b\b\b\b\b\b\b\b\b\b\b\b\b\b\b\b\b\b\b\b\b\b\b\b\b\b\b\b\b\b\b\b\b\b\b\b\b\b\b\b\b\b\b\b\b\b\b\b\b\b\b\b\b\b\b\b\b\b\b\b\b\b\b\b\b\r27/37 [====================>.........] - ETA: 3:22 - loss: 4.7472e-05 - accuracy: 1.0000"
          ]
        },
        {
          "output_type": "stream",
          "name": "stderr",
          "text": [
            "WARNING:tensorflow:Can save best model only with val_acc available, skipping.\n"
          ]
        },
        {
          "output_type": "stream",
          "name": "stdout",
          "text": [
            "\b\b\b\b\b\b\b\b\b\b\b\b\b\b\b\b\b\b\b\b\b\b\b\b\b\b\b\b\b\b\b\b\b\b\b\b\b\b\b\b\b\b\b\b\b\b\b\b\b\b\b\b\b\b\b\b\b\b\b\b\b\b\b\b\b\b\b\b\b\b\b\b\b\b\b\b\b\b\b\b\b\b\b\b\b\b\b\b\r28/37 [=====================>........] - ETA: 3:02 - loss: 4.5777e-05 - accuracy: 1.0000"
          ]
        },
        {
          "output_type": "stream",
          "name": "stderr",
          "text": [
            "WARNING:tensorflow:Can save best model only with val_acc available, skipping.\n"
          ]
        },
        {
          "output_type": "stream",
          "name": "stdout",
          "text": [
            "\b\b\b\b\b\b\b\b\b\b\b\b\b\b\b\b\b\b\b\b\b\b\b\b\b\b\b\b\b\b\b\b\b\b\b\b\b\b\b\b\b\b\b\b\b\b\b\b\b\b\b\b\b\b\b\b\b\b\b\b\b\b\b\b\b\b\b\b\b\b\b\b\b\b\b\b\b\b\b\b\b\b\b\b\b\b\b\b\r29/37 [======================>.......] - ETA: 2:42 - loss: 4.6074e-05 - accuracy: 1.0000"
          ]
        },
        {
          "output_type": "stream",
          "name": "stderr",
          "text": [
            "WARNING:tensorflow:Can save best model only with val_acc available, skipping.\n"
          ]
        },
        {
          "output_type": "stream",
          "name": "stdout",
          "text": [
            "\b\b\b\b\b\b\b\b\b\b\b\b\b\b\b\b\b\b\b\b\b\b\b\b\b\b\b\b\b\b\b\b\b\b\b\b\b\b\b\b\b\b\b\b\b\b\b\b\b\b\b\b\b\b\b\b\b\b\b\b\b\b\b\b\b\b\b\b\b\b\b\b\b\b\b\b\b\b\b\b\b\b\b\b\b\b\b\b\r30/37 [=======================>......] - ETA: 2:21 - loss: 4.4684e-05 - accuracy: 1.0000"
          ]
        },
        {
          "output_type": "stream",
          "name": "stderr",
          "text": [
            "WARNING:tensorflow:Can save best model only with val_acc available, skipping.\n"
          ]
        },
        {
          "output_type": "stream",
          "name": "stdout",
          "text": [
            "\b\b\b\b\b\b\b\b\b\b\b\b\b\b\b\b\b\b\b\b\b\b\b\b\b\b\b\b\b\b\b\b\b\b\b\b\b\b\b\b\b\b\b\b\b\b\b\b\b\b\b\b\b\b\b\b\b\b\b\b\b\b\b\b\b\b\b\b\b\b\b\b\b\b\b\b\b\b\b\b\b\b\b\b\b\b\b\b\r31/37 [========================>.....] - ETA: 2:01 - loss: 4.4462e-05 - accuracy: 1.0000"
          ]
        },
        {
          "output_type": "stream",
          "name": "stderr",
          "text": [
            "WARNING:tensorflow:Can save best model only with val_acc available, skipping.\n"
          ]
        },
        {
          "output_type": "stream",
          "name": "stdout",
          "text": [
            "\b\b\b\b\b\b\b\b\b\b\b\b\b\b\b\b\b\b\b\b\b\b\b\b\b\b\b\b\b\b\b\b\b\b\b\b\b\b\b\b\b\b\b\b\b\b\b\b\b\b\b\b\b\b\b\b\b\b\b\b\b\b\b\b\b\b\b\b\b\b\b\b\b\b\b\b\b\b\b\b\b\b\b\b\b\b\b\b\r32/37 [========================>.....] - ETA: 1:41 - loss: 4.3980e-05 - accuracy: 1.0000"
          ]
        },
        {
          "output_type": "stream",
          "name": "stderr",
          "text": [
            "WARNING:tensorflow:Can save best model only with val_acc available, skipping.\n"
          ]
        },
        {
          "output_type": "stream",
          "name": "stdout",
          "text": [
            "\b\b\b\b\b\b\b\b\b\b\b\b\b\b\b\b\b\b\b\b\b\b\b\b\b\b\b\b\b\b\b\b\b\b\b\b\b\b\b\b\b\b\b\b\b\b\b\b\b\b\b\b\b\b\b\b\b\b\b\b\b\b\b\b\b\b\b\b\b\b\b\b\b\b\b\b\b\b\b\b\b\b\b\b\b\b\b\b\r33/37 [=========================>....] - ETA: 1:21 - loss: 4.2648e-05 - accuracy: 1.0000"
          ]
        },
        {
          "output_type": "stream",
          "name": "stderr",
          "text": [
            "WARNING:tensorflow:Can save best model only with val_acc available, skipping.\n"
          ]
        },
        {
          "output_type": "stream",
          "name": "stdout",
          "text": [
            "\b\b\b\b\b\b\b\b\b\b\b\b\b\b\b\b\b\b\b\b\b\b\b\b\b\b\b\b\b\b\b\b\b\b\b\b\b\b\b\b\b\b\b\b\b\b\b\b\b\b\b\b\b\b\b\b\b\b\b\b\b\b\b\b\b\b\b\b\b\b\b\b\b\b\b\b\b\b\b\b\b\b\b\b\b\b\b\b\r34/37 [==========================>...] - ETA: 1:00 - loss: 4.1424e-05 - accuracy: 1.0000"
          ]
        },
        {
          "output_type": "stream",
          "name": "stderr",
          "text": [
            "WARNING:tensorflow:Can save best model only with val_acc available, skipping.\n"
          ]
        },
        {
          "output_type": "stream",
          "name": "stdout",
          "text": [
            "\b\b\b\b\b\b\b\b\b\b\b\b\b\b\b\b\b\b\b\b\b\b\b\b\b\b\b\b\b\b\b\b\b\b\b\b\b\b\b\b\b\b\b\b\b\b\b\b\b\b\b\b\b\b\b\b\b\b\b\b\b\b\b\b\b\b\b\b\b\b\b\b\b\b\b\b\b\b\b\b\b\b\b\b\b\b\b\b\r35/37 [===========================>..] - ETA: 40s - loss: 6.1744e-05 - accuracy: 1.0000 "
          ]
        },
        {
          "output_type": "stream",
          "name": "stderr",
          "text": [
            "WARNING:tensorflow:Can save best model only with val_acc available, skipping.\n"
          ]
        },
        {
          "output_type": "stream",
          "name": "stdout",
          "text": [
            "\b\b\b\b\b\b\b\b\b\b\b\b\b\b\b\b\b\b\b\b\b\b\b\b\b\b\b\b\b\b\b\b\b\b\b\b\b\b\b\b\b\b\b\b\b\b\b\b\b\b\b\b\b\b\b\b\b\b\b\b\b\b\b\b\b\b\b\b\b\b\b\b\b\b\b\b\b\b\b\b\b\b\b\b\b\b\b\r36/37 [============================>.] - ETA: 20s - loss: 6.0032e-05 - accuracy: 1.0000"
          ]
        },
        {
          "output_type": "stream",
          "name": "stderr",
          "text": [
            "WARNING:tensorflow:Can save best model only with val_acc available, skipping.\n"
          ]
        },
        {
          "output_type": "stream",
          "name": "stdout",
          "text": [
            "\b\b\b\b\b\b\b\b\b\b\b\b\b\b\b\b\b\b\b\b\b\b\b\b\b\b\b\b\b\b\b\b\b\b\b\b\b\b\b\b\b\b\b\b\b\b\b\b\b\b\b\b\b\b\b\b\b\b\b\b\b\b\b\b\b\b\b\b\b\b\b\b\b\b\b\b\b\b\b\b\b\b\b\b\b\b\b\r37/37 [==============================] - ETA: 0s - loss: 5.9670e-05 - accuracy: 1.0000 "
          ]
        },
        {
          "output_type": "stream",
          "name": "stderr",
          "text": [
            "WARNING:tensorflow:Early stopping conditioned on metric `val_acc` which is not available. Available metrics are: loss,accuracy,val_loss,val_accuracy\n"
          ]
        },
        {
          "output_type": "stream",
          "name": "stdout",
          "text": [
            "\b\b\b\b\b\b\b\b\b\b\b\b\b\b\b\b\b\b\b\b\b\b\b\b\b\b\b\b\b\b\b\b\b\b\b\b\b\b\b\b\b\b\b\b\b\b\b\b\b\b\b\b\b\b\b\b\b\b\b\b\b\b\b\b\b\b\b\b\b\b\b\b\b\b\b\b\b\b\b\b\b\b\b\b\b\b\r37/37 [==============================] - 919s 25s/step - loss: 5.9670e-05 - accuracy: 1.0000 - val_loss: 0.0276 - val_accuracy: 0.9931\n",
            "Epoch 9/15\n"
          ]
        },
        {
          "output_type": "stream",
          "name": "stderr",
          "text": [
            "WARNING:tensorflow:Can save best model only with val_acc available, skipping.\n"
          ]
        },
        {
          "output_type": "stream",
          "name": "stdout",
          "text": [
            "\r 1/37 [..............................] - ETA: 11:49 - loss: 4.3272e-06 - accuracy: 1.0000"
          ]
        },
        {
          "output_type": "stream",
          "name": "stderr",
          "text": [
            "WARNING:tensorflow:Can save best model only with val_acc available, skipping.\n"
          ]
        },
        {
          "output_type": "stream",
          "name": "stdout",
          "text": [
            "\b\b\b\b\b\b\b\b\b\b\b\b\b\b\b\b\b\b\b\b\b\b\b\b\b\b\b\b\b\b\b\b\b\b\b\b\b\b\b\b\b\b\b\b\b\b\b\b\b\b\b\b\b\b\b\b\b\b\b\b\b\b\b\b\b\b\b\b\b\b\b\b\b\b\b\b\b\b\b\b\b\b\b\b\b\b\b\b\b\r 2/37 [>.............................] - ETA: 12:00 - loss: 1.8374e-04 - accuracy: 1.0000"
          ]
        },
        {
          "output_type": "stream",
          "name": "stderr",
          "text": [
            "WARNING:tensorflow:Can save best model only with val_acc available, skipping.\n"
          ]
        },
        {
          "output_type": "stream",
          "name": "stdout",
          "text": [
            "\b\b\b\b\b\b\b\b\b\b\b\b\b\b\b\b\b\b\b\b\b\b\b\b\b\b\b\b\b\b\b\b\b\b\b\b\b\b\b\b\b\b\b\b\b\b\b\b\b\b\b\b\b\b\b\b\b\b\b\b\b\b\b\b\b\b\b\b\b\b\b\b\b\b\b\b\b\b\b\b\b\b\b\b\b\b\b\b\b\r 3/37 [=>............................] - ETA: 11:37 - loss: 1.2270e-04 - accuracy: 1.0000"
          ]
        },
        {
          "output_type": "stream",
          "name": "stderr",
          "text": [
            "WARNING:tensorflow:Can save best model only with val_acc available, skipping.\n"
          ]
        },
        {
          "output_type": "stream",
          "name": "stdout",
          "text": [
            "\b\b\b\b\b\b\b\b\b\b\b\b\b\b\b\b\b\b\b\b\b\b\b\b\b\b\b\b\b\b\b\b\b\b\b\b\b\b\b\b\b\b\b\b\b\b\b\b\b\b\b\b\b\b\b\b\b\b\b\b\b\b\b\b\b\b\b\b\b\b\b\b\b\b\b\b\b\b\b\b\b\b\b\b\b\b\b\b\b\r 4/37 [==>...........................] - ETA: 11:15 - loss: 9.2029e-05 - accuracy: 1.0000"
          ]
        },
        {
          "output_type": "stream",
          "name": "stderr",
          "text": [
            "WARNING:tensorflow:Can save best model only with val_acc available, skipping.\n"
          ]
        },
        {
          "output_type": "stream",
          "name": "stdout",
          "text": [
            "\b\b\b\b\b\b\b\b\b\b\b\b\b\b\b\b\b\b\b\b\b\b\b\b\b\b\b\b\b\b\b\b\b\b\b\b\b\b\b\b\b\b\b\b\b\b\b\b\b\b\b\b\b\b\b\b\b\b\b\b\b\b\b\b\b\b\b\b\b\b\b\b\b\b\b\b\b\b\b\b\b\b\b\b\b\b\b\b\b\r 5/37 [===>..........................] - ETA: 10:50 - loss: 7.3634e-05 - accuracy: 1.0000"
          ]
        },
        {
          "output_type": "stream",
          "name": "stderr",
          "text": [
            "WARNING:tensorflow:Can save best model only with val_acc available, skipping.\n"
          ]
        },
        {
          "output_type": "stream",
          "name": "stdout",
          "text": [
            "\b\b\b\b\b\b\b\b\b\b\b\b\b\b\b\b\b\b\b\b\b\b\b\b\b\b\b\b\b\b\b\b\b\b\b\b\b\b\b\b\b\b\b\b\b\b\b\b\b\b\b\b\b\b\b\b\b\b\b\b\b\b\b\b\b\b\b\b\b\b\b\b\b\b\b\b\b\b\b\b\b\b\b\b\b\b\b\b\b\r 6/37 [===>..........................] - ETA: 10:30 - loss: 7.2200e-05 - accuracy: 1.0000"
          ]
        },
        {
          "output_type": "stream",
          "name": "stderr",
          "text": [
            "WARNING:tensorflow:Can save best model only with val_acc available, skipping.\n"
          ]
        },
        {
          "output_type": "stream",
          "name": "stdout",
          "text": [
            "\b\b\b\b\b\b\b\b\b\b\b\b\b\b\b\b\b\b\b\b\b\b\b\b\b\b\b\b\b\b\b\b\b\b\b\b\b\b\b\b\b\b\b\b\b\b\b\b\b\b\b\b\b\b\b\b\b\b\b\b\b\b\b\b\b\b\b\b\b\b\b\b\b\b\b\b\b\b\b\b\b\b\b\b\b\b\b\b\b\r 7/37 [====>.........................] - ETA: 10:10 - loss: 6.3682e-05 - accuracy: 1.0000"
          ]
        },
        {
          "output_type": "stream",
          "name": "stderr",
          "text": [
            "WARNING:tensorflow:Can save best model only with val_acc available, skipping.\n"
          ]
        },
        {
          "output_type": "stream",
          "name": "stdout",
          "text": [
            "\b\b\b\b\b\b\b\b\b\b\b\b\b\b\b\b\b\b\b\b\b\b\b\b\b\b\b\b\b\b\b\b\b\b\b\b\b\b\b\b\b\b\b\b\b\b\b\b\b\b\b\b\b\b\b\b\b\b\b\b\b\b\b\b\b\b\b\b\b\b\b\b\b\b\b\b\b\b\b\b\b\b\b\b\b\b\b\b\b\r 8/37 [=====>........................] - ETA: 9:47 - loss: 5.5727e-05 - accuracy: 1.0000 "
          ]
        },
        {
          "output_type": "stream",
          "name": "stderr",
          "text": [
            "WARNING:tensorflow:Can save best model only with val_acc available, skipping.\n"
          ]
        },
        {
          "output_type": "stream",
          "name": "stdout",
          "text": [
            "\b\b\b\b\b\b\b\b\b\b\b\b\b\b\b\b\b\b\b\b\b\b\b\b\b\b\b\b\b\b\b\b\b\b\b\b\b\b\b\b\b\b\b\b\b\b\b\b\b\b\b\b\b\b\b\b\b\b\b\b\b\b\b\b\b\b\b\b\b\b\b\b\b\b\b\b\b\b\b\b\b\b\b\b\b\b\b\b\r 9/37 [======>.......................] - ETA: 9:28 - loss: 4.9541e-05 - accuracy: 1.0000"
          ]
        },
        {
          "output_type": "stream",
          "name": "stderr",
          "text": [
            "WARNING:tensorflow:Can save best model only with val_acc available, skipping.\n"
          ]
        },
        {
          "output_type": "stream",
          "name": "stdout",
          "text": [
            "\b\b\b\b\b\b\b\b\b\b\b\b\b\b\b\b\b\b\b\b\b\b\b\b\b\b\b\b\b\b\b\b\b\b\b\b\b\b\b\b\b\b\b\b\b\b\b\b\b\b\b\b\b\b\b\b\b\b\b\b\b\b\b\b\b\b\b\b\b\b\b\b\b\b\b\b\b\b\b\b\b\b\b\b\b\b\b\b\r10/37 [=======>......................] - ETA: 9:08 - loss: 5.0059e-05 - accuracy: 1.0000"
          ]
        },
        {
          "output_type": "stream",
          "name": "stderr",
          "text": [
            "WARNING:tensorflow:Can save best model only with val_acc available, skipping.\n"
          ]
        },
        {
          "output_type": "stream",
          "name": "stdout",
          "text": [
            "\b\b\b\b\b\b\b\b\b\b\b\b\b\b\b\b\b\b\b\b\b\b\b\b\b\b\b\b\b\b\b\b\b\b\b\b\b\b\b\b\b\b\b\b\b\b\b\b\b\b\b\b\b\b\b\b\b\b\b\b\b\b\b\b\b\b\b\b\b\b\b\b\b\b\b\b\b\b\b\b\b\b\b\b\b\b\b\b\r11/37 [=======>......................] - ETA: 8:46 - loss: 4.8079e-05 - accuracy: 1.0000"
          ]
        },
        {
          "output_type": "stream",
          "name": "stderr",
          "text": [
            "WARNING:tensorflow:Can save best model only with val_acc available, skipping.\n"
          ]
        },
        {
          "output_type": "stream",
          "name": "stdout",
          "text": [
            "\b\b\b\b\b\b\b\b\b\b\b\b\b\b\b\b\b\b\b\b\b\b\b\b\b\b\b\b\b\b\b\b\b\b\b\b\b\b\b\b\b\b\b\b\b\b\b\b\b\b\b\b\b\b\b\b\b\b\b\b\b\b\b\b\b\b\b\b\b\b\b\b\b\b\b\b\b\b\b\b\b\b\b\b\b\b\b\b\r12/37 [========>.....................] - ETA: 8:27 - loss: 5.3246e-05 - accuracy: 1.0000"
          ]
        },
        {
          "output_type": "stream",
          "name": "stderr",
          "text": [
            "WARNING:tensorflow:Can save best model only with val_acc available, skipping.\n"
          ]
        },
        {
          "output_type": "stream",
          "name": "stdout",
          "text": [
            "\b\b\b\b\b\b\b\b\b\b\b\b\b\b\b\b\b\b\b\b\b\b\b\b\b\b\b\b\b\b\b\b\b\b\b\b\b\b\b\b\b\b\b\b\b\b\b\b\b\b\b\b\b\b\b\b\b\b\b\b\b\b\b\b\b\b\b\b\b\b\b\b\b\b\b\b\b\b\b\b\b\b\b\b\b\b\b\b\r13/37 [=========>....................] - ETA: 8:07 - loss: 4.9184e-05 - accuracy: 1.0000"
          ]
        },
        {
          "output_type": "stream",
          "name": "stderr",
          "text": [
            "WARNING:tensorflow:Can save best model only with val_acc available, skipping.\n"
          ]
        },
        {
          "output_type": "stream",
          "name": "stdout",
          "text": [
            "\b\b\b\b\b\b\b\b\b\b\b\b\b\b\b\b\b\b\b\b\b\b\b\b\b\b\b\b\b\b\b\b\b\b\b\b\b\b\b\b\b\b\b\b\b\b\b\b\b\b\b\b\b\b\b\b\b\b\b\b\b\b\b\b\b\b\b\b\b\b\b\b\b\b\b\b\b\b\b\b\b\b\b\b\b\b\b\b\r14/37 [==========>...................] - ETA: 7:47 - loss: 4.5767e-05 - accuracy: 1.0000"
          ]
        },
        {
          "output_type": "stream",
          "name": "stderr",
          "text": [
            "WARNING:tensorflow:Can save best model only with val_acc available, skipping.\n"
          ]
        },
        {
          "output_type": "stream",
          "name": "stdout",
          "text": [
            "\b\b\b\b\b\b\b\b\b\b\b\b\b\b\b\b\b\b\b\b\b\b\b\b\b\b\b\b\b\b\b\b\b\b\b\b\b\b\b\b\b\b\b\b\b\b\b\b\b\b\b\b\b\b\b\b\b\b\b\b\b\b\b\b\b\b\b\b\b\b\b\b\b\b\b\b\b\b\b\b\b\b\b\b\b\b\b\b\r15/37 [===========>..................] - ETA: 7:26 - loss: 4.2715e-05 - accuracy: 1.0000"
          ]
        },
        {
          "output_type": "stream",
          "name": "stderr",
          "text": [
            "WARNING:tensorflow:Can save best model only with val_acc available, skipping.\n"
          ]
        },
        {
          "output_type": "stream",
          "name": "stdout",
          "text": [
            "\b\b\b\b\b\b\b\b\b\b\b\b\b\b\b\b\b\b\b\b\b\b\b\b\b\b\b\b\b\b\b\b\b\b\b\b\b\b\b\b\b\b\b\b\b\b\b\b\b\b\b\b\b\b\b\b\b\b\b\b\b\b\b\b\b\b\b\b\b\b\b\b\b\b\b\b\b\b\b\b\b\b\b\b\b\b\b\b\r16/37 [===========>..................] - ETA: 7:06 - loss: 4.0046e-05 - accuracy: 1.0000"
          ]
        },
        {
          "output_type": "stream",
          "name": "stderr",
          "text": [
            "WARNING:tensorflow:Can save best model only with val_acc available, skipping.\n"
          ]
        },
        {
          "output_type": "stream",
          "name": "stdout",
          "text": [
            "\b\b\b\b\b\b\b\b\b\b\b\b\b\b\b\b\b\b\b\b\b\b\b\b\b\b\b\b\b\b\b\b\b\b\b\b\b\b\b\b\b\b\b\b\b\b\b\b\b\b\b\b\b\b\b\b\b\b\b\b\b\b\b\b\b\b\b\b\b\b\b\b\b\b\b\b\b\b\b\b\b\b\b\b\b\b\b\b\r17/37 [============>.................] - ETA: 6:46 - loss: 4.9708e-05 - accuracy: 1.0000"
          ]
        },
        {
          "output_type": "stream",
          "name": "stderr",
          "text": [
            "WARNING:tensorflow:Can save best model only with val_acc available, skipping.\n"
          ]
        },
        {
          "output_type": "stream",
          "name": "stdout",
          "text": [
            "\b\b\b\b\b\b\b\b\b\b\b\b\b\b\b\b\b\b\b\b\b\b\b\b\b\b\b\b\b\b\b\b\b\b\b\b\b\b\b\b\b\b\b\b\b\b\b\b\b\b\b\b\b\b\b\b\b\b\b\b\b\b\b\b\b\b\b\b\b\b\b\b\b\b\b\b\b\b\b\b\b\b\b\b\b\b\b\b\r18/37 [=============>................] - ETA: 6:25 - loss: 4.7323e-05 - accuracy: 1.0000"
          ]
        },
        {
          "output_type": "stream",
          "name": "stderr",
          "text": [
            "WARNING:tensorflow:Can save best model only with val_acc available, skipping.\n"
          ]
        },
        {
          "output_type": "stream",
          "name": "stdout",
          "text": [
            "\b\b\b\b\b\b\b\b\b\b\b\b\b\b\b\b\b\b\b\b\b\b\b\b\b\b\b\b\b\b\b\b\b\b\b\b\b\b\b\b\b\b\b\b\b\b\b\b\b\b\b\b\b\b\b\b\b\b\b\b\b\b\b\b\b\b\b\b\b\b\b\b\b\b\b\b\b\b\b\b\b\b\b\b\b\b\b\b\r19/37 [==============>...............] - ETA: 6:05 - loss: 4.4851e-05 - accuracy: 1.0000"
          ]
        },
        {
          "output_type": "stream",
          "name": "stderr",
          "text": [
            "WARNING:tensorflow:Can save best model only with val_acc available, skipping.\n"
          ]
        },
        {
          "output_type": "stream",
          "name": "stdout",
          "text": [
            "\b\b\b\b\b\b\b\b\b\b\b\b\b\b\b\b\b\b\b\b\b\b\b\b\b\b\b\b\b\b\b\b\b\b\b\b\b\b\b\b\b\b\b\b\b\b\b\b\b\b\b\b\b\b\b\b\b\b\b\b\b\b\b\b\b\b\b\b\b\b\b\b\b\b\b\b\b\b\b\b\b\b\b\b\b\b\b\b\r20/37 [===============>..............] - ETA: 5:45 - loss: 4.2882e-05 - accuracy: 1.0000"
          ]
        },
        {
          "output_type": "stream",
          "name": "stderr",
          "text": [
            "WARNING:tensorflow:Can save best model only with val_acc available, skipping.\n"
          ]
        },
        {
          "output_type": "stream",
          "name": "stdout",
          "text": [
            "\b\b\b\b\b\b\b\b\b\b\b\b\b\b\b\b\b\b\b\b\b\b\b\b\b\b\b\b\b\b\b\b\b\b\b\b\b\b\b\b\b\b\b\b\b\b\b\b\b\b\b\b\b\b\b\b\b\b\b\b\b\b\b\b\b\b\b\b\b\b\b\b\b\b\b\b\b\b\b\b\b\b\b\b\b\b\b\b\r21/37 [================>.............] - ETA: 5:24 - loss: 4.3039e-05 - accuracy: 1.0000"
          ]
        },
        {
          "output_type": "stream",
          "name": "stderr",
          "text": [
            "WARNING:tensorflow:Can save best model only with val_acc available, skipping.\n"
          ]
        },
        {
          "output_type": "stream",
          "name": "stdout",
          "text": [
            "\b\b\b\b\b\b\b\b\b\b\b\b\b\b\b\b\b\b\b\b\b\b\b\b\b\b\b\b\b\b\b\b\b\b\b\b\b\b\b\b\b\b\b\b\b\b\b\b\b\b\b\b\b\b\b\b\b\b\b\b\b\b\b\b\b\b\b\b\b\b\b\b\b\b\b\b\b\b\b\b\b\b\b\b\b\b\b\b\r22/37 [================>.............] - ETA: 5:04 - loss: 4.2304e-05 - accuracy: 1.0000"
          ]
        },
        {
          "output_type": "stream",
          "name": "stderr",
          "text": [
            "WARNING:tensorflow:Can save best model only with val_acc available, skipping.\n"
          ]
        },
        {
          "output_type": "stream",
          "name": "stdout",
          "text": [
            "\b\b\b\b\b\b\b\b\b\b\b\b\b\b\b\b\b\b\b\b\b\b\b\b\b\b\b\b\b\b\b\b\b\b\b\b\b\b\b\b\b\b\b\b\b\b\b\b\b\b\b\b\b\b\b\b\b\b\b\b\b\b\b\b\b\b\b\b\b\b\b\b\b\b\b\b\b\b\b\b\b\b\b\b\b\b\b\b\r23/37 [=================>............] - ETA: 4:44 - loss: 4.0465e-05 - accuracy: 1.0000"
          ]
        },
        {
          "output_type": "stream",
          "name": "stderr",
          "text": [
            "WARNING:tensorflow:Can save best model only with val_acc available, skipping.\n"
          ]
        },
        {
          "output_type": "stream",
          "name": "stdout",
          "text": [
            "\b\b\b\b\b\b\b\b\b\b\b\b\b\b\b\b\b\b\b\b\b\b\b\b\b\b\b\b\b\b\b\b\b\b\b\b\b\b\b\b\b\b\b\b\b\b\b\b\b\b\b\b\b\b\b\b\b\b\b\b\b\b\b\b\b\b\b\b\b\b\b\b\b\b\b\b\b\b\b\b\b\b\b\b\b\b\b\b\r24/37 [==================>...........] - ETA: 4:23 - loss: 3.8791e-05 - accuracy: 1.0000"
          ]
        },
        {
          "output_type": "stream",
          "name": "stderr",
          "text": [
            "WARNING:tensorflow:Can save best model only with val_acc available, skipping.\n"
          ]
        },
        {
          "output_type": "stream",
          "name": "stdout",
          "text": [
            "\b\b\b\b\b\b\b\b\b\b\b\b\b\b\b\b\b\b\b\b\b\b\b\b\b\b\b\b\b\b\b\b\b\b\b\b\b\b\b\b\b\b\b\b\b\b\b\b\b\b\b\b\b\b\b\b\b\b\b\b\b\b\b\b\b\b\b\b\b\b\b\b\b\b\b\b\b\b\b\b\b\b\b\b\b\b\b\b\r25/37 [===================>..........] - ETA: 4:03 - loss: 3.7671e-05 - accuracy: 1.0000"
          ]
        },
        {
          "output_type": "stream",
          "name": "stderr",
          "text": [
            "WARNING:tensorflow:Can save best model only with val_acc available, skipping.\n"
          ]
        },
        {
          "output_type": "stream",
          "name": "stdout",
          "text": [
            "\b\b\b\b\b\b\b\b\b\b\b\b\b\b\b\b\b\b\b\b\b\b\b\b\b\b\b\b\b\b\b\b\b\b\b\b\b\b\b\b\b\b\b\b\b\b\b\b\b\b\b\b\b\b\b\b\b\b\b\b\b\b\b\b\b\b\b\b\b\b\b\b\b\b\b\b\b\b\b\b\b\b\b\b\b\b\b\b\r26/37 [====================>.........] - ETA: 3:43 - loss: 3.6223e-05 - accuracy: 1.0000"
          ]
        },
        {
          "output_type": "stream",
          "name": "stderr",
          "text": [
            "WARNING:tensorflow:Can save best model only with val_acc available, skipping.\n"
          ]
        },
        {
          "output_type": "stream",
          "name": "stdout",
          "text": [
            "\b\b\b\b\b\b\b\b\b\b\b\b\b\b\b\b\b\b\b\b\b\b\b\b\b\b\b\b\b\b\b\b\b\b\b\b\b\b\b\b\b\b\b\b\b\b\b\b\b\b\b\b\b\b\b\b\b\b\b\b\b\b\b\b\b\b\b\b\b\b\b\b\b\b\b\b\b\b\b\b\b\b\b\b\b\b\b\b\r27/37 [====================>.........] - ETA: 3:22 - loss: 3.4927e-05 - accuracy: 1.0000"
          ]
        },
        {
          "output_type": "stream",
          "name": "stderr",
          "text": [
            "WARNING:tensorflow:Can save best model only with val_acc available, skipping.\n"
          ]
        },
        {
          "output_type": "stream",
          "name": "stdout",
          "text": [
            "\b\b\b\b\b\b\b\b\b\b\b\b\b\b\b\b\b\b\b\b\b\b\b\b\b\b\b\b\b\b\b\b\b\b\b\b\b\b\b\b\b\b\b\b\b\b\b\b\b\b\b\b\b\b\b\b\b\b\b\b\b\b\b\b\b\b\b\b\b\b\b\b\b\b\b\b\b\b\b\b\b\b\b\b\b\b\b\b\r28/37 [=====================>........] - ETA: 3:02 - loss: 3.3753e-05 - accuracy: 1.0000"
          ]
        },
        {
          "output_type": "stream",
          "name": "stderr",
          "text": [
            "WARNING:tensorflow:Can save best model only with val_acc available, skipping.\n"
          ]
        },
        {
          "output_type": "stream",
          "name": "stdout",
          "text": [
            "\b\b\b\b\b\b\b\b\b\b\b\b\b\b\b\b\b\b\b\b\b\b\b\b\b\b\b\b\b\b\b\b\b\b\b\b\b\b\b\b\b\b\b\b\b\b\b\b\b\b\b\b\b\b\b\b\b\b\b\b\b\b\b\b\b\b\b\b\b\b\b\b\b\b\b\b\b\b\b\b\b\b\b\b\b\b\b\b\r29/37 [======================>.......] - ETA: 2:42 - loss: 3.2589e-05 - accuracy: 1.0000"
          ]
        },
        {
          "output_type": "stream",
          "name": "stderr",
          "text": [
            "WARNING:tensorflow:Can save best model only with val_acc available, skipping.\n"
          ]
        },
        {
          "output_type": "stream",
          "name": "stdout",
          "text": [
            "\b\b\b\b\b\b\b\b\b\b\b\b\b\b\b\b\b\b\b\b\b\b\b\b\b\b\b\b\b\b\b\b\b\b\b\b\b\b\b\b\b\b\b\b\b\b\b\b\b\b\b\b\b\b\b\b\b\b\b\b\b\b\b\b\b\b\b\b\b\b\b\b\b\b\b\b\b\b\b\b\b\b\b\b\b\b\b\b\r30/37 [=======================>......] - ETA: 2:21 - loss: 3.1504e-05 - accuracy: 1.0000"
          ]
        },
        {
          "output_type": "stream",
          "name": "stderr",
          "text": [
            "WARNING:tensorflow:Can save best model only with val_acc available, skipping.\n"
          ]
        },
        {
          "output_type": "stream",
          "name": "stdout",
          "text": [
            "\b\b\b\b\b\b\b\b\b\b\b\b\b\b\b\b\b\b\b\b\b\b\b\b\b\b\b\b\b\b\b\b\b\b\b\b\b\b\b\b\b\b\b\b\b\b\b\b\b\b\b\b\b\b\b\b\b\b\b\b\b\b\b\b\b\b\b\b\b\b\b\b\b\b\b\b\b\b\b\b\b\b\b\b\b\b\b\b\r31/37 [========================>.....] - ETA: 2:01 - loss: 3.0501e-05 - accuracy: 1.0000"
          ]
        },
        {
          "output_type": "stream",
          "name": "stderr",
          "text": [
            "WARNING:tensorflow:Can save best model only with val_acc available, skipping.\n"
          ]
        },
        {
          "output_type": "stream",
          "name": "stdout",
          "text": [
            "\b\b\b\b\b\b\b\b\b\b\b\b\b\b\b\b\b\b\b\b\b\b\b\b\b\b\b\b\b\b\b\b\b\b\b\b\b\b\b\b\b\b\b\b\b\b\b\b\b\b\b\b\b\b\b\b\b\b\b\b\b\b\b\b\b\b\b\b\b\b\b\b\b\b\b\b\b\b\b\b\b\b\b\b\b\b\b\b\r32/37 [========================>.....] - ETA: 1:41 - loss: 5.0752e-05 - accuracy: 1.0000"
          ]
        },
        {
          "output_type": "stream",
          "name": "stderr",
          "text": [
            "WARNING:tensorflow:Can save best model only with val_acc available, skipping.\n"
          ]
        },
        {
          "output_type": "stream",
          "name": "stdout",
          "text": [
            "\b\b\b\b\b\b\b\b\b\b\b\b\b\b\b\b\b\b\b\b\b\b\b\b\b\b\b\b\b\b\b\b\b\b\b\b\b\b\b\b\b\b\b\b\b\b\b\b\b\b\b\b\b\b\b\b\b\b\b\b\b\b\b\b\b\b\b\b\b\b\b\b\b\b\b\b\b\b\b\b\b\b\b\b\b\b\b\b\r33/37 [=========================>....] - ETA: 1:21 - loss: 5.3473e-05 - accuracy: 1.0000"
          ]
        },
        {
          "output_type": "stream",
          "name": "stderr",
          "text": [
            "WARNING:tensorflow:Can save best model only with val_acc available, skipping.\n"
          ]
        },
        {
          "output_type": "stream",
          "name": "stdout",
          "text": [
            "\b\b\b\b\b\b\b\b\b\b\b\b\b\b\b\b\b\b\b\b\b\b\b\b\b\b\b\b\b\b\b\b\b\b\b\b\b\b\b\b\b\b\b\b\b\b\b\b\b\b\b\b\b\b\b\b\b\b\b\b\b\b\b\b\b\b\b\b\b\b\b\b\b\b\b\b\b\b\b\b\b\b\b\b\b\b\b\b\r34/37 [==========================>...] - ETA: 1:00 - loss: 5.1900e-05 - accuracy: 1.0000"
          ]
        },
        {
          "output_type": "stream",
          "name": "stderr",
          "text": [
            "WARNING:tensorflow:Can save best model only with val_acc available, skipping.\n"
          ]
        },
        {
          "output_type": "stream",
          "name": "stdout",
          "text": [
            "\b\b\b\b\b\b\b\b\b\b\b\b\b\b\b\b\b\b\b\b\b\b\b\b\b\b\b\b\b\b\b\b\b\b\b\b\b\b\b\b\b\b\b\b\b\b\b\b\b\b\b\b\b\b\b\b\b\b\b\b\b\b\b\b\b\b\b\b\b\b\b\b\b\b\b\b\b\b\b\b\b\b\b\b\b\b\b\b\r35/37 [===========================>..] - ETA: 40s - loss: 5.0491e-05 - accuracy: 1.0000 "
          ]
        },
        {
          "output_type": "stream",
          "name": "stderr",
          "text": [
            "WARNING:tensorflow:Can save best model only with val_acc available, skipping.\n"
          ]
        },
        {
          "output_type": "stream",
          "name": "stdout",
          "text": [
            "\b\b\b\b\b\b\b\b\b\b\b\b\b\b\b\b\b\b\b\b\b\b\b\b\b\b\b\b\b\b\b\b\b\b\b\b\b\b\b\b\b\b\b\b\b\b\b\b\b\b\b\b\b\b\b\b\b\b\b\b\b\b\b\b\b\b\b\b\b\b\b\b\b\b\b\b\b\b\b\b\b\b\b\b\b\b\b\r36/37 [============================>.] - ETA: 20s - loss: 4.9088e-05 - accuracy: 1.0000"
          ]
        },
        {
          "output_type": "stream",
          "name": "stderr",
          "text": [
            "WARNING:tensorflow:Can save best model only with val_acc available, skipping.\n"
          ]
        },
        {
          "output_type": "stream",
          "name": "stdout",
          "text": [
            "\b\b\b\b\b\b\b\b\b\b\b\b\b\b\b\b\b\b\b\b\b\b\b\b\b\b\b\b\b\b\b\b\b\b\b\b\b\b\b\b\b\b\b\b\b\b\b\b\b\b\b\b\b\b\b\b\b\b\b\b\b\b\b\b\b\b\b\b\b\b\b\b\b\b\b\b\b\b\b\b\b\b\b\b\b\b\b\r37/37 [==============================] - ETA: 0s - loss: 4.8708e-05 - accuracy: 1.0000 "
          ]
        },
        {
          "output_type": "stream",
          "name": "stderr",
          "text": [
            "WARNING:tensorflow:Early stopping conditioned on metric `val_acc` which is not available. Available metrics are: loss,accuracy,val_loss,val_accuracy\n"
          ]
        },
        {
          "output_type": "stream",
          "name": "stdout",
          "text": [
            "\b\b\b\b\b\b\b\b\b\b\b\b\b\b\b\b\b\b\b\b\b\b\b\b\b\b\b\b\b\b\b\b\b\b\b\b\b\b\b\b\b\b\b\b\b\b\b\b\b\b\b\b\b\b\b\b\b\b\b\b\b\b\b\b\b\b\b\b\b\b\b\b\b\b\b\b\b\b\b\b\b\b\b\b\b\b\r37/37 [==============================] - 936s 25s/step - loss: 4.8708e-05 - accuracy: 1.0000 - val_loss: 0.0279 - val_accuracy: 0.9931\n",
            "Epoch 10/15\n"
          ]
        },
        {
          "output_type": "stream",
          "name": "stderr",
          "text": [
            "WARNING:tensorflow:Can save best model only with val_acc available, skipping.\n"
          ]
        },
        {
          "output_type": "stream",
          "name": "stdout",
          "text": [
            "\r 1/37 [..............................] - ETA: 12:17 - loss: 6.2705e-05 - accuracy: 1.0000"
          ]
        },
        {
          "output_type": "stream",
          "name": "stderr",
          "text": [
            "WARNING:tensorflow:Can save best model only with val_acc available, skipping.\n"
          ]
        },
        {
          "output_type": "stream",
          "name": "stdout",
          "text": [
            "\b\b\b\b\b\b\b\b\b\b\b\b\b\b\b\b\b\b\b\b\b\b\b\b\b\b\b\b\b\b\b\b\b\b\b\b\b\b\b\b\b\b\b\b\b\b\b\b\b\b\b\b\b\b\b\b\b\b\b\b\b\b\b\b\b\b\b\b\b\b\b\b\b\b\b\b\b\b\b\b\b\b\b\b\b\b\b\b\b\r 2/37 [>.............................] - ETA: 12:01 - loss: 5.5396e-05 - accuracy: 1.0000"
          ]
        },
        {
          "output_type": "stream",
          "name": "stderr",
          "text": [
            "WARNING:tensorflow:Can save best model only with val_acc available, skipping.\n"
          ]
        },
        {
          "output_type": "stream",
          "name": "stdout",
          "text": [
            "\b\b\b\b\b\b\b\b\b\b\b\b\b\b\b\b\b\b\b\b\b\b\b\b\b\b\b\b\b\b\b\b\b\b\b\b\b\b\b\b\b\b\b\b\b\b\b\b\b\b\b\b\b\b\b\b\b\b\b\b\b\b\b\b\b\b\b\b\b\b\b\b\b\b\b\b\b\b\b\b\b\b\b\b\b\b\b\b\b\r 3/37 [=>............................] - ETA: 11:24 - loss: 3.6931e-05 - accuracy: 1.0000"
          ]
        },
        {
          "output_type": "stream",
          "name": "stderr",
          "text": [
            "WARNING:tensorflow:Can save best model only with val_acc available, skipping.\n"
          ]
        },
        {
          "output_type": "stream",
          "name": "stdout",
          "text": [
            "\b\b\b\b\b\b\b\b\b\b\b\b\b\b\b\b\b\b\b\b\b\b\b\b\b\b\b\b\b\b\b\b\b\b\b\b\b\b\b\b\b\b\b\b\b\b\b\b\b\b\b\b\b\b\b\b\b\b\b\b\b\b\b\b\b\b\b\b\b\b\b\b\b\b\b\b\b\b\b\b\b\b\b\b\b\b\b\b\b\r 4/37 [==>...........................] - ETA: 11:08 - loss: 2.7698e-05 - accuracy: 1.0000"
          ]
        },
        {
          "output_type": "stream",
          "name": "stderr",
          "text": [
            "WARNING:tensorflow:Can save best model only with val_acc available, skipping.\n"
          ]
        },
        {
          "output_type": "stream",
          "name": "stdout",
          "text": [
            "\b\b\b\b\b\b\b\b\b\b\b\b\b\b\b\b\b\b\b\b\b\b\b\b\b\b\b\b\b\b\b\b\b\b\b\b\b\b\b\b\b\b\b\b\b\b\b\b\b\b\b\b\b\b\b\b\b\b\b\b\b\b\b\b\b\b\b\b\b\b\b\b\b\b\b\b\b\b\b\b\b\b\b\b\b\b\b\b\b\r 5/37 [===>..........................] - ETA: 10:50 - loss: 2.2159e-05 - accuracy: 1.0000"
          ]
        },
        {
          "output_type": "stream",
          "name": "stderr",
          "text": [
            "WARNING:tensorflow:Can save best model only with val_acc available, skipping.\n"
          ]
        },
        {
          "output_type": "stream",
          "name": "stdout",
          "text": [
            "\b\b\b\b\b\b\b\b\b\b\b\b\b\b\b\b\b\b\b\b\b\b\b\b\b\b\b\b\b\b\b\b\b\b\b\b\b\b\b\b\b\b\b\b\b\b\b\b\b\b\b\b\b\b\b\b\b\b\b\b\b\b\b\b\b\b\b\b\b\b\b\b\b\b\b\b\b\b\b\b\b\b\b\b\b\b\b\b\b\r 6/37 [===>..........................] - ETA: 10:25 - loss: 1.8466e-05 - accuracy: 1.0000"
          ]
        },
        {
          "output_type": "stream",
          "name": "stderr",
          "text": [
            "WARNING:tensorflow:Can save best model only with val_acc available, skipping.\n"
          ]
        },
        {
          "output_type": "stream",
          "name": "stdout",
          "text": [
            "\b\b\b\b\b\b\b\b\b\b\b\b\b\b\b\b\b\b\b\b\b\b\b\b\b\b\b\b\b\b\b\b\b\b\b\b\b\b\b\b\b\b\b\b\b\b\b\b\b\b\b\b\b\b\b\b\b\b\b\b\b\b\b\b\b\b\b\b\b\b\b\b\b\b\b\b\b\b\b\b\b\b\b\b\b\b\b\b\b\r 7/37 [====>.........................] - ETA: 10:07 - loss: 2.9454e-05 - accuracy: 1.0000"
          ]
        },
        {
          "output_type": "stream",
          "name": "stderr",
          "text": [
            "WARNING:tensorflow:Can save best model only with val_acc available, skipping.\n"
          ]
        },
        {
          "output_type": "stream",
          "name": "stdout",
          "text": [
            "\b\b\b\b\b\b\b\b\b\b\b\b\b\b\b\b\b\b\b\b\b\b\b\b\b\b\b\b\b\b\b\b\b\b\b\b\b\b\b\b\b\b\b\b\b\b\b\b\b\b\b\b\b\b\b\b\b\b\b\b\b\b\b\b\b\b\b\b\b\b\b\b\b\b\b\b\b\b\b\b\b\b\b\b\b\b\b\b\b\r 8/37 [=====>........................] - ETA: 9:48 - loss: 2.5924e-05 - accuracy: 1.0000 "
          ]
        },
        {
          "output_type": "stream",
          "name": "stderr",
          "text": [
            "WARNING:tensorflow:Can save best model only with val_acc available, skipping.\n"
          ]
        },
        {
          "output_type": "stream",
          "name": "stdout",
          "text": [
            "\b\b\b\b\b\b\b\b\b\b\b\b\b\b\b\b\b\b\b\b\b\b\b\b\b\b\b\b\b\b\b\b\b\b\b\b\b\b\b\b\b\b\b\b\b\b\b\b\b\b\b\b\b\b\b\b\b\b\b\b\b\b\b\b\b\b\b\b\b\b\b\b\b\b\b\b\b\b\b\b\b\b\b\b\b\b\b\b\r 9/37 [======>.......................] - ETA: 9:28 - loss: 2.3049e-05 - accuracy: 1.0000"
          ]
        },
        {
          "output_type": "stream",
          "name": "stderr",
          "text": [
            "WARNING:tensorflow:Can save best model only with val_acc available, skipping.\n"
          ]
        },
        {
          "output_type": "stream",
          "name": "stdout",
          "text": [
            "\b\b\b\b\b\b\b\b\b\b\b\b\b\b\b\b\b\b\b\b\b\b\b\b\b\b\b\b\b\b\b\b\b\b\b\b\b\b\b\b\b\b\b\b\b\b\b\b\b\b\b\b\b\b\b\b\b\b\b\b\b\b\b\b\b\b\b\b\b\b\b\b\b\b\b\b\b\b\b\b\b\b\b\b\b\b\b\b\r10/37 [=======>......................] - ETA: 9:06 - loss: 2.1513e-05 - accuracy: 1.0000"
          ]
        },
        {
          "output_type": "stream",
          "name": "stderr",
          "text": [
            "WARNING:tensorflow:Can save best model only with val_acc available, skipping.\n"
          ]
        },
        {
          "output_type": "stream",
          "name": "stdout",
          "text": [
            "\b\b\b\b\b\b\b\b\b\b\b\b\b\b\b\b\b\b\b\b\b\b\b\b\b\b\b\b\b\b\b\b\b\b\b\b\b\b\b\b\b\b\b\b\b\b\b\b\b\b\b\b\b\b\b\b\b\b\b\b\b\b\b\b\b\b\b\b\b\b\b\b\b\b\b\b\b\b\b\b\b\b\b\b\b\b\b\b\r11/37 [=======>......................] - ETA: 8:46 - loss: 2.1513e-05 - accuracy: 1.0000"
          ]
        },
        {
          "output_type": "stream",
          "name": "stderr",
          "text": [
            "WARNING:tensorflow:Can save best model only with val_acc available, skipping.\n"
          ]
        },
        {
          "output_type": "stream",
          "name": "stdout",
          "text": [
            "\b\b\b\b\b\b\b\b\b\b\b\b\b\b\b\b\b\b\b\b\b\b\b\b\b\b\b\b\b\b\b\b\b\b\b\b\b\b\b\b\b\b\b\b\b\b\b\b\b\b\b\b\b\b\b\b\b\b\b\b\b\b\b\b\b\b\b\b\b\b\b\b\b\b\b\b\b\b\b\b\b\b\b\b\b\b\b\b\r12/37 [========>.....................] - ETA: 8:26 - loss: 1.9721e-05 - accuracy: 1.0000"
          ]
        },
        {
          "output_type": "stream",
          "name": "stderr",
          "text": [
            "WARNING:tensorflow:Can save best model only with val_acc available, skipping.\n"
          ]
        },
        {
          "output_type": "stream",
          "name": "stdout",
          "text": [
            "\b\b\b\b\b\b\b\b\b\b\b\b\b\b\b\b\b\b\b\b\b\b\b\b\b\b\b\b\b\b\b\b\b\b\b\b\b\b\b\b\b\b\b\b\b\b\b\b\b\b\b\b\b\b\b\b\b\b\b\b\b\b\b\b\b\b\b\b\b\b\b\b\b\b\b\b\b\b\b\b\b\b\b\b\b\b\b\b\r13/37 [=========>....................] - ETA: 8:05 - loss: 1.8656e-05 - accuracy: 1.0000"
          ]
        },
        {
          "output_type": "stream",
          "name": "stderr",
          "text": [
            "WARNING:tensorflow:Can save best model only with val_acc available, skipping.\n"
          ]
        },
        {
          "output_type": "stream",
          "name": "stdout",
          "text": [
            "\b\b\b\b\b\b\b\b\b\b\b\b\b\b\b\b\b\b\b\b\b\b\b\b\b\b\b\b\b\b\b\b\b\b\b\b\b\b\b\b\b\b\b\b\b\b\b\b\b\b\b\b\b\b\b\b\b\b\b\b\b\b\b\b\b\b\b\b\b\b\b\b\b\b\b\b\b\b\b\b\b\b\b\b\b\b\b\b\r14/37 [==========>...................] - ETA: 7:45 - loss: 1.7327e-05 - accuracy: 1.0000"
          ]
        },
        {
          "output_type": "stream",
          "name": "stderr",
          "text": [
            "WARNING:tensorflow:Can save best model only with val_acc available, skipping.\n"
          ]
        },
        {
          "output_type": "stream",
          "name": "stdout",
          "text": [
            "\b\b\b\b\b\b\b\b\b\b\b\b\b\b\b\b\b\b\b\b\b\b\b\b\b\b\b\b\b\b\b\b\b\b\b\b\b\b\b\b\b\b\b\b\b\b\b\b\b\b\b\b\b\b\b\b\b\b\b\b\b\b\b\b\b\b\b\b\b\b\b\b\b\b\b\b\b\b\b\b\b\b\b\b\b\b\b\b\r15/37 [===========>..................] - ETA: 7:25 - loss: 1.6332e-05 - accuracy: 1.0000"
          ]
        },
        {
          "output_type": "stream",
          "name": "stderr",
          "text": [
            "WARNING:tensorflow:Can save best model only with val_acc available, skipping.\n"
          ]
        },
        {
          "output_type": "stream",
          "name": "stdout",
          "text": [
            "\b\b\b\b\b\b\b\b\b\b\b\b\b\b\b\b\b\b\b\b\b\b\b\b\b\b\b\b\b\b\b\b\b\b\b\b\b\b\b\b\b\b\b\b\b\b\b\b\b\b\b\b\b\b\b\b\b\b\b\b\b\b\b\b\b\b\b\b\b\b\b\b\b\b\b\b\b\b\b\b\b\b\b\b\b\b\b\b\r16/37 [===========>..................] - ETA: 7:04 - loss: 2.8341e-05 - accuracy: 1.0000"
          ]
        },
        {
          "output_type": "stream",
          "name": "stderr",
          "text": [
            "WARNING:tensorflow:Can save best model only with val_acc available, skipping.\n"
          ]
        },
        {
          "output_type": "stream",
          "name": "stdout",
          "text": [
            "\b\b\b\b\b\b\b\b\b\b\b\b\b\b\b\b\b\b\b\b\b\b\b\b\b\b\b\b\b\b\b\b\b\b\b\b\b\b\b\b\b\b\b\b\b\b\b\b\b\b\b\b\b\b\b\b\b\b\b\b\b\b\b\b\b\b\b\b\b\b\b\b\b\b\b\b\b\b\b\b\b\b\b\b\b\b\b\b\r17/37 [============>.................] - ETA: 6:44 - loss: 2.6674e-05 - accuracy: 1.0000"
          ]
        },
        {
          "output_type": "stream",
          "name": "stderr",
          "text": [
            "WARNING:tensorflow:Can save best model only with val_acc available, skipping.\n"
          ]
        },
        {
          "output_type": "stream",
          "name": "stdout",
          "text": [
            "\b\b\b\b\b\b\b\b\b\b\b\b\b\b\b\b\b\b\b\b\b\b\b\b\b\b\b\b\b\b\b\b\b\b\b\b\b\b\b\b\b\b\b\b\b\b\b\b\b\b\b\b\b\b\b\b\b\b\b\b\b\b\b\b\b\b\b\b\b\b\b\b\b\b\b\b\b\b\b\b\b\b\b\b\b\b\b\b\r18/37 [=============>................] - ETA: 6:24 - loss: 2.5421e-05 - accuracy: 1.0000"
          ]
        },
        {
          "output_type": "stream",
          "name": "stderr",
          "text": [
            "WARNING:tensorflow:Can save best model only with val_acc available, skipping.\n"
          ]
        },
        {
          "output_type": "stream",
          "name": "stdout",
          "text": [
            "\b\b\b\b\b\b\b\b\b\b\b\b\b\b\b\b\b\b\b\b\b\b\b\b\b\b\b\b\b\b\b\b\b\b\b\b\b\b\b\b\b\b\b\b\b\b\b\b\b\b\b\b\b\b\b\b\b\b\b\b\b\b\b\b\b\b\b\b\b\b\b\b\b\b\b\b\b\b\b\b\b\b\b\b\b\b\b\b\r19/37 [==============>...............] - ETA: 6:04 - loss: 5.0807e-05 - accuracy: 1.0000"
          ]
        },
        {
          "output_type": "stream",
          "name": "stderr",
          "text": [
            "WARNING:tensorflow:Can save best model only with val_acc available, skipping.\n"
          ]
        },
        {
          "output_type": "stream",
          "name": "stdout",
          "text": [
            "\b\b\b\b\b\b\b\b\b\b\b\b\b\b\b\b\b\b\b\b\b\b\b\b\b\b\b\b\b\b\b\b\b\b\b\b\b\b\b\b\b\b\b\b\b\b\b\b\b\b\b\b\b\b\b\b\b\b\b\b\b\b\b\b\b\b\b\b\b\b\b\b\b\b\b\b\b\b\b\b\b\b\b\b\b\b\b\b\r20/37 [===============>..............] - ETA: 5:43 - loss: 4.8285e-05 - accuracy: 1.0000"
          ]
        },
        {
          "output_type": "stream",
          "name": "stderr",
          "text": [
            "WARNING:tensorflow:Can save best model only with val_acc available, skipping.\n"
          ]
        },
        {
          "output_type": "stream",
          "name": "stdout",
          "text": [
            "\b\b\b\b\b\b\b\b\b\b\b\b\b\b\b\b\b\b\b\b\b\b\b\b\b\b\b\b\b\b\b\b\b\b\b\b\b\b\b\b\b\b\b\b\b\b\b\b\b\b\b\b\b\b\b\b\b\b\b\b\b\b\b\b\b\b\b\b\b\b\b\b\b\b\b\b\b\b\b\b\b\b\b\b\b\b\b\b\r21/37 [================>.............] - ETA: 5:23 - loss: 4.8770e-05 - accuracy: 1.0000"
          ]
        },
        {
          "output_type": "stream",
          "name": "stderr",
          "text": [
            "WARNING:tensorflow:Can save best model only with val_acc available, skipping.\n"
          ]
        },
        {
          "output_type": "stream",
          "name": "stdout",
          "text": [
            "\b\b\b\b\b\b\b\b\b\b\b\b\b\b\b\b\b\b\b\b\b\b\b\b\b\b\b\b\b\b\b\b\b\b\b\b\b\b\b\b\b\b\b\b\b\b\b\b\b\b\b\b\b\b\b\b\b\b\b\b\b\b\b\b\b\b\b\b\b\b\b\b\b\b\b\b\b\b\b\b\b\b\b\b\b\b\b\b\r22/37 [================>.............] - ETA: 5:03 - loss: 4.6553e-05 - accuracy: 1.0000"
          ]
        },
        {
          "output_type": "stream",
          "name": "stderr",
          "text": [
            "WARNING:tensorflow:Can save best model only with val_acc available, skipping.\n"
          ]
        },
        {
          "output_type": "stream",
          "name": "stdout",
          "text": [
            "\b\b\b\b\b\b\b\b\b\b\b\b\b\b\b\b\b\b\b\b\b\b\b\b\b\b\b\b\b\b\b\b\b\b\b\b\b\b\b\b\b\b\b\b\b\b\b\b\b\b\b\b\b\b\b\b\b\b\b\b\b\b\b\b\b\b\b\b\b\b\b\b\b\b\b\b\b\b\b\b\b\b\b\b\b\b\b\b\r23/37 [=================>............] - ETA: 4:43 - loss: 4.6997e-05 - accuracy: 1.0000"
          ]
        },
        {
          "output_type": "stream",
          "name": "stderr",
          "text": [
            "WARNING:tensorflow:Can save best model only with val_acc available, skipping.\n"
          ]
        },
        {
          "output_type": "stream",
          "name": "stdout",
          "text": [
            "\b\b\b\b\b\b\b\b\b\b\b\b\b\b\b\b\b\b\b\b\b\b\b\b\b\b\b\b\b\b\b\b\b\b\b\b\b\b\b\b\b\b\b\b\b\b\b\b\b\b\b\b\b\b\b\b\b\b\b\b\b\b\b\b\b\b\b\b\b\b\b\b\b\b\b\b\b\b\b\b\b\b\b\b\b\b\b\b\r24/37 [==================>...........] - ETA: 4:22 - loss: 4.5081e-05 - accuracy: 1.0000"
          ]
        },
        {
          "output_type": "stream",
          "name": "stderr",
          "text": [
            "WARNING:tensorflow:Can save best model only with val_acc available, skipping.\n"
          ]
        },
        {
          "output_type": "stream",
          "name": "stdout",
          "text": [
            "\b\b\b\b\b\b\b\b\b\b\b\b\b\b\b\b\b\b\b\b\b\b\b\b\b\b\b\b\b\b\b\b\b\b\b\b\b\b\b\b\b\b\b\b\b\b\b\b\b\b\b\b\b\b\b\b\b\b\b\b\b\b\b\b\b\b\b\b\b\b\b\b\b\b\b\b\b\b\b\b\b\b\b\b\b\b\b\b\r25/37 [===================>..........] - ETA: 4:02 - loss: 4.3280e-05 - accuracy: 1.0000"
          ]
        },
        {
          "output_type": "stream",
          "name": "stderr",
          "text": [
            "WARNING:tensorflow:Can save best model only with val_acc available, skipping.\n"
          ]
        },
        {
          "output_type": "stream",
          "name": "stdout",
          "text": [
            "\b\b\b\b\b\b\b\b\b\b\b\b\b\b\b\b\b\b\b\b\b\b\b\b\b\b\b\b\b\b\b\b\b\b\b\b\b\b\b\b\b\b\b\b\b\b\b\b\b\b\b\b\b\b\b\b\b\b\b\b\b\b\b\b\b\b\b\b\b\b\b\b\b\b\b\b\b\b\b\b\b\b\b\b\b\b\b\b\r26/37 [====================>.........] - ETA: 3:42 - loss: 4.5653e-05 - accuracy: 1.0000"
          ]
        },
        {
          "output_type": "stream",
          "name": "stderr",
          "text": [
            "WARNING:tensorflow:Can save best model only with val_acc available, skipping.\n"
          ]
        },
        {
          "output_type": "stream",
          "name": "stdout",
          "text": [
            "\b\b\b\b\b\b\b\b\b\b\b\b\b\b\b\b\b\b\b\b\b\b\b\b\b\b\b\b\b\b\b\b\b\b\b\b\b\b\b\b\b\b\b\b\b\b\b\b\b\b\b\b\b\b\b\b\b\b\b\b\b\b\b\b\b\b\b\b\b\b\b\b\b\b\b\b\b\b\b\b\b\b\b\b\b\b\b\b\r27/37 [====================>.........] - ETA: 3:22 - loss: 4.3962e-05 - accuracy: 1.0000"
          ]
        },
        {
          "output_type": "stream",
          "name": "stderr",
          "text": [
            "WARNING:tensorflow:Can save best model only with val_acc available, skipping.\n"
          ]
        },
        {
          "output_type": "stream",
          "name": "stdout",
          "text": [
            "\b\b\b\b\b\b\b\b\b\b\b\b\b\b\b\b\b\b\b\b\b\b\b\b\b\b\b\b\b\b\b\b\b\b\b\b\b\b\b\b\b\b\b\b\b\b\b\b\b\b\b\b\b\b\b\b\b\b\b\b\b\b\b\b\b\b\b\b\b\b\b\b\b\b\b\b\b\b\b\b\b\b\b\b\b\b\b\b\r28/37 [=====================>........] - ETA: 3:02 - loss: 4.2405e-05 - accuracy: 1.0000"
          ]
        },
        {
          "output_type": "stream",
          "name": "stderr",
          "text": [
            "WARNING:tensorflow:Can save best model only with val_acc available, skipping.\n"
          ]
        },
        {
          "output_type": "stream",
          "name": "stdout",
          "text": [
            "\b\b\b\b\b\b\b\b\b\b\b\b\b\b\b\b\b\b\b\b\b\b\b\b\b\b\b\b\b\b\b\b\b\b\b\b\b\b\b\b\b\b\b\b\b\b\b\b\b\b\b\b\b\b\b\b\b\b\b\b\b\b\b\b\b\b\b\b\b\b\b\b\b\b\b\b\b\b\b\b\b\b\b\b\b\b\b\b\r29/37 [======================>.......] - ETA: 2:41 - loss: 4.0943e-05 - accuracy: 1.0000"
          ]
        },
        {
          "output_type": "stream",
          "name": "stderr",
          "text": [
            "WARNING:tensorflow:Can save best model only with val_acc available, skipping.\n"
          ]
        },
        {
          "output_type": "stream",
          "name": "stdout",
          "text": [
            "\b\b\b\b\b\b\b\b\b\b\b\b\b\b\b\b\b\b\b\b\b\b\b\b\b\b\b\b\b\b\b\b\b\b\b\b\b\b\b\b\b\b\b\b\b\b\b\b\b\b\b\b\b\b\b\b\b\b\b\b\b\b\b\b\b\b\b\b\b\b\b\b\b\b\b\b\b\b\b\b\b\b\b\b\b\b\b\b\r30/37 [=======================>......] - ETA: 2:21 - loss: 3.9651e-05 - accuracy: 1.0000"
          ]
        },
        {
          "output_type": "stream",
          "name": "stderr",
          "text": [
            "WARNING:tensorflow:Can save best model only with val_acc available, skipping.\n"
          ]
        },
        {
          "output_type": "stream",
          "name": "stdout",
          "text": [
            "\b\b\b\b\b\b\b\b\b\b\b\b\b\b\b\b\b\b\b\b\b\b\b\b\b\b\b\b\b\b\b\b\b\b\b\b\b\b\b\b\b\b\b\b\b\b\b\b\b\b\b\b\b\b\b\b\b\b\b\b\b\b\b\b\b\b\b\b\b\b\b\b\b\b\b\b\b\b\b\b\b\b\b\b\b\b\b\b\r31/37 [========================>.....] - ETA: 2:01 - loss: 3.8372e-05 - accuracy: 1.0000"
          ]
        },
        {
          "output_type": "stream",
          "name": "stderr",
          "text": [
            "WARNING:tensorflow:Can save best model only with val_acc available, skipping.\n"
          ]
        },
        {
          "output_type": "stream",
          "name": "stdout",
          "text": [
            "\b\b\b\b\b\b\b\b\b\b\b\b\b\b\b\b\b\b\b\b\b\b\b\b\b\b\b\b\b\b\b\b\b\b\b\b\b\b\b\b\b\b\b\b\b\b\b\b\b\b\b\b\b\b\b\b\b\b\b\b\b\b\b\b\b\b\b\b\b\b\b\b\b\b\b\b\b\b\b\b\b\b\b\b\b\b\b\b\r32/37 [========================>.....] - ETA: 1:41 - loss: 3.7334e-05 - accuracy: 1.0000"
          ]
        },
        {
          "output_type": "stream",
          "name": "stderr",
          "text": [
            "WARNING:tensorflow:Can save best model only with val_acc available, skipping.\n"
          ]
        },
        {
          "output_type": "stream",
          "name": "stdout",
          "text": [
            "\b\b\b\b\b\b\b\b\b\b\b\b\b\b\b\b\b\b\b\b\b\b\b\b\b\b\b\b\b\b\b\b\b\b\b\b\b\b\b\b\b\b\b\b\b\b\b\b\b\b\b\b\b\b\b\b\b\b\b\b\b\b\b\b\b\b\b\b\b\b\b\b\b\b\b\b\b\b\b\b\b\b\b\b\b\b\b\b\r33/37 [=========================>....] - ETA: 1:20 - loss: 4.6161e-05 - accuracy: 1.0000"
          ]
        },
        {
          "output_type": "stream",
          "name": "stderr",
          "text": [
            "WARNING:tensorflow:Can save best model only with val_acc available, skipping.\n"
          ]
        },
        {
          "output_type": "stream",
          "name": "stdout",
          "text": [
            "\b\b\b\b\b\b\b\b\b\b\b\b\b\b\b\b\b\b\b\b\b\b\b\b\b\b\b\b\b\b\b\b\b\b\b\b\b\b\b\b\b\b\b\b\b\b\b\b\b\b\b\b\b\b\b\b\b\b\b\b\b\b\b\b\b\b\b\b\b\b\b\b\b\b\b\b\b\b\b\b\b\b\b\b\b\b\b\b\r34/37 [==========================>...] - ETA: 1:00 - loss: 4.5736e-05 - accuracy: 1.0000"
          ]
        },
        {
          "output_type": "stream",
          "name": "stderr",
          "text": [
            "WARNING:tensorflow:Can save best model only with val_acc available, skipping.\n"
          ]
        },
        {
          "output_type": "stream",
          "name": "stdout",
          "text": [
            "\b\b\b\b\b\b\b\b\b\b\b\b\b\b\b\b\b\b\b\b\b\b\b\b\b\b\b\b\b\b\b\b\b\b\b\b\b\b\b\b\b\b\b\b\b\b\b\b\b\b\b\b\b\b\b\b\b\b\b\b\b\b\b\b\b\b\b\b\b\b\b\b\b\b\b\b\b\b\b\b\b\b\b\b\b\b\b\b\r35/37 [===========================>..] - ETA: 40s - loss: 4.4432e-05 - accuracy: 1.0000 "
          ]
        },
        {
          "output_type": "stream",
          "name": "stderr",
          "text": [
            "WARNING:tensorflow:Can save best model only with val_acc available, skipping.\n"
          ]
        },
        {
          "output_type": "stream",
          "name": "stdout",
          "text": [
            "\b\b\b\b\b\b\b\b\b\b\b\b\b\b\b\b\b\b\b\b\b\b\b\b\b\b\b\b\b\b\b\b\b\b\b\b\b\b\b\b\b\b\b\b\b\b\b\b\b\b\b\b\b\b\b\b\b\b\b\b\b\b\b\b\b\b\b\b\b\b\b\b\b\b\b\b\b\b\b\b\b\b\b\b\b\b\b\r36/37 [============================>.] - ETA: 20s - loss: 4.3199e-05 - accuracy: 1.0000"
          ]
        },
        {
          "output_type": "stream",
          "name": "stderr",
          "text": [
            "WARNING:tensorflow:Can save best model only with val_acc available, skipping.\n"
          ]
        },
        {
          "output_type": "stream",
          "name": "stdout",
          "text": [
            "\b\b\b\b\b\b\b\b\b\b\b\b\b\b\b\b\b\b\b\b\b\b\b\b\b\b\b\b\b\b\b\b\b\b\b\b\b\b\b\b\b\b\b\b\b\b\b\b\b\b\b\b\b\b\b\b\b\b\b\b\b\b\b\b\b\b\b\b\b\b\b\b\b\b\b\b\b\b\b\b\b\b\b\b\b\b\b\r37/37 [==============================] - ETA: 0s - loss: 4.2864e-05 - accuracy: 1.0000 "
          ]
        },
        {
          "output_type": "stream",
          "name": "stderr",
          "text": [
            "WARNING:tensorflow:Early stopping conditioned on metric `val_acc` which is not available. Available metrics are: loss,accuracy,val_loss,val_accuracy\n"
          ]
        },
        {
          "output_type": "stream",
          "name": "stdout",
          "text": [
            "\b\b\b\b\b\b\b\b\b\b\b\b\b\b\b\b\b\b\b\b\b\b\b\b\b\b\b\b\b\b\b\b\b\b\b\b\b\b\b\b\b\b\b\b\b\b\b\b\b\b\b\b\b\b\b\b\b\b\b\b\b\b\b\b\b\b\b\b\b\b\b\b\b\b\b\b\b\b\b\b\b\b\b\b\b\b\r37/37 [==============================] - 936s 25s/step - loss: 4.2864e-05 - accuracy: 1.0000 - val_loss: 0.0280 - val_accuracy: 0.9931\n",
            "Epoch 11/15\n"
          ]
        },
        {
          "output_type": "stream",
          "name": "stderr",
          "text": [
            "WARNING:tensorflow:Can save best model only with val_acc available, skipping.\n"
          ]
        },
        {
          "output_type": "stream",
          "name": "stdout",
          "text": [
            "\r 1/37 [..............................] - ETA: 12:05 - loss: 1.2854e-09 - accuracy: 1.0000"
          ]
        },
        {
          "output_type": "stream",
          "name": "stderr",
          "text": [
            "WARNING:tensorflow:Can save best model only with val_acc available, skipping.\n"
          ]
        },
        {
          "output_type": "stream",
          "name": "stdout",
          "text": [
            "\b\b\b\b\b\b\b\b\b\b\b\b\b\b\b\b\b\b\b\b\b\b\b\b\b\b\b\b\b\b\b\b\b\b\b\b\b\b\b\b\b\b\b\b\b\b\b\b\b\b\b\b\b\b\b\b\b\b\b\b\b\b\b\b\b\b\b\b\b\b\b\b\b\b\b\b\b\b\b\b\b\b\b\b\b\b\b\b\b\r 2/37 [>.............................] - ETA: 11:38 - loss: 6.4361e-10 - accuracy: 1.0000"
          ]
        },
        {
          "output_type": "stream",
          "name": "stderr",
          "text": [
            "WARNING:tensorflow:Can save best model only with val_acc available, skipping.\n"
          ]
        },
        {
          "output_type": "stream",
          "name": "stdout",
          "text": [
            "\b\b\b\b\b\b\b\b\b\b\b\b\b\b\b\b\b\b\b\b\b\b\b\b\b\b\b\b\b\b\b\b\b\b\b\b\b\b\b\b\b\b\b\b\b\b\b\b\b\b\b\b\b\b\b\b\b\b\b\b\b\b\b\b\b\b\b\b\b\b\b\b\b\b\b\b\b\b\b\b\b\b\b\b\b\b\b\b\b\r 3/37 [=>............................] - ETA: 11:26 - loss: 8.0670e-06 - accuracy: 1.0000"
          ]
        },
        {
          "output_type": "stream",
          "name": "stderr",
          "text": [
            "WARNING:tensorflow:Can save best model only with val_acc available, skipping.\n"
          ]
        },
        {
          "output_type": "stream",
          "name": "stdout",
          "text": [
            "\b\b\b\b\b\b\b\b\b\b\b\b\b\b\b\b\b\b\b\b\b\b\b\b\b\b\b\b\b\b\b\b\b\b\b\b\b\b\b\b\b\b\b\b\b\b\b\b\b\b\b\b\b\b\b\b\b\b\b\b\b\b\b\b\b\b\b\b\b\b\b\b\b\b\b\b\b\b\b\b\b\b\b\b\b\b\b\b\b\r 4/37 [==>...........................] - ETA: 11:08 - loss: 2.7124e-05 - accuracy: 1.0000"
          ]
        },
        {
          "output_type": "stream",
          "name": "stderr",
          "text": [
            "WARNING:tensorflow:Can save best model only with val_acc available, skipping.\n"
          ]
        },
        {
          "output_type": "stream",
          "name": "stdout",
          "text": [
            "\b\b\b\b\b\b\b\b\b\b\b\b\b\b\b\b\b\b\b\b\b\b\b\b\b\b\b\b\b\b\b\b\b\b\b\b\b\b\b\b\b\b\b\b\b\b\b\b\b\b\b\b\b\b\b\b\b\b\b\b\b\b\b\b\b\b\b\b\b\b\b\b\b\b\b\b\b\b\b\b\b\b\b\b\b\b\b\b\b\r 5/37 [===>..........................] - ETA: 10:43 - loss: 2.2360e-05 - accuracy: 1.0000"
          ]
        },
        {
          "output_type": "stream",
          "name": "stderr",
          "text": [
            "WARNING:tensorflow:Can save best model only with val_acc available, skipping.\n"
          ]
        },
        {
          "output_type": "stream",
          "name": "stdout",
          "text": [
            "\b\b\b\b\b\b\b\b\b\b\b\b\b\b\b\b\b\b\b\b\b\b\b\b\b\b\b\b\b\b\b\b\b\b\b\b\b\b\b\b\b\b\b\b\b\b\b\b\b\b\b\b\b\b\b\b\b\b\b\b\b\b\b\b\b\b\b\b\b\b\b\b\b\b\b\b\b\b\b\b\b\b\b\b\b\b\b\b\b\r 6/37 [===>..........................] - ETA: 10:25 - loss: 1.8772e-05 - accuracy: 1.0000"
          ]
        },
        {
          "output_type": "stream",
          "name": "stderr",
          "text": [
            "WARNING:tensorflow:Can save best model only with val_acc available, skipping.\n"
          ]
        },
        {
          "output_type": "stream",
          "name": "stdout",
          "text": [
            "\b\b\b\b\b\b\b\b\b\b\b\b\b\b\b\b\b\b\b\b\b\b\b\b\b\b\b\b\b\b\b\b\b\b\b\b\b\b\b\b\b\b\b\b\b\b\b\b\b\b\b\b\b\b\b\b\b\b\b\b\b\b\b\b\b\b\b\b\b\b\b\b\b\b\b\b\b\b\b\b\b\b\b\b\b\b\b\b\b\r 7/37 [====>.........................] - ETA: 10:06 - loss: 2.2211e-05 - accuracy: 1.0000"
          ]
        },
        {
          "output_type": "stream",
          "name": "stderr",
          "text": [
            "WARNING:tensorflow:Can save best model only with val_acc available, skipping.\n"
          ]
        },
        {
          "output_type": "stream",
          "name": "stdout",
          "text": [
            "\b\b\b\b\b\b\b\b\b\b\b\b\b\b\b\b\b\b\b\b\b\b\b\b\b\b\b\b\b\b\b\b\b\b\b\b\b\b\b\b\b\b\b\b\b\b\b\b\b\b\b\b\b\b\b\b\b\b\b\b\b\b\b\b\b\b\b\b\b\b\b\b\b\b\b\b\b\b\b\b\b\b\b\b\b\b\b\b\b\r 8/37 [=====>........................] - ETA: 9:43 - loss: 1.9435e-05 - accuracy: 1.0000 "
          ]
        },
        {
          "output_type": "stream",
          "name": "stderr",
          "text": [
            "WARNING:tensorflow:Can save best model only with val_acc available, skipping.\n"
          ]
        },
        {
          "output_type": "stream",
          "name": "stdout",
          "text": [
            "\b\b\b\b\b\b\b\b\b\b\b\b\b\b\b\b\b\b\b\b\b\b\b\b\b\b\b\b\b\b\b\b\b\b\b\b\b\b\b\b\b\b\b\b\b\b\b\b\b\b\b\b\b\b\b\b\b\b\b\b\b\b\b\b\b\b\b\b\b\b\b\b\b\b\b\b\b\b\b\b\b\b\b\b\b\b\b\b\r 9/37 [======>.......................] - ETA: 9:24 - loss: 2.2979e-05 - accuracy: 1.0000"
          ]
        },
        {
          "output_type": "stream",
          "name": "stderr",
          "text": [
            "WARNING:tensorflow:Can save best model only with val_acc available, skipping.\n"
          ]
        },
        {
          "output_type": "stream",
          "name": "stdout",
          "text": [
            "\b\b\b\b\b\b\b\b\b\b\b\b\b\b\b\b\b\b\b\b\b\b\b\b\b\b\b\b\b\b\b\b\b\b\b\b\b\b\b\b\b\b\b\b\b\b\b\b\b\b\b\b\b\b\b\b\b\b\b\b\b\b\b\b\b\b\b\b\b\b\b\b\b\b\b\b\b\b\b\b\b\b\b\b\b\b\b\b\r10/37 [=======>......................] - ETA: 9:05 - loss: 2.1954e-05 - accuracy: 1.0000"
          ]
        },
        {
          "output_type": "stream",
          "name": "stderr",
          "text": [
            "WARNING:tensorflow:Can save best model only with val_acc available, skipping.\n"
          ]
        },
        {
          "output_type": "stream",
          "name": "stdout",
          "text": [
            "\b\b\b\b\b\b\b\b\b\b\b\b\b\b\b\b\b\b\b\b\b\b\b\b\b\b\b\b\b\b\b\b\b\b\b\b\b\b\b\b\b\b\b\b\b\b\b\b\b\b\b\b\b\b\b\b\b\b\b\b\b\b\b\b\b\b\b\b\b\b\b\b\b\b\b\b\b\b\b\b\b\b\b\b\b\b\b\b\r11/37 [=======>......................] - ETA: 8:44 - loss: 1.9965e-05 - accuracy: 1.0000"
          ]
        },
        {
          "output_type": "stream",
          "name": "stderr",
          "text": [
            "WARNING:tensorflow:Can save best model only with val_acc available, skipping.\n"
          ]
        },
        {
          "output_type": "stream",
          "name": "stdout",
          "text": [
            "\b\b\b\b\b\b\b\b\b\b\b\b\b\b\b\b\b\b\b\b\b\b\b\b\b\b\b\b\b\b\b\b\b\b\b\b\b\b\b\b\b\b\b\b\b\b\b\b\b\b\b\b\b\b\b\b\b\b\b\b\b\b\b\b\b\b\b\b\b\b\b\b\b\b\b\b\b\b\b\b\b\b\b\b\b\b\b\b\r12/37 [========>.....................] - ETA: 8:24 - loss: 1.8306e-05 - accuracy: 1.0000"
          ]
        },
        {
          "output_type": "stream",
          "name": "stderr",
          "text": [
            "WARNING:tensorflow:Can save best model only with val_acc available, skipping.\n"
          ]
        },
        {
          "output_type": "stream",
          "name": "stdout",
          "text": [
            "\b\b\b\b\b\b\b\b\b\b\b\b\b\b\b\b\b\b\b\b\b\b\b\b\b\b\b\b\b\b\b\b\b\b\b\b\b\b\b\b\b\b\b\b\b\b\b\b\b\b\b\b\b\b\b\b\b\b\b\b\b\b\b\b\b\b\b\b\b\b\b\b\b\b\b\b\b\b\b\b\b\b\b\b\b\b\b\b\r13/37 [=========>....................] - ETA: 8:04 - loss: 1.6898e-05 - accuracy: 1.0000"
          ]
        },
        {
          "output_type": "stream",
          "name": "stderr",
          "text": [
            "WARNING:tensorflow:Can save best model only with val_acc available, skipping.\n"
          ]
        },
        {
          "output_type": "stream",
          "name": "stdout",
          "text": [
            "\b\b\b\b\b\b\b\b\b\b\b\b\b\b\b\b\b\b\b\b\b\b\b\b\b\b\b\b\b\b\b\b\b\b\b\b\b\b\b\b\b\b\b\b\b\b\b\b\b\b\b\b\b\b\b\b\b\b\b\b\b\b\b\b\b\b\b\b\b\b\b\b\b\b\b\b\b\b\b\b\b\b\b\b\b\b\b\b\r14/37 [==========>...................] - ETA: 7:45 - loss: 1.5698e-05 - accuracy: 1.0000"
          ]
        },
        {
          "output_type": "stream",
          "name": "stderr",
          "text": [
            "WARNING:tensorflow:Can save best model only with val_acc available, skipping.\n"
          ]
        },
        {
          "output_type": "stream",
          "name": "stdout",
          "text": [
            "\b\b\b\b\b\b\b\b\b\b\b\b\b\b\b\b\b\b\b\b\b\b\b\b\b\b\b\b\b\b\b\b\b\b\b\b\b\b\b\b\b\b\b\b\b\b\b\b\b\b\b\b\b\b\b\b\b\b\b\b\b\b\b\b\b\b\b\b\b\b\b\b\b\b\b\b\b\b\b\b\b\b\b\b\b\b\b\b\r15/37 [===========>..................] - ETA: 7:24 - loss: 4.7579e-05 - accuracy: 1.0000"
          ]
        },
        {
          "output_type": "stream",
          "name": "stderr",
          "text": [
            "WARNING:tensorflow:Can save best model only with val_acc available, skipping.\n"
          ]
        },
        {
          "output_type": "stream",
          "name": "stdout",
          "text": [
            "\b\b\b\b\b\b\b\b\b\b\b\b\b\b\b\b\b\b\b\b\b\b\b\b\b\b\b\b\b\b\b\b\b\b\b\b\b\b\b\b\b\b\b\b\b\b\b\b\b\b\b\b\b\b\b\b\b\b\b\b\b\b\b\b\b\b\b\b\b\b\b\b\b\b\b\b\b\b\b\b\b\b\b\b\b\b\b\b\r16/37 [===========>..................] - ETA: 7:04 - loss: 6.6074e-05 - accuracy: 1.0000"
          ]
        },
        {
          "output_type": "stream",
          "name": "stderr",
          "text": [
            "WARNING:tensorflow:Can save best model only with val_acc available, skipping.\n"
          ]
        },
        {
          "output_type": "stream",
          "name": "stdout",
          "text": [
            "\b\b\b\b\b\b\b\b\b\b\b\b\b\b\b\b\b\b\b\b\b\b\b\b\b\b\b\b\b\b\b\b\b\b\b\b\b\b\b\b\b\b\b\b\b\b\b\b\b\b\b\b\b\b\b\b\b\b\b\b\b\b\b\b\b\b\b\b\b\b\b\b\b\b\b\b\b\b\b\b\b\b\b\b\b\b\b\b\r17/37 [============>.................] - ETA: 6:44 - loss: 6.2968e-05 - accuracy: 1.0000"
          ]
        },
        {
          "output_type": "stream",
          "name": "stderr",
          "text": [
            "WARNING:tensorflow:Can save best model only with val_acc available, skipping.\n"
          ]
        },
        {
          "output_type": "stream",
          "name": "stdout",
          "text": [
            "\b\b\b\b\b\b\b\b\b\b\b\b\b\b\b\b\b\b\b\b\b\b\b\b\b\b\b\b\b\b\b\b\b\b\b\b\b\b\b\b\b\b\b\b\b\b\b\b\b\b\b\b\b\b\b\b\b\b\b\b\b\b\b\b\b\b\b\b\b\b\b\b\b\b\b\b\b\b\b\b\b\b\b\b\b\b\b\b\r18/37 [=============>................] - ETA: 6:23 - loss: 6.8319e-05 - accuracy: 1.0000"
          ]
        },
        {
          "output_type": "stream",
          "name": "stderr",
          "text": [
            "WARNING:tensorflow:Can save best model only with val_acc available, skipping.\n"
          ]
        },
        {
          "output_type": "stream",
          "name": "stdout",
          "text": [
            "\b\b\b\b\b\b\b\b\b\b\b\b\b\b\b\b\b\b\b\b\b\b\b\b\b\b\b\b\b\b\b\b\b\b\b\b\b\b\b\b\b\b\b\b\b\b\b\b\b\b\b\b\b\b\b\b\b\b\b\b\b\b\b\b\b\b\b\b\b\b\b\b\b\b\b\b\b\b\b\b\b\b\b\b\b\b\b\b\r19/37 [==============>...............] - ETA: 6:03 - loss: 6.6246e-05 - accuracy: 1.0000"
          ]
        },
        {
          "output_type": "stream",
          "name": "stderr",
          "text": [
            "WARNING:tensorflow:Can save best model only with val_acc available, skipping.\n"
          ]
        },
        {
          "output_type": "stream",
          "name": "stdout",
          "text": [
            "\b\b\b\b\b\b\b\b\b\b\b\b\b\b\b\b\b\b\b\b\b\b\b\b\b\b\b\b\b\b\b\b\b\b\b\b\b\b\b\b\b\b\b\b\b\b\b\b\b\b\b\b\b\b\b\b\b\b\b\b\b\b\b\b\b\b\b\b\b\b\b\b\b\b\b\b\b\b\b\b\b\b\b\b\b\b\b\b\r20/37 [===============>..............] - ETA: 5:43 - loss: 6.3220e-05 - accuracy: 1.0000"
          ]
        },
        {
          "output_type": "stream",
          "name": "stderr",
          "text": [
            "WARNING:tensorflow:Can save best model only with val_acc available, skipping.\n"
          ]
        },
        {
          "output_type": "stream",
          "name": "stdout",
          "text": [
            "\b\b\b\b\b\b\b\b\b\b\b\b\b\b\b\b\b\b\b\b\b\b\b\b\b\b\b\b\b\b\b\b\b\b\b\b\b\b\b\b\b\b\b\b\b\b\b\b\b\b\b\b\b\b\b\b\b\b\b\b\b\b\b\b\b\b\b\b\b\b\b\b\b\b\b\b\b\b\b\b\b\b\b\b\b\b\b\b\r21/37 [================>.............] - ETA: 5:23 - loss: 6.0210e-05 - accuracy: 1.0000"
          ]
        },
        {
          "output_type": "stream",
          "name": "stderr",
          "text": [
            "WARNING:tensorflow:Can save best model only with val_acc available, skipping.\n"
          ]
        },
        {
          "output_type": "stream",
          "name": "stdout",
          "text": [
            "\b\b\b\b\b\b\b\b\b\b\b\b\b\b\b\b\b\b\b\b\b\b\b\b\b\b\b\b\b\b\b\b\b\b\b\b\b\b\b\b\b\b\b\b\b\b\b\b\b\b\b\b\b\b\b\b\b\b\b\b\b\b\b\b\b\b\b\b\b\b\b\b\b\b\b\b\b\b\b\b\b\b\b\b\b\b\b\b\r22/37 [================>.............] - ETA: 5:03 - loss: 5.7483e-05 - accuracy: 1.0000"
          ]
        },
        {
          "output_type": "stream",
          "name": "stderr",
          "text": [
            "WARNING:tensorflow:Can save best model only with val_acc available, skipping.\n"
          ]
        },
        {
          "output_type": "stream",
          "name": "stdout",
          "text": [
            "\b\b\b\b\b\b\b\b\b\b\b\b\b\b\b\b\b\b\b\b\b\b\b\b\b\b\b\b\b\b\b\b\b\b\b\b\b\b\b\b\b\b\b\b\b\b\b\b\b\b\b\b\b\b\b\b\b\b\b\b\b\b\b\b\b\b\b\b\b\b\b\b\b\b\b\b\b\b\b\b\b\b\b\b\b\b\b\b\r23/37 [=================>............] - ETA: 4:43 - loss: 5.4984e-05 - accuracy: 1.0000"
          ]
        },
        {
          "output_type": "stream",
          "name": "stderr",
          "text": [
            "WARNING:tensorflow:Can save best model only with val_acc available, skipping.\n"
          ]
        },
        {
          "output_type": "stream",
          "name": "stdout",
          "text": [
            "\b\b\b\b\b\b\b\b\b\b\b\b\b\b\b\b\b\b\b\b\b\b\b\b\b\b\b\b\b\b\b\b\b\b\b\b\b\b\b\b\b\b\b\b\b\b\b\b\b\b\b\b\b\b\b\b\b\b\b\b\b\b\b\b\b\b\b\b\b\b\b\b\b\b\b\b\b\b\b\b\b\b\b\b\b\b\b\b\r24/37 [==================>...........] - ETA: 4:23 - loss: 5.2693e-05 - accuracy: 1.0000"
          ]
        },
        {
          "output_type": "stream",
          "name": "stderr",
          "text": [
            "WARNING:tensorflow:Can save best model only with val_acc available, skipping.\n"
          ]
        },
        {
          "output_type": "stream",
          "name": "stdout",
          "text": [
            "\b\b\b\b\b\b\b\b\b\b\b\b\b\b\b\b\b\b\b\b\b\b\b\b\b\b\b\b\b\b\b\b\b\b\b\b\b\b\b\b\b\b\b\b\b\b\b\b\b\b\b\b\b\b\b\b\b\b\b\b\b\b\b\b\b\b\b\b\b\b\b\b\b\b\b\b\b\b\b\b\b\b\b\b\b\b\b\b\r25/37 [===================>..........] - ETA: 4:02 - loss: 5.0606e-05 - accuracy: 1.0000"
          ]
        },
        {
          "output_type": "stream",
          "name": "stderr",
          "text": [
            "WARNING:tensorflow:Can save best model only with val_acc available, skipping.\n"
          ]
        },
        {
          "output_type": "stream",
          "name": "stdout",
          "text": [
            "\b\b\b\b\b\b\b\b\b\b\b\b\b\b\b\b\b\b\b\b\b\b\b\b\b\b\b\b\b\b\b\b\b\b\b\b\b\b\b\b\b\b\b\b\b\b\b\b\b\b\b\b\b\b\b\b\b\b\b\b\b\b\b\b\b\b\b\b\b\b\b\b\b\b\b\b\b\b\b\b\b\b\b\b\b\b\b\b\r26/37 [====================>.........] - ETA: 3:42 - loss: 5.0672e-05 - accuracy: 1.0000"
          ]
        },
        {
          "output_type": "stream",
          "name": "stderr",
          "text": [
            "WARNING:tensorflow:Can save best model only with val_acc available, skipping.\n"
          ]
        },
        {
          "output_type": "stream",
          "name": "stdout",
          "text": [
            "\b\b\b\b\b\b\b\b\b\b\b\b\b\b\b\b\b\b\b\b\b\b\b\b\b\b\b\b\b\b\b\b\b\b\b\b\b\b\b\b\b\b\b\b\b\b\b\b\b\b\b\b\b\b\b\b\b\b\b\b\b\b\b\b\b\b\b\b\b\b\b\b\b\b\b\b\b\b\b\b\b\b\b\b\b\b\b\b\r27/37 [====================>.........] - ETA: 3:22 - loss: 4.8830e-05 - accuracy: 1.0000"
          ]
        },
        {
          "output_type": "stream",
          "name": "stderr",
          "text": [
            "WARNING:tensorflow:Can save best model only with val_acc available, skipping.\n"
          ]
        },
        {
          "output_type": "stream",
          "name": "stdout",
          "text": [
            "\b\b\b\b\b\b\b\b\b\b\b\b\b\b\b\b\b\b\b\b\b\b\b\b\b\b\b\b\b\b\b\b\b\b\b\b\b\b\b\b\b\b\b\b\b\b\b\b\b\b\b\b\b\b\b\b\b\b\b\b\b\b\b\b\b\b\b\b\b\b\b\b\b\b\b\b\b\b\b\b\b\b\b\b\b\b\b\b\r28/37 [=====================>........] - ETA: 3:01 - loss: 4.7115e-05 - accuracy: 1.0000"
          ]
        },
        {
          "output_type": "stream",
          "name": "stderr",
          "text": [
            "WARNING:tensorflow:Can save best model only with val_acc available, skipping.\n"
          ]
        },
        {
          "output_type": "stream",
          "name": "stdout",
          "text": [
            "\b\b\b\b\b\b\b\b\b\b\b\b\b\b\b\b\b\b\b\b\b\b\b\b\b\b\b\b\b\b\b\b\b\b\b\b\b\b\b\b\b\b\b\b\b\b\b\b\b\b\b\b\b\b\b\b\b\b\b\b\b\b\b\b\b\b\b\b\b\b\b\b\b\b\b\b\b\b\b\b\b\b\b\b\b\b\b\b\r29/37 [======================>.......] - ETA: 2:41 - loss: 4.5502e-05 - accuracy: 1.0000"
          ]
        },
        {
          "output_type": "stream",
          "name": "stderr",
          "text": [
            "WARNING:tensorflow:Can save best model only with val_acc available, skipping.\n"
          ]
        },
        {
          "output_type": "stream",
          "name": "stdout",
          "text": [
            "\b\b\b\b\b\b\b\b\b\b\b\b\b\b\b\b\b\b\b\b\b\b\b\b\b\b\b\b\b\b\b\b\b\b\b\b\b\b\b\b\b\b\b\b\b\b\b\b\b\b\b\b\b\b\b\b\b\b\b\b\b\b\b\b\b\b\b\b\b\b\b\b\b\b\b\b\b\b\b\b\b\b\b\b\b\b\b\b\r30/37 [=======================>......] - ETA: 2:21 - loss: 4.3986e-05 - accuracy: 1.0000"
          ]
        },
        {
          "output_type": "stream",
          "name": "stderr",
          "text": [
            "WARNING:tensorflow:Can save best model only with val_acc available, skipping.\n"
          ]
        },
        {
          "output_type": "stream",
          "name": "stdout",
          "text": [
            "\b\b\b\b\b\b\b\b\b\b\b\b\b\b\b\b\b\b\b\b\b\b\b\b\b\b\b\b\b\b\b\b\b\b\b\b\b\b\b\b\b\b\b\b\b\b\b\b\b\b\b\b\b\b\b\b\b\b\b\b\b\b\b\b\b\b\b\b\b\b\b\b\b\b\b\b\b\b\b\b\b\b\b\b\b\b\b\b\r31/37 [========================>.....] - ETA: 2:01 - loss: 4.2569e-05 - accuracy: 1.0000"
          ]
        },
        {
          "output_type": "stream",
          "name": "stderr",
          "text": [
            "WARNING:tensorflow:Can save best model only with val_acc available, skipping.\n"
          ]
        },
        {
          "output_type": "stream",
          "name": "stdout",
          "text": [
            "\b\b\b\b\b\b\b\b\b\b\b\b\b\b\b\b\b\b\b\b\b\b\b\b\b\b\b\b\b\b\b\b\b\b\b\b\b\b\b\b\b\b\b\b\b\b\b\b\b\b\b\b\b\b\b\b\b\b\b\b\b\b\b\b\b\b\b\b\b\b\b\b\b\b\b\b\b\b\b\b\b\b\b\b\b\b\b\b\r32/37 [========================>.....] - ETA: 1:41 - loss: 4.1547e-05 - accuracy: 1.0000"
          ]
        },
        {
          "output_type": "stream",
          "name": "stderr",
          "text": [
            "WARNING:tensorflow:Can save best model only with val_acc available, skipping.\n"
          ]
        },
        {
          "output_type": "stream",
          "name": "stdout",
          "text": [
            "\b\b\b\b\b\b\b\b\b\b\b\b\b\b\b\b\b\b\b\b\b\b\b\b\b\b\b\b\b\b\b\b\b\b\b\b\b\b\b\b\b\b\b\b\b\b\b\b\b\b\b\b\b\b\b\b\b\b\b\b\b\b\b\b\b\b\b\b\b\b\b\b\b\b\b\b\b\b\b\b\b\b\b\b\b\b\b\b\r33/37 [=========================>....] - ETA: 1:20 - loss: 4.1476e-05 - accuracy: 1.0000"
          ]
        },
        {
          "output_type": "stream",
          "name": "stderr",
          "text": [
            "WARNING:tensorflow:Can save best model only with val_acc available, skipping.\n"
          ]
        },
        {
          "output_type": "stream",
          "name": "stdout",
          "text": [
            "\b\b\b\b\b\b\b\b\b\b\b\b\b\b\b\b\b\b\b\b\b\b\b\b\b\b\b\b\b\b\b\b\b\b\b\b\b\b\b\b\b\b\b\b\b\b\b\b\b\b\b\b\b\b\b\b\b\b\b\b\b\b\b\b\b\b\b\b\b\b\b\b\b\b\b\b\b\b\b\b\b\b\b\b\b\b\b\b\r34/37 [==========================>...] - ETA: 1:00 - loss: 4.0398e-05 - accuracy: 1.0000"
          ]
        },
        {
          "output_type": "stream",
          "name": "stderr",
          "text": [
            "WARNING:tensorflow:Can save best model only with val_acc available, skipping.\n"
          ]
        },
        {
          "output_type": "stream",
          "name": "stdout",
          "text": [
            "\b\b\b\b\b\b\b\b\b\b\b\b\b\b\b\b\b\b\b\b\b\b\b\b\b\b\b\b\b\b\b\b\b\b\b\b\b\b\b\b\b\b\b\b\b\b\b\b\b\b\b\b\b\b\b\b\b\b\b\b\b\b\b\b\b\b\b\b\b\b\b\b\b\b\b\b\b\b\b\b\b\b\b\b\b\b\b\b\r35/37 [===========================>..] - ETA: 40s - loss: 3.9406e-05 - accuracy: 1.0000 "
          ]
        },
        {
          "output_type": "stream",
          "name": "stderr",
          "text": [
            "WARNING:tensorflow:Can save best model only with val_acc available, skipping.\n"
          ]
        },
        {
          "output_type": "stream",
          "name": "stdout",
          "text": [
            "\b\b\b\b\b\b\b\b\b\b\b\b\b\b\b\b\b\b\b\b\b\b\b\b\b\b\b\b\b\b\b\b\b\b\b\b\b\b\b\b\b\b\b\b\b\b\b\b\b\b\b\b\b\b\b\b\b\b\b\b\b\b\b\b\b\b\b\b\b\b\b\b\b\b\b\b\b\b\b\b\b\b\b\b\b\b\b\r36/37 [============================>.] - ETA: 20s - loss: 3.8311e-05 - accuracy: 1.0000"
          ]
        },
        {
          "output_type": "stream",
          "name": "stderr",
          "text": [
            "WARNING:tensorflow:Can save best model only with val_acc available, skipping.\n"
          ]
        },
        {
          "output_type": "stream",
          "name": "stdout",
          "text": [
            "\b\b\b\b\b\b\b\b\b\b\b\b\b\b\b\b\b\b\b\b\b\b\b\b\b\b\b\b\b\b\b\b\b\b\b\b\b\b\b\b\b\b\b\b\b\b\b\b\b\b\b\b\b\b\b\b\b\b\b\b\b\b\b\b\b\b\b\b\b\b\b\b\b\b\b\b\b\b\b\b\b\b\b\b\b\b\b\r37/37 [==============================] - ETA: 0s - loss: 3.8019e-05 - accuracy: 1.0000 "
          ]
        },
        {
          "output_type": "stream",
          "name": "stderr",
          "text": [
            "WARNING:tensorflow:Early stopping conditioned on metric `val_acc` which is not available. Available metrics are: loss,accuracy,val_loss,val_accuracy\n"
          ]
        },
        {
          "output_type": "stream",
          "name": "stdout",
          "text": [
            "\b\b\b\b\b\b\b\b\b\b\b\b\b\b\b\b\b\b\b\b\b\b\b\b\b\b\b\b\b\b\b\b\b\b\b\b\b\b\b\b\b\b\b\b\b\b\b\b\b\b\b\b\b\b\b\b\b\b\b\b\b\b\b\b\b\b\b\b\b\b\b\b\b\b\b\b\b\b\b\b\b\b\b\b\b\b\r37/37 [==============================] - 935s 25s/step - loss: 3.8019e-05 - accuracy: 1.0000 - val_loss: 0.0286 - val_accuracy: 0.9931\n",
            "Epoch 12/15\n"
          ]
        },
        {
          "output_type": "stream",
          "name": "stderr",
          "text": [
            "WARNING:tensorflow:Can save best model only with val_acc available, skipping.\n"
          ]
        },
        {
          "output_type": "stream",
          "name": "stdout",
          "text": [
            "\r 1/37 [..............................] - ETA: 12:19 - loss: 8.2574e-07 - accuracy: 1.0000"
          ]
        },
        {
          "output_type": "stream",
          "name": "stderr",
          "text": [
            "WARNING:tensorflow:Can save best model only with val_acc available, skipping.\n"
          ]
        },
        {
          "output_type": "stream",
          "name": "stdout",
          "text": [
            "\b\b\b\b\b\b\b\b\b\b\b\b\b\b\b\b\b\b\b\b\b\b\b\b\b\b\b\b\b\b\b\b\b\b\b\b\b\b\b\b\b\b\b\b\b\b\b\b\b\b\b\b\b\b\b\b\b\b\b\b\b\b\b\b\b\b\b\b\b\b\b\b\b\b\b\b\b\b\b\b\b\b\b\b\b\b\b\b\b\r 2/37 [>.............................] - ETA: 11:54 - loss: 4.1465e-07 - accuracy: 1.0000"
          ]
        },
        {
          "output_type": "stream",
          "name": "stderr",
          "text": [
            "WARNING:tensorflow:Can save best model only with val_acc available, skipping.\n"
          ]
        },
        {
          "output_type": "stream",
          "name": "stdout",
          "text": [
            "\b\b\b\b\b\b\b\b\b\b\b\b\b\b\b\b\b\b\b\b\b\b\b\b\b\b\b\b\b\b\b\b\b\b\b\b\b\b\b\b\b\b\b\b\b\b\b\b\b\b\b\b\b\b\b\b\b\b\b\b\b\b\b\b\b\b\b\b\b\b\b\b\b\b\b\b\b\b\b\b\b\b\b\b\b\b\b\b\b\r 3/37 [=>............................] - ETA: 11:21 - loss: 2.9053e-07 - accuracy: 1.0000"
          ]
        },
        {
          "output_type": "stream",
          "name": "stderr",
          "text": [
            "WARNING:tensorflow:Can save best model only with val_acc available, skipping.\n"
          ]
        },
        {
          "output_type": "stream",
          "name": "stdout",
          "text": [
            "\b\b\b\b\b\b\b\b\b\b\b\b\b\b\b\b\b\b\b\b\b\b\b\b\b\b\b\b\b\b\b\b\b\b\b\b\b\b\b\b\b\b\b\b\b\b\b\b\b\b\b\b\b\b\b\b\b\b\b\b\b\b\b\b\b\b\b\b\b\b\b\b\b\b\b\b\b\b\b\b\b\b\b\b\b\b\b\b\b\r 4/37 [==>...........................] - ETA: 11:06 - loss: 2.0321e-05 - accuracy: 1.0000"
          ]
        },
        {
          "output_type": "stream",
          "name": "stderr",
          "text": [
            "WARNING:tensorflow:Can save best model only with val_acc available, skipping.\n"
          ]
        },
        {
          "output_type": "stream",
          "name": "stdout",
          "text": [
            "\b\b\b\b\b\b\b\b\b\b\b\b\b\b\b\b\b\b\b\b\b\b\b\b\b\b\b\b\b\b\b\b\b\b\b\b\b\b\b\b\b\b\b\b\b\b\b\b\b\b\b\b\b\b\b\b\b\b\b\b\b\b\b\b\b\b\b\b\b\b\b\b\b\b\b\b\b\b\b\b\b\b\b\b\b\b\b\b\b\r 5/37 [===>..........................] - ETA: 10:48 - loss: 1.6286e-05 - accuracy: 1.0000"
          ]
        },
        {
          "output_type": "stream",
          "name": "stderr",
          "text": [
            "WARNING:tensorflow:Can save best model only with val_acc available, skipping.\n"
          ]
        },
        {
          "output_type": "stream",
          "name": "stdout",
          "text": [
            "\b\b\b\b\b\b\b\b\b\b\b\b\b\b\b\b\b\b\b\b\b\b\b\b\b\b\b\b\b\b\b\b\b\b\b\b\b\b\b\b\b\b\b\b\b\b\b\b\b\b\b\b\b\b\b\b\b\b\b\b\b\b\b\b\b\b\b\b\b\b\b\b\b\b\b\b\b\b\b\b\b\b\b\b\b\b\b\b\b\r 6/37 [===>..........................] - ETA: 10:27 - loss: 1.3624e-05 - accuracy: 1.0000"
          ]
        },
        {
          "output_type": "stream",
          "name": "stderr",
          "text": [
            "WARNING:tensorflow:Can save best model only with val_acc available, skipping.\n"
          ]
        },
        {
          "output_type": "stream",
          "name": "stdout",
          "text": [
            "\b\b\b\b\b\b\b\b\b\b\b\b\b\b\b\b\b\b\b\b\b\b\b\b\b\b\b\b\b\b\b\b\b\b\b\b\b\b\b\b\b\b\b\b\b\b\b\b\b\b\b\b\b\b\b\b\b\b\b\b\b\b\b\b\b\b\b\b\b\b\b\b\b\b\b\b\b\b\b\b\b\b\b\b\b\b\b\b\b\r 7/37 [====>.........................] - ETA: 10:06 - loss: 1.1953e-05 - accuracy: 1.0000"
          ]
        },
        {
          "output_type": "stream",
          "name": "stderr",
          "text": [
            "WARNING:tensorflow:Can save best model only with val_acc available, skipping.\n"
          ]
        },
        {
          "output_type": "stream",
          "name": "stdout",
          "text": [
            "\b\b\b\b\b\b\b\b\b\b\b\b\b\b\b\b\b\b\b\b\b\b\b\b\b\b\b\b\b\b\b\b\b\b\b\b\b\b\b\b\b\b\b\b\b\b\b\b\b\b\b\b\b\b\b\b\b\b\b\b\b\b\b\b\b\b\b\b\b\b\b\b\b\b\b\b\b\b\b\b\b\b\b\b\b\b\b\b\b\r 8/37 [=====>........................] - ETA: 9:47 - loss: 1.1640e-05 - accuracy: 1.0000 "
          ]
        },
        {
          "output_type": "stream",
          "name": "stderr",
          "text": [
            "WARNING:tensorflow:Can save best model only with val_acc available, skipping.\n"
          ]
        },
        {
          "output_type": "stream",
          "name": "stdout",
          "text": [
            "\b\b\b\b\b\b\b\b\b\b\b\b\b\b\b\b\b\b\b\b\b\b\b\b\b\b\b\b\b\b\b\b\b\b\b\b\b\b\b\b\b\b\b\b\b\b\b\b\b\b\b\b\b\b\b\b\b\b\b\b\b\b\b\b\b\b\b\b\b\b\b\b\b\b\b\b\b\b\b\b\b\b\b\b\b\b\b\b\r 9/37 [======>.......................] - ETA: 9:27 - loss: 1.0346e-05 - accuracy: 1.0000"
          ]
        },
        {
          "output_type": "stream",
          "name": "stderr",
          "text": [
            "WARNING:tensorflow:Can save best model only with val_acc available, skipping.\n"
          ]
        },
        {
          "output_type": "stream",
          "name": "stdout",
          "text": [
            "\b\b\b\b\b\b\b\b\b\b\b\b\b\b\b\b\b\b\b\b\b\b\b\b\b\b\b\b\b\b\b\b\b\b\b\b\b\b\b\b\b\b\b\b\b\b\b\b\b\b\b\b\b\b\b\b\b\b\b\b\b\b\b\b\b\b\b\b\b\b\b\b\b\b\b\b\b\b\b\b\b\b\b\b\b\b\b\b\r10/37 [=======>......................] - ETA: 9:05 - loss: 9.4249e-06 - accuracy: 1.0000"
          ]
        },
        {
          "output_type": "stream",
          "name": "stderr",
          "text": [
            "WARNING:tensorflow:Can save best model only with val_acc available, skipping.\n"
          ]
        },
        {
          "output_type": "stream",
          "name": "stdout",
          "text": [
            "\b\b\b\b\b\b\b\b\b\b\b\b\b\b\b\b\b\b\b\b\b\b\b\b\b\b\b\b\b\b\b\b\b\b\b\b\b\b\b\b\b\b\b\b\b\b\b\b\b\b\b\b\b\b\b\b\b\b\b\b\b\b\b\b\b\b\b\b\b\b\b\b\b\b\b\b\b\b\b\b\b\b\b\b\b\b\b\b\r11/37 [=======>......................] - ETA: 8:46 - loss: 8.5681e-06 - accuracy: 1.0000"
          ]
        },
        {
          "output_type": "stream",
          "name": "stderr",
          "text": [
            "WARNING:tensorflow:Can save best model only with val_acc available, skipping.\n"
          ]
        },
        {
          "output_type": "stream",
          "name": "stdout",
          "text": [
            "\b\b\b\b\b\b\b\b\b\b\b\b\b\b\b\b\b\b\b\b\b\b\b\b\b\b\b\b\b\b\b\b\b\b\b\b\b\b\b\b\b\b\b\b\b\b\b\b\b\b\b\b\b\b\b\b\b\b\b\b\b\b\b\b\b\b\b\b\b\b\b\b\b\b\b\b\b\b\b\b\b\b\b\b\b\b\b\b\r12/37 [========>.....................] - ETA: 8:26 - loss: 8.8123e-06 - accuracy: 1.0000"
          ]
        },
        {
          "output_type": "stream",
          "name": "stderr",
          "text": [
            "WARNING:tensorflow:Can save best model only with val_acc available, skipping.\n"
          ]
        },
        {
          "output_type": "stream",
          "name": "stdout",
          "text": [
            "\b\b\b\b\b\b\b\b\b\b\b\b\b\b\b\b\b\b\b\b\b\b\b\b\b\b\b\b\b\b\b\b\b\b\b\b\b\b\b\b\b\b\b\b\b\b\b\b\b\b\b\b\b\b\b\b\b\b\b\b\b\b\b\b\b\b\b\b\b\b\b\b\b\b\b\b\b\b\b\b\b\b\b\b\b\b\b\b\r13/37 [=========>....................] - ETA: 8:05 - loss: 8.2051e-06 - accuracy: 1.0000"
          ]
        },
        {
          "output_type": "stream",
          "name": "stderr",
          "text": [
            "WARNING:tensorflow:Can save best model only with val_acc available, skipping.\n"
          ]
        },
        {
          "output_type": "stream",
          "name": "stdout",
          "text": [
            "\b\b\b\b\b\b\b\b\b\b\b\b\b\b\b\b\b\b\b\b\b\b\b\b\b\b\b\b\b\b\b\b\b\b\b\b\b\b\b\b\b\b\b\b\b\b\b\b\b\b\b\b\b\b\b\b\b\b\b\b\b\b\b\b\b\b\b\b\b\b\b\b\b\b\b\b\b\b\b\b\b\b\b\b\b\b\b\b\r14/37 [==========>...................] - ETA: 7:45 - loss: 7.6230e-06 - accuracy: 1.0000"
          ]
        },
        {
          "output_type": "stream",
          "name": "stderr",
          "text": [
            "WARNING:tensorflow:Can save best model only with val_acc available, skipping.\n"
          ]
        },
        {
          "output_type": "stream",
          "name": "stdout",
          "text": [
            "\b\b\b\b\b\b\b\b\b\b\b\b\b\b\b\b\b\b\b\b\b\b\b\b\b\b\b\b\b\b\b\b\b\b\b\b\b\b\b\b\b\b\b\b\b\b\b\b\b\b\b\b\b\b\b\b\b\b\b\b\b\b\b\b\b\b\b\b\b\b\b\b\b\b\b\b\b\b\b\b\b\b\b\b\b\b\b\b\r15/37 [===========>..................] - ETA: 7:25 - loss: 1.0017e-05 - accuracy: 1.0000"
          ]
        },
        {
          "output_type": "stream",
          "name": "stderr",
          "text": [
            "WARNING:tensorflow:Can save best model only with val_acc available, skipping.\n"
          ]
        },
        {
          "output_type": "stream",
          "name": "stdout",
          "text": [
            "\b\b\b\b\b\b\b\b\b\b\b\b\b\b\b\b\b\b\b\b\b\b\b\b\b\b\b\b\b\b\b\b\b\b\b\b\b\b\b\b\b\b\b\b\b\b\b\b\b\b\b\b\b\b\b\b\b\b\b\b\b\b\b\b\b\b\b\b\b\b\b\b\b\b\b\b\b\b\b\b\b\b\b\b\b\b\b\b\r16/37 [===========>..................] - ETA: 7:05 - loss: 9.6050e-06 - accuracy: 1.0000"
          ]
        },
        {
          "output_type": "stream",
          "name": "stderr",
          "text": [
            "WARNING:tensorflow:Can save best model only with val_acc available, skipping.\n"
          ]
        },
        {
          "output_type": "stream",
          "name": "stdout",
          "text": [
            "\b\b\b\b\b\b\b\b\b\b\b\b\b\b\b\b\b\b\b\b\b\b\b\b\b\b\b\b\b\b\b\b\b\b\b\b\b\b\b\b\b\b\b\b\b\b\b\b\b\b\b\b\b\b\b\b\b\b\b\b\b\b\b\b\b\b\b\b\b\b\b\b\b\b\b\b\b\b\b\b\b\b\b\b\b\b\b\b\r17/37 [============>.................] - ETA: 6:44 - loss: 9.0400e-06 - accuracy: 1.0000"
          ]
        },
        {
          "output_type": "stream",
          "name": "stderr",
          "text": [
            "WARNING:tensorflow:Can save best model only with val_acc available, skipping.\n"
          ]
        },
        {
          "output_type": "stream",
          "name": "stdout",
          "text": [
            "\b\b\b\b\b\b\b\b\b\b\b\b\b\b\b\b\b\b\b\b\b\b\b\b\b\b\b\b\b\b\b\b\b\b\b\b\b\b\b\b\b\b\b\b\b\b\b\b\b\b\b\b\b\b\b\b\b\b\b\b\b\b\b\b\b\b\b\b\b\b\b\b\b\b\b\b\b\b\b\b\b\b\b\b\b\b\b\b\r18/37 [=============>................] - ETA: 6:24 - loss: 8.5596e-06 - accuracy: 1.0000"
          ]
        },
        {
          "output_type": "stream",
          "name": "stderr",
          "text": [
            "WARNING:tensorflow:Can save best model only with val_acc available, skipping.\n"
          ]
        },
        {
          "output_type": "stream",
          "name": "stdout",
          "text": [
            "\b\b\b\b\b\b\b\b\b\b\b\b\b\b\b\b\b\b\b\b\b\b\b\b\b\b\b\b\b\b\b\b\b\b\b\b\b\b\b\b\b\b\b\b\b\b\b\b\b\b\b\b\b\b\b\b\b\b\b\b\b\b\b\b\b\b\b\b\b\b\b\b\b\b\b\b\b\b\b\b\b\b\b\b\b\b\b\b\r19/37 [==============>...............] - ETA: 6:04 - loss: 1.0037e-05 - accuracy: 1.0000"
          ]
        },
        {
          "output_type": "stream",
          "name": "stderr",
          "text": [
            "WARNING:tensorflow:Can save best model only with val_acc available, skipping.\n"
          ]
        },
        {
          "output_type": "stream",
          "name": "stdout",
          "text": [
            "\b\b\b\b\b\b\b\b\b\b\b\b\b\b\b\b\b\b\b\b\b\b\b\b\b\b\b\b\b\b\b\b\b\b\b\b\b\b\b\b\b\b\b\b\b\b\b\b\b\b\b\b\b\b\b\b\b\b\b\b\b\b\b\b\b\b\b\b\b\b\b\b\b\b\b\b\b\b\b\b\b\b\b\b\b\b\b\b\r20/37 [===============>..............] - ETA: 5:43 - loss: 9.5358e-06 - accuracy: 1.0000"
          ]
        },
        {
          "output_type": "stream",
          "name": "stderr",
          "text": [
            "WARNING:tensorflow:Can save best model only with val_acc available, skipping.\n"
          ]
        },
        {
          "output_type": "stream",
          "name": "stdout",
          "text": [
            "\b\b\b\b\b\b\b\b\b\b\b\b\b\b\b\b\b\b\b\b\b\b\b\b\b\b\b\b\b\b\b\b\b\b\b\b\b\b\b\b\b\b\b\b\b\b\b\b\b\b\b\b\b\b\b\b\b\b\b\b\b\b\b\b\b\b\b\b\b\b\b\b\b\b\b\b\b\b\b\b\b\b\b\b\b\b\b\b\r21/37 [================>.............] - ETA: 5:23 - loss: 9.1036e-06 - accuracy: 1.0000"
          ]
        },
        {
          "output_type": "stream",
          "name": "stderr",
          "text": [
            "WARNING:tensorflow:Can save best model only with val_acc available, skipping.\n"
          ]
        },
        {
          "output_type": "stream",
          "name": "stdout",
          "text": [
            "\b\b\b\b\b\b\b\b\b\b\b\b\b\b\b\b\b\b\b\b\b\b\b\b\b\b\b\b\b\b\b\b\b\b\b\b\b\b\b\b\b\b\b\b\b\b\b\b\b\b\b\b\b\b\b\b\b\b\b\b\b\b\b\b\b\b\b\b\b\b\b\b\b\b\b\b\b\b\b\b\b\b\b\b\b\b\b\b\r22/37 [================>.............] - ETA: 5:03 - loss: 1.4831e-05 - accuracy: 1.0000"
          ]
        },
        {
          "output_type": "stream",
          "name": "stderr",
          "text": [
            "WARNING:tensorflow:Can save best model only with val_acc available, skipping.\n"
          ]
        },
        {
          "output_type": "stream",
          "name": "stdout",
          "text": [
            "\b\b\b\b\b\b\b\b\b\b\b\b\b\b\b\b\b\b\b\b\b\b\b\b\b\b\b\b\b\b\b\b\b\b\b\b\b\b\b\b\b\b\b\b\b\b\b\b\b\b\b\b\b\b\b\b\b\b\b\b\b\b\b\b\b\b\b\b\b\b\b\b\b\b\b\b\b\b\b\b\b\b\b\b\b\b\b\b\r23/37 [=================>............] - ETA: 4:43 - loss: 1.8518e-05 - accuracy: 1.0000"
          ]
        },
        {
          "output_type": "stream",
          "name": "stderr",
          "text": [
            "WARNING:tensorflow:Can save best model only with val_acc available, skipping.\n"
          ]
        },
        {
          "output_type": "stream",
          "name": "stdout",
          "text": [
            "\b\b\b\b\b\b\b\b\b\b\b\b\b\b\b\b\b\b\b\b\b\b\b\b\b\b\b\b\b\b\b\b\b\b\b\b\b\b\b\b\b\b\b\b\b\b\b\b\b\b\b\b\b\b\b\b\b\b\b\b\b\b\b\b\b\b\b\b\b\b\b\b\b\b\b\b\b\b\b\b\b\b\b\b\b\b\b\b\r24/37 [==================>...........] - ETA: 4:23 - loss: 2.8246e-05 - accuracy: 1.0000"
          ]
        },
        {
          "output_type": "stream",
          "name": "stderr",
          "text": [
            "WARNING:tensorflow:Can save best model only with val_acc available, skipping.\n"
          ]
        },
        {
          "output_type": "stream",
          "name": "stdout",
          "text": [
            "\b\b\b\b\b\b\b\b\b\b\b\b\b\b\b\b\b\b\b\b\b\b\b\b\b\b\b\b\b\b\b\b\b\b\b\b\b\b\b\b\b\b\b\b\b\b\b\b\b\b\b\b\b\b\b\b\b\b\b\b\b\b\b\b\b\b\b\b\b\b\b\b\b\b\b\b\b\b\b\b\b\b\b\b\b\b\b\b\r25/37 [===================>..........] - ETA: 4:02 - loss: 2.7187e-05 - accuracy: 1.0000"
          ]
        },
        {
          "output_type": "stream",
          "name": "stderr",
          "text": [
            "WARNING:tensorflow:Can save best model only with val_acc available, skipping.\n"
          ]
        },
        {
          "output_type": "stream",
          "name": "stdout",
          "text": [
            "\b\b\b\b\b\b\b\b\b\b\b\b\b\b\b\b\b\b\b\b\b\b\b\b\b\b\b\b\b\b\b\b\b\b\b\b\b\b\b\b\b\b\b\b\b\b\b\b\b\b\b\b\b\b\b\b\b\b\b\b\b\b\b\b\b\b\b\b\b\b\b\b\b\b\b\b\b\b\b\b\b\b\b\b\b\b\b\b\r26/37 [====================>.........] - ETA: 3:42 - loss: 2.7289e-05 - accuracy: 1.0000"
          ]
        },
        {
          "output_type": "stream",
          "name": "stderr",
          "text": [
            "WARNING:tensorflow:Can save best model only with val_acc available, skipping.\n"
          ]
        },
        {
          "output_type": "stream",
          "name": "stdout",
          "text": [
            "\b\b\b\b\b\b\b\b\b\b\b\b\b\b\b\b\b\b\b\b\b\b\b\b\b\b\b\b\b\b\b\b\b\b\b\b\b\b\b\b\b\b\b\b\b\b\b\b\b\b\b\b\b\b\b\b\b\b\b\b\b\b\b\b\b\b\b\b\b\b\b\b\b\b\b\b\b\b\b\b\b\b\b\b\b\b\b\b\r27/37 [====================>.........] - ETA: 3:22 - loss: 2.7146e-05 - accuracy: 1.0000"
          ]
        },
        {
          "output_type": "stream",
          "name": "stderr",
          "text": [
            "WARNING:tensorflow:Can save best model only with val_acc available, skipping.\n"
          ]
        },
        {
          "output_type": "stream",
          "name": "stdout",
          "text": [
            "\b\b\b\b\b\b\b\b\b\b\b\b\b\b\b\b\b\b\b\b\b\b\b\b\b\b\b\b\b\b\b\b\b\b\b\b\b\b\b\b\b\b\b\b\b\b\b\b\b\b\b\b\b\b\b\b\b\b\b\b\b\b\b\b\b\b\b\b\b\b\b\b\b\b\b\b\b\b\b\b\b\b\b\b\b\b\b\b\r28/37 [=====================>........] - ETA: 3:02 - loss: 2.6353e-05 - accuracy: 1.0000"
          ]
        },
        {
          "output_type": "stream",
          "name": "stderr",
          "text": [
            "WARNING:tensorflow:Can save best model only with val_acc available, skipping.\n"
          ]
        },
        {
          "output_type": "stream",
          "name": "stdout",
          "text": [
            "\b\b\b\b\b\b\b\b\b\b\b\b\b\b\b\b\b\b\b\b\b\b\b\b\b\b\b\b\b\b\b\b\b\b\b\b\b\b\b\b\b\b\b\b\b\b\b\b\b\b\b\b\b\b\b\b\b\b\b\b\b\b\b\b\b\b\b\b\b\b\b\b\b\b\b\b\b\b\b\b\b\b\b\b\b\b\b\b\r29/37 [======================>.......] - ETA: 2:41 - loss: 2.5605e-05 - accuracy: 1.0000"
          ]
        },
        {
          "output_type": "stream",
          "name": "stderr",
          "text": [
            "WARNING:tensorflow:Can save best model only with val_acc available, skipping.\n"
          ]
        },
        {
          "output_type": "stream",
          "name": "stdout",
          "text": [
            "\b\b\b\b\b\b\b\b\b\b\b\b\b\b\b\b\b\b\b\b\b\b\b\b\b\b\b\b\b\b\b\b\b\b\b\b\b\b\b\b\b\b\b\b\b\b\b\b\b\b\b\b\b\b\b\b\b\b\b\b\b\b\b\b\b\b\b\b\b\b\b\b\b\b\b\b\b\b\b\b\b\b\b\b\b\b\b\b\r30/37 [=======================>......] - ETA: 2:21 - loss: 2.5219e-05 - accuracy: 1.0000"
          ]
        },
        {
          "output_type": "stream",
          "name": "stderr",
          "text": [
            "WARNING:tensorflow:Can save best model only with val_acc available, skipping.\n"
          ]
        },
        {
          "output_type": "stream",
          "name": "stdout",
          "text": [
            "\b\b\b\b\b\b\b\b\b\b\b\b\b\b\b\b\b\b\b\b\b\b\b\b\b\b\b\b\b\b\b\b\b\b\b\b\b\b\b\b\b\b\b\b\b\b\b\b\b\b\b\b\b\b\b\b\b\b\b\b\b\b\b\b\b\b\b\b\b\b\b\b\b\b\b\b\b\b\b\b\b\b\b\b\b\b\b\b\r31/37 [========================>.....] - ETA: 2:01 - loss: 2.4408e-05 - accuracy: 1.0000"
          ]
        },
        {
          "output_type": "stream",
          "name": "stderr",
          "text": [
            "WARNING:tensorflow:Can save best model only with val_acc available, skipping.\n"
          ]
        },
        {
          "output_type": "stream",
          "name": "stdout",
          "text": [
            "\b\b\b\b\b\b\b\b\b\b\b\b\b\b\b\b\b\b\b\b\b\b\b\b\b\b\b\b\b\b\b\b\b\b\b\b\b\b\b\b\b\b\b\b\b\b\b\b\b\b\b\b\b\b\b\b\b\b\b\b\b\b\b\b\b\b\b\b\b\b\b\b\b\b\b\b\b\b\b\b\b\b\b\b\b\b\b\b\r32/37 [========================>.....] - ETA: 1:41 - loss: 2.3652e-05 - accuracy: 1.0000"
          ]
        },
        {
          "output_type": "stream",
          "name": "stderr",
          "text": [
            "WARNING:tensorflow:Can save best model only with val_acc available, skipping.\n"
          ]
        },
        {
          "output_type": "stream",
          "name": "stdout",
          "text": [
            "\b\b\b\b\b\b\b\b\b\b\b\b\b\b\b\b\b\b\b\b\b\b\b\b\b\b\b\b\b\b\b\b\b\b\b\b\b\b\b\b\b\b\b\b\b\b\b\b\b\b\b\b\b\b\b\b\b\b\b\b\b\b\b\b\b\b\b\b\b\b\b\b\b\b\b\b\b\b\b\b\b\b\b\b\b\b\b\b\r33/37 [=========================>....] - ETA: 1:20 - loss: 2.2937e-05 - accuracy: 1.0000"
          ]
        },
        {
          "output_type": "stream",
          "name": "stderr",
          "text": [
            "WARNING:tensorflow:Can save best model only with val_acc available, skipping.\n"
          ]
        },
        {
          "output_type": "stream",
          "name": "stdout",
          "text": [
            "\b\b\b\b\b\b\b\b\b\b\b\b\b\b\b\b\b\b\b\b\b\b\b\b\b\b\b\b\b\b\b\b\b\b\b\b\b\b\b\b\b\b\b\b\b\b\b\b\b\b\b\b\b\b\b\b\b\b\b\b\b\b\b\b\b\b\b\b\b\b\b\b\b\b\b\b\b\b\b\b\b\b\b\b\b\b\b\b\r34/37 [==========================>...] - ETA: 1:00 - loss: 2.2262e-05 - accuracy: 1.0000"
          ]
        },
        {
          "output_type": "stream",
          "name": "stderr",
          "text": [
            "WARNING:tensorflow:Can save best model only with val_acc available, skipping.\n"
          ]
        },
        {
          "output_type": "stream",
          "name": "stdout",
          "text": [
            "\b\b\b\b\b\b\b\b\b\b\b\b\b\b\b\b\b\b\b\b\b\b\b\b\b\b\b\b\b\b\b\b\b\b\b\b\b\b\b\b\b\b\b\b\b\b\b\b\b\b\b\b\b\b\b\b\b\b\b\b\b\b\b\b\b\b\b\b\b\b\b\b\b\b\b\b\b\b\b\b\b\b\b\b\b\b\b\b\r35/37 [===========================>..] - ETA: 40s - loss: 3.5917e-05 - accuracy: 1.0000 "
          ]
        },
        {
          "output_type": "stream",
          "name": "stderr",
          "text": [
            "WARNING:tensorflow:Can save best model only with val_acc available, skipping.\n"
          ]
        },
        {
          "output_type": "stream",
          "name": "stdout",
          "text": [
            "\b\b\b\b\b\b\b\b\b\b\b\b\b\b\b\b\b\b\b\b\b\b\b\b\b\b\b\b\b\b\b\b\b\b\b\b\b\b\b\b\b\b\b\b\b\b\b\b\b\b\b\b\b\b\b\b\b\b\b\b\b\b\b\b\b\b\b\b\b\b\b\b\b\b\b\b\b\b\b\b\b\b\b\b\b\b\b\r36/37 [============================>.] - ETA: 20s - loss: 3.5003e-05 - accuracy: 1.0000"
          ]
        },
        {
          "output_type": "stream",
          "name": "stderr",
          "text": [
            "WARNING:tensorflow:Can save best model only with val_acc available, skipping.\n"
          ]
        },
        {
          "output_type": "stream",
          "name": "stdout",
          "text": [
            "\b\b\b\b\b\b\b\b\b\b\b\b\b\b\b\b\b\b\b\b\b\b\b\b\b\b\b\b\b\b\b\b\b\b\b\b\b\b\b\b\b\b\b\b\b\b\b\b\b\b\b\b\b\b\b\b\b\b\b\b\b\b\b\b\b\b\b\b\b\b\b\b\b\b\b\b\b\b\b\b\b\b\b\b\b\b\b\r37/37 [==============================] - ETA: 0s - loss: 3.4732e-05 - accuracy: 1.0000 "
          ]
        },
        {
          "output_type": "stream",
          "name": "stderr",
          "text": [
            "WARNING:tensorflow:Early stopping conditioned on metric `val_acc` which is not available. Available metrics are: loss,accuracy,val_loss,val_accuracy\n"
          ]
        },
        {
          "output_type": "stream",
          "name": "stdout",
          "text": [
            "\b\b\b\b\b\b\b\b\b\b\b\b\b\b\b\b\b\b\b\b\b\b\b\b\b\b\b\b\b\b\b\b\b\b\b\b\b\b\b\b\b\b\b\b\b\b\b\b\b\b\b\b\b\b\b\b\b\b\b\b\b\b\b\b\b\b\b\b\b\b\b\b\b\b\b\b\b\b\b\b\b\b\b\b\b\b\r37/37 [==============================] - 936s 25s/step - loss: 3.4732e-05 - accuracy: 1.0000 - val_loss: 0.0294 - val_accuracy: 0.9931\n",
            "Epoch 13/15\n"
          ]
        },
        {
          "output_type": "stream",
          "name": "stderr",
          "text": [
            "WARNING:tensorflow:Can save best model only with val_acc available, skipping.\n"
          ]
        },
        {
          "output_type": "stream",
          "name": "stdout",
          "text": [
            "\r 1/37 [..............................] - ETA: 12:15 - loss: 7.2202e-05 - accuracy: 1.0000"
          ]
        },
        {
          "output_type": "stream",
          "name": "stderr",
          "text": [
            "WARNING:tensorflow:Can save best model only with val_acc available, skipping.\n"
          ]
        },
        {
          "output_type": "stream",
          "name": "stdout",
          "text": [
            "\b\b\b\b\b\b\b\b\b\b\b\b\b\b\b\b\b\b\b\b\b\b\b\b\b\b\b\b\b\b\b\b\b\b\b\b\b\b\b\b\b\b\b\b\b\b\b\b\b\b\b\b\b\b\b\b\b\b\b\b\b\b\b\b\b\b\b\b\b\b\b\b\b\b\b\b\b\b\b\b\b\b\b\b\b\b\b\b\b\r 2/37 [>.............................] - ETA: 11:28 - loss: 3.6101e-05 - accuracy: 1.0000"
          ]
        },
        {
          "output_type": "stream",
          "name": "stderr",
          "text": [
            "WARNING:tensorflow:Can save best model only with val_acc available, skipping.\n"
          ]
        },
        {
          "output_type": "stream",
          "name": "stdout",
          "text": [
            "\b\b\b\b\b\b\b\b\b\b\b\b\b\b\b\b\b\b\b\b\b\b\b\b\b\b\b\b\b\b\b\b\b\b\b\b\b\b\b\b\b\b\b\b\b\b\b\b\b\b\b\b\b\b\b\b\b\b\b\b\b\b\b\b\b\b\b\b\b\b\b\b\b\b\b\b\b\b\b\b\b\b\b\b\b\b\b\b\b\r 3/37 [=>............................] - ETA: 11:21 - loss: 2.5115e-05 - accuracy: 1.0000"
          ]
        },
        {
          "output_type": "stream",
          "name": "stderr",
          "text": [
            "WARNING:tensorflow:Can save best model only with val_acc available, skipping.\n"
          ]
        },
        {
          "output_type": "stream",
          "name": "stdout",
          "text": [
            "\b\b\b\b\b\b\b\b\b\b\b\b\b\b\b\b\b\b\b\b\b\b\b\b\b\b\b\b\b\b\b\b\b\b\b\b\b\b\b\b\b\b\b\b\b\b\b\b\b\b\b\b\b\b\b\b\b\b\b\b\b\b\b\b\b\b\b\b\b\b\b\b\b\b\b\b\b\b\b\b\b\b\b\b\b\b\b\b\b\r 4/37 [==>...........................] - ETA: 11:05 - loss: 1.9000e-05 - accuracy: 1.0000"
          ]
        },
        {
          "output_type": "stream",
          "name": "stderr",
          "text": [
            "WARNING:tensorflow:Can save best model only with val_acc available, skipping.\n"
          ]
        },
        {
          "output_type": "stream",
          "name": "stdout",
          "text": [
            "\b\b\b\b\b\b\b\b\b\b\b\b\b\b\b\b\b\b\b\b\b\b\b\b\b\b\b\b\b\b\b\b\b\b\b\b\b\b\b\b\b\b\b\b\b\b\b\b\b\b\b\b\b\b\b\b\b\b\b\b\b\b\b\b\b\b\b\b\b\b\b\b\b\b\b\b\b\b\b\b\b\b\b\b\b\b\b\b\b\r 5/37 [===>..........................] - ETA: 10:40 - loss: 1.5536e-05 - accuracy: 1.0000"
          ]
        },
        {
          "output_type": "stream",
          "name": "stderr",
          "text": [
            "WARNING:tensorflow:Can save best model only with val_acc available, skipping.\n"
          ]
        },
        {
          "output_type": "stream",
          "name": "stdout",
          "text": [
            "\b\b\b\b\b\b\b\b\b\b\b\b\b\b\b\b\b\b\b\b\b\b\b\b\b\b\b\b\b\b\b\b\b\b\b\b\b\b\b\b\b\b\b\b\b\b\b\b\b\b\b\b\b\b\b\b\b\b\b\b\b\b\b\b\b\b\b\b\b\b\b\b\b\b\b\b\b\b\b\b\b\b\b\b\b\b\b\b\b\r 6/37 [===>..........................] - ETA: 10:23 - loss: 1.2947e-05 - accuracy: 1.0000"
          ]
        },
        {
          "output_type": "stream",
          "name": "stderr",
          "text": [
            "WARNING:tensorflow:Can save best model only with val_acc available, skipping.\n"
          ]
        },
        {
          "output_type": "stream",
          "name": "stdout",
          "text": [
            "\b\b\b\b\b\b\b\b\b\b\b\b\b\b\b\b\b\b\b\b\b\b\b\b\b\b\b\b\b\b\b\b\b\b\b\b\b\b\b\b\b\b\b\b\b\b\b\b\b\b\b\b\b\b\b\b\b\b\b\b\b\b\b\b\b\b\b\b\b\b\b\b\b\b\b\b\b\b\b\b\b\b\b\b\b\b\b\b\b\r 7/37 [====>.........................] - ETA: 10:05 - loss: 1.1097e-05 - accuracy: 1.0000"
          ]
        },
        {
          "output_type": "stream",
          "name": "stderr",
          "text": [
            "WARNING:tensorflow:Can save best model only with val_acc available, skipping.\n"
          ]
        },
        {
          "output_type": "stream",
          "name": "stdout",
          "text": [
            "\b\b\b\b\b\b\b\b\b\b\b\b\b\b\b\b\b\b\b\b\b\b\b\b\b\b\b\b\b\b\b\b\b\b\b\b\b\b\b\b\b\b\b\b\b\b\b\b\b\b\b\b\b\b\b\b\b\b\b\b\b\b\b\b\b\b\b\b\b\b\b\b\b\b\b\b\b\b\b\b\b\b\b\b\b\b\b\b\b\r 8/37 [=====>........................] - ETA: 9:43 - loss: 1.1925e-05 - accuracy: 1.0000 "
          ]
        },
        {
          "output_type": "stream",
          "name": "stderr",
          "text": [
            "WARNING:tensorflow:Can save best model only with val_acc available, skipping.\n"
          ]
        },
        {
          "output_type": "stream",
          "name": "stdout",
          "text": [
            "\b\b\b\b\b\b\b\b\b\b\b\b\b\b\b\b\b\b\b\b\b\b\b\b\b\b\b\b\b\b\b\b\b\b\b\b\b\b\b\b\b\b\b\b\b\b\b\b\b\b\b\b\b\b\b\b\b\b\b\b\b\b\b\b\b\b\b\b\b\b\b\b\b\b\b\b\b\b\b\b\b\b\b\b\b\b\b\b\r 9/37 [======>.......................] - ETA: 9:24 - loss: 1.4728e-05 - accuracy: 1.0000"
          ]
        },
        {
          "output_type": "stream",
          "name": "stderr",
          "text": [
            "WARNING:tensorflow:Can save best model only with val_acc available, skipping.\n"
          ]
        },
        {
          "output_type": "stream",
          "name": "stdout",
          "text": [
            "\b\b\b\b\b\b\b\b\b\b\b\b\b\b\b\b\b\b\b\b\b\b\b\b\b\b\b\b\b\b\b\b\b\b\b\b\b\b\b\b\b\b\b\b\b\b\b\b\b\b\b\b\b\b\b\b\b\b\b\b\b\b\b\b\b\b\b\b\b\b\b\b\b\b\b\b\b\b\b\b\b\b\b\b\b\b\b\b\r10/37 [=======>......................] - ETA: 9:04 - loss: 1.3255e-05 - accuracy: 1.0000"
          ]
        },
        {
          "output_type": "stream",
          "name": "stderr",
          "text": [
            "WARNING:tensorflow:Can save best model only with val_acc available, skipping.\n"
          ]
        },
        {
          "output_type": "stream",
          "name": "stdout",
          "text": [
            "\b\b\b\b\b\b\b\b\b\b\b\b\b\b\b\b\b\b\b\b\b\b\b\b\b\b\b\b\b\b\b\b\b\b\b\b\b\b\b\b\b\b\b\b\b\b\b\b\b\b\b\b\b\b\b\b\b\b\b\b\b\b\b\b\b\b\b\b\b\b\b\b\b\b\b\b\b\b\b\b\b\b\b\b\b\b\b\b\r11/37 [=======>......................] - ETA: 8:45 - loss: 1.2091e-05 - accuracy: 1.0000"
          ]
        },
        {
          "output_type": "stream",
          "name": "stderr",
          "text": [
            "WARNING:tensorflow:Can save best model only with val_acc available, skipping.\n"
          ]
        },
        {
          "output_type": "stream",
          "name": "stdout",
          "text": [
            "\b\b\b\b\b\b\b\b\b\b\b\b\b\b\b\b\b\b\b\b\b\b\b\b\b\b\b\b\b\b\b\b\b\b\b\b\b\b\b\b\b\b\b\b\b\b\b\b\b\b\b\b\b\b\b\b\b\b\b\b\b\b\b\b\b\b\b\b\b\b\b\b\b\b\b\b\b\b\b\b\b\b\b\b\b\b\b\b\r12/37 [========>.....................] - ETA: 8:23 - loss: 1.1246e-05 - accuracy: 1.0000"
          ]
        },
        {
          "output_type": "stream",
          "name": "stderr",
          "text": [
            "WARNING:tensorflow:Can save best model only with val_acc available, skipping.\n"
          ]
        },
        {
          "output_type": "stream",
          "name": "stdout",
          "text": [
            "\b\b\b\b\b\b\b\b\b\b\b\b\b\b\b\b\b\b\b\b\b\b\b\b\b\b\b\b\b\b\b\b\b\b\b\b\b\b\b\b\b\b\b\b\b\b\b\b\b\b\b\b\b\b\b\b\b\b\b\b\b\b\b\b\b\b\b\b\b\b\b\b\b\b\b\b\b\b\b\b\b\b\b\b\b\b\b\b\r13/37 [=========>....................] - ETA: 8:04 - loss: 1.0439e-05 - accuracy: 1.0000"
          ]
        },
        {
          "output_type": "stream",
          "name": "stderr",
          "text": [
            "WARNING:tensorflow:Can save best model only with val_acc available, skipping.\n"
          ]
        },
        {
          "output_type": "stream",
          "name": "stdout",
          "text": [
            "\b\b\b\b\b\b\b\b\b\b\b\b\b\b\b\b\b\b\b\b\b\b\b\b\b\b\b\b\b\b\b\b\b\b\b\b\b\b\b\b\b\b\b\b\b\b\b\b\b\b\b\b\b\b\b\b\b\b\b\b\b\b\b\b\b\b\b\b\b\b\b\b\b\b\b\b\b\b\b\b\b\b\b\b\b\b\b\b\r14/37 [==========>...................] - ETA: 7:44 - loss: 9.6942e-06 - accuracy: 1.0000"
          ]
        },
        {
          "output_type": "stream",
          "name": "stderr",
          "text": [
            "WARNING:tensorflow:Can save best model only with val_acc available, skipping.\n"
          ]
        },
        {
          "output_type": "stream",
          "name": "stdout",
          "text": [
            "\b\b\b\b\b\b\b\b\b\b\b\b\b\b\b\b\b\b\b\b\b\b\b\b\b\b\b\b\b\b\b\b\b\b\b\b\b\b\b\b\b\b\b\b\b\b\b\b\b\b\b\b\b\b\b\b\b\b\b\b\b\b\b\b\b\b\b\b\b\b\b\b\b\b\b\b\b\b\b\b\b\b\b\b\b\b\b\b\r15/37 [===========>..................] - ETA: 7:23 - loss: 9.0481e-06 - accuracy: 1.0000"
          ]
        },
        {
          "output_type": "stream",
          "name": "stderr",
          "text": [
            "WARNING:tensorflow:Can save best model only with val_acc available, skipping.\n"
          ]
        },
        {
          "output_type": "stream",
          "name": "stdout",
          "text": [
            "\b\b\b\b\b\b\b\b\b\b\b\b\b\b\b\b\b\b\b\b\b\b\b\b\b\b\b\b\b\b\b\b\b\b\b\b\b\b\b\b\b\b\b\b\b\b\b\b\b\b\b\b\b\b\b\b\b\b\b\b\b\b\b\b\b\b\b\b\b\b\b\b\b\b\b\b\b\b\b\b\b\b\b\b\b\b\b\b\r16/37 [===========>..................] - ETA: 7:03 - loss: 8.4833e-06 - accuracy: 1.0000"
          ]
        },
        {
          "output_type": "stream",
          "name": "stderr",
          "text": [
            "WARNING:tensorflow:Can save best model only with val_acc available, skipping.\n"
          ]
        },
        {
          "output_type": "stream",
          "name": "stdout",
          "text": [
            "\b\b\b\b\b\b\b\b\b\b\b\b\b\b\b\b\b\b\b\b\b\b\b\b\b\b\b\b\b\b\b\b\b\b\b\b\b\b\b\b\b\b\b\b\b\b\b\b\b\b\b\b\b\b\b\b\b\b\b\b\b\b\b\b\b\b\b\b\b\b\b\b\b\b\b\b\b\b\b\b\b\b\b\b\b\b\b\b\r17/37 [============>.................] - ETA: 6:43 - loss: 1.5641e-05 - accuracy: 1.0000"
          ]
        },
        {
          "output_type": "stream",
          "name": "stderr",
          "text": [
            "WARNING:tensorflow:Can save best model only with val_acc available, skipping.\n"
          ]
        },
        {
          "output_type": "stream",
          "name": "stdout",
          "text": [
            "\b\b\b\b\b\b\b\b\b\b\b\b\b\b\b\b\b\b\b\b\b\b\b\b\b\b\b\b\b\b\b\b\b\b\b\b\b\b\b\b\b\b\b\b\b\b\b\b\b\b\b\b\b\b\b\b\b\b\b\b\b\b\b\b\b\b\b\b\b\b\b\b\b\b\b\b\b\b\b\b\b\b\b\b\b\b\b\b\r18/37 [=============>................] - ETA: 6:22 - loss: 1.5039e-05 - accuracy: 1.0000"
          ]
        },
        {
          "output_type": "stream",
          "name": "stderr",
          "text": [
            "WARNING:tensorflow:Can save best model only with val_acc available, skipping.\n"
          ]
        },
        {
          "output_type": "stream",
          "name": "stdout",
          "text": [
            "\b\b\b\b\b\b\b\b\b\b\b\b\b\b\b\b\b\b\b\b\b\b\b\b\b\b\b\b\b\b\b\b\b\b\b\b\b\b\b\b\b\b\b\b\b\b\b\b\b\b\b\b\b\b\b\b\b\b\b\b\b\b\b\b\b\b\b\b\b\b\b\b\b\b\b\b\b\b\b\b\b\b\b\b\b\b\b\b\r19/37 [==============>...............] - ETA: 6:02 - loss: 1.4333e-05 - accuracy: 1.0000"
          ]
        },
        {
          "output_type": "stream",
          "name": "stderr",
          "text": [
            "WARNING:tensorflow:Can save best model only with val_acc available, skipping.\n"
          ]
        },
        {
          "output_type": "stream",
          "name": "stdout",
          "text": [
            "\b\b\b\b\b\b\b\b\b\b\b\b\b\b\b\b\b\b\b\b\b\b\b\b\b\b\b\b\b\b\b\b\b\b\b\b\b\b\b\b\b\b\b\b\b\b\b\b\b\b\b\b\b\b\b\b\b\b\b\b\b\b\b\b\b\b\b\b\b\b\b\b\b\b\b\b\b\b\b\b\b\b\b\b\b\b\b\b\r20/37 [===============>..............] - ETA: 5:42 - loss: 1.3617e-05 - accuracy: 1.0000"
          ]
        },
        {
          "output_type": "stream",
          "name": "stderr",
          "text": [
            "WARNING:tensorflow:Can save best model only with val_acc available, skipping.\n"
          ]
        },
        {
          "output_type": "stream",
          "name": "stdout",
          "text": [
            "\b\b\b\b\b\b\b\b\b\b\b\b\b\b\b\b\b\b\b\b\b\b\b\b\b\b\b\b\b\b\b\b\b\b\b\b\b\b\b\b\b\b\b\b\b\b\b\b\b\b\b\b\b\b\b\b\b\b\b\b\b\b\b\b\b\b\b\b\b\b\b\b\b\b\b\b\b\b\b\b\b\b\b\b\b\b\b\b\r21/37 [================>.............] - ETA: 5:22 - loss: 1.6142e-05 - accuracy: 1.0000"
          ]
        },
        {
          "output_type": "stream",
          "name": "stderr",
          "text": [
            "WARNING:tensorflow:Can save best model only with val_acc available, skipping.\n"
          ]
        },
        {
          "output_type": "stream",
          "name": "stdout",
          "text": [
            "\b\b\b\b\b\b\b\b\b\b\b\b\b\b\b\b\b\b\b\b\b\b\b\b\b\b\b\b\b\b\b\b\b\b\b\b\b\b\b\b\b\b\b\b\b\b\b\b\b\b\b\b\b\b\b\b\b\b\b\b\b\b\b\b\b\b\b\b\b\b\b\b\b\b\b\b\b\b\b\b\b\b\b\b\b\b\b\b\r22/37 [================>.............] - ETA: 5:02 - loss: 2.5325e-05 - accuracy: 1.0000"
          ]
        },
        {
          "output_type": "stream",
          "name": "stderr",
          "text": [
            "WARNING:tensorflow:Can save best model only with val_acc available, skipping.\n"
          ]
        },
        {
          "output_type": "stream",
          "name": "stdout",
          "text": [
            "\b\b\b\b\b\b\b\b\b\b\b\b\b\b\b\b\b\b\b\b\b\b\b\b\b\b\b\b\b\b\b\b\b\b\b\b\b\b\b\b\b\b\b\b\b\b\b\b\b\b\b\b\b\b\b\b\b\b\b\b\b\b\b\b\b\b\b\b\b\b\b\b\b\b\b\b\b\b\b\b\b\b\b\b\b\b\b\b\r23/37 [=================>............] - ETA: 4:42 - loss: 2.4552e-05 - accuracy: 1.0000"
          ]
        },
        {
          "output_type": "stream",
          "name": "stderr",
          "text": [
            "WARNING:tensorflow:Can save best model only with val_acc available, skipping.\n"
          ]
        },
        {
          "output_type": "stream",
          "name": "stdout",
          "text": [
            "\b\b\b\b\b\b\b\b\b\b\b\b\b\b\b\b\b\b\b\b\b\b\b\b\b\b\b\b\b\b\b\b\b\b\b\b\b\b\b\b\b\b\b\b\b\b\b\b\b\b\b\b\b\b\b\b\b\b\b\b\b\b\b\b\b\b\b\b\b\b\b\b\b\b\b\b\b\b\b\b\b\b\b\b\b\b\b\b\r24/37 [==================>...........] - ETA: 4:22 - loss: 2.3751e-05 - accuracy: 1.0000"
          ]
        },
        {
          "output_type": "stream",
          "name": "stderr",
          "text": [
            "WARNING:tensorflow:Can save best model only with val_acc available, skipping.\n"
          ]
        },
        {
          "output_type": "stream",
          "name": "stdout",
          "text": [
            "\b\b\b\b\b\b\b\b\b\b\b\b\b\b\b\b\b\b\b\b\b\b\b\b\b\b\b\b\b\b\b\b\b\b\b\b\b\b\b\b\b\b\b\b\b\b\b\b\b\b\b\b\b\b\b\b\b\b\b\b\b\b\b\b\b\b\b\b\b\b\b\b\b\b\b\b\b\b\b\b\b\b\b\b\b\b\b\b\r25/37 [===================>..........] - ETA: 4:01 - loss: 2.3971e-05 - accuracy: 1.0000"
          ]
        },
        {
          "output_type": "stream",
          "name": "stderr",
          "text": [
            "WARNING:tensorflow:Can save best model only with val_acc available, skipping.\n"
          ]
        },
        {
          "output_type": "stream",
          "name": "stdout",
          "text": [
            "\b\b\b\b\b\b\b\b\b\b\b\b\b\b\b\b\b\b\b\b\b\b\b\b\b\b\b\b\b\b\b\b\b\b\b\b\b\b\b\b\b\b\b\b\b\b\b\b\b\b\b\b\b\b\b\b\b\b\b\b\b\b\b\b\b\b\b\b\b\b\b\b\b\b\b\b\b\b\b\b\b\b\b\b\b\b\b\b\r26/37 [====================>.........] - ETA: 3:41 - loss: 2.3065e-05 - accuracy: 1.0000"
          ]
        },
        {
          "output_type": "stream",
          "name": "stderr",
          "text": [
            "WARNING:tensorflow:Can save best model only with val_acc available, skipping.\n"
          ]
        },
        {
          "output_type": "stream",
          "name": "stdout",
          "text": [
            "\b\b\b\b\b\b\b\b\b\b\b\b\b\b\b\b\b\b\b\b\b\b\b\b\b\b\b\b\b\b\b\b\b\b\b\b\b\b\b\b\b\b\b\b\b\b\b\b\b\b\b\b\b\b\b\b\b\b\b\b\b\b\b\b\b\b\b\b\b\b\b\b\b\b\b\b\b\b\b\b\b\b\b\b\b\b\b\b\r27/37 [====================>.........] - ETA: 3:21 - loss: 2.3412e-05 - accuracy: 1.0000"
          ]
        },
        {
          "output_type": "stream",
          "name": "stderr",
          "text": [
            "WARNING:tensorflow:Can save best model only with val_acc available, skipping.\n"
          ]
        },
        {
          "output_type": "stream",
          "name": "stdout",
          "text": [
            "\b\b\b\b\b\b\b\b\b\b\b\b\b\b\b\b\b\b\b\b\b\b\b\b\b\b\b\b\b\b\b\b\b\b\b\b\b\b\b\b\b\b\b\b\b\b\b\b\b\b\b\b\b\b\b\b\b\b\b\b\b\b\b\b\b\b\b\b\b\b\b\b\b\b\b\b\b\b\b\b\b\b\b\b\b\b\b\b\r28/37 [=====================>........] - ETA: 3:01 - loss: 2.2575e-05 - accuracy: 1.0000"
          ]
        },
        {
          "output_type": "stream",
          "name": "stderr",
          "text": [
            "WARNING:tensorflow:Can save best model only with val_acc available, skipping.\n"
          ]
        },
        {
          "output_type": "stream",
          "name": "stdout",
          "text": [
            "\b\b\b\b\b\b\b\b\b\b\b\b\b\b\b\b\b\b\b\b\b\b\b\b\b\b\b\b\b\b\b\b\b\b\b\b\b\b\b\b\b\b\b\b\b\b\b\b\b\b\b\b\b\b\b\b\b\b\b\b\b\b\b\b\b\b\b\b\b\b\b\b\b\b\b\b\b\b\b\b\b\b\b\b\b\b\b\b\r29/37 [======================>.......] - ETA: 2:41 - loss: 2.2223e-05 - accuracy: 1.0000"
          ]
        },
        {
          "output_type": "stream",
          "name": "stderr",
          "text": [
            "WARNING:tensorflow:Can save best model only with val_acc available, skipping.\n"
          ]
        },
        {
          "output_type": "stream",
          "name": "stdout",
          "text": [
            "\b\b\b\b\b\b\b\b\b\b\b\b\b\b\b\b\b\b\b\b\b\b\b\b\b\b\b\b\b\b\b\b\b\b\b\b\b\b\b\b\b\b\b\b\b\b\b\b\b\b\b\b\b\b\b\b\b\b\b\b\b\b\b\b\b\b\b\b\b\b\b\b\b\b\b\b\b\b\b\b\b\b\b\b\b\b\b\b\r30/37 [=======================>......] - ETA: 2:21 - loss: 2.1748e-05 - accuracy: 1.0000"
          ]
        },
        {
          "output_type": "stream",
          "name": "stderr",
          "text": [
            "WARNING:tensorflow:Can save best model only with val_acc available, skipping.\n"
          ]
        },
        {
          "output_type": "stream",
          "name": "stdout",
          "text": [
            "\b\b\b\b\b\b\b\b\b\b\b\b\b\b\b\b\b\b\b\b\b\b\b\b\b\b\b\b\b\b\b\b\b\b\b\b\b\b\b\b\b\b\b\b\b\b\b\b\b\b\b\b\b\b\b\b\b\b\b\b\b\b\b\b\b\b\b\b\b\b\b\b\b\b\b\b\b\b\b\b\b\b\b\b\b\b\b\b\r31/37 [========================>.....] - ETA: 2:00 - loss: 2.1047e-05 - accuracy: 1.0000"
          ]
        },
        {
          "output_type": "stream",
          "name": "stderr",
          "text": [
            "WARNING:tensorflow:Can save best model only with val_acc available, skipping.\n"
          ]
        },
        {
          "output_type": "stream",
          "name": "stdout",
          "text": [
            "\b\b\b\b\b\b\b\b\b\b\b\b\b\b\b\b\b\b\b\b\b\b\b\b\b\b\b\b\b\b\b\b\b\b\b\b\b\b\b\b\b\b\b\b\b\b\b\b\b\b\b\b\b\b\b\b\b\b\b\b\b\b\b\b\b\b\b\b\b\b\b\b\b\b\b\b\b\b\b\b\b\b\b\b\b\b\b\b\r32/37 [========================>.....] - ETA: 1:40 - loss: 2.0603e-05 - accuracy: 1.0000"
          ]
        },
        {
          "output_type": "stream",
          "name": "stderr",
          "text": [
            "WARNING:tensorflow:Can save best model only with val_acc available, skipping.\n"
          ]
        },
        {
          "output_type": "stream",
          "name": "stdout",
          "text": [
            "\b\b\b\b\b\b\b\b\b\b\b\b\b\b\b\b\b\b\b\b\b\b\b\b\b\b\b\b\b\b\b\b\b\b\b\b\b\b\b\b\b\b\b\b\b\b\b\b\b\b\b\b\b\b\b\b\b\b\b\b\b\b\b\b\b\b\b\b\b\b\b\b\b\b\b\b\b\b\b\b\b\b\b\b\b\b\b\b\r33/37 [=========================>....] - ETA: 1:20 - loss: 2.1182e-05 - accuracy: 1.0000"
          ]
        },
        {
          "output_type": "stream",
          "name": "stderr",
          "text": [
            "WARNING:tensorflow:Can save best model only with val_acc available, skipping.\n"
          ]
        },
        {
          "output_type": "stream",
          "name": "stdout",
          "text": [
            "\b\b\b\b\b\b\b\b\b\b\b\b\b\b\b\b\b\b\b\b\b\b\b\b\b\b\b\b\b\b\b\b\b\b\b\b\b\b\b\b\b\b\b\b\b\b\b\b\b\b\b\b\b\b\b\b\b\b\b\b\b\b\b\b\b\b\b\b\b\b\b\b\b\b\b\b\b\b\b\b\b\b\b\b\b\b\b\b\r34/37 [==========================>...] - ETA: 1:00 - loss: 2.1134e-05 - accuracy: 1.0000"
          ]
        },
        {
          "output_type": "stream",
          "name": "stderr",
          "text": [
            "WARNING:tensorflow:Can save best model only with val_acc available, skipping.\n"
          ]
        },
        {
          "output_type": "stream",
          "name": "stdout",
          "text": [
            "\b\b\b\b\b\b\b\b\b\b\b\b\b\b\b\b\b\b\b\b\b\b\b\b\b\b\b\b\b\b\b\b\b\b\b\b\b\b\b\b\b\b\b\b\b\b\b\b\b\b\b\b\b\b\b\b\b\b\b\b\b\b\b\b\b\b\b\b\b\b\b\b\b\b\b\b\b\b\b\b\b\b\b\b\b\b\b\b\r35/37 [===========================>..] - ETA: 40s - loss: 3.2186e-05 - accuracy: 1.0000 "
          ]
        },
        {
          "output_type": "stream",
          "name": "stderr",
          "text": [
            "WARNING:tensorflow:Can save best model only with val_acc available, skipping.\n"
          ]
        },
        {
          "output_type": "stream",
          "name": "stdout",
          "text": [
            "\b\b\b\b\b\b\b\b\b\b\b\b\b\b\b\b\b\b\b\b\b\b\b\b\b\b\b\b\b\b\b\b\b\b\b\b\b\b\b\b\b\b\b\b\b\b\b\b\b\b\b\b\b\b\b\b\b\b\b\b\b\b\b\b\b\b\b\b\b\b\b\b\b\b\b\b\b\b\b\b\b\b\b\b\b\b\b\r36/37 [============================>.] - ETA: 20s - loss: 3.1293e-05 - accuracy: 1.0000"
          ]
        },
        {
          "output_type": "stream",
          "name": "stderr",
          "text": [
            "WARNING:tensorflow:Can save best model only with val_acc available, skipping.\n"
          ]
        },
        {
          "output_type": "stream",
          "name": "stdout",
          "text": [
            "\b\b\b\b\b\b\b\b\b\b\b\b\b\b\b\b\b\b\b\b\b\b\b\b\b\b\b\b\b\b\b\b\b\b\b\b\b\b\b\b\b\b\b\b\b\b\b\b\b\b\b\b\b\b\b\b\b\b\b\b\b\b\b\b\b\b\b\b\b\b\b\b\b\b\b\b\b\b\b\b\b\b\b\b\b\b\b\r37/37 [==============================] - ETA: 0s - loss: 3.1052e-05 - accuracy: 1.0000 "
          ]
        },
        {
          "output_type": "stream",
          "name": "stderr",
          "text": [
            "WARNING:tensorflow:Early stopping conditioned on metric `val_acc` which is not available. Available metrics are: loss,accuracy,val_loss,val_accuracy\n"
          ]
        },
        {
          "output_type": "stream",
          "name": "stdout",
          "text": [
            "\b\b\b\b\b\b\b\b\b\b\b\b\b\b\b\b\b\b\b\b\b\b\b\b\b\b\b\b\b\b\b\b\b\b\b\b\b\b\b\b\b\b\b\b\b\b\b\b\b\b\b\b\b\b\b\b\b\b\b\b\b\b\b\b\b\b\b\b\b\b\b\b\b\b\b\b\b\b\b\b\b\b\b\b\b\b\r37/37 [==============================] - 934s 25s/step - loss: 3.1052e-05 - accuracy: 1.0000 - val_loss: 0.0298 - val_accuracy: 0.9931\n",
            "Epoch 14/15\n"
          ]
        },
        {
          "output_type": "stream",
          "name": "stderr",
          "text": [
            "WARNING:tensorflow:Can save best model only with val_acc available, skipping.\n"
          ]
        },
        {
          "output_type": "stream",
          "name": "stdout",
          "text": [
            "\r 1/37 [..............................] - ETA: 12:18 - loss: 4.0072e-06 - accuracy: 1.0000"
          ]
        },
        {
          "output_type": "stream",
          "name": "stderr",
          "text": [
            "WARNING:tensorflow:Can save best model only with val_acc available, skipping.\n"
          ]
        },
        {
          "output_type": "stream",
          "name": "stdout",
          "text": [
            "\b\b\b\b\b\b\b\b\b\b\b\b\b\b\b\b\b\b\b\b\b\b\b\b\b\b\b\b\b\b\b\b\b\b\b\b\b\b\b\b\b\b\b\b\b\b\b\b\b\b\b\b\b\b\b\b\b\b\b\b\b\b\b\b\b\b\b\b\b\b\b\b\b\b\b\b\b\b\b\b\b\b\b\b\b\b\b\b\b\r 2/37 [>.............................] - ETA: 11:53 - loss: 2.1068e-06 - accuracy: 1.0000"
          ]
        },
        {
          "output_type": "stream",
          "name": "stderr",
          "text": [
            "WARNING:tensorflow:Can save best model only with val_acc available, skipping.\n"
          ]
        },
        {
          "output_type": "stream",
          "name": "stdout",
          "text": [
            "\b\b\b\b\b\b\b\b\b\b\b\b\b\b\b\b\b\b\b\b\b\b\b\b\b\b\b\b\b\b\b\b\b\b\b\b\b\b\b\b\b\b\b\b\b\b\b\b\b\b\b\b\b\b\b\b\b\b\b\b\b\b\b\b\b\b\b\b\b\b\b\b\b\b\b\b\b\b\b\b\b\b\b\b\b\b\b\b\b\r 3/37 [=>............................] - ETA: 11:27 - loss: 2.9547e-06 - accuracy: 1.0000"
          ]
        },
        {
          "output_type": "stream",
          "name": "stderr",
          "text": [
            "WARNING:tensorflow:Can save best model only with val_acc available, skipping.\n"
          ]
        },
        {
          "output_type": "stream",
          "name": "stdout",
          "text": [
            "\b\b\b\b\b\b\b\b\b\b\b\b\b\b\b\b\b\b\b\b\b\b\b\b\b\b\b\b\b\b\b\b\b\b\b\b\b\b\b\b\b\b\b\b\b\b\b\b\b\b\b\b\b\b\b\b\b\b\b\b\b\b\b\b\b\b\b\b\b\b\b\b\b\b\b\b\b\b\b\b\b\b\b\b\b\b\b\b\b\r 4/37 [==>...........................] - ETA: 11:04 - loss: 2.2169e-06 - accuracy: 1.0000"
          ]
        },
        {
          "output_type": "stream",
          "name": "stderr",
          "text": [
            "WARNING:tensorflow:Can save best model only with val_acc available, skipping.\n"
          ]
        },
        {
          "output_type": "stream",
          "name": "stdout",
          "text": [
            "\b\b\b\b\b\b\b\b\b\b\b\b\b\b\b\b\b\b\b\b\b\b\b\b\b\b\b\b\b\b\b\b\b\b\b\b\b\b\b\b\b\b\b\b\b\b\b\b\b\b\b\b\b\b\b\b\b\b\b\b\b\b\b\b\b\b\b\b\b\b\b\b\b\b\b\b\b\b\b\b\b\b\b\b\b\b\b\b\b\r 5/37 [===>..........................] - ETA: 10:46 - loss: 1.7736e-06 - accuracy: 1.0000"
          ]
        },
        {
          "output_type": "stream",
          "name": "stderr",
          "text": [
            "WARNING:tensorflow:Can save best model only with val_acc available, skipping.\n"
          ]
        },
        {
          "output_type": "stream",
          "name": "stdout",
          "text": [
            "\b\b\b\b\b\b\b\b\b\b\b\b\b\b\b\b\b\b\b\b\b\b\b\b\b\b\b\b\b\b\b\b\b\b\b\b\b\b\b\b\b\b\b\b\b\b\b\b\b\b\b\b\b\b\b\b\b\b\b\b\b\b\b\b\b\b\b\b\b\b\b\b\b\b\b\b\b\b\b\b\b\b\b\b\b\b\b\b\b\r 6/37 [===>..........................] - ETA: 10:27 - loss: 4.0517e-06 - accuracy: 1.0000"
          ]
        },
        {
          "output_type": "stream",
          "name": "stderr",
          "text": [
            "WARNING:tensorflow:Can save best model only with val_acc available, skipping.\n"
          ]
        },
        {
          "output_type": "stream",
          "name": "stdout",
          "text": [
            "\b\b\b\b\b\b\b\b\b\b\b\b\b\b\b\b\b\b\b\b\b\b\b\b\b\b\b\b\b\b\b\b\b\b\b\b\b\b\b\b\b\b\b\b\b\b\b\b\b\b\b\b\b\b\b\b\b\b\b\b\b\b\b\b\b\b\b\b\b\b\b\b\b\b\b\b\b\b\b\b\b\b\b\b\b\b\b\b\b\r 7/37 [====>.........................] - ETA: 10:04 - loss: 7.8263e-06 - accuracy: 1.0000"
          ]
        },
        {
          "output_type": "stream",
          "name": "stderr",
          "text": [
            "WARNING:tensorflow:Can save best model only with val_acc available, skipping.\n"
          ]
        },
        {
          "output_type": "stream",
          "name": "stdout",
          "text": [
            "\b\b\b\b\b\b\b\b\b\b\b\b\b\b\b\b\b\b\b\b\b\b\b\b\b\b\b\b\b\b\b\b\b\b\b\b\b\b\b\b\b\b\b\b\b\b\b\b\b\b\b\b\b\b\b\b\b\b\b\b\b\b\b\b\b\b\b\b\b\b\b\b\b\b\b\b\b\b\b\b\b\b\b\b\b\b\b\b\b\r 8/37 [=====>........................] - ETA: 9:45 - loss: 2.6835e-05 - accuracy: 1.0000 "
          ]
        },
        {
          "output_type": "stream",
          "name": "stderr",
          "text": [
            "WARNING:tensorflow:Can save best model only with val_acc available, skipping.\n"
          ]
        },
        {
          "output_type": "stream",
          "name": "stdout",
          "text": [
            "\b\b\b\b\b\b\b\b\b\b\b\b\b\b\b\b\b\b\b\b\b\b\b\b\b\b\b\b\b\b\b\b\b\b\b\b\b\b\b\b\b\b\b\b\b\b\b\b\b\b\b\b\b\b\b\b\b\b\b\b\b\b\b\b\b\b\b\b\b\b\b\b\b\b\b\b\b\b\b\b\b\b\b\b\b\b\b\b\r 9/37 [======>.......................] - ETA: 9:26 - loss: 2.6250e-05 - accuracy: 1.0000"
          ]
        },
        {
          "output_type": "stream",
          "name": "stderr",
          "text": [
            "WARNING:tensorflow:Can save best model only with val_acc available, skipping.\n"
          ]
        },
        {
          "output_type": "stream",
          "name": "stdout",
          "text": [
            "\b\b\b\b\b\b\b\b\b\b\b\b\b\b\b\b\b\b\b\b\b\b\b\b\b\b\b\b\b\b\b\b\b\b\b\b\b\b\b\b\b\b\b\b\b\b\b\b\b\b\b\b\b\b\b\b\b\b\b\b\b\b\b\b\b\b\b\b\b\b\b\b\b\b\b\b\b\b\b\b\b\b\b\b\b\b\b\b\r10/37 [=======>......................] - ETA: 9:04 - loss: 2.3625e-05 - accuracy: 1.0000"
          ]
        },
        {
          "output_type": "stream",
          "name": "stderr",
          "text": [
            "WARNING:tensorflow:Can save best model only with val_acc available, skipping.\n"
          ]
        },
        {
          "output_type": "stream",
          "name": "stdout",
          "text": [
            "\b\b\b\b\b\b\b\b\b\b\b\b\b\b\b\b\b\b\b\b\b\b\b\b\b\b\b\b\b\b\b\b\b\b\b\b\b\b\b\b\b\b\b\b\b\b\b\b\b\b\b\b\b\b\b\b\b\b\b\b\b\b\b\b\b\b\b\b\b\b\b\b\b\b\b\b\b\b\b\b\b\b\b\b\b\b\b\b\r11/37 [=======>......................] - ETA: 8:45 - loss: 2.1477e-05 - accuracy: 1.0000"
          ]
        },
        {
          "output_type": "stream",
          "name": "stderr",
          "text": [
            "WARNING:tensorflow:Can save best model only with val_acc available, skipping.\n"
          ]
        },
        {
          "output_type": "stream",
          "name": "stdout",
          "text": [
            "\b\b\b\b\b\b\b\b\b\b\b\b\b\b\b\b\b\b\b\b\b\b\b\b\b\b\b\b\b\b\b\b\b\b\b\b\b\b\b\b\b\b\b\b\b\b\b\b\b\b\b\b\b\b\b\b\b\b\b\b\b\b\b\b\b\b\b\b\b\b\b\b\b\b\b\b\b\b\b\b\b\b\b\b\b\b\b\b\r12/37 [========>.....................] - ETA: 8:25 - loss: 2.1031e-05 - accuracy: 1.0000"
          ]
        },
        {
          "output_type": "stream",
          "name": "stderr",
          "text": [
            "WARNING:tensorflow:Can save best model only with val_acc available, skipping.\n"
          ]
        },
        {
          "output_type": "stream",
          "name": "stdout",
          "text": [
            "\b\b\b\b\b\b\b\b\b\b\b\b\b\b\b\b\b\b\b\b\b\b\b\b\b\b\b\b\b\b\b\b\b\b\b\b\b\b\b\b\b\b\b\b\b\b\b\b\b\b\b\b\b\b\b\b\b\b\b\b\b\b\b\b\b\b\b\b\b\b\b\b\b\b\b\b\b\b\b\b\b\b\b\b\b\b\b\b\r13/37 [=========>....................] - ETA: 8:04 - loss: 1.9418e-05 - accuracy: 1.0000"
          ]
        },
        {
          "output_type": "stream",
          "name": "stderr",
          "text": [
            "WARNING:tensorflow:Can save best model only with val_acc available, skipping.\n"
          ]
        },
        {
          "output_type": "stream",
          "name": "stdout",
          "text": [
            "\b\b\b\b\b\b\b\b\b\b\b\b\b\b\b\b\b\b\b\b\b\b\b\b\b\b\b\b\b\b\b\b\b\b\b\b\b\b\b\b\b\b\b\b\b\b\b\b\b\b\b\b\b\b\b\b\b\b\b\b\b\b\b\b\b\b\b\b\b\b\b\b\b\b\b\b\b\b\b\b\b\b\b\b\b\b\b\b\r14/37 [==========>...................] - ETA: 7:44 - loss: 1.8172e-05 - accuracy: 1.0000"
          ]
        },
        {
          "output_type": "stream",
          "name": "stderr",
          "text": [
            "WARNING:tensorflow:Can save best model only with val_acc available, skipping.\n"
          ]
        },
        {
          "output_type": "stream",
          "name": "stdout",
          "text": [
            "\b\b\b\b\b\b\b\b\b\b\b\b\b\b\b\b\b\b\b\b\b\b\b\b\b\b\b\b\b\b\b\b\b\b\b\b\b\b\b\b\b\b\b\b\b\b\b\b\b\b\b\b\b\b\b\b\b\b\b\b\b\b\b\b\b\b\b\b\b\b\b\b\b\b\b\b\b\b\b\b\b\b\b\b\b\b\b\b\r15/37 [===========>..................] - ETA: 7:24 - loss: 1.6969e-05 - accuracy: 1.0000"
          ]
        },
        {
          "output_type": "stream",
          "name": "stderr",
          "text": [
            "WARNING:tensorflow:Can save best model only with val_acc available, skipping.\n"
          ]
        },
        {
          "output_type": "stream",
          "name": "stdout",
          "text": [
            "\b\b\b\b\b\b\b\b\b\b\b\b\b\b\b\b\b\b\b\b\b\b\b\b\b\b\b\b\b\b\b\b\b\b\b\b\b\b\b\b\b\b\b\b\b\b\b\b\b\b\b\b\b\b\b\b\b\b\b\b\b\b\b\b\b\b\b\b\b\b\b\b\b\b\b\b\b\b\b\b\b\b\b\b\b\b\b\b\r16/37 [===========>..................] - ETA: 7:04 - loss: 1.5910e-05 - accuracy: 1.0000"
          ]
        },
        {
          "output_type": "stream",
          "name": "stderr",
          "text": [
            "WARNING:tensorflow:Can save best model only with val_acc available, skipping.\n"
          ]
        },
        {
          "output_type": "stream",
          "name": "stdout",
          "text": [
            "\b\b\b\b\b\b\b\b\b\b\b\b\b\b\b\b\b\b\b\b\b\b\b\b\b\b\b\b\b\b\b\b\b\b\b\b\b\b\b\b\b\b\b\b\b\b\b\b\b\b\b\b\b\b\b\b\b\b\b\b\b\b\b\b\b\b\b\b\b\b\b\b\b\b\b\b\b\b\b\b\b\b\b\b\b\b\b\b\r17/37 [============>.................] - ETA: 6:43 - loss: 1.5201e-05 - accuracy: 1.0000"
          ]
        },
        {
          "output_type": "stream",
          "name": "stderr",
          "text": [
            "WARNING:tensorflow:Can save best model only with val_acc available, skipping.\n"
          ]
        },
        {
          "output_type": "stream",
          "name": "stdout",
          "text": [
            "\b\b\b\b\b\b\b\b\b\b\b\b\b\b\b\b\b\b\b\b\b\b\b\b\b\b\b\b\b\b\b\b\b\b\b\b\b\b\b\b\b\b\b\b\b\b\b\b\b\b\b\b\b\b\b\b\b\b\b\b\b\b\b\b\b\b\b\b\b\b\b\b\b\b\b\b\b\b\b\b\b\b\b\b\b\b\b\b\r18/37 [=============>................] - ETA: 6:23 - loss: 1.4360e-05 - accuracy: 1.0000"
          ]
        },
        {
          "output_type": "stream",
          "name": "stderr",
          "text": [
            "WARNING:tensorflow:Can save best model only with val_acc available, skipping.\n"
          ]
        },
        {
          "output_type": "stream",
          "name": "stdout",
          "text": [
            "\b\b\b\b\b\b\b\b\b\b\b\b\b\b\b\b\b\b\b\b\b\b\b\b\b\b\b\b\b\b\b\b\b\b\b\b\b\b\b\b\b\b\b\b\b\b\b\b\b\b\b\b\b\b\b\b\b\b\b\b\b\b\b\b\b\b\b\b\b\b\b\b\b\b\b\b\b\b\b\b\b\b\b\b\b\b\b\b\r19/37 [==============>...............] - ETA: 6:03 - loss: 1.3637e-05 - accuracy: 1.0000"
          ]
        },
        {
          "output_type": "stream",
          "name": "stderr",
          "text": [
            "WARNING:tensorflow:Can save best model only with val_acc available, skipping.\n"
          ]
        },
        {
          "output_type": "stream",
          "name": "stdout",
          "text": [
            "\b\b\b\b\b\b\b\b\b\b\b\b\b\b\b\b\b\b\b\b\b\b\b\b\b\b\b\b\b\b\b\b\b\b\b\b\b\b\b\b\b\b\b\b\b\b\b\b\b\b\b\b\b\b\b\b\b\b\b\b\b\b\b\b\b\b\b\b\b\b\b\b\b\b\b\b\b\b\b\b\b\b\b\b\b\b\b\b\r20/37 [===============>..............] - ETA: 5:42 - loss: 1.2965e-05 - accuracy: 1.0000"
          ]
        },
        {
          "output_type": "stream",
          "name": "stderr",
          "text": [
            "WARNING:tensorflow:Can save best model only with val_acc available, skipping.\n"
          ]
        },
        {
          "output_type": "stream",
          "name": "stdout",
          "text": [
            "\b\b\b\b\b\b\b\b\b\b\b\b\b\b\b\b\b\b\b\b\b\b\b\b\b\b\b\b\b\b\b\b\b\b\b\b\b\b\b\b\b\b\b\b\b\b\b\b\b\b\b\b\b\b\b\b\b\b\b\b\b\b\b\b\b\b\b\b\b\b\b\b\b\b\b\b\b\b\b\b\b\b\b\b\b\b\b\b\r21/37 [================>.............] - ETA: 5:23 - loss: 1.2708e-05 - accuracy: 1.0000"
          ]
        },
        {
          "output_type": "stream",
          "name": "stderr",
          "text": [
            "WARNING:tensorflow:Can save best model only with val_acc available, skipping.\n"
          ]
        },
        {
          "output_type": "stream",
          "name": "stdout",
          "text": [
            "\b\b\b\b\b\b\b\b\b\b\b\b\b\b\b\b\b\b\b\b\b\b\b\b\b\b\b\b\b\b\b\b\b\b\b\b\b\b\b\b\b\b\b\b\b\b\b\b\b\b\b\b\b\b\b\b\b\b\b\b\b\b\b\b\b\b\b\b\b\b\b\b\b\b\b\b\b\b\b\b\b\b\b\b\b\b\b\b\r22/37 [================>.............] - ETA: 5:03 - loss: 1.2159e-05 - accuracy: 1.0000"
          ]
        },
        {
          "output_type": "stream",
          "name": "stderr",
          "text": [
            "WARNING:tensorflow:Can save best model only with val_acc available, skipping.\n"
          ]
        },
        {
          "output_type": "stream",
          "name": "stdout",
          "text": [
            "\b\b\b\b\b\b\b\b\b\b\b\b\b\b\b\b\b\b\b\b\b\b\b\b\b\b\b\b\b\b\b\b\b\b\b\b\b\b\b\b\b\b\b\b\b\b\b\b\b\b\b\b\b\b\b\b\b\b\b\b\b\b\b\b\b\b\b\b\b\b\b\b\b\b\b\b\b\b\b\b\b\b\b\b\b\b\b\b\r23/37 [=================>............] - ETA: 4:42 - loss: 1.1834e-05 - accuracy: 1.0000"
          ]
        },
        {
          "output_type": "stream",
          "name": "stderr",
          "text": [
            "WARNING:tensorflow:Can save best model only with val_acc available, skipping.\n"
          ]
        },
        {
          "output_type": "stream",
          "name": "stdout",
          "text": [
            "\b\b\b\b\b\b\b\b\b\b\b\b\b\b\b\b\b\b\b\b\b\b\b\b\b\b\b\b\b\b\b\b\b\b\b\b\b\b\b\b\b\b\b\b\b\b\b\b\b\b\b\b\b\b\b\b\b\b\b\b\b\b\b\b\b\b\b\b\b\b\b\b\b\b\b\b\b\b\b\b\b\b\b\b\b\b\b\b\r24/37 [==================>...........] - ETA: 4:22 - loss: 1.1343e-05 - accuracy: 1.0000"
          ]
        },
        {
          "output_type": "stream",
          "name": "stderr",
          "text": [
            "WARNING:tensorflow:Can save best model only with val_acc available, skipping.\n"
          ]
        },
        {
          "output_type": "stream",
          "name": "stdout",
          "text": [
            "\b\b\b\b\b\b\b\b\b\b\b\b\b\b\b\b\b\b\b\b\b\b\b\b\b\b\b\b\b\b\b\b\b\b\b\b\b\b\b\b\b\b\b\b\b\b\b\b\b\b\b\b\b\b\b\b\b\b\b\b\b\b\b\b\b\b\b\b\b\b\b\b\b\b\b\b\b\b\b\b\b\b\b\b\b\b\b\b\r25/37 [===================>..........] - ETA: 4:02 - loss: 1.3696e-05 - accuracy: 1.0000"
          ]
        },
        {
          "output_type": "stream",
          "name": "stderr",
          "text": [
            "WARNING:tensorflow:Can save best model only with val_acc available, skipping.\n"
          ]
        },
        {
          "output_type": "stream",
          "name": "stdout",
          "text": [
            "\b\b\b\b\b\b\b\b\b\b\b\b\b\b\b\b\b\b\b\b\b\b\b\b\b\b\b\b\b\b\b\b\b\b\b\b\b\b\b\b\b\b\b\b\b\b\b\b\b\b\b\b\b\b\b\b\b\b\b\b\b\b\b\b\b\b\b\b\b\b\b\b\b\b\b\b\b\b\b\b\b\b\b\b\b\b\b\b\r26/37 [====================>.........] - ETA: 3:42 - loss: 1.4599e-05 - accuracy: 1.0000"
          ]
        },
        {
          "output_type": "stream",
          "name": "stderr",
          "text": [
            "WARNING:tensorflow:Can save best model only with val_acc available, skipping.\n"
          ]
        },
        {
          "output_type": "stream",
          "name": "stdout",
          "text": [
            "\b\b\b\b\b\b\b\b\b\b\b\b\b\b\b\b\b\b\b\b\b\b\b\b\b\b\b\b\b\b\b\b\b\b\b\b\b\b\b\b\b\b\b\b\b\b\b\b\b\b\b\b\b\b\b\b\b\b\b\b\b\b\b\b\b\b\b\b\b\b\b\b\b\b\b\b\b\b\b\b\b\b\b\b\b\b\b\b\r27/37 [====================>.........] - ETA: 3:21 - loss: 1.4059e-05 - accuracy: 1.0000"
          ]
        },
        {
          "output_type": "stream",
          "name": "stderr",
          "text": [
            "WARNING:tensorflow:Can save best model only with val_acc available, skipping.\n"
          ]
        },
        {
          "output_type": "stream",
          "name": "stdout",
          "text": [
            "\b\b\b\b\b\b\b\b\b\b\b\b\b\b\b\b\b\b\b\b\b\b\b\b\b\b\b\b\b\b\b\b\b\b\b\b\b\b\b\b\b\b\b\b\b\b\b\b\b\b\b\b\b\b\b\b\b\b\b\b\b\b\b\b\b\b\b\b\b\b\b\b\b\b\b\b\b\b\b\b\b\b\b\b\b\b\b\b\r28/37 [=====================>........] - ETA: 3:01 - loss: 2.6160e-05 - accuracy: 1.0000"
          ]
        },
        {
          "output_type": "stream",
          "name": "stderr",
          "text": [
            "WARNING:tensorflow:Can save best model only with val_acc available, skipping.\n"
          ]
        },
        {
          "output_type": "stream",
          "name": "stdout",
          "text": [
            "\b\b\b\b\b\b\b\b\b\b\b\b\b\b\b\b\b\b\b\b\b\b\b\b\b\b\b\b\b\b\b\b\b\b\b\b\b\b\b\b\b\b\b\b\b\b\b\b\b\b\b\b\b\b\b\b\b\b\b\b\b\b\b\b\b\b\b\b\b\b\b\b\b\b\b\b\b\b\b\b\b\b\b\b\b\b\b\b\r29/37 [======================>.......] - ETA: 2:41 - loss: 2.6959e-05 - accuracy: 1.0000"
          ]
        },
        {
          "output_type": "stream",
          "name": "stderr",
          "text": [
            "WARNING:tensorflow:Can save best model only with val_acc available, skipping.\n"
          ]
        },
        {
          "output_type": "stream",
          "name": "stdout",
          "text": [
            "\b\b\b\b\b\b\b\b\b\b\b\b\b\b\b\b\b\b\b\b\b\b\b\b\b\b\b\b\b\b\b\b\b\b\b\b\b\b\b\b\b\b\b\b\b\b\b\b\b\b\b\b\b\b\b\b\b\b\b\b\b\b\b\b\b\b\b\b\b\b\b\b\b\b\b\b\b\b\b\b\b\b\b\b\b\b\b\b\r30/37 [=======================>......] - ETA: 2:21 - loss: 2.8306e-05 - accuracy: 1.0000"
          ]
        },
        {
          "output_type": "stream",
          "name": "stderr",
          "text": [
            "WARNING:tensorflow:Can save best model only with val_acc available, skipping.\n"
          ]
        },
        {
          "output_type": "stream",
          "name": "stdout",
          "text": [
            "\b\b\b\b\b\b\b\b\b\b\b\b\b\b\b\b\b\b\b\b\b\b\b\b\b\b\b\b\b\b\b\b\b\b\b\b\b\b\b\b\b\b\b\b\b\b\b\b\b\b\b\b\b\b\b\b\b\b\b\b\b\b\b\b\b\b\b\b\b\b\b\b\b\b\b\b\b\b\b\b\b\b\b\b\b\b\b\b\r31/37 [========================>.....] - ETA: 2:01 - loss: 3.2600e-05 - accuracy: 1.0000"
          ]
        },
        {
          "output_type": "stream",
          "name": "stderr",
          "text": [
            "WARNING:tensorflow:Can save best model only with val_acc available, skipping.\n"
          ]
        },
        {
          "output_type": "stream",
          "name": "stdout",
          "text": [
            "\b\b\b\b\b\b\b\b\b\b\b\b\b\b\b\b\b\b\b\b\b\b\b\b\b\b\b\b\b\b\b\b\b\b\b\b\b\b\b\b\b\b\b\b\b\b\b\b\b\b\b\b\b\b\b\b\b\b\b\b\b\b\b\b\b\b\b\b\b\b\b\b\b\b\b\b\b\b\b\b\b\b\b\b\b\b\b\b\r32/37 [========================>.....] - ETA: 1:41 - loss: 3.1588e-05 - accuracy: 1.0000"
          ]
        },
        {
          "output_type": "stream",
          "name": "stderr",
          "text": [
            "WARNING:tensorflow:Can save best model only with val_acc available, skipping.\n"
          ]
        },
        {
          "output_type": "stream",
          "name": "stdout",
          "text": [
            "\b\b\b\b\b\b\b\b\b\b\b\b\b\b\b\b\b\b\b\b\b\b\b\b\b\b\b\b\b\b\b\b\b\b\b\b\b\b\b\b\b\b\b\b\b\b\b\b\b\b\b\b\b\b\b\b\b\b\b\b\b\b\b\b\b\b\b\b\b\b\b\b\b\b\b\b\b\b\b\b\b\b\b\b\b\b\b\b\r33/37 [=========================>....] - ETA: 1:20 - loss: 3.0630e-05 - accuracy: 1.0000"
          ]
        },
        {
          "output_type": "stream",
          "name": "stderr",
          "text": [
            "WARNING:tensorflow:Can save best model only with val_acc available, skipping.\n"
          ]
        },
        {
          "output_type": "stream",
          "name": "stdout",
          "text": [
            "\b\b\b\b\b\b\b\b\b\b\b\b\b\b\b\b\b\b\b\b\b\b\b\b\b\b\b\b\b\b\b\b\b\b\b\b\b\b\b\b\b\b\b\b\b\b\b\b\b\b\b\b\b\b\b\b\b\b\b\b\b\b\b\b\b\b\b\b\b\b\b\b\b\b\b\b\b\b\b\b\b\b\b\b\b\b\b\b\r34/37 [==========================>...] - ETA: 1:00 - loss: 2.9730e-05 - accuracy: 1.0000"
          ]
        },
        {
          "output_type": "stream",
          "name": "stderr",
          "text": [
            "WARNING:tensorflow:Can save best model only with val_acc available, skipping.\n"
          ]
        },
        {
          "output_type": "stream",
          "name": "stdout",
          "text": [
            "\b\b\b\b\b\b\b\b\b\b\b\b\b\b\b\b\b\b\b\b\b\b\b\b\b\b\b\b\b\b\b\b\b\b\b\b\b\b\b\b\b\b\b\b\b\b\b\b\b\b\b\b\b\b\b\b\b\b\b\b\b\b\b\b\b\b\b\b\b\b\b\b\b\b\b\b\b\b\b\b\b\b\b\b\b\b\b\b\r35/37 [===========================>..] - ETA: 40s - loss: 2.8881e-05 - accuracy: 1.0000 "
          ]
        },
        {
          "output_type": "stream",
          "name": "stderr",
          "text": [
            "WARNING:tensorflow:Can save best model only with val_acc available, skipping.\n"
          ]
        },
        {
          "output_type": "stream",
          "name": "stdout",
          "text": [
            "\b\b\b\b\b\b\b\b\b\b\b\b\b\b\b\b\b\b\b\b\b\b\b\b\b\b\b\b\b\b\b\b\b\b\b\b\b\b\b\b\b\b\b\b\b\b\b\b\b\b\b\b\b\b\b\b\b\b\b\b\b\b\b\b\b\b\b\b\b\b\b\b\b\b\b\b\b\b\b\b\b\b\b\b\b\b\b\r36/37 [============================>.] - ETA: 20s - loss: 2.8078e-05 - accuracy: 1.0000"
          ]
        },
        {
          "output_type": "stream",
          "name": "stderr",
          "text": [
            "WARNING:tensorflow:Can save best model only with val_acc available, skipping.\n"
          ]
        },
        {
          "output_type": "stream",
          "name": "stdout",
          "text": [
            "\b\b\b\b\b\b\b\b\b\b\b\b\b\b\b\b\b\b\b\b\b\b\b\b\b\b\b\b\b\b\b\b\b\b\b\b\b\b\b\b\b\b\b\b\b\b\b\b\b\b\b\b\b\b\b\b\b\b\b\b\b\b\b\b\b\b\b\b\b\b\b\b\b\b\b\b\b\b\b\b\b\b\b\b\b\b\b\r37/37 [==============================] - ETA: 0s - loss: 2.7861e-05 - accuracy: 1.0000 "
          ]
        },
        {
          "output_type": "stream",
          "name": "stderr",
          "text": [
            "WARNING:tensorflow:Early stopping conditioned on metric `val_acc` which is not available. Available metrics are: loss,accuracy,val_loss,val_accuracy\n"
          ]
        },
        {
          "output_type": "stream",
          "name": "stdout",
          "text": [
            "\b\b\b\b\b\b\b\b\b\b\b\b\b\b\b\b\b\b\b\b\b\b\b\b\b\b\b\b\b\b\b\b\b\b\b\b\b\b\b\b\b\b\b\b\b\b\b\b\b\b\b\b\b\b\b\b\b\b\b\b\b\b\b\b\b\b\b\b\b\b\b\b\b\b\b\b\b\b\b\b\b\b\b\b\b\b\r37/37 [==============================] - 935s 25s/step - loss: 2.7861e-05 - accuracy: 1.0000 - val_loss: 0.0298 - val_accuracy: 0.9931\n",
            "Epoch 15/15\n"
          ]
        },
        {
          "output_type": "stream",
          "name": "stderr",
          "text": [
            "WARNING:tensorflow:Can save best model only with val_acc available, skipping.\n"
          ]
        },
        {
          "output_type": "stream",
          "name": "stdout",
          "text": [
            "\r 1/37 [..............................] - ETA: 12:13 - loss: 1.9204e-07 - accuracy: 1.0000"
          ]
        },
        {
          "output_type": "stream",
          "name": "stderr",
          "text": [
            "WARNING:tensorflow:Can save best model only with val_acc available, skipping.\n"
          ]
        },
        {
          "output_type": "stream",
          "name": "stdout",
          "text": [
            "\b\b\b\b\b\b\b\b\b\b\b\b\b\b\b\b\b\b\b\b\b\b\b\b\b\b\b\b\b\b\b\b\b\b\b\b\b\b\b\b\b\b\b\b\b\b\b\b\b\b\b\b\b\b\b\b\b\b\b\b\b\b\b\b\b\b\b\b\b\b\b\b\b\b\b\b\b\b\b\b\b\b\b\b\b\b\b\b\b\r 2/37 [>.............................] - ETA: 11:25 - loss: 9.3781e-06 - accuracy: 1.0000"
          ]
        },
        {
          "output_type": "stream",
          "name": "stderr",
          "text": [
            "WARNING:tensorflow:Can save best model only with val_acc available, skipping.\n"
          ]
        },
        {
          "output_type": "stream",
          "name": "stdout",
          "text": [
            "\b\b\b\b\b\b\b\b\b\b\b\b\b\b\b\b\b\b\b\b\b\b\b\b\b\b\b\b\b\b\b\b\b\b\b\b\b\b\b\b\b\b\b\b\b\b\b\b\b\b\b\b\b\b\b\b\b\b\b\b\b\b\b\b\b\b\b\b\b\b\b\b\b\b\b\b\b\b\b\b\b\b\b\b\b\b\b\b\b\r 3/37 [=>............................] - ETA: 11:20 - loss: 1.8237e-05 - accuracy: 1.0000"
          ]
        },
        {
          "output_type": "stream",
          "name": "stderr",
          "text": [
            "WARNING:tensorflow:Can save best model only with val_acc available, skipping.\n"
          ]
        },
        {
          "output_type": "stream",
          "name": "stdout",
          "text": [
            "\b\b\b\b\b\b\b\b\b\b\b\b\b\b\b\b\b\b\b\b\b\b\b\b\b\b\b\b\b\b\b\b\b\b\b\b\b\b\b\b\b\b\b\b\b\b\b\b\b\b\b\b\b\b\b\b\b\b\b\b\b\b\b\b\b\b\b\b\b\b\b\b\b\b\b\b\b\b\b\b\b\b\b\b\b\b\b\b\b\r 4/37 [==>...........................] - ETA: 11:04 - loss: 1.3729e-05 - accuracy: 1.0000"
          ]
        },
        {
          "output_type": "stream",
          "name": "stderr",
          "text": [
            "WARNING:tensorflow:Can save best model only with val_acc available, skipping.\n"
          ]
        },
        {
          "output_type": "stream",
          "name": "stdout",
          "text": [
            "\b\b\b\b\b\b\b\b\b\b\b\b\b\b\b\b\b\b\b\b\b\b\b\b\b\b\b\b\b\b\b\b\b\b\b\b\b\b\b\b\b\b\b\b\b\b\b\b\b\b\b\b\b\b\b\b\b\b\b\b\b\b\b\b\b\b\b\b\b\b\b\b\b\b\b\b\b\b\b\b\b\b\b\b\b\b\b\b\b\r 5/37 [===>..........................] - ETA: 10:39 - loss: 1.1115e-05 - accuracy: 1.0000"
          ]
        },
        {
          "output_type": "stream",
          "name": "stderr",
          "text": [
            "WARNING:tensorflow:Can save best model only with val_acc available, skipping.\n"
          ]
        },
        {
          "output_type": "stream",
          "name": "stdout",
          "text": [
            "\b\b\b\b\b\b\b\b\b\b\b\b\b\b\b\b\b\b\b\b\b\b\b\b\b\b\b\b\b\b\b\b\b\b\b\b\b\b\b\b\b\b\b\b\b\b\b\b\b\b\b\b\b\b\b\b\b\b\b\b\b\b\b\b\b\b\b\b\b\b\b\b\b\b\b\b\b\b\b\b\b\b\b\b\b\b\b\b\b\r 6/37 [===>..........................] - ETA: 10:22 - loss: 9.2649e-06 - accuracy: 1.0000"
          ]
        },
        {
          "output_type": "stream",
          "name": "stderr",
          "text": [
            "WARNING:tensorflow:Can save best model only with val_acc available, skipping.\n"
          ]
        },
        {
          "output_type": "stream",
          "name": "stdout",
          "text": [
            "\b\b\b\b\b\b\b\b\b\b\b\b\b\b\b\b\b\b\b\b\b\b\b\b\b\b\b\b\b\b\b\b\b\b\b\b\b\b\b\b\b\b\b\b\b\b\b\b\b\b\b\b\b\b\b\b\b\b\b\b\b\b\b\b\b\b\b\b\b\b\b\b\b\b\b\b\b\b\b\b\b\b\b\b\b\b\b\b\b\r 7/37 [====>.........................] - ETA: 10:03 - loss: 8.2338e-06 - accuracy: 1.0000"
          ]
        },
        {
          "output_type": "stream",
          "name": "stderr",
          "text": [
            "WARNING:tensorflow:Can save best model only with val_acc available, skipping.\n"
          ]
        },
        {
          "output_type": "stream",
          "name": "stdout",
          "text": [
            "\b\b\b\b\b\b\b\b\b\b\b\b\b\b\b\b\b\b\b\b\b\b\b\b\b\b\b\b\b\b\b\b\b\b\b\b\b\b\b\b\b\b\b\b\b\b\b\b\b\b\b\b\b\b\b\b\b\b\b\b\b\b\b\b\b\b\b\b\b\b\b\b\b\b\b\b\b\b\b\b\b\b\b\b\b\b\b\b\b\r 8/37 [=====>........................] - ETA: 9:43 - loss: 4.5449e-05 - accuracy: 1.0000 "
          ]
        },
        {
          "output_type": "stream",
          "name": "stderr",
          "text": [
            "WARNING:tensorflow:Can save best model only with val_acc available, skipping.\n"
          ]
        },
        {
          "output_type": "stream",
          "name": "stdout",
          "text": [
            "\b\b\b\b\b\b\b\b\b\b\b\b\b\b\b\b\b\b\b\b\b\b\b\b\b\b\b\b\b\b\b\b\b\b\b\b\b\b\b\b\b\b\b\b\b\b\b\b\b\b\b\b\b\b\b\b\b\b\b\b\b\b\b\b\b\b\b\b\b\b\b\b\b\b\b\b\b\b\b\b\b\b\b\b\b\b\b\b\r 9/37 [======>.......................] - ETA: 9:22 - loss: 4.1527e-05 - accuracy: 1.0000"
          ]
        },
        {
          "output_type": "stream",
          "name": "stderr",
          "text": [
            "WARNING:tensorflow:Can save best model only with val_acc available, skipping.\n"
          ]
        },
        {
          "output_type": "stream",
          "name": "stdout",
          "text": [
            "\b\b\b\b\b\b\b\b\b\b\b\b\b\b\b\b\b\b\b\b\b\b\b\b\b\b\b\b\b\b\b\b\b\b\b\b\b\b\b\b\b\b\b\b\b\b\b\b\b\b\b\b\b\b\b\b\b\b\b\b\b\b\b\b\b\b\b\b\b\b\b\b\b\b\b\b\b\b\b\b\b\b\b\b\b\b\b\b\r10/37 [=======>......................] - ETA: 9:03 - loss: 3.7415e-05 - accuracy: 1.0000"
          ]
        },
        {
          "output_type": "stream",
          "name": "stderr",
          "text": [
            "WARNING:tensorflow:Can save best model only with val_acc available, skipping.\n"
          ]
        },
        {
          "output_type": "stream",
          "name": "stdout",
          "text": [
            "\b\b\b\b\b\b\b\b\b\b\b\b\b\b\b\b\b\b\b\b\b\b\b\b\b\b\b\b\b\b\b\b\b\b\b\b\b\b\b\b\b\b\b\b\b\b\b\b\b\b\b\b\b\b\b\b\b\b\b\b\b\b\b\b\b\b\b\b\b\b\b\b\b\b\b\b\b\b\b\b\b\b\b\b\b\b\b\b\r11/37 [=======>......................] - ETA: 8:44 - loss: 3.4015e-05 - accuracy: 1.0000"
          ]
        },
        {
          "output_type": "stream",
          "name": "stderr",
          "text": [
            "WARNING:tensorflow:Can save best model only with val_acc available, skipping.\n"
          ]
        },
        {
          "output_type": "stream",
          "name": "stdout",
          "text": [
            "\b\b\b\b\b\b\b\b\b\b\b\b\b\b\b\b\b\b\b\b\b\b\b\b\b\b\b\b\b\b\b\b\b\b\b\b\b\b\b\b\b\b\b\b\b\b\b\b\b\b\b\b\b\b\b\b\b\b\b\b\b\b\b\b\b\b\b\b\b\b\b\b\b\b\b\b\b\b\b\b\b\b\b\b\b\b\b\b\r12/37 [========>.....................] - ETA: 8:22 - loss: 3.1181e-05 - accuracy: 1.0000"
          ]
        },
        {
          "output_type": "stream",
          "name": "stderr",
          "text": [
            "WARNING:tensorflow:Can save best model only with val_acc available, skipping.\n"
          ]
        },
        {
          "output_type": "stream",
          "name": "stdout",
          "text": [
            "\b\b\b\b\b\b\b\b\b\b\b\b\b\b\b\b\b\b\b\b\b\b\b\b\b\b\b\b\b\b\b\b\b\b\b\b\b\b\b\b\b\b\b\b\b\b\b\b\b\b\b\b\b\b\b\b\b\b\b\b\b\b\b\b\b\b\b\b\b\b\b\b\b\b\b\b\b\b\b\b\b\b\b\b\b\b\b\b\r13/37 [=========>....................] - ETA: 8:03 - loss: 2.9397e-05 - accuracy: 1.0000"
          ]
        },
        {
          "output_type": "stream",
          "name": "stderr",
          "text": [
            "WARNING:tensorflow:Can save best model only with val_acc available, skipping.\n"
          ]
        },
        {
          "output_type": "stream",
          "name": "stdout",
          "text": [
            "\b\b\b\b\b\b\b\b\b\b\b\b\b\b\b\b\b\b\b\b\b\b\b\b\b\b\b\b\b\b\b\b\b\b\b\b\b\b\b\b\b\b\b\b\b\b\b\b\b\b\b\b\b\b\b\b\b\b\b\b\b\b\b\b\b\b\b\b\b\b\b\b\b\b\b\b\b\b\b\b\b\b\b\b\b\b\b\b\r14/37 [==========>...................] - ETA: 7:43 - loss: 2.7297e-05 - accuracy: 1.0000"
          ]
        },
        {
          "output_type": "stream",
          "name": "stderr",
          "text": [
            "WARNING:tensorflow:Can save best model only with val_acc available, skipping.\n"
          ]
        },
        {
          "output_type": "stream",
          "name": "stdout",
          "text": [
            "\b\b\b\b\b\b\b\b\b\b\b\b\b\b\b\b\b\b\b\b\b\b\b\b\b\b\b\b\b\b\b\b\b\b\b\b\b\b\b\b\b\b\b\b\b\b\b\b\b\b\b\b\b\b\b\b\b\b\b\b\b\b\b\b\b\b\b\b\b\b\b\b\b\b\b\b\b\b\b\b\b\b\b\b\b\b\b\b\r15/37 [===========>..................] - ETA: 7:23 - loss: 2.5478e-05 - accuracy: 1.0000"
          ]
        },
        {
          "output_type": "stream",
          "name": "stderr",
          "text": [
            "WARNING:tensorflow:Can save best model only with val_acc available, skipping.\n"
          ]
        },
        {
          "output_type": "stream",
          "name": "stdout",
          "text": [
            "\b\b\b\b\b\b\b\b\b\b\b\b\b\b\b\b\b\b\b\b\b\b\b\b\b\b\b\b\b\b\b\b\b\b\b\b\b\b\b\b\b\b\b\b\b\b\b\b\b\b\b\b\b\b\b\b\b\b\b\b\b\b\b\b\b\b\b\b\b\b\b\b\b\b\b\b\b\b\b\b\b\b\b\b\b\b\b\b\r16/37 [===========>..................] - ETA: 7:03 - loss: 3.2471e-05 - accuracy: 1.0000"
          ]
        },
        {
          "output_type": "stream",
          "name": "stderr",
          "text": [
            "WARNING:tensorflow:Can save best model only with val_acc available, skipping.\n"
          ]
        },
        {
          "output_type": "stream",
          "name": "stdout",
          "text": [
            "\b\b\b\b\b\b\b\b\b\b\b\b\b\b\b\b\b\b\b\b\b\b\b\b\b\b\b\b\b\b\b\b\b\b\b\b\b\b\b\b\b\b\b\b\b\b\b\b\b\b\b\b\b\b\b\b\b\b\b\b\b\b\b\b\b\b\b\b\b\b\b\b\b\b\b\b\b\b\b\b\b\b\b\b\b\b\b\b\r17/37 [============>.................] - ETA: 6:43 - loss: 3.0563e-05 - accuracy: 1.0000"
          ]
        },
        {
          "output_type": "stream",
          "name": "stderr",
          "text": [
            "WARNING:tensorflow:Can save best model only with val_acc available, skipping.\n"
          ]
        },
        {
          "output_type": "stream",
          "name": "stdout",
          "text": [
            "\b\b\b\b\b\b\b\b\b\b\b\b\b\b\b\b\b\b\b\b\b\b\b\b\b\b\b\b\b\b\b\b\b\b\b\b\b\b\b\b\b\b\b\b\b\b\b\b\b\b\b\b\b\b\b\b\b\b\b\b\b\b\b\b\b\b\b\b\b\b\b\b\b\b\b\b\b\b\b\b\b\b\b\b\b\b\b\b\r18/37 [=============>................] - ETA: 6:22 - loss: 3.8277e-05 - accuracy: 1.0000"
          ]
        },
        {
          "output_type": "stream",
          "name": "stderr",
          "text": [
            "WARNING:tensorflow:Can save best model only with val_acc available, skipping.\n"
          ]
        },
        {
          "output_type": "stream",
          "name": "stdout",
          "text": [
            "\b\b\b\b\b\b\b\b\b\b\b\b\b\b\b\b\b\b\b\b\b\b\b\b\b\b\b\b\b\b\b\b\b\b\b\b\b\b\b\b\b\b\b\b\b\b\b\b\b\b\b\b\b\b\b\b\b\b\b\b\b\b\b\b\b\b\b\b\b\b\b\b\b\b\b\b\b\b\b\b\b\b\b\b\b\b\b\b\r19/37 [==============>...............] - ETA: 6:02 - loss: 3.6265e-05 - accuracy: 1.0000"
          ]
        },
        {
          "output_type": "stream",
          "name": "stderr",
          "text": [
            "WARNING:tensorflow:Can save best model only with val_acc available, skipping.\n"
          ]
        },
        {
          "output_type": "stream",
          "name": "stdout",
          "text": [
            "\b\b\b\b\b\b\b\b\b\b\b\b\b\b\b\b\b\b\b\b\b\b\b\b\b\b\b\b\b\b\b\b\b\b\b\b\b\b\b\b\b\b\b\b\b\b\b\b\b\b\b\b\b\b\b\b\b\b\b\b\b\b\b\b\b\b\b\b\b\b\b\b\b\b\b\b\b\b\b\b\b\b\b\b\b\b\b\b\r20/37 [===============>..............] - ETA: 5:42 - loss: 3.4452e-05 - accuracy: 1.0000"
          ]
        },
        {
          "output_type": "stream",
          "name": "stderr",
          "text": [
            "WARNING:tensorflow:Can save best model only with val_acc available, skipping.\n"
          ]
        },
        {
          "output_type": "stream",
          "name": "stdout",
          "text": [
            "\b\b\b\b\b\b\b\b\b\b\b\b\b\b\b\b\b\b\b\b\b\b\b\b\b\b\b\b\b\b\b\b\b\b\b\b\b\b\b\b\b\b\b\b\b\b\b\b\b\b\b\b\b\b\b\b\b\b\b\b\b\b\b\b\b\b\b\b\b\b\b\b\b\b\b\b\b\b\b\b\b\b\b\b\b\b\b\b\r21/37 [================>.............] - ETA: 5:22 - loss: 3.2897e-05 - accuracy: 1.0000"
          ]
        },
        {
          "output_type": "stream",
          "name": "stderr",
          "text": [
            "WARNING:tensorflow:Can save best model only with val_acc available, skipping.\n"
          ]
        },
        {
          "output_type": "stream",
          "name": "stdout",
          "text": [
            "\b\b\b\b\b\b\b\b\b\b\b\b\b\b\b\b\b\b\b\b\b\b\b\b\b\b\b\b\b\b\b\b\b\b\b\b\b\b\b\b\b\b\b\b\b\b\b\b\b\b\b\b\b\b\b\b\b\b\b\b\b\b\b\b\b\b\b\b\b\b\b\b\b\b\b\b\b\b\b\b\b\b\b\b\b\b\b\b\r22/37 [================>.............] - ETA: 5:02 - loss: 3.3645e-05 - accuracy: 1.0000"
          ]
        },
        {
          "output_type": "stream",
          "name": "stderr",
          "text": [
            "WARNING:tensorflow:Can save best model only with val_acc available, skipping.\n"
          ]
        },
        {
          "output_type": "stream",
          "name": "stdout",
          "text": [
            "\b\b\b\b\b\b\b\b\b\b\b\b\b\b\b\b\b\b\b\b\b\b\b\b\b\b\b\b\b\b\b\b\b\b\b\b\b\b\b\b\b\b\b\b\b\b\b\b\b\b\b\b\b\b\b\b\b\b\b\b\b\b\b\b\b\b\b\b\b\b\b\b\b\b\b\b\b\b\b\b\b\b\b\b\b\b\b\b\r23/37 [=================>............] - ETA: 4:42 - loss: 3.2182e-05 - accuracy: 1.0000"
          ]
        },
        {
          "output_type": "stream",
          "name": "stderr",
          "text": [
            "WARNING:tensorflow:Can save best model only with val_acc available, skipping.\n"
          ]
        },
        {
          "output_type": "stream",
          "name": "stdout",
          "text": [
            "\b\b\b\b\b\b\b\b\b\b\b\b\b\b\b\b\b\b\b\b\b\b\b\b\b\b\b\b\b\b\b\b\b\b\b\b\b\b\b\b\b\b\b\b\b\b\b\b\b\b\b\b\b\b\b\b\b\b\b\b\b\b\b\b\b\b\b\b\b\b\b\b\b\b\b\b\b\b\b\b\b\b\b\b\b\b\b\b\r24/37 [==================>...........] - ETA: 4:22 - loss: 3.0844e-05 - accuracy: 1.0000"
          ]
        },
        {
          "output_type": "stream",
          "name": "stderr",
          "text": [
            "WARNING:tensorflow:Can save best model only with val_acc available, skipping.\n"
          ]
        },
        {
          "output_type": "stream",
          "name": "stdout",
          "text": [
            "\b\b\b\b\b\b\b\b\b\b\b\b\b\b\b\b\b\b\b\b\b\b\b\b\b\b\b\b\b\b\b\b\b\b\b\b\b\b\b\b\b\b\b\b\b\b\b\b\b\b\b\b\b\b\b\b\b\b\b\b\b\b\b\b\b\b\b\b\b\b\b\b\b\b\b\b\b\b\b\b\b\b\b\b\b\b\b\b\r25/37 [===================>..........] - ETA: 4:01 - loss: 2.9610e-05 - accuracy: 1.0000"
          ]
        },
        {
          "output_type": "stream",
          "name": "stderr",
          "text": [
            "WARNING:tensorflow:Can save best model only with val_acc available, skipping.\n"
          ]
        },
        {
          "output_type": "stream",
          "name": "stdout",
          "text": [
            "\b\b\b\b\b\b\b\b\b\b\b\b\b\b\b\b\b\b\b\b\b\b\b\b\b\b\b\b\b\b\b\b\b\b\b\b\b\b\b\b\b\b\b\b\b\b\b\b\b\b\b\b\b\b\b\b\b\b\b\b\b\b\b\b\b\b\b\b\b\b\b\b\b\b\b\b\b\b\b\b\b\b\b\b\b\b\b\b\r26/37 [====================>.........] - ETA: 3:41 - loss: 2.8471e-05 - accuracy: 1.0000"
          ]
        },
        {
          "output_type": "stream",
          "name": "stderr",
          "text": [
            "WARNING:tensorflow:Can save best model only with val_acc available, skipping.\n"
          ]
        },
        {
          "output_type": "stream",
          "name": "stdout",
          "text": [
            "\b\b\b\b\b\b\b\b\b\b\b\b\b\b\b\b\b\b\b\b\b\b\b\b\b\b\b\b\b\b\b\b\b\b\b\b\b\b\b\b\b\b\b\b\b\b\b\b\b\b\b\b\b\b\b\b\b\b\b\b\b\b\b\b\b\b\b\b\b\b\b\b\b\b\b\b\b\b\b\b\b\b\b\b\b\b\b\b\r27/37 [====================>.........] - ETA: 3:21 - loss: 2.7417e-05 - accuracy: 1.0000"
          ]
        },
        {
          "output_type": "stream",
          "name": "stderr",
          "text": [
            "WARNING:tensorflow:Can save best model only with val_acc available, skipping.\n"
          ]
        },
        {
          "output_type": "stream",
          "name": "stdout",
          "text": [
            "\b\b\b\b\b\b\b\b\b\b\b\b\b\b\b\b\b\b\b\b\b\b\b\b\b\b\b\b\b\b\b\b\b\b\b\b\b\b\b\b\b\b\b\b\b\b\b\b\b\b\b\b\b\b\b\b\b\b\b\b\b\b\b\b\b\b\b\b\b\b\b\b\b\b\b\b\b\b\b\b\b\b\b\b\b\b\b\b\r28/37 [=====================>........] - ETA: 3:01 - loss: 2.6438e-05 - accuracy: 1.0000"
          ]
        },
        {
          "output_type": "stream",
          "name": "stderr",
          "text": [
            "WARNING:tensorflow:Can save best model only with val_acc available, skipping.\n"
          ]
        },
        {
          "output_type": "stream",
          "name": "stdout",
          "text": [
            "\b\b\b\b\b\b\b\b\b\b\b\b\b\b\b\b\b\b\b\b\b\b\b\b\b\b\b\b\b\b\b\b\b\b\b\b\b\b\b\b\b\b\b\b\b\b\b\b\b\b\b\b\b\b\b\b\b\b\b\b\b\b\b\b\b\b\b\b\b\b\b\b\b\b\b\b\b\b\b\b\b\b\b\b\b\b\b\b\r29/37 [======================>.......] - ETA: 2:41 - loss: 2.5570e-05 - accuracy: 1.0000"
          ]
        },
        {
          "output_type": "stream",
          "name": "stderr",
          "text": [
            "WARNING:tensorflow:Can save best model only with val_acc available, skipping.\n"
          ]
        },
        {
          "output_type": "stream",
          "name": "stdout",
          "text": [
            "\b\b\b\b\b\b\b\b\b\b\b\b\b\b\b\b\b\b\b\b\b\b\b\b\b\b\b\b\b\b\b\b\b\b\b\b\b\b\b\b\b\b\b\b\b\b\b\b\b\b\b\b\b\b\b\b\b\b\b\b\b\b\b\b\b\b\b\b\b\b\b\b\b\b\b\b\b\b\b\b\b\b\b\b\b\b\b\b\r30/37 [=======================>......] - ETA: 2:21 - loss: 2.4721e-05 - accuracy: 1.0000"
          ]
        },
        {
          "output_type": "stream",
          "name": "stderr",
          "text": [
            "WARNING:tensorflow:Can save best model only with val_acc available, skipping.\n"
          ]
        },
        {
          "output_type": "stream",
          "name": "stdout",
          "text": [
            "\b\b\b\b\b\b\b\b\b\b\b\b\b\b\b\b\b\b\b\b\b\b\b\b\b\b\b\b\b\b\b\b\b\b\b\b\b\b\b\b\b\b\b\b\b\b\b\b\b\b\b\b\b\b\b\b\b\b\b\b\b\b\b\b\b\b\b\b\b\b\b\b\b\b\b\b\b\b\b\b\b\b\b\b\b\b\b\b\r31/37 [========================>.....] - ETA: 2:01 - loss: 2.4901e-05 - accuracy: 1.0000"
          ]
        },
        {
          "output_type": "stream",
          "name": "stderr",
          "text": [
            "WARNING:tensorflow:Can save best model only with val_acc available, skipping.\n"
          ]
        },
        {
          "output_type": "stream",
          "name": "stdout",
          "text": [
            "\b\b\b\b\b\b\b\b\b\b\b\b\b\b\b\b\b\b\b\b\b\b\b\b\b\b\b\b\b\b\b\b\b\b\b\b\b\b\b\b\b\b\b\b\b\b\b\b\b\b\b\b\b\b\b\b\b\b\b\b\b\b\b\b\b\b\b\b\b\b\b\b\b\b\b\b\b\b\b\b\b\b\b\b\b\b\b\b\r32/37 [========================>.....] - ETA: 1:40 - loss: 2.4596e-05 - accuracy: 1.0000"
          ]
        },
        {
          "output_type": "stream",
          "name": "stderr",
          "text": [
            "WARNING:tensorflow:Can save best model only with val_acc available, skipping.\n"
          ]
        },
        {
          "output_type": "stream",
          "name": "stdout",
          "text": [
            "\b\b\b\b\b\b\b\b\b\b\b\b\b\b\b\b\b\b\b\b\b\b\b\b\b\b\b\b\b\b\b\b\b\b\b\b\b\b\b\b\b\b\b\b\b\b\b\b\b\b\b\b\b\b\b\b\b\b\b\b\b\b\b\b\b\b\b\b\b\b\b\b\b\b\b\b\b\b\b\b\b\b\b\b\b\b\b\b\r33/37 [=========================>....] - ETA: 1:20 - loss: 2.3859e-05 - accuracy: 1.0000"
          ]
        },
        {
          "output_type": "stream",
          "name": "stderr",
          "text": [
            "WARNING:tensorflow:Can save best model only with val_acc available, skipping.\n"
          ]
        },
        {
          "output_type": "stream",
          "name": "stdout",
          "text": [
            "\b\b\b\b\b\b\b\b\b\b\b\b\b\b\b\b\b\b\b\b\b\b\b\b\b\b\b\b\b\b\b\b\b\b\b\b\b\b\b\b\b\b\b\b\b\b\b\b\b\b\b\b\b\b\b\b\b\b\b\b\b\b\b\b\b\b\b\b\b\b\b\b\b\b\b\b\b\b\b\b\b\b\b\b\b\b\b\b\r34/37 [==========================>...] - ETA: 1:00 - loss: 2.4084e-05 - accuracy: 1.0000"
          ]
        },
        {
          "output_type": "stream",
          "name": "stderr",
          "text": [
            "WARNING:tensorflow:Can save best model only with val_acc available, skipping.\n"
          ]
        },
        {
          "output_type": "stream",
          "name": "stdout",
          "text": [
            "\b\b\b\b\b\b\b\b\b\b\b\b\b\b\b\b\b\b\b\b\b\b\b\b\b\b\b\b\b\b\b\b\b\b\b\b\b\b\b\b\b\b\b\b\b\b\b\b\b\b\b\b\b\b\b\b\b\b\b\b\b\b\b\b\b\b\b\b\b\b\b\b\b\b\b\b\b\b\b\b\b\b\b\b\b\b\b\b\r35/37 [===========================>..] - ETA: 40s - loss: 2.4235e-05 - accuracy: 1.0000 "
          ]
        },
        {
          "output_type": "stream",
          "name": "stderr",
          "text": [
            "WARNING:tensorflow:Can save best model only with val_acc available, skipping.\n"
          ]
        },
        {
          "output_type": "stream",
          "name": "stdout",
          "text": [
            "\b\b\b\b\b\b\b\b\b\b\b\b\b\b\b\b\b\b\b\b\b\b\b\b\b\b\b\b\b\b\b\b\b\b\b\b\b\b\b\b\b\b\b\b\b\b\b\b\b\b\b\b\b\b\b\b\b\b\b\b\b\b\b\b\b\b\b\b\b\b\b\b\b\b\b\b\b\b\b\b\b\b\b\b\b\b\b\r36/37 [============================>.] - ETA: 20s - loss: 2.4291e-05 - accuracy: 1.0000"
          ]
        },
        {
          "output_type": "stream",
          "name": "stderr",
          "text": [
            "WARNING:tensorflow:Can save best model only with val_acc available, skipping.\n"
          ]
        },
        {
          "output_type": "stream",
          "name": "stdout",
          "text": [
            "\b\b\b\b\b\b\b\b\b\b\b\b\b\b\b\b\b\b\b\b\b\b\b\b\b\b\b\b\b\b\b\b\b\b\b\b\b\b\b\b\b\b\b\b\b\b\b\b\b\b\b\b\b\b\b\b\b\b\b\b\b\b\b\b\b\b\b\b\b\b\b\b\b\b\b\b\b\b\b\b\b\b\b\b\b\b\b\r37/37 [==============================] - ETA: 0s - loss: 2.5986e-05 - accuracy: 1.0000 "
          ]
        },
        {
          "output_type": "stream",
          "name": "stderr",
          "text": [
            "WARNING:tensorflow:Early stopping conditioned on metric `val_acc` which is not available. Available metrics are: loss,accuracy,val_loss,val_accuracy\n"
          ]
        },
        {
          "output_type": "stream",
          "name": "stdout",
          "text": [
            "\b\b\b\b\b\b\b\b\b\b\b\b\b\b\b\b\b\b\b\b\b\b\b\b\b\b\b\b\b\b\b\b\b\b\b\b\b\b\b\b\b\b\b\b\b\b\b\b\b\b\b\b\b\b\b\b\b\b\b\b\b\b\b\b\b\b\b\b\b\b\b\b\b\b\b\b\b\b\b\b\b\b\b\b\b\b\r37/37 [==============================] - 934s 25s/step - loss: 2.5986e-05 - accuracy: 1.0000 - val_loss: 0.0301 - val_accuracy: 0.9931\n"
          ]
        }
      ]
    },
    {
      "cell_type": "code",
      "source": [
        "import matplotlib.pyplot as plt\n",
        "accuracy = history.history['accuracy']\n",
        "val_accuracy = history.history['val_accuracy']\n",
        "loss = history.history['loss']\n",
        "val_loss = history.history['val_loss']\n",
        "epochs = range(len(accuracy))\n",
        "\n",
        "plt.plot(epochs, accuracy, \"b\", label=\"training accuracy\")\n",
        "plt.plot(epochs, val_accuracy, \"r\", label=\"validation accuracy\")\n",
        "plt.legend()\n",
        "plt.show()\n",
        "\n",
        "plt.plot(epochs, loss, \"b\", label=\"training loss\")\n",
        "plt.plot(epochs, val_loss, \"r\", label=\"validation loss\")\n",
        "plt.legend()\n",
        "plt.show()"
      ],
      "metadata": {
        "colab": {
          "base_uri": "https://localhost:8080/",
          "height": 843
        },
        "id": "el7IDE4zYwsB",
        "outputId": "680d82f0-13f2-416c-d690-7ef26a18b60f"
      },
      "execution_count": 21,
      "outputs": [
        {
          "output_type": "display_data",
          "data": {
            "text/plain": [
              "<Figure size 640x480 with 1 Axes>"
            ],
            "image/png": "[encoded data removed]"
          },
          "metadata": {}
        },
        {
          "output_type": "display_data",
          "data": {
            "text/plain": [
              "<Figure size 640x480 with 1 Axes>"
            ],
            "image/png": "[encoded data removed]"
          },
          "metadata": {}
        }
      ]
    },
    {
      "cell_type": "markdown",
      "source": [
        "As shown, the VGGNet-19 model has given a training accuracy of 100% and a testing or validation accuracy of 99.31%.\n",
        "\n",
        "\n",
        "These results have been represented in graphical form.\n",
        "\n",
        "\n",
        "---\n",
        "\n",
        "Accuracy Comparison of Drowsiness Detection Methods\n",
        "\n",
        "Authors  | Method | Results\n",
        "-------------------|------------------|---------------\n",
        "[1] GWAK ET AL.      | ENSEMBLE MACHINE LEARNING     | 65.2 %\n",
        "[2] JABBAR ET AL.      | CNN     | 83.33 %\n",
        "[3] MEHTA ET AL. | EYE ASPECT RATIO AND EYE CLOSURE RATIO | 84 %\n",
        "[4] KEPESIOVA ET AL. | CONV GRNN, CNN | 84.41 %\n",
        "[5] DUA ET AL. | ALEXNET, VGG-FACENET, FLOWIMAGENET, RESNET | 85 %\n",
        "[6] AYTEKIN ET AL. | TRANSFER LEARNING VGG16 | 91 %\n",
        "METHOD1 | LeNet | 94.46 %\n",
        "METHOD2 | VGGNet-19 | 99.31% %\n",
        "\n",
        "References\n",
        "[1] J. Gwak, A. Hirao, and M. Shino, “An investigation of early detection of driver drowsiness using ensemble machine learning based on hybrid sensing”,  Appl. Sci.,  vol.  10, no. 8,  Apr.  2020, Art no. 2890. https://doi.org/10.3390/app10082890\n",
        "\n",
        "[2] R. Jabbar, M. Shinoy, M. Kharbeche, K. Al-Khalifa, M. Krichen, and K. Barkaoui, “Driver drowsiness detection model using convolutional neural networks techniques for android application”, in Proceedings of the 2020 IEEE  International  Conference  on  Informatics,  IoT,  and  Enabling Technologies, Doha, Qatar, May 2020, pp. 2–5. https://doi.org/10.1109/ICIoT48696.2020.9089484  \n",
        "\n",
        "[3] S. Mehta, S. Dadhich, S. Gumber,  and A. J. Bhatt, “Real-time driver drowsiness detection system using eye aspect ratio and eye closure ratio”, in Proceedings of international conference on sustainable computing in science,  technology  and  management  (SUSCOM), Jaipur,  India,  Feb. 2019. https://doi.org/10.2139/ssrn.3356401\n",
        "\n",
        "[4] Z. Kepesiova, J. Ciganek,  and S. Kozak, “Driver drowsiness detection using convolutional neural networks”, in 2020 Cybernetics & Informatics (K&I),  Velke Karlovice, Czech Republic,  Mar. 2020, pp. 1–6. https://doi.org/10.1109/KI48306.2020.9039851\n",
        "\n",
        "[5] M. Dua, R. Singla, S. Raj,  and A. Jangra, “Deep CNN models-based ensemble approach to driver drowsiness detection”, Neural Computing and Applications, vol. 33, no. 8, pp. 3155–3168, Jul. 2021.  https://doi.org/10.1007/s00521-020-05209-7\n",
        "\n",
        "[6] Alper Aytekin, Vasfiye Mençik, \"Detection of Driver Dynamics with VGG16 Model\", in Applied Computer Systems 27(1):83-88, June 2022. http://dx.doi.org/10.2478/acss-2022-0009\n",
        "\n",
        "\n",
        "\n",
        "\n",
        "\n"
      ],
      "metadata": {
        "id": "sFQsQO4RLL4-"
      }
    }
  ]
}